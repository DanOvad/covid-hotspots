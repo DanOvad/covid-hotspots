{
 "cells": [
  {
   "cell_type": "markdown",
   "metadata": {},
   "source": [
    "# Notebook for preparing redesign of data management"
   ]
  },
  {
   "cell_type": "markdown",
   "metadata": {},
   "source": [
    "First, we need to make sure we are in the root directory of the project to import custom modules. These notebooks are stored in `notebooks/` for cleanliness."
   ]
  },
  {
   "cell_type": "code",
   "execution_count": 1,
   "metadata": {},
   "outputs": [
    {
     "data": {
      "text/plain": [
       "'/Users/DanOvadia/Projects/covid-hotspots/notebooks'"
      ]
     },
     "execution_count": 1,
     "metadata": {},
     "output_type": "execute_result"
    }
   ],
   "source": [
    "pwd"
   ]
  },
  {
   "cell_type": "code",
   "execution_count": 2,
   "metadata": {},
   "outputs": [
    {
     "name": "stdout",
     "output_type": "stream",
     "text": [
      "/Users/DanOvadia/Projects/covid-hotspots\n"
     ]
    }
   ],
   "source": [
    "cd .."
   ]
  },
  {
   "cell_type": "markdown",
   "metadata": {},
   "source": [
    "### Python Libraries"
   ]
  },
  {
   "cell_type": "code",
   "execution_count": 3,
   "metadata": {},
   "outputs": [],
   "source": [
    "import pandas as pd"
   ]
  },
  {
   "cell_type": "markdown",
   "metadata": {},
   "source": [
    "### Custom Modules"
   ]
  },
  {
   "cell_type": "code",
   "execution_count": 4,
   "metadata": {},
   "outputs": [],
   "source": [
    "from modules import data_processing\n",
    "from modules import plotting\n",
    "\n",
    "# Extension to auto reload custom modules\n",
    "%load_ext autoreload\n",
    "\n",
    "%autoreload 1\n",
    "\n",
    "%aimport modules.data_processing\n",
    "%aimport modules.plotting"
   ]
  },
  {
   "cell_type": "markdown",
   "metadata": {},
   "source": [
    "## Data Importing"
   ]
  },
  {
   "cell_type": "markdown",
   "metadata": {},
   "source": [
    "### County GeoJson - polygons for choropleth plot\n",
    "\n",
    "We are getting these data from [plotly](https://plotly.com/python/mapbox-county-choropleth/)."
   ]
  },
  {
   "cell_type": "code",
   "execution_count": 5,
   "metadata": {},
   "outputs": [
    {
     "name": "stdout",
     "output_type": "stream",
     "text": [
      "Pulling geojson from file.\n"
     ]
    }
   ],
   "source": [
    "# Get county geojson\n",
    "COVID_GEOJSON = data_processing.load_county_geojson()"
   ]
  },
  {
   "cell_type": "markdown",
   "metadata": {},
   "source": [
    "### County Coronavirus Data\n",
    "We import data from [New York Times GitHub](https://github.com/nytimes/covid-19-data) to get county level coronavirus data."
   ]
  },
  {
   "cell_type": "code",
   "execution_count": 6,
   "metadata": {},
   "outputs": [
    {
     "name": "stdout",
     "output_type": "stream",
     "text": [
      "Retrieving Covid County data\n",
      "Pulling county data from file.\n"
     ]
    }
   ],
   "source": [
    "# Get county data\n",
    "COVID_COUNTIES_DF = data_processing.get_covid_county_data()"
   ]
  },
  {
   "cell_type": "markdown",
   "metadata": {},
   "source": [
    "### State Coronavirus Data\n",
    "\n",
    "We get state level data from The Atlantic's [Covid Tracking Project](https://covidtracking.com/) through their [Data API](https://covidtracking.com/data/api)."
   ]
  },
  {
   "cell_type": "code",
   "execution_count": 7,
   "metadata": {},
   "outputs": [
    {
     "name": "stdout",
     "output_type": "stream",
     "text": [
      "Pulling state data from file.\n"
     ]
    }
   ],
   "source": [
    "# Get state data\n",
    "COVID_STATES_DF = data_processing.get_covid_state_data()"
   ]
  },
  {
   "cell_type": "markdown",
   "metadata": {},
   "source": [
    "Lets check nulls for fips codes from NYtimes"
   ]
  },
  {
   "cell_type": "code",
   "execution_count": 13,
   "metadata": {},
   "outputs": [
    {
     "name": "stdout",
     "output_type": "stream",
     "text": [
      "30\n"
     ]
    },
    {
     "data": {
      "text/html": [
       "<div>\n",
       "<style scoped>\n",
       "    .dataframe tbody tr th:only-of-type {\n",
       "        vertical-align: middle;\n",
       "    }\n",
       "\n",
       "    .dataframe tbody tr th {\n",
       "        vertical-align: top;\n",
       "    }\n",
       "\n",
       "    .dataframe thead th {\n",
       "        text-align: right;\n",
       "    }\n",
       "</style>\n",
       "<table border=\"1\" class=\"dataframe\">\n",
       "  <thead>\n",
       "    <tr style=\"text-align: right;\">\n",
       "      <th></th>\n",
       "      <th>date</th>\n",
       "      <th>county</th>\n",
       "      <th>state</th>\n",
       "      <th>fips</th>\n",
       "      <th>cases</th>\n",
       "      <th>deaths</th>\n",
       "      <th>fipsnum</th>\n",
       "      <th>log_deaths</th>\n",
       "    </tr>\n",
       "  </thead>\n",
       "  <tbody>\n",
       "    <tr>\n",
       "      <th>476351</th>\n",
       "      <td>2020-08-28</td>\n",
       "      <td>Unknown</td>\n",
       "      <td>Alaska</td>\n",
       "      <td>nan</td>\n",
       "      <td>56</td>\n",
       "      <td>0</td>\n",
       "      <td>NaN</td>\n",
       "      <td>0.000000</td>\n",
       "    </tr>\n",
       "    <tr>\n",
       "      <th>476440</th>\n",
       "      <td>2020-08-28</td>\n",
       "      <td>Unknown</td>\n",
       "      <td>Arkansas</td>\n",
       "      <td>nan</td>\n",
       "      <td>815</td>\n",
       "      <td>0</td>\n",
       "      <td>NaN</td>\n",
       "      <td>0.000000</td>\n",
       "    </tr>\n",
       "    <tr>\n",
       "      <th>476574</th>\n",
       "      <td>2020-08-28</td>\n",
       "      <td>Unknown</td>\n",
       "      <td>Connecticut</td>\n",
       "      <td>nan</td>\n",
       "      <td>104</td>\n",
       "      <td>0</td>\n",
       "      <td>NaN</td>\n",
       "      <td>0.000000</td>\n",
       "    </tr>\n",
       "    <tr>\n",
       "      <th>476579</th>\n",
       "      <td>2020-08-28</td>\n",
       "      <td>Unknown</td>\n",
       "      <td>Delaware</td>\n",
       "      <td>nan</td>\n",
       "      <td>279</td>\n",
       "      <td>0</td>\n",
       "      <td>NaN</td>\n",
       "      <td>0.000000</td>\n",
       "    </tr>\n",
       "    <tr>\n",
       "      <th>476644</th>\n",
       "      <td>2020-08-28</td>\n",
       "      <td>Unknown</td>\n",
       "      <td>Florida</td>\n",
       "      <td>nan</td>\n",
       "      <td>959</td>\n",
       "      <td>0</td>\n",
       "      <td>NaN</td>\n",
       "      <td>0.000000</td>\n",
       "    </tr>\n",
       "    <tr>\n",
       "      <th>476793</th>\n",
       "      <td>2020-08-28</td>\n",
       "      <td>Unknown</td>\n",
       "      <td>Georgia</td>\n",
       "      <td>nan</td>\n",
       "      <td>2497</td>\n",
       "      <td>4</td>\n",
       "      <td>NaN</td>\n",
       "      <td>1.609438</td>\n",
       "    </tr>\n",
       "    <tr>\n",
       "      <th>476809</th>\n",
       "      <td>2020-08-28</td>\n",
       "      <td>Unknown</td>\n",
       "      <td>Guam</td>\n",
       "      <td>nan</td>\n",
       "      <td>2256</td>\n",
       "      <td>11</td>\n",
       "      <td>NaN</td>\n",
       "      <td>2.484907</td>\n",
       "    </tr>\n",
       "    <tr>\n",
       "      <th>476949</th>\n",
       "      <td>2020-08-28</td>\n",
       "      <td>Unknown</td>\n",
       "      <td>Illinois</td>\n",
       "      <td>nan</td>\n",
       "      <td>1645</td>\n",
       "      <td>207</td>\n",
       "      <td>NaN</td>\n",
       "      <td>5.337538</td>\n",
       "    </tr>\n",
       "    <tr>\n",
       "      <th>477141</th>\n",
       "      <td>2020-08-28</td>\n",
       "      <td>Unknown</td>\n",
       "      <td>Iowa</td>\n",
       "      <td>nan</td>\n",
       "      <td>16</td>\n",
       "      <td>0</td>\n",
       "      <td>NaN</td>\n",
       "      <td>0.000000</td>\n",
       "    </tr>\n",
       "    <tr>\n",
       "      <th>477434</th>\n",
       "      <td>2020-08-28</td>\n",
       "      <td>Unknown</td>\n",
       "      <td>Louisiana</td>\n",
       "      <td>nan</td>\n",
       "      <td>350</td>\n",
       "      <td>163</td>\n",
       "      <td>NaN</td>\n",
       "      <td>5.099866</td>\n",
       "    </tr>\n",
       "    <tr>\n",
       "      <th>477456</th>\n",
       "      <td>2020-08-28</td>\n",
       "      <td>Unknown</td>\n",
       "      <td>Maine</td>\n",
       "      <td>nan</td>\n",
       "      <td>3</td>\n",
       "      <td>0</td>\n",
       "      <td>NaN</td>\n",
       "      <td>0.000000</td>\n",
       "    </tr>\n",
       "    <tr>\n",
       "      <th>477481</th>\n",
       "      <td>2020-08-28</td>\n",
       "      <td>Unknown</td>\n",
       "      <td>Maryland</td>\n",
       "      <td>nan</td>\n",
       "      <td>0</td>\n",
       "      <td>17</td>\n",
       "      <td>NaN</td>\n",
       "      <td>2.890372</td>\n",
       "    </tr>\n",
       "    <tr>\n",
       "      <th>477498</th>\n",
       "      <td>2020-08-28</td>\n",
       "      <td>Unknown</td>\n",
       "      <td>Massachusetts</td>\n",
       "      <td>nan</td>\n",
       "      <td>1533</td>\n",
       "      <td>5</td>\n",
       "      <td>NaN</td>\n",
       "      <td>1.791759</td>\n",
       "    </tr>\n",
       "    <tr>\n",
       "      <th>477579</th>\n",
       "      <td>2020-08-28</td>\n",
       "      <td>Unknown</td>\n",
       "      <td>Michigan</td>\n",
       "      <td>nan</td>\n",
       "      <td>345</td>\n",
       "      <td>4</td>\n",
       "      <td>NaN</td>\n",
       "      <td>1.609438</td>\n",
       "    </tr>\n",
       "    <tr>\n",
       "      <th>477662</th>\n",
       "      <td>2020-08-28</td>\n",
       "      <td>Unknown</td>\n",
       "      <td>Minnesota</td>\n",
       "      <td>nan</td>\n",
       "      <td>196</td>\n",
       "      <td>49</td>\n",
       "      <td>NaN</td>\n",
       "      <td>3.912023</td>\n",
       "    </tr>\n",
       "    <tr>\n",
       "      <th>477805</th>\n",
       "      <td>2020-08-28</td>\n",
       "      <td>Joplin</td>\n",
       "      <td>Missouri</td>\n",
       "      <td>nan</td>\n",
       "      <td>691</td>\n",
       "      <td>21</td>\n",
       "      <td>NaN</td>\n",
       "      <td>3.091042</td>\n",
       "    </tr>\n",
       "    <tr>\n",
       "      <th>477806</th>\n",
       "      <td>2020-08-28</td>\n",
       "      <td>Kansas City</td>\n",
       "      <td>Missouri</td>\n",
       "      <td>nan</td>\n",
       "      <td>8995</td>\n",
       "      <td>96</td>\n",
       "      <td>NaN</td>\n",
       "      <td>4.574711</td>\n",
       "    </tr>\n",
       "    <tr>\n",
       "      <th>478009</th>\n",
       "      <td>2020-08-28</td>\n",
       "      <td>Unknown</td>\n",
       "      <td>Nebraska</td>\n",
       "      <td>nan</td>\n",
       "      <td>77</td>\n",
       "      <td>0</td>\n",
       "      <td>NaN</td>\n",
       "      <td>0.000000</td>\n",
       "    </tr>\n",
       "    <tr>\n",
       "      <th>478042</th>\n",
       "      <td>2020-08-28</td>\n",
       "      <td>Unknown</td>\n",
       "      <td>New Hampshire</td>\n",
       "      <td>nan</td>\n",
       "      <td>3</td>\n",
       "      <td>0</td>\n",
       "      <td>NaN</td>\n",
       "      <td>0.000000</td>\n",
       "    </tr>\n",
       "    <tr>\n",
       "      <th>478063</th>\n",
       "      <td>2020-08-28</td>\n",
       "      <td>Unknown</td>\n",
       "      <td>New Jersey</td>\n",
       "      <td>nan</td>\n",
       "      <td>328</td>\n",
       "      <td>0</td>\n",
       "      <td>NaN</td>\n",
       "      <td>0.000000</td>\n",
       "    </tr>\n",
       "    <tr>\n",
       "      <th>478125</th>\n",
       "      <td>2020-08-28</td>\n",
       "      <td>New York City</td>\n",
       "      <td>New York</td>\n",
       "      <td>nan</td>\n",
       "      <td>238107</td>\n",
       "      <td>23680</td>\n",
       "      <td>NaN</td>\n",
       "      <td>10.072428</td>\n",
       "    </tr>\n",
       "    <tr>\n",
       "      <th>478304</th>\n",
       "      <td>2020-08-28</td>\n",
       "      <td>Unknown</td>\n",
       "      <td>North Dakota</td>\n",
       "      <td>nan</td>\n",
       "      <td>4</td>\n",
       "      <td>4</td>\n",
       "      <td>NaN</td>\n",
       "      <td>1.609438</td>\n",
       "    </tr>\n",
       "    <tr>\n",
       "      <th>478471</th>\n",
       "      <td>2020-08-28</td>\n",
       "      <td>Unknown</td>\n",
       "      <td>Oklahoma</td>\n",
       "      <td>nan</td>\n",
       "      <td>21</td>\n",
       "      <td>0</td>\n",
       "      <td>NaN</td>\n",
       "      <td>0.000000</td>\n",
       "    </tr>\n",
       "    <tr>\n",
       "      <th>478650</th>\n",
       "      <td>2020-08-28</td>\n",
       "      <td>Unknown</td>\n",
       "      <td>Puerto Rico</td>\n",
       "      <td>nan</td>\n",
       "      <td>1328</td>\n",
       "      <td>0</td>\n",
       "      <td>NaN</td>\n",
       "      <td>0.000000</td>\n",
       "    </tr>\n",
       "    <tr>\n",
       "      <th>478662</th>\n",
       "      <td>2020-08-28</td>\n",
       "      <td>Unknown</td>\n",
       "      <td>Rhode Island</td>\n",
       "      <td>nan</td>\n",
       "      <td>1874</td>\n",
       "      <td>19</td>\n",
       "      <td>NaN</td>\n",
       "      <td>2.995732</td>\n",
       "    </tr>\n",
       "    <tr>\n",
       "      <th>478863</th>\n",
       "      <td>2020-08-28</td>\n",
       "      <td>Unknown</td>\n",
       "      <td>Tennessee</td>\n",
       "      <td>nan</td>\n",
       "      <td>206</td>\n",
       "      <td>0</td>\n",
       "      <td>NaN</td>\n",
       "      <td>0.000000</td>\n",
       "    </tr>\n",
       "    <tr>\n",
       "      <th>479146</th>\n",
       "      <td>2020-08-28</td>\n",
       "      <td>Unknown</td>\n",
       "      <td>Utah</td>\n",
       "      <td>nan</td>\n",
       "      <td>17</td>\n",
       "      <td>1</td>\n",
       "      <td>NaN</td>\n",
       "      <td>0.693147</td>\n",
       "    </tr>\n",
       "    <tr>\n",
       "      <th>479163</th>\n",
       "      <td>2020-08-28</td>\n",
       "      <td>Unknown</td>\n",
       "      <td>Vermont</td>\n",
       "      <td>nan</td>\n",
       "      <td>8</td>\n",
       "      <td>0</td>\n",
       "      <td>NaN</td>\n",
       "      <td>0.000000</td>\n",
       "    </tr>\n",
       "    <tr>\n",
       "      <th>479337</th>\n",
       "      <td>2020-08-28</td>\n",
       "      <td>Unknown</td>\n",
       "      <td>Washington</td>\n",
       "      <td>nan</td>\n",
       "      <td>2</td>\n",
       "      <td>2</td>\n",
       "      <td>NaN</td>\n",
       "      <td>1.098612</td>\n",
       "    </tr>\n",
       "    <tr>\n",
       "      <th>479460</th>\n",
       "      <td>2020-08-28</td>\n",
       "      <td>Unknown</td>\n",
       "      <td>Wisconsin</td>\n",
       "      <td>nan</td>\n",
       "      <td>4305</td>\n",
       "      <td>8</td>\n",
       "      <td>NaN</td>\n",
       "      <td>2.197225</td>\n",
       "    </tr>\n",
       "  </tbody>\n",
       "</table>\n",
       "</div>"
      ],
      "text/plain": [
       "             date         county          state fips   cases  deaths  fipsnum  \\\n",
       "476351 2020-08-28        Unknown         Alaska  nan      56       0      NaN   \n",
       "476440 2020-08-28        Unknown       Arkansas  nan     815       0      NaN   \n",
       "476574 2020-08-28        Unknown    Connecticut  nan     104       0      NaN   \n",
       "476579 2020-08-28        Unknown       Delaware  nan     279       0      NaN   \n",
       "476644 2020-08-28        Unknown        Florida  nan     959       0      NaN   \n",
       "476793 2020-08-28        Unknown        Georgia  nan    2497       4      NaN   \n",
       "476809 2020-08-28        Unknown           Guam  nan    2256      11      NaN   \n",
       "476949 2020-08-28        Unknown       Illinois  nan    1645     207      NaN   \n",
       "477141 2020-08-28        Unknown           Iowa  nan      16       0      NaN   \n",
       "477434 2020-08-28        Unknown      Louisiana  nan     350     163      NaN   \n",
       "477456 2020-08-28        Unknown          Maine  nan       3       0      NaN   \n",
       "477481 2020-08-28        Unknown       Maryland  nan       0      17      NaN   \n",
       "477498 2020-08-28        Unknown  Massachusetts  nan    1533       5      NaN   \n",
       "477579 2020-08-28        Unknown       Michigan  nan     345       4      NaN   \n",
       "477662 2020-08-28        Unknown      Minnesota  nan     196      49      NaN   \n",
       "477805 2020-08-28         Joplin       Missouri  nan     691      21      NaN   \n",
       "477806 2020-08-28    Kansas City       Missouri  nan    8995      96      NaN   \n",
       "478009 2020-08-28        Unknown       Nebraska  nan      77       0      NaN   \n",
       "478042 2020-08-28        Unknown  New Hampshire  nan       3       0      NaN   \n",
       "478063 2020-08-28        Unknown     New Jersey  nan     328       0      NaN   \n",
       "478125 2020-08-28  New York City       New York  nan  238107   23680      NaN   \n",
       "478304 2020-08-28        Unknown   North Dakota  nan       4       4      NaN   \n",
       "478471 2020-08-28        Unknown       Oklahoma  nan      21       0      NaN   \n",
       "478650 2020-08-28        Unknown    Puerto Rico  nan    1328       0      NaN   \n",
       "478662 2020-08-28        Unknown   Rhode Island  nan    1874      19      NaN   \n",
       "478863 2020-08-28        Unknown      Tennessee  nan     206       0      NaN   \n",
       "479146 2020-08-28        Unknown           Utah  nan      17       1      NaN   \n",
       "479163 2020-08-28        Unknown        Vermont  nan       8       0      NaN   \n",
       "479337 2020-08-28        Unknown     Washington  nan       2       2      NaN   \n",
       "479460 2020-08-28        Unknown      Wisconsin  nan    4305       8      NaN   \n",
       "\n",
       "        log_deaths  \n",
       "476351    0.000000  \n",
       "476440    0.000000  \n",
       "476574    0.000000  \n",
       "476579    0.000000  \n",
       "476644    0.000000  \n",
       "476793    1.609438  \n",
       "476809    2.484907  \n",
       "476949    5.337538  \n",
       "477141    0.000000  \n",
       "477434    5.099866  \n",
       "477456    0.000000  \n",
       "477481    2.890372  \n",
       "477498    1.791759  \n",
       "477579    1.609438  \n",
       "477662    3.912023  \n",
       "477805    3.091042  \n",
       "477806    4.574711  \n",
       "478009    0.000000  \n",
       "478042    0.000000  \n",
       "478063    0.000000  \n",
       "478125   10.072428  \n",
       "478304    1.609438  \n",
       "478471    0.000000  \n",
       "478650    0.000000  \n",
       "478662    2.995732  \n",
       "478863    0.000000  \n",
       "479146    0.693147  \n",
       "479163    0.000000  \n",
       "479337    1.098612  \n",
       "479460    2.197225  "
      ]
     },
     "execution_count": 13,
     "metadata": {},
     "output_type": "execute_result"
    }
   ],
   "source": [
    "date_mask = (COVID_COUNTIES_DF['date'] == '2020-08-28')\n",
    "\n",
    "fips_error_mask = (COVID_COUNTIES_DF['fips'].map(lambda x:len(x)) < 5)\n",
    "\n",
    "print(len(COVID_COUNTIES_DF[fips_error_mask & date_mask]))\n",
    "COVID_COUNTIES_DF[fips_error_mask & date_mask]"
   ]
  },
  {
   "cell_type": "markdown",
   "metadata": {},
   "source": [
    "We have 30 counties that have null fips codes. Some of them even have null county names. Not sure how to deal with this for the dashboard. NYC combined the five borroughs to represent the whole city."
   ]
  },
  {
   "cell_type": "markdown",
   "metadata": {},
   "source": [
    "------"
   ]
  },
  {
   "cell_type": "markdown",
   "metadata": {},
   "source": [
    "### County Census Data"
   ]
  },
  {
   "cell_type": "code",
   "execution_count": 8,
   "metadata": {},
   "outputs": [],
   "source": [
    "# Get Census Data\n",
    "CENSUS_COUNTY_DF = data_processing.get_census_county_data()"
   ]
  }
 ],
 "metadata": {
  "kernelspec": {
   "display_name": "Python 3",
   "language": "python",
   "name": "python3"
  },
  "language_info": {
   "codemirror_mode": {
    "name": "ipython",
    "version": 3
   },
   "file_extension": ".py",
   "mimetype": "text/x-python",
   "name": "python",
   "nbconvert_exporter": "python",
   "pygments_lexer": "ipython3",
   "version": "3.7.7"
  }
 },
 "nbformat": 4,
 "nbformat_minor": 4
}
