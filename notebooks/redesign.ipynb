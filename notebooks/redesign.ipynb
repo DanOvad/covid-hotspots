{
 "cells": [
  {
   "cell_type": "markdown",
   "metadata": {},
   "source": [
    "# Notebook for preparing redesign of data management"
   ]
  },
  {
   "cell_type": "markdown",
   "metadata": {},
   "source": [
    "### Python Libraries?"
   ]
  },
  {
   "cell_type": "code",
   "execution_count": 2,
   "metadata": {},
   "outputs": [],
   "source": [
    "import pandas as pd\n",
    "import numpy as np\n",
    "\n",
    "from urllib.request import urlopen\n",
    "import json\n",
    "\n",
    "import time\n",
    "\n",
    "import requests"
   ]
  },
  {
   "cell_type": "code",
   "execution_count": 49,
   "metadata": {},
   "outputs": [],
   "source": [
    "import dash\n",
    "import dash_core_components as dcc\n",
    "import dash_html_components as html\n",
    "from dash.dependencies import Input, Output, State\n",
    "from dash.exceptions import PreventUpdate"
   ]
  },
  {
   "cell_type": "code",
   "execution_count": 50,
   "metadata": {},
   "outputs": [],
   "source": [
    "from plotly.subplots import make_subplots\n",
    "import plotly.express as px\n",
    "import plotly.graph_objects as go"
   ]
  },
  {
   "cell_type": "markdown",
   "metadata": {},
   "source": [
    "### Custom Modules"
   ]
  },
  {
   "cell_type": "code",
   "execution_count": 51,
   "metadata": {},
   "outputs": [
    {
     "name": "stdout",
     "output_type": "stream",
     "text": [
      "The autoreload extension is already loaded. To reload it, use:\n",
      "  %reload_ext autoreload\n"
     ]
    }
   ],
   "source": [
    "import data_processing\n",
    "import plotting\n",
    "\n",
    "# Extension to auto reload custom modules\n",
    "%load_ext autoreload\n",
    "\n",
    "%autoreload 1\n",
    "\n",
    "%aimport data_processing\n",
    "%aimport plotting"
   ]
  },
  {
   "cell_type": "code",
   "execution_count": 53,
   "metadata": {},
   "outputs": [
    {
     "name": "stdout",
     "output_type": "stream",
     "text": [
      "Pulling geojson from file.\n",
      "Pulling state data from Covid Tracking API\n",
      "Retrieving Covid County data\n",
      "Pulling county data from github.\n"
     ]
    }
   ],
   "source": [
    "# Get county geojson\n",
    "COVID_GEOJSON = data_processing.load_county_geojson()\n",
    "\n",
    "# Get state data\n",
    "COVID_STATES_DF = data_processing.get_covid_state_data()\n",
    "\n",
    "# Get county data\n",
    "COVID_COUNTIES_DF = data_processing.get_covid_county_data()"
   ]
  },
  {
   "cell_type": "code",
   "execution_count": 88,
   "metadata": {},
   "outputs": [
    {
     "name": "stdout",
     "output_type": "stream",
     "text": [
      "Pulling state data from Covid Tracking API\n"
     ]
    }
   ],
   "source": [
    "COVID_STATES_DF = data_processing.get_covid_state_data()"
   ]
  },
  {
   "cell_type": "code",
   "execution_count": 89,
   "metadata": {},
   "outputs": [
    {
     "data": {
      "application/vnd.plotly.v1+json": {
       "config": {
        "plotlyServerURL": "https://plot.ly"
       },
       "data": [
        {
         "colorbar": {
          "thickness": 0.03,
          "thicknessmode": "fraction",
          "title": {
           "side": "right",
           "text": "deathIncrease"
          },
          "yanchor": "middle"
         },
         "colorscale": [
          [
           0,
           "#440154"
          ],
          [
           0.1111111111111111,
           "#482878"
          ],
          [
           0.2222222222222222,
           "#3e4989"
          ],
          [
           0.3333333333333333,
           "#31688e"
          ],
          [
           0.4444444444444444,
           "#26828e"
          ],
          [
           0.5555555555555556,
           "#1f9e89"
          ],
          [
           0.6666666666666666,
           "#35b779"
          ],
          [
           0.7777777777777778,
           "#6ece58"
          ],
          [
           0.8888888888888888,
           "#b5de2b"
          ],
          [
           1,
           "#fde725"
          ]
         ],
         "locationmode": "USA-states",
         "locations": [
          "AK",
          "AL",
          "AR",
          "AS",
          "AZ",
          "CA",
          "CO",
          "CT",
          "DC",
          "DE",
          "FL",
          "GA",
          "GU",
          "HI",
          "IA",
          "ID",
          "IL",
          "IN",
          "KS",
          "KY",
          "LA",
          "MA",
          "MD",
          "ME",
          "MI",
          "MN",
          "MO",
          "MP",
          "MS",
          "MT",
          "NC",
          "ND",
          "NE",
          "NH",
          "NJ",
          "NM",
          "NV",
          "NY",
          "OH",
          "OK",
          "OR",
          "PA",
          "PR",
          "RI",
          "SC",
          "SD",
          "TN",
          "TX",
          "UT",
          "VA",
          "VI",
          "VT",
          "WA",
          "WI",
          "WV",
          "WY"
         ],
         "text": [
          "AK",
          "AL",
          "AR",
          "AS",
          "AZ",
          "CA",
          "CO",
          "CT",
          "DC",
          "DE",
          "FL",
          "GA",
          "GU",
          "HI",
          "IA",
          "ID",
          "IL",
          "IN",
          "KS",
          "KY",
          "LA",
          "MA",
          "MD",
          "ME",
          "MI",
          "MN",
          "MO",
          "MP",
          "MS",
          "MT",
          "NC",
          "ND",
          "NE",
          "NH",
          "NJ",
          "NM",
          "NV",
          "NY",
          "OH",
          "OK",
          "OR",
          "PA",
          "PR",
          "RI",
          "SC",
          "SD",
          "TN",
          "TX",
          "UT",
          "VA",
          "VI",
          "VT",
          "WA",
          "WI",
          "WV",
          "WY"
         ],
         "type": "choropleth",
         "z": [
          0,
          30,
          10,
          0,
          50,
          163,
          12,
          1,
          1,
          0,
          119,
          55,
          1,
          3,
          8,
          9,
          27,
          11,
          0,
          14,
          28,
          12,
          8,
          1,
          16,
          7,
          3,
          0,
          27,
          5,
          34,
          2,
          3,
          1,
          6,
          6,
          38,
          5,
          22,
          10,
          4,
          15,
          11,
          1,
          41,
          2,
          36,
          234,
          4,
          17,
          1,
          0,
          13,
          7,
          0,
          0
         ]
        }
       ],
       "layout": {
        "autosize": true,
        "geo": {
         "center": {
          "lat": 37.0902,
          "lon": -95.7129
         },
         "scope": "usa"
        },
        "margin": {
         "b": 5,
         "l": 5,
         "r": 5,
         "t": 40
        },
        "paper_bgcolor": "#D6DBDF",
        "plot_bgcolor": "#DCDCDC",
        "template": {
         "data": {
          "bar": [
           {
            "error_x": {
             "color": "#2a3f5f"
            },
            "error_y": {
             "color": "#2a3f5f"
            },
            "marker": {
             "line": {
              "color": "#E5ECF6",
              "width": 0.5
             }
            },
            "type": "bar"
           }
          ],
          "barpolar": [
           {
            "marker": {
             "line": {
              "color": "#E5ECF6",
              "width": 0.5
             }
            },
            "type": "barpolar"
           }
          ],
          "carpet": [
           {
            "aaxis": {
             "endlinecolor": "#2a3f5f",
             "gridcolor": "white",
             "linecolor": "white",
             "minorgridcolor": "white",
             "startlinecolor": "#2a3f5f"
            },
            "baxis": {
             "endlinecolor": "#2a3f5f",
             "gridcolor": "white",
             "linecolor": "white",
             "minorgridcolor": "white",
             "startlinecolor": "#2a3f5f"
            },
            "type": "carpet"
           }
          ],
          "choropleth": [
           {
            "colorbar": {
             "outlinewidth": 0,
             "ticks": ""
            },
            "type": "choropleth"
           }
          ],
          "contour": [
           {
            "colorbar": {
             "outlinewidth": 0,
             "ticks": ""
            },
            "colorscale": [
             [
              0,
              "#0d0887"
             ],
             [
              0.1111111111111111,
              "#46039f"
             ],
             [
              0.2222222222222222,
              "#7201a8"
             ],
             [
              0.3333333333333333,
              "#9c179e"
             ],
             [
              0.4444444444444444,
              "#bd3786"
             ],
             [
              0.5555555555555556,
              "#d8576b"
             ],
             [
              0.6666666666666666,
              "#ed7953"
             ],
             [
              0.7777777777777778,
              "#fb9f3a"
             ],
             [
              0.8888888888888888,
              "#fdca26"
             ],
             [
              1,
              "#f0f921"
             ]
            ],
            "type": "contour"
           }
          ],
          "contourcarpet": [
           {
            "colorbar": {
             "outlinewidth": 0,
             "ticks": ""
            },
            "type": "contourcarpet"
           }
          ],
          "heatmap": [
           {
            "colorbar": {
             "outlinewidth": 0,
             "ticks": ""
            },
            "colorscale": [
             [
              0,
              "#0d0887"
             ],
             [
              0.1111111111111111,
              "#46039f"
             ],
             [
              0.2222222222222222,
              "#7201a8"
             ],
             [
              0.3333333333333333,
              "#9c179e"
             ],
             [
              0.4444444444444444,
              "#bd3786"
             ],
             [
              0.5555555555555556,
              "#d8576b"
             ],
             [
              0.6666666666666666,
              "#ed7953"
             ],
             [
              0.7777777777777778,
              "#fb9f3a"
             ],
             [
              0.8888888888888888,
              "#fdca26"
             ],
             [
              1,
              "#f0f921"
             ]
            ],
            "type": "heatmap"
           }
          ],
          "heatmapgl": [
           {
            "colorbar": {
             "outlinewidth": 0,
             "ticks": ""
            },
            "colorscale": [
             [
              0,
              "#0d0887"
             ],
             [
              0.1111111111111111,
              "#46039f"
             ],
             [
              0.2222222222222222,
              "#7201a8"
             ],
             [
              0.3333333333333333,
              "#9c179e"
             ],
             [
              0.4444444444444444,
              "#bd3786"
             ],
             [
              0.5555555555555556,
              "#d8576b"
             ],
             [
              0.6666666666666666,
              "#ed7953"
             ],
             [
              0.7777777777777778,
              "#fb9f3a"
             ],
             [
              0.8888888888888888,
              "#fdca26"
             ],
             [
              1,
              "#f0f921"
             ]
            ],
            "type": "heatmapgl"
           }
          ],
          "histogram": [
           {
            "marker": {
             "colorbar": {
              "outlinewidth": 0,
              "ticks": ""
             }
            },
            "type": "histogram"
           }
          ],
          "histogram2d": [
           {
            "colorbar": {
             "outlinewidth": 0,
             "ticks": ""
            },
            "colorscale": [
             [
              0,
              "#0d0887"
             ],
             [
              0.1111111111111111,
              "#46039f"
             ],
             [
              0.2222222222222222,
              "#7201a8"
             ],
             [
              0.3333333333333333,
              "#9c179e"
             ],
             [
              0.4444444444444444,
              "#bd3786"
             ],
             [
              0.5555555555555556,
              "#d8576b"
             ],
             [
              0.6666666666666666,
              "#ed7953"
             ],
             [
              0.7777777777777778,
              "#fb9f3a"
             ],
             [
              0.8888888888888888,
              "#fdca26"
             ],
             [
              1,
              "#f0f921"
             ]
            ],
            "type": "histogram2d"
           }
          ],
          "histogram2dcontour": [
           {
            "colorbar": {
             "outlinewidth": 0,
             "ticks": ""
            },
            "colorscale": [
             [
              0,
              "#0d0887"
             ],
             [
              0.1111111111111111,
              "#46039f"
             ],
             [
              0.2222222222222222,
              "#7201a8"
             ],
             [
              0.3333333333333333,
              "#9c179e"
             ],
             [
              0.4444444444444444,
              "#bd3786"
             ],
             [
              0.5555555555555556,
              "#d8576b"
             ],
             [
              0.6666666666666666,
              "#ed7953"
             ],
             [
              0.7777777777777778,
              "#fb9f3a"
             ],
             [
              0.8888888888888888,
              "#fdca26"
             ],
             [
              1,
              "#f0f921"
             ]
            ],
            "type": "histogram2dcontour"
           }
          ],
          "mesh3d": [
           {
            "colorbar": {
             "outlinewidth": 0,
             "ticks": ""
            },
            "type": "mesh3d"
           }
          ],
          "parcoords": [
           {
            "line": {
             "colorbar": {
              "outlinewidth": 0,
              "ticks": ""
             }
            },
            "type": "parcoords"
           }
          ],
          "pie": [
           {
            "automargin": true,
            "type": "pie"
           }
          ],
          "scatter": [
           {
            "marker": {
             "colorbar": {
              "outlinewidth": 0,
              "ticks": ""
             }
            },
            "type": "scatter"
           }
          ],
          "scatter3d": [
           {
            "line": {
             "colorbar": {
              "outlinewidth": 0,
              "ticks": ""
             }
            },
            "marker": {
             "colorbar": {
              "outlinewidth": 0,
              "ticks": ""
             }
            },
            "type": "scatter3d"
           }
          ],
          "scattercarpet": [
           {
            "marker": {
             "colorbar": {
              "outlinewidth": 0,
              "ticks": ""
             }
            },
            "type": "scattercarpet"
           }
          ],
          "scattergeo": [
           {
            "marker": {
             "colorbar": {
              "outlinewidth": 0,
              "ticks": ""
             }
            },
            "type": "scattergeo"
           }
          ],
          "scattergl": [
           {
            "marker": {
             "colorbar": {
              "outlinewidth": 0,
              "ticks": ""
             }
            },
            "type": "scattergl"
           }
          ],
          "scattermapbox": [
           {
            "marker": {
             "colorbar": {
              "outlinewidth": 0,
              "ticks": ""
             }
            },
            "type": "scattermapbox"
           }
          ],
          "scatterpolar": [
           {
            "marker": {
             "colorbar": {
              "outlinewidth": 0,
              "ticks": ""
             }
            },
            "type": "scatterpolar"
           }
          ],
          "scatterpolargl": [
           {
            "marker": {
             "colorbar": {
              "outlinewidth": 0,
              "ticks": ""
             }
            },
            "type": "scatterpolargl"
           }
          ],
          "scatterternary": [
           {
            "marker": {
             "colorbar": {
              "outlinewidth": 0,
              "ticks": ""
             }
            },
            "type": "scatterternary"
           }
          ],
          "surface": [
           {
            "colorbar": {
             "outlinewidth": 0,
             "ticks": ""
            },
            "colorscale": [
             [
              0,
              "#0d0887"
             ],
             [
              0.1111111111111111,
              "#46039f"
             ],
             [
              0.2222222222222222,
              "#7201a8"
             ],
             [
              0.3333333333333333,
              "#9c179e"
             ],
             [
              0.4444444444444444,
              "#bd3786"
             ],
             [
              0.5555555555555556,
              "#d8576b"
             ],
             [
              0.6666666666666666,
              "#ed7953"
             ],
             [
              0.7777777777777778,
              "#fb9f3a"
             ],
             [
              0.8888888888888888,
              "#fdca26"
             ],
             [
              1,
              "#f0f921"
             ]
            ],
            "type": "surface"
           }
          ],
          "table": [
           {
            "cells": {
             "fill": {
              "color": "#EBF0F8"
             },
             "line": {
              "color": "white"
             }
            },
            "header": {
             "fill": {
              "color": "#C8D4E3"
             },
             "line": {
              "color": "white"
             }
            },
            "type": "table"
           }
          ]
         },
         "layout": {
          "annotationdefaults": {
           "arrowcolor": "#2a3f5f",
           "arrowhead": 0,
           "arrowwidth": 1
          },
          "coloraxis": {
           "colorbar": {
            "outlinewidth": 0,
            "ticks": ""
           }
          },
          "colorscale": {
           "diverging": [
            [
             0,
             "#8e0152"
            ],
            [
             0.1,
             "#c51b7d"
            ],
            [
             0.2,
             "#de77ae"
            ],
            [
             0.3,
             "#f1b6da"
            ],
            [
             0.4,
             "#fde0ef"
            ],
            [
             0.5,
             "#f7f7f7"
            ],
            [
             0.6,
             "#e6f5d0"
            ],
            [
             0.7,
             "#b8e186"
            ],
            [
             0.8,
             "#7fbc41"
            ],
            [
             0.9,
             "#4d9221"
            ],
            [
             1,
             "#276419"
            ]
           ],
           "sequential": [
            [
             0,
             "#0d0887"
            ],
            [
             0.1111111111111111,
             "#46039f"
            ],
            [
             0.2222222222222222,
             "#7201a8"
            ],
            [
             0.3333333333333333,
             "#9c179e"
            ],
            [
             0.4444444444444444,
             "#bd3786"
            ],
            [
             0.5555555555555556,
             "#d8576b"
            ],
            [
             0.6666666666666666,
             "#ed7953"
            ],
            [
             0.7777777777777778,
             "#fb9f3a"
            ],
            [
             0.8888888888888888,
             "#fdca26"
            ],
            [
             1,
             "#f0f921"
            ]
           ],
           "sequentialminus": [
            [
             0,
             "#0d0887"
            ],
            [
             0.1111111111111111,
             "#46039f"
            ],
            [
             0.2222222222222222,
             "#7201a8"
            ],
            [
             0.3333333333333333,
             "#9c179e"
            ],
            [
             0.4444444444444444,
             "#bd3786"
            ],
            [
             0.5555555555555556,
             "#d8576b"
            ],
            [
             0.6666666666666666,
             "#ed7953"
            ],
            [
             0.7777777777777778,
             "#fb9f3a"
            ],
            [
             0.8888888888888888,
             "#fdca26"
            ],
            [
             1,
             "#f0f921"
            ]
           ]
          },
          "colorway": [
           "#636efa",
           "#EF553B",
           "#00cc96",
           "#ab63fa",
           "#FFA15A",
           "#19d3f3",
           "#FF6692",
           "#B6E880",
           "#FF97FF",
           "#FECB52"
          ],
          "font": {
           "color": "#2a3f5f"
          },
          "geo": {
           "bgcolor": "white",
           "lakecolor": "white",
           "landcolor": "#E5ECF6",
           "showlakes": true,
           "showland": true,
           "subunitcolor": "white"
          },
          "hoverlabel": {
           "align": "left"
          },
          "hovermode": "closest",
          "mapbox": {
           "style": "light"
          },
          "paper_bgcolor": "white",
          "plot_bgcolor": "#E5ECF6",
          "polar": {
           "angularaxis": {
            "gridcolor": "white",
            "linecolor": "white",
            "ticks": ""
           },
           "bgcolor": "#E5ECF6",
           "radialaxis": {
            "gridcolor": "white",
            "linecolor": "white",
            "ticks": ""
           }
          },
          "scene": {
           "xaxis": {
            "backgroundcolor": "#E5ECF6",
            "gridcolor": "white",
            "gridwidth": 2,
            "linecolor": "white",
            "showbackground": true,
            "ticks": "",
            "zerolinecolor": "white"
           },
           "yaxis": {
            "backgroundcolor": "#E5ECF6",
            "gridcolor": "white",
            "gridwidth": 2,
            "linecolor": "white",
            "showbackground": true,
            "ticks": "",
            "zerolinecolor": "white"
           },
           "zaxis": {
            "backgroundcolor": "#E5ECF6",
            "gridcolor": "white",
            "gridwidth": 2,
            "linecolor": "white",
            "showbackground": true,
            "ticks": "",
            "zerolinecolor": "white"
           }
          },
          "shapedefaults": {
           "line": {
            "color": "#2a3f5f"
           }
          },
          "ternary": {
           "aaxis": {
            "gridcolor": "white",
            "linecolor": "white",
            "ticks": ""
           },
           "baxis": {
            "gridcolor": "white",
            "linecolor": "white",
            "ticks": ""
           },
           "bgcolor": "#E5ECF6",
           "caxis": {
            "gridcolor": "white",
            "linecolor": "white",
            "ticks": ""
           }
          },
          "title": {
           "x": 0.05
          },
          "xaxis": {
           "automargin": true,
           "gridcolor": "white",
           "linecolor": "white",
           "ticks": "",
           "title": {
            "standoff": 15
           },
           "zerolinecolor": "white",
           "zerolinewidth": 2
          },
          "yaxis": {
           "automargin": true,
           "gridcolor": "white",
           "linecolor": "white",
           "ticks": "",
           "title": {
            "standoff": 15
           },
           "zerolinecolor": "white",
           "zerolinewidth": 2
          }
         }
        },
        "title": {
         "text": "deathIncrease by State on 2020-08-20"
        }
       }
      },
      "image/png": "[encoded data removed]",
      "text/html": [
       "<div>\n",
       "        \n",
       "        \n",
       "            <div id=\"82bcc64f-664f-4f2d-89d6-047e5d8e377f\" class=\"plotly-graph-div\" style=\"height:525px; width:100%;\"></div>\n",
       "            <script type=\"text/javascript\">\n",
       "                require([\"plotly\"], function(Plotly) {\n",
       "                    window.PLOTLYENV=window.PLOTLYENV || {};\n",
       "                    \n",
       "                if (document.getElementById(\"82bcc64f-664f-4f2d-89d6-047e5d8e377f\")) {\n",
       "                    Plotly.newPlot(\n",
       "                        '82bcc64f-664f-4f2d-89d6-047e5d8e377f',\n",
       "                        [{\"colorbar\": {\"thickness\": 0.03, \"thicknessmode\": \"fraction\", \"title\": {\"side\": \"right\", \"text\": \"deathIncrease\"}, \"yanchor\": \"middle\"}, \"colorscale\": [[0.0, \"#440154\"], [0.1111111111111111, \"#482878\"], [0.2222222222222222, \"#3e4989\"], [0.3333333333333333, \"#31688e\"], [0.4444444444444444, \"#26828e\"], [0.5555555555555556, \"#1f9e89\"], [0.6666666666666666, \"#35b779\"], [0.7777777777777778, \"#6ece58\"], [0.8888888888888888, \"#b5de2b\"], [1.0, \"#fde725\"]], \"locationmode\": \"USA-states\", \"locations\": [\"AK\", \"AL\", \"AR\", \"AS\", \"AZ\", \"CA\", \"CO\", \"CT\", \"DC\", \"DE\", \"FL\", \"GA\", \"GU\", \"HI\", \"IA\", \"ID\", \"IL\", \"IN\", \"KS\", \"KY\", \"LA\", \"MA\", \"MD\", \"ME\", \"MI\", \"MN\", \"MO\", \"MP\", \"MS\", \"MT\", \"NC\", \"ND\", \"NE\", \"NH\", \"NJ\", \"NM\", \"NV\", \"NY\", \"OH\", \"OK\", \"OR\", \"PA\", \"PR\", \"RI\", \"SC\", \"SD\", \"TN\", \"TX\", \"UT\", \"VA\", \"VI\", \"VT\", \"WA\", \"WI\", \"WV\", \"WY\"], \"text\": [\"AK\", \"AL\", \"AR\", \"AS\", \"AZ\", \"CA\", \"CO\", \"CT\", \"DC\", \"DE\", \"FL\", \"GA\", \"GU\", \"HI\", \"IA\", \"ID\", \"IL\", \"IN\", \"KS\", \"KY\", \"LA\", \"MA\", \"MD\", \"ME\", \"MI\", \"MN\", \"MO\", \"MP\", \"MS\", \"MT\", \"NC\", \"ND\", \"NE\", \"NH\", \"NJ\", \"NM\", \"NV\", \"NY\", \"OH\", \"OK\", \"OR\", \"PA\", \"PR\", \"RI\", \"SC\", \"SD\", \"TN\", \"TX\", \"UT\", \"VA\", \"VI\", \"VT\", \"WA\", \"WI\", \"WV\", \"WY\"], \"type\": \"choropleth\", \"z\": [0.0, 30.0, 10.0, 0.0, 50.0, 163.0, 12.0, 1.0, 1.0, 0.0, 119.0, 55.0, 1.0, 3.0, 8.0, 9.0, 27.0, 11.0, 0.0, 14.0, 28.0, 12.0, 8.0, 1.0, 16.0, 7.0, 3.0, 0.0, 27.0, 5.0, 34.0, 2.0, 3.0, 1.0, 6.0, 6.0, 38.0, 5.0, 22.0, 10.0, 4.0, 15.0, 11.0, 1.0, 41.0, 2.0, 36.0, 234.0, 4.0, 17.0, 1.0, 0.0, 13.0, 7.0, 0.0, 0.0]}],\n",
       "                        {\"autosize\": true, \"geo\": {\"center\": {\"lat\": 37.0902, \"lon\": -95.7129}, \"scope\": \"usa\"}, \"margin\": {\"b\": 5, \"l\": 5, \"r\": 5, \"t\": 40}, \"paper_bgcolor\": \"#D6DBDF\", \"plot_bgcolor\": \"#DCDCDC\", \"template\": {\"data\": {\"bar\": [{\"error_x\": {\"color\": \"#2a3f5f\"}, \"error_y\": {\"color\": \"#2a3f5f\"}, \"marker\": {\"line\": {\"color\": \"#E5ECF6\", \"width\": 0.5}}, \"type\": \"bar\"}], \"barpolar\": [{\"marker\": {\"line\": {\"color\": \"#E5ECF6\", \"width\": 0.5}}, \"type\": \"barpolar\"}], \"carpet\": [{\"aaxis\": {\"endlinecolor\": \"#2a3f5f\", \"gridcolor\": \"white\", \"linecolor\": \"white\", \"minorgridcolor\": \"white\", \"startlinecolor\": \"#2a3f5f\"}, \"baxis\": {\"endlinecolor\": \"#2a3f5f\", \"gridcolor\": \"white\", \"linecolor\": \"white\", \"minorgridcolor\": \"white\", \"startlinecolor\": \"#2a3f5f\"}, \"type\": \"carpet\"}], \"choropleth\": [{\"colorbar\": {\"outlinewidth\": 0, \"ticks\": \"\"}, \"type\": \"choropleth\"}], \"contour\": [{\"colorbar\": {\"outlinewidth\": 0, \"ticks\": \"\"}, \"colorscale\": [[0.0, \"#0d0887\"], [0.1111111111111111, \"#46039f\"], [0.2222222222222222, \"#7201a8\"], [0.3333333333333333, \"#9c179e\"], [0.4444444444444444, \"#bd3786\"], [0.5555555555555556, \"#d8576b\"], [0.6666666666666666, \"#ed7953\"], [0.7777777777777778, \"#fb9f3a\"], [0.8888888888888888, \"#fdca26\"], [1.0, \"#f0f921\"]], \"type\": \"contour\"}], \"contourcarpet\": [{\"colorbar\": {\"outlinewidth\": 0, \"ticks\": \"\"}, \"type\": \"contourcarpet\"}], \"heatmap\": [{\"colorbar\": {\"outlinewidth\": 0, \"ticks\": \"\"}, \"colorscale\": [[0.0, \"#0d0887\"], [0.1111111111111111, \"#46039f\"], [0.2222222222222222, \"#7201a8\"], [0.3333333333333333, \"#9c179e\"], [0.4444444444444444, \"#bd3786\"], [0.5555555555555556, \"#d8576b\"], [0.6666666666666666, \"#ed7953\"], [0.7777777777777778, \"#fb9f3a\"], [0.8888888888888888, \"#fdca26\"], [1.0, \"#f0f921\"]], \"type\": \"heatmap\"}], \"heatmapgl\": [{\"colorbar\": {\"outlinewidth\": 0, \"ticks\": \"\"}, \"colorscale\": [[0.0, \"#0d0887\"], [0.1111111111111111, \"#46039f\"], [0.2222222222222222, \"#7201a8\"], [0.3333333333333333, \"#9c179e\"], [0.4444444444444444, \"#bd3786\"], [0.5555555555555556, \"#d8576b\"], [0.6666666666666666, \"#ed7953\"], [0.7777777777777778, \"#fb9f3a\"], [0.8888888888888888, \"#fdca26\"], [1.0, \"#f0f921\"]], \"type\": \"heatmapgl\"}], \"histogram\": [{\"marker\": {\"colorbar\": {\"outlinewidth\": 0, \"ticks\": \"\"}}, \"type\": \"histogram\"}], \"histogram2d\": [{\"colorbar\": {\"outlinewidth\": 0, \"ticks\": \"\"}, \"colorscale\": [[0.0, \"#0d0887\"], [0.1111111111111111, \"#46039f\"], [0.2222222222222222, \"#7201a8\"], [0.3333333333333333, \"#9c179e\"], [0.4444444444444444, \"#bd3786\"], [0.5555555555555556, \"#d8576b\"], [0.6666666666666666, \"#ed7953\"], [0.7777777777777778, \"#fb9f3a\"], [0.8888888888888888, \"#fdca26\"], [1.0, \"#f0f921\"]], \"type\": \"histogram2d\"}], \"histogram2dcontour\": [{\"colorbar\": {\"outlinewidth\": 0, \"ticks\": \"\"}, \"colorscale\": [[0.0, \"#0d0887\"], [0.1111111111111111, \"#46039f\"], [0.2222222222222222, \"#7201a8\"], [0.3333333333333333, \"#9c179e\"], [0.4444444444444444, \"#bd3786\"], [0.5555555555555556, \"#d8576b\"], [0.6666666666666666, \"#ed7953\"], [0.7777777777777778, \"#fb9f3a\"], [0.8888888888888888, \"#fdca26\"], [1.0, \"#f0f921\"]], \"type\": \"histogram2dcontour\"}], \"mesh3d\": [{\"colorbar\": {\"outlinewidth\": 0, \"ticks\": \"\"}, \"type\": \"mesh3d\"}], \"parcoords\": [{\"line\": {\"colorbar\": {\"outlinewidth\": 0, \"ticks\": \"\"}}, \"type\": \"parcoords\"}], \"pie\": [{\"automargin\": true, \"type\": \"pie\"}], \"scatter\": [{\"marker\": {\"colorbar\": {\"outlinewidth\": 0, \"ticks\": \"\"}}, \"type\": \"scatter\"}], \"scatter3d\": [{\"line\": {\"colorbar\": {\"outlinewidth\": 0, \"ticks\": \"\"}}, \"marker\": {\"colorbar\": {\"outlinewidth\": 0, \"ticks\": \"\"}}, \"type\": \"scatter3d\"}], \"scattercarpet\": [{\"marker\": {\"colorbar\": {\"outlinewidth\": 0, \"ticks\": \"\"}}, \"type\": \"scattercarpet\"}], \"scattergeo\": [{\"marker\": {\"colorbar\": {\"outlinewidth\": 0, \"ticks\": \"\"}}, \"type\": \"scattergeo\"}], \"scattergl\": [{\"marker\": {\"colorbar\": {\"outlinewidth\": 0, \"ticks\": \"\"}}, \"type\": \"scattergl\"}], \"scattermapbox\": [{\"marker\": {\"colorbar\": {\"outlinewidth\": 0, \"ticks\": \"\"}}, \"type\": \"scattermapbox\"}], \"scatterpolar\": [{\"marker\": {\"colorbar\": {\"outlinewidth\": 0, \"ticks\": \"\"}}, \"type\": \"scatterpolar\"}], \"scatterpolargl\": [{\"marker\": {\"colorbar\": {\"outlinewidth\": 0, \"ticks\": \"\"}}, \"type\": \"scatterpolargl\"}], \"scatterternary\": [{\"marker\": {\"colorbar\": {\"outlinewidth\": 0, \"ticks\": \"\"}}, \"type\": \"scatterternary\"}], \"surface\": [{\"colorbar\": {\"outlinewidth\": 0, \"ticks\": \"\"}, \"colorscale\": [[0.0, \"#0d0887\"], [0.1111111111111111, \"#46039f\"], [0.2222222222222222, \"#7201a8\"], [0.3333333333333333, \"#9c179e\"], [0.4444444444444444, \"#bd3786\"], [0.5555555555555556, \"#d8576b\"], [0.6666666666666666, \"#ed7953\"], [0.7777777777777778, \"#fb9f3a\"], [0.8888888888888888, \"#fdca26\"], [1.0, \"#f0f921\"]], \"type\": \"surface\"}], \"table\": [{\"cells\": {\"fill\": {\"color\": \"#EBF0F8\"}, \"line\": {\"color\": \"white\"}}, \"header\": {\"fill\": {\"color\": \"#C8D4E3\"}, \"line\": {\"color\": \"white\"}}, \"type\": \"table\"}]}, \"layout\": {\"annotationdefaults\": {\"arrowcolor\": \"#2a3f5f\", \"arrowhead\": 0, \"arrowwidth\": 1}, \"coloraxis\": {\"colorbar\": {\"outlinewidth\": 0, \"ticks\": \"\"}}, \"colorscale\": {\"diverging\": [[0, \"#8e0152\"], [0.1, \"#c51b7d\"], [0.2, \"#de77ae\"], [0.3, \"#f1b6da\"], [0.4, \"#fde0ef\"], [0.5, \"#f7f7f7\"], [0.6, \"#e6f5d0\"], [0.7, \"#b8e186\"], [0.8, \"#7fbc41\"], [0.9, \"#4d9221\"], [1, \"#276419\"]], \"sequential\": [[0.0, \"#0d0887\"], [0.1111111111111111, \"#46039f\"], [0.2222222222222222, \"#7201a8\"], [0.3333333333333333, \"#9c179e\"], [0.4444444444444444, \"#bd3786\"], [0.5555555555555556, \"#d8576b\"], [0.6666666666666666, \"#ed7953\"], [0.7777777777777778, \"#fb9f3a\"], [0.8888888888888888, \"#fdca26\"], [1.0, \"#f0f921\"]], \"sequentialminus\": [[0.0, \"#0d0887\"], [0.1111111111111111, \"#46039f\"], [0.2222222222222222, \"#7201a8\"], [0.3333333333333333, \"#9c179e\"], [0.4444444444444444, \"#bd3786\"], [0.5555555555555556, \"#d8576b\"], [0.6666666666666666, \"#ed7953\"], [0.7777777777777778, \"#fb9f3a\"], [0.8888888888888888, \"#fdca26\"], [1.0, \"#f0f921\"]]}, \"colorway\": [\"#636efa\", \"#EF553B\", \"#00cc96\", \"#ab63fa\", \"#FFA15A\", \"#19d3f3\", \"#FF6692\", \"#B6E880\", \"#FF97FF\", \"#FECB52\"], \"font\": {\"color\": \"#2a3f5f\"}, \"geo\": {\"bgcolor\": \"white\", \"lakecolor\": \"white\", \"landcolor\": \"#E5ECF6\", \"showlakes\": true, \"showland\": true, \"subunitcolor\": \"white\"}, \"hoverlabel\": {\"align\": \"left\"}, \"hovermode\": \"closest\", \"mapbox\": {\"style\": \"light\"}, \"paper_bgcolor\": \"white\", \"plot_bgcolor\": \"#E5ECF6\", \"polar\": {\"angularaxis\": {\"gridcolor\": \"white\", \"linecolor\": \"white\", \"ticks\": \"\"}, \"bgcolor\": \"#E5ECF6\", \"radialaxis\": {\"gridcolor\": \"white\", \"linecolor\": \"white\", \"ticks\": \"\"}}, \"scene\": {\"xaxis\": {\"backgroundcolor\": \"#E5ECF6\", \"gridcolor\": \"white\", \"gridwidth\": 2, \"linecolor\": \"white\", \"showbackground\": true, \"ticks\": \"\", \"zerolinecolor\": \"white\"}, \"yaxis\": {\"backgroundcolor\": \"#E5ECF6\", \"gridcolor\": \"white\", \"gridwidth\": 2, \"linecolor\": \"white\", \"showbackground\": true, \"ticks\": \"\", \"zerolinecolor\": \"white\"}, \"zaxis\": {\"backgroundcolor\": \"#E5ECF6\", \"gridcolor\": \"white\", \"gridwidth\": 2, \"linecolor\": \"white\", \"showbackground\": true, \"ticks\": \"\", \"zerolinecolor\": \"white\"}}, \"shapedefaults\": {\"line\": {\"color\": \"#2a3f5f\"}}, \"ternary\": {\"aaxis\": {\"gridcolor\": \"white\", \"linecolor\": \"white\", \"ticks\": \"\"}, \"baxis\": {\"gridcolor\": \"white\", \"linecolor\": \"white\", \"ticks\": \"\"}, \"bgcolor\": \"#E5ECF6\", \"caxis\": {\"gridcolor\": \"white\", \"linecolor\": \"white\", \"ticks\": \"\"}}, \"title\": {\"x\": 0.05}, \"xaxis\": {\"automargin\": true, \"gridcolor\": \"white\", \"linecolor\": \"white\", \"ticks\": \"\", \"title\": {\"standoff\": 15}, \"zerolinecolor\": \"white\", \"zerolinewidth\": 2}, \"yaxis\": {\"automargin\": true, \"gridcolor\": \"white\", \"linecolor\": \"white\", \"ticks\": \"\", \"title\": {\"standoff\": 15}, \"zerolinecolor\": \"white\", \"zerolinewidth\": 2}}}, \"title\": {\"text\": \"deathIncrease by State on 2020-08-20\"}},\n",
       "                        {\"responsive\": true}\n",
       "                    ).then(function(){\n",
       "                            \n",
       "var gd = document.getElementById('82bcc64f-664f-4f2d-89d6-047e5d8e377f');\n",
       "var x = new MutationObserver(function (mutations, observer) {{\n",
       "        var display = window.getComputedStyle(gd).display;\n",
       "        if (!display || display === 'none') {{\n",
       "            console.log([gd, 'removed!']);\n",
       "            Plotly.purge(gd);\n",
       "            observer.disconnect();\n",
       "        }}\n",
       "}});\n",
       "\n",
       "// Listen for the removal of the full notebook cells\n",
       "var notebookContainer = gd.closest('#notebook-container');\n",
       "if (notebookContainer) {{\n",
       "    x.observe(notebookContainer, {childList: true});\n",
       "}}\n",
       "\n",
       "// Listen for the clearing of the current output cell\n",
       "var outputEl = gd.closest('.output');\n",
       "if (outputEl) {{\n",
       "    x.observe(outputEl, {childList: true});\n",
       "}}\n",
       "\n",
       "                        })\n",
       "                };\n",
       "                });\n",
       "            </script>\n",
       "        </div>"
      ]
     },
     "metadata": {},
     "output_type": "display_data"
    }
   ],
   "source": [
    "plotting.plot_choropleth_state(COVID_STATES_DF, '2020-08-20', 'deathIncrease')"
   ]
  },
  {
   "cell_type": "markdown",
   "metadata": {},
   "source": [
    "## Data Importing"
   ]
  },
  {
   "cell_type": "markdown",
   "metadata": {},
   "source": [
    "### County GeoJson for polygons on choropleth"
   ]
  },
  {
   "cell_type": "code",
   "execution_count": null,
   "metadata": {},
   "outputs": [],
   "source": [
    "# Get the Map of US counties\n",
    "with urlopen('https://raw.githubusercontent.com/plotly/datasets/master/geojson-counties-fips.json') as response:\n",
    "    county_geojson = json.load(response)"
   ]
  },
  {
   "cell_type": "code",
   "execution_count": null,
   "metadata": {},
   "outputs": [],
   "source": [
    "with open('data/county_geojson.json','w') as fout:\n",
    "    json.dump(county_geojson,fout)"
   ]
  },
  {
   "cell_type": "code",
   "execution_count": null,
   "metadata": {},
   "outputs": [],
   "source": [
    "with open('data/county_geojson.json','r') as fout:\n",
    "    county_geojson = json.load(fout)"
   ]
  },
  {
   "cell_type": "markdown",
   "metadata": {},
   "source": [
    "### County Data\n",
    "This is where we import data from [New York Times GitHub page](https://github.com/nytimes/covid-19-data) to get county level coronavirus data.\n",
    "\n"
   ]
  },
  {
   "cell_type": "markdown",
   "metadata": {},
   "source": [
    "### Using data_processing"
   ]
  },
  {
   "cell_type": "code",
   "execution_count": null,
   "metadata": {},
   "outputs": [],
   "source": [
    "COVID_COUNTIES_DF = data_processing.get_covid_county_data()"
   ]
  },
  {
   "cell_type": "code",
   "execution_count": null,
   "metadata": {},
   "outputs": [],
   "source": [
    "date_dict = data_processing.generate_slider_dates(COVID_COUNTIES_DF)"
   ]
  },
  {
   "cell_type": "code",
   "execution_count": null,
   "metadata": {},
   "outputs": [],
   "source": [
    "time.strftime('%Y-%m-%d',time.localtime(max(date_dict)))"
   ]
  },
  {
   "cell_type": "code",
   "execution_count": null,
   "metadata": {},
   "outputs": [],
   "source": [
    "COVID_COUNTIES_DF['date'].max()"
   ]
  },
  {
   "cell_type": "code",
   "execution_count": null,
   "metadata": {},
   "outputs": [],
   "source": [
    "df.head()"
   ]
  },
  {
   "cell_type": "code",
   "execution_count": null,
   "metadata": {},
   "outputs": [],
   "source": [
    "df.shape"
   ]
  },
  {
   "cell_type": "code",
   "execution_count": null,
   "metadata": {},
   "outputs": [],
   "source": [
    "df.info()"
   ]
  },
  {
   "cell_type": "markdown",
   "metadata": {},
   "source": [
    "### Get State Data"
   ]
  },
  {
   "cell_type": "code",
   "execution_count": 8,
   "metadata": {},
   "outputs": [
    {
     "name": "stdout",
     "output_type": "stream",
     "text": [
      "Pulling state data from file.\n"
     ]
    }
   ],
   "source": [
    "COVID_STATES_DF = data_processing.get_covid_state_data()"
   ]
  },
  {
   "cell_type": "code",
   "execution_count": 45,
   "metadata": {},
   "outputs": [],
   "source": [
    "STATE_MASK = (COVID_STATES_DF['state'] == 'CO')\n",
    "DATE_MASK = ((COVID_STATES_DF['date'] >= '2020-05-10') & (COVID_STATES_DF['date'] <= '2020-05-20'))\n",
    "NEGATIVE_DEATH = (COVID_STATES_DF['deathIncrease']<0)"
   ]
  },
  {
   "cell_type": "code",
   "execution_count": 44,
   "metadata": {},
   "outputs": [
    {
     "data": {
      "text/html": [
       "<div>\n",
       "<style scoped>\n",
       "    .dataframe tbody tr th:only-of-type {\n",
       "        vertical-align: middle;\n",
       "    }\n",
       "\n",
       "    .dataframe tbody tr th {\n",
       "        vertical-align: top;\n",
       "    }\n",
       "\n",
       "    .dataframe thead th {\n",
       "        text-align: right;\n",
       "    }\n",
       "</style>\n",
       "<table border=\"1\" class=\"dataframe\">\n",
       "  <thead>\n",
       "    <tr style=\"text-align: right;\">\n",
       "      <th></th>\n",
       "      <th>date</th>\n",
       "      <th>death</th>\n",
       "      <th>state</th>\n",
       "      <th>deathIncrease</th>\n",
       "    </tr>\n",
       "  </thead>\n",
       "  <tbody>\n",
       "    <tr>\n",
       "      <th>5606</th>\n",
       "      <td>2020-05-20</td>\n",
       "      <td>968.0</td>\n",
       "      <td>CO</td>\n",
       "      <td>47</td>\n",
       "    </tr>\n",
       "    <tr>\n",
       "      <th>5662</th>\n",
       "      <td>2020-05-19</td>\n",
       "      <td>921.0</td>\n",
       "      <td>CO</td>\n",
       "      <td>43</td>\n",
       "    </tr>\n",
       "    <tr>\n",
       "      <th>5718</th>\n",
       "      <td>2020-05-18</td>\n",
       "      <td>878.0</td>\n",
       "      <td>CO</td>\n",
       "      <td>0</td>\n",
       "    </tr>\n",
       "    <tr>\n",
       "      <th>5774</th>\n",
       "      <td>2020-05-17</td>\n",
       "      <td>878.0</td>\n",
       "      <td>CO</td>\n",
       "      <td>0</td>\n",
       "    </tr>\n",
       "    <tr>\n",
       "      <th>5830</th>\n",
       "      <td>2020-05-16</td>\n",
       "      <td>878.0</td>\n",
       "      <td>CO</td>\n",
       "      <td>-213</td>\n",
       "    </tr>\n",
       "    <tr>\n",
       "      <th>5886</th>\n",
       "      <td>2020-05-15</td>\n",
       "      <td>1091.0</td>\n",
       "      <td>CO</td>\n",
       "      <td>29</td>\n",
       "    </tr>\n",
       "    <tr>\n",
       "      <th>5942</th>\n",
       "      <td>2020-05-14</td>\n",
       "      <td>1062.0</td>\n",
       "      <td>CO</td>\n",
       "      <td>53</td>\n",
       "    </tr>\n",
       "    <tr>\n",
       "      <th>5998</th>\n",
       "      <td>2020-05-13</td>\n",
       "      <td>1009.0</td>\n",
       "      <td>CO</td>\n",
       "      <td>22</td>\n",
       "    </tr>\n",
       "    <tr>\n",
       "      <th>6054</th>\n",
       "      <td>2020-05-12</td>\n",
       "      <td>987.0</td>\n",
       "      <td>CO</td>\n",
       "      <td>6</td>\n",
       "    </tr>\n",
       "    <tr>\n",
       "      <th>6110</th>\n",
       "      <td>2020-05-11</td>\n",
       "      <td>981.0</td>\n",
       "      <td>CO</td>\n",
       "      <td>14</td>\n",
       "    </tr>\n",
       "    <tr>\n",
       "      <th>6166</th>\n",
       "      <td>2020-05-10</td>\n",
       "      <td>967.0</td>\n",
       "      <td>CO</td>\n",
       "      <td>7</td>\n",
       "    </tr>\n",
       "  </tbody>\n",
       "</table>\n",
       "</div>"
      ],
      "text/plain": [
       "            date   death state  deathIncrease\n",
       "5606  2020-05-20   968.0    CO             47\n",
       "5662  2020-05-19   921.0    CO             43\n",
       "5718  2020-05-18   878.0    CO              0\n",
       "5774  2020-05-17   878.0    CO              0\n",
       "5830  2020-05-16   878.0    CO           -213\n",
       "5886  2020-05-15  1091.0    CO             29\n",
       "5942  2020-05-14  1062.0    CO             53\n",
       "5998  2020-05-13  1009.0    CO             22\n",
       "6054  2020-05-12   987.0    CO              6\n",
       "6110  2020-05-11   981.0    CO             14\n",
       "6166  2020-05-10   967.0    CO              7"
      ]
     },
     "execution_count": 44,
     "metadata": {},
     "output_type": "execute_result"
    }
   ],
   "source": [
    "COVID_STATES_DF[STATE_MASK & DATE_MASK][['date','death','state','deathIncrease']].head(15)"
   ]
  },
  {
   "cell_type": "code",
   "execution_count": 47,
   "metadata": {},
   "outputs": [
    {
     "data": {
      "text/html": [
       "<div>\n",
       "<style scoped>\n",
       "    .dataframe tbody tr th:only-of-type {\n",
       "        vertical-align: middle;\n",
       "    }\n",
       "\n",
       "    .dataframe tbody tr th {\n",
       "        vertical-align: top;\n",
       "    }\n",
       "\n",
       "    .dataframe thead th {\n",
       "        text-align: right;\n",
       "    }\n",
       "</style>\n",
       "<table border=\"1\" class=\"dataframe\">\n",
       "  <thead>\n",
       "    <tr style=\"text-align: right;\">\n",
       "      <th></th>\n",
       "      <th>date</th>\n",
       "      <th>death</th>\n",
       "      <th>state</th>\n",
       "      <th>deathIncrease</th>\n",
       "    </tr>\n",
       "  </thead>\n",
       "  <tbody>\n",
       "    <tr>\n",
       "      <th>177</th>\n",
       "      <td>2020-08-25</td>\n",
       "      <td>603.0</td>\n",
       "      <td>DE</td>\n",
       "      <td>-1</td>\n",
       "    </tr>\n",
       "    <tr>\n",
       "      <th>674</th>\n",
       "      <td>2020-08-16</td>\n",
       "      <td>599.0</td>\n",
       "      <td>AR</td>\n",
       "      <td>-1</td>\n",
       "    </tr>\n",
       "    <tr>\n",
       "      <th>1088</th>\n",
       "      <td>2020-08-09</td>\n",
       "      <td>6519.0</td>\n",
       "      <td>MI</td>\n",
       "      <td>-1</td>\n",
       "    </tr>\n",
       "    <tr>\n",
       "      <th>1144</th>\n",
       "      <td>2020-08-08</td>\n",
       "      <td>6520.0</td>\n",
       "      <td>MI</td>\n",
       "      <td>-4</td>\n",
       "    </tr>\n",
       "    <tr>\n",
       "      <th>1367</th>\n",
       "      <td>2020-08-04</td>\n",
       "      <td>123.0</td>\n",
       "      <td>ME</td>\n",
       "      <td>-1</td>\n",
       "    </tr>\n",
       "    <tr>\n",
       "      <th>1458</th>\n",
       "      <td>2020-08-02</td>\n",
       "      <td>458.0</td>\n",
       "      <td>AR</td>\n",
       "      <td>-2</td>\n",
       "    </tr>\n",
       "    <tr>\n",
       "      <th>1796</th>\n",
       "      <td>2020-07-27</td>\n",
       "      <td>3304.0</td>\n",
       "      <td>AZ</td>\n",
       "      <td>-1</td>\n",
       "    </tr>\n",
       "    <tr>\n",
       "      <th>1900</th>\n",
       "      <td>2020-07-26</td>\n",
       "      <td>1494.0</td>\n",
       "      <td>WA</td>\n",
       "      <td>-1</td>\n",
       "    </tr>\n",
       "    <tr>\n",
       "      <th>1986</th>\n",
       "      <td>2020-07-24</td>\n",
       "      <td>1178.0</td>\n",
       "      <td>MO</td>\n",
       "      <td>-1</td>\n",
       "    </tr>\n",
       "    <tr>\n",
       "      <th>2266</th>\n",
       "      <td>2020-07-19</td>\n",
       "      <td>1129.0</td>\n",
       "      <td>MO</td>\n",
       "      <td>-1</td>\n",
       "    </tr>\n",
       "    <tr>\n",
       "      <th>2496</th>\n",
       "      <td>2020-07-15</td>\n",
       "      <td>286.0</td>\n",
       "      <td>NE</td>\n",
       "      <td>-2</td>\n",
       "    </tr>\n",
       "    <tr>\n",
       "      <th>2572</th>\n",
       "      <td>2020-07-14</td>\n",
       "      <td>1399.0</td>\n",
       "      <td>WA</td>\n",
       "      <td>-39</td>\n",
       "    </tr>\n",
       "    <tr>\n",
       "      <th>2664</th>\n",
       "      <td>2020-07-12</td>\n",
       "      <td>285.0</td>\n",
       "      <td>NE</td>\n",
       "      <td>-1</td>\n",
       "    </tr>\n",
       "    <tr>\n",
       "      <th>2685</th>\n",
       "      <td>2020-07-12</td>\n",
       "      <td>827.0</td>\n",
       "      <td>WI</td>\n",
       "      <td>-1</td>\n",
       "    </tr>\n",
       "    <tr>\n",
       "      <th>2887</th>\n",
       "      <td>2020-07-08</td>\n",
       "      <td>78.0</td>\n",
       "      <td>ND</td>\n",
       "      <td>-3</td>\n",
       "    </tr>\n",
       "    <tr>\n",
       "      <th>2888</th>\n",
       "      <td>2020-07-08</td>\n",
       "      <td>282.0</td>\n",
       "      <td>NE</td>\n",
       "      <td>-1</td>\n",
       "    </tr>\n",
       "    <tr>\n",
       "      <th>2944</th>\n",
       "      <td>2020-07-07</td>\n",
       "      <td>283.0</td>\n",
       "      <td>NE</td>\n",
       "      <td>-1</td>\n",
       "    </tr>\n",
       "    <tr>\n",
       "      <th>3325</th>\n",
       "      <td>2020-06-30</td>\n",
       "      <td>8054.0</td>\n",
       "      <td>MA</td>\n",
       "      <td>-41</td>\n",
       "    </tr>\n",
       "    <tr>\n",
       "      <th>4028</th>\n",
       "      <td>2020-06-18</td>\n",
       "      <td>1226.0</td>\n",
       "      <td>WA</td>\n",
       "      <td>-5</td>\n",
       "    </tr>\n",
       "    <tr>\n",
       "      <th>4589</th>\n",
       "      <td>2020-06-08</td>\n",
       "      <td>646.0</td>\n",
       "      <td>WI</td>\n",
       "      <td>-1</td>\n",
       "    </tr>\n",
       "    <tr>\n",
       "      <th>4736</th>\n",
       "      <td>2020-06-05</td>\n",
       "      <td>186.0</td>\n",
       "      <td>NE</td>\n",
       "      <td>-1</td>\n",
       "    </tr>\n",
       "    <tr>\n",
       "      <th>5830</th>\n",
       "      <td>2020-05-16</td>\n",
       "      <td>878.0</td>\n",
       "      <td>CO</td>\n",
       "      <td>-213</td>\n",
       "    </tr>\n",
       "    <tr>\n",
       "      <th>6007</th>\n",
       "      <td>2020-05-13</td>\n",
       "      <td>69.0</td>\n",
       "      <td>ID</td>\n",
       "      <td>-1</td>\n",
       "    </tr>\n",
       "    <tr>\n",
       "      <th>6222</th>\n",
       "      <td>2020-05-09</td>\n",
       "      <td>960.0</td>\n",
       "      <td>CO</td>\n",
       "      <td>-1</td>\n",
       "    </tr>\n",
       "    <tr>\n",
       "      <th>6374</th>\n",
       "      <td>2020-05-07</td>\n",
       "      <td>237.0</td>\n",
       "      <td>TN</td>\n",
       "      <td>-2</td>\n",
       "    </tr>\n",
       "    <tr>\n",
       "      <th>6527</th>\n",
       "      <td>2020-05-04</td>\n",
       "      <td>15.0</td>\n",
       "      <td>ND</td>\n",
       "      <td>-1</td>\n",
       "    </tr>\n",
       "    <tr>\n",
       "      <th>6583</th>\n",
       "      <td>2020-05-03</td>\n",
       "      <td>16.0</td>\n",
       "      <td>ND</td>\n",
       "      <td>-8</td>\n",
       "    </tr>\n",
       "    <tr>\n",
       "      <th>6864</th>\n",
       "      <td>2020-04-28</td>\n",
       "      <td>55.0</td>\n",
       "      <td>NE</td>\n",
       "      <td>-1</td>\n",
       "    </tr>\n",
       "    <tr>\n",
       "      <th>6950</th>\n",
       "      <td>2020-04-26</td>\n",
       "      <td>672.0</td>\n",
       "      <td>CO</td>\n",
       "      <td>-2</td>\n",
       "    </tr>\n",
       "    <tr>\n",
       "      <th>7074</th>\n",
       "      <td>2020-04-24</td>\n",
       "      <td>111.0</td>\n",
       "      <td>KS</td>\n",
       "      <td>-1</td>\n",
       "    </tr>\n",
       "    <tr>\n",
       "      <th>7099</th>\n",
       "      <td>2020-04-24</td>\n",
       "      <td>202.0</td>\n",
       "      <td>RI</td>\n",
       "      <td>-11</td>\n",
       "    </tr>\n",
       "    <tr>\n",
       "      <th>7102</th>\n",
       "      <td>2020-04-24</td>\n",
       "      <td>168.0</td>\n",
       "      <td>TN</td>\n",
       "      <td>-2</td>\n",
       "    </tr>\n",
       "    <tr>\n",
       "      <th>7153</th>\n",
       "      <td>2020-04-23</td>\n",
       "      <td>1421.0</td>\n",
       "      <td>PA</td>\n",
       "      <td>-201</td>\n",
       "    </tr>\n",
       "    <tr>\n",
       "      <th>7170</th>\n",
       "      <td>2020-04-22</td>\n",
       "      <td>42.0</td>\n",
       "      <td>AR</td>\n",
       "      <td>-1</td>\n",
       "    </tr>\n",
       "    <tr>\n",
       "      <th>8016</th>\n",
       "      <td>2020-04-07</td>\n",
       "      <td>22.0</td>\n",
       "      <td>DC</td>\n",
       "      <td>-2</td>\n",
       "    </tr>\n",
       "    <tr>\n",
       "      <th>8169</th>\n",
       "      <td>2020-04-05</td>\n",
       "      <td>51.0</td>\n",
       "      <td>VA</td>\n",
       "      <td>-1</td>\n",
       "    </tr>\n",
       "    <tr>\n",
       "      <th>9206</th>\n",
       "      <td>2020-03-17</td>\n",
       "      <td>NaN</td>\n",
       "      <td>MD</td>\n",
       "      <td>-2</td>\n",
       "    </tr>\n",
       "  </tbody>\n",
       "</table>\n",
       "</div>"
      ],
      "text/plain": [
       "            date   death state  deathIncrease\n",
       "177   2020-08-25   603.0    DE             -1\n",
       "674   2020-08-16   599.0    AR             -1\n",
       "1088  2020-08-09  6519.0    MI             -1\n",
       "1144  2020-08-08  6520.0    MI             -4\n",
       "1367  2020-08-04   123.0    ME             -1\n",
       "1458  2020-08-02   458.0    AR             -2\n",
       "1796  2020-07-27  3304.0    AZ             -1\n",
       "1900  2020-07-26  1494.0    WA             -1\n",
       "1986  2020-07-24  1178.0    MO             -1\n",
       "2266  2020-07-19  1129.0    MO             -1\n",
       "2496  2020-07-15   286.0    NE             -2\n",
       "2572  2020-07-14  1399.0    WA            -39\n",
       "2664  2020-07-12   285.0    NE             -1\n",
       "2685  2020-07-12   827.0    WI             -1\n",
       "2887  2020-07-08    78.0    ND             -3\n",
       "2888  2020-07-08   282.0    NE             -1\n",
       "2944  2020-07-07   283.0    NE             -1\n",
       "3325  2020-06-30  8054.0    MA            -41\n",
       "4028  2020-06-18  1226.0    WA             -5\n",
       "4589  2020-06-08   646.0    WI             -1\n",
       "4736  2020-06-05   186.0    NE             -1\n",
       "5830  2020-05-16   878.0    CO           -213\n",
       "6007  2020-05-13    69.0    ID             -1\n",
       "6222  2020-05-09   960.0    CO             -1\n",
       "6374  2020-05-07   237.0    TN             -2\n",
       "6527  2020-05-04    15.0    ND             -1\n",
       "6583  2020-05-03    16.0    ND             -8\n",
       "6864  2020-04-28    55.0    NE             -1\n",
       "6950  2020-04-26   672.0    CO             -2\n",
       "7074  2020-04-24   111.0    KS             -1\n",
       "7099  2020-04-24   202.0    RI            -11\n",
       "7102  2020-04-24   168.0    TN             -2\n",
       "7153  2020-04-23  1421.0    PA           -201\n",
       "7170  2020-04-22    42.0    AR             -1\n",
       "8016  2020-04-07    22.0    DC             -2\n",
       "8169  2020-04-05    51.0    VA             -1\n",
       "9206  2020-03-17     NaN    MD             -2"
      ]
     },
     "execution_count": 47,
     "metadata": {},
     "output_type": "execute_result"
    }
   ],
   "source": [
    "COVID_STATES_DF[NEGATIVE_DEATH][['date','death','state','deathIncrease']].head(200)"
   ]
  },
  {
   "cell_type": "code",
   "execution_count": 25,
   "metadata": {},
   "outputs": [
    {
     "data": {
      "text/html": [
       "<div>\n",
       "<style scoped>\n",
       "    .dataframe tbody tr th:only-of-type {\n",
       "        vertical-align: middle;\n",
       "    }\n",
       "\n",
       "    .dataframe tbody tr th {\n",
       "        vertical-align: top;\n",
       "    }\n",
       "\n",
       "    .dataframe thead th {\n",
       "        text-align: right;\n",
       "    }\n",
       "</style>\n",
       "<table border=\"1\" class=\"dataframe\">\n",
       "  <thead>\n",
       "    <tr style=\"text-align: right;\">\n",
       "      <th></th>\n",
       "      <th>date</th>\n",
       "      <th>death</th>\n",
       "      <th>deathIncrease</th>\n",
       "    </tr>\n",
       "  </thead>\n",
       "  <tbody>\n",
       "  </tbody>\n",
       "</table>\n",
       "</div>"
      ],
      "text/plain": [
       "Empty DataFrame\n",
       "Columns: [date, death, deathIncrease]\n",
       "Index: []"
      ]
     },
     "execution_count": 25,
     "metadata": {},
     "output_type": "execute_result"
    }
   ],
   "source": [
    "COVID_STATES_DF[STATE_MASK & NEGATIVE_DEATH][['date','death','deathIncrease']].sort_values(by='date',ascending = True).head(20)"
   ]
  },
  {
   "cell_type": "code",
   "execution_count": null,
   "metadata": {},
   "outputs": [],
   "source": [
    "COVID_STATES_DF.columns"
   ]
  },
  {
   "cell_type": "code",
   "execution_count": null,
   "metadata": {},
   "outputs": [],
   "source": [
    "plotting.choropleth_state_deaths_density(COVID_STATES_DF,'death', '2020-08-26')"
   ]
  },
  {
   "cell_type": "code",
   "execution_count": null,
   "metadata": {},
   "outputs": [],
   "source": [
    "COVID_STATES_DF.head()"
   ]
  },
  {
   "cell_type": "code",
   "execution_count": null,
   "metadata": {},
   "outputs": [],
   "source": [
    "COVID_STATES_DF.head()"
   ]
  },
  {
   "cell_type": "code",
   "execution_count": null,
   "metadata": {},
   "outputs": [],
   "source": [
    "state_stats.head()"
   ]
  },
  {
   "cell_type": "code",
   "execution_count": null,
   "metadata": {},
   "outputs": [],
   "source": [
    "# Import the unemployment data because it has the fips codes\n",
    "df = pd.read_csv(\"https://raw.githubusercontent.com/plotly/datasets/master/fips-unemp-16.csv\",\n",
    "                   dtype={\"fips\": str})\n",
    "df['prefix'] = [x[:2] for x in df['fips']]"
   ]
  },
  {
   "cell_type": "code",
   "execution_count": null,
   "metadata": {},
   "outputs": [],
   "source": [
    "df.head()"
   ]
  },
  {
   "cell_type": "code",
   "execution_count": null,
   "metadata": {},
   "outputs": [],
   "source": [
    "USA-states"
   ]
  },
  {
   "cell_type": "code",
   "execution_count": null,
   "metadata": {},
   "outputs": [],
   "source": [
    "\n",
    "deaths = states_df.reset_index()\n",
    "################################################################################\n",
    "# Read in states data\n",
    "states = pd.read_csv('./data/tbl_states.csv')\n",
    "\n",
    "# Fix fips code to be a string, prefix 0 to single digit codes\n",
    "states['fips'] = states['fips'].astype(str).apply(lambda x: '0' + x if len(x) == 1 else x)"
   ]
  },
  {
   "cell_type": "code",
   "execution_count": null,
   "metadata": {},
   "outputs": [],
   "source": [
    "df.head()"
   ]
  },
  {
   "cell_type": "code",
   "execution_count": null,
   "metadata": {},
   "outputs": [],
   "source": [
    "states.head()"
   ]
  },
  {
   "cell_type": "code",
   "execution_count": null,
   "metadata": {},
   "outputs": [],
   "source": [
    "merged = pd.merge(df, states, left_on='prefix', right_on='fips', how='outer')"
   ]
  },
  {
   "cell_type": "code",
   "execution_count": null,
   "metadata": {},
   "outputs": [],
   "source": [
    "merged.head()"
   ]
  },
  {
   "cell_type": "code",
   "execution_count": null,
   "metadata": {},
   "outputs": [],
   "source": [
    "states_df.columns"
   ]
  },
  {
   "cell_type": "code",
   "execution_count": null,
   "metadata": {},
   "outputs": [],
   "source": []
  },
  {
   "cell_type": "code",
   "execution_count": null,
   "metadata": {},
   "outputs": [],
   "source": [
    "a = states_df[['state','death','deathIncrease','positive','fips']]"
   ]
  },
  {
   "cell_type": "code",
   "execution_count": null,
   "metadata": {},
   "outputs": [],
   "source": []
  },
  {
   "cell_type": "code",
   "execution_count": null,
   "metadata": {},
   "outputs": [],
   "source": [
    "\n",
    "merged = pd.merge(df, states, left_on='prefix', right_on='fips', how='outer')\n",
    "    # Rename convention\n",
    "merged.rename(columns={'fips_x': 'fips_co', 'fips_y':'fips_st'}, inplace=True)\n",
    "\n",
    "max_date = max(deaths['date'])\n",
    "deaths = deaths[deaths['date'] == max_date]\n",
    "\n",
    "final = pd.merge(merged, deaths, how='outer')\n",
    "final = final.drop(columns=['prefix'])\n",
    "\n",
    "# Create a log scale of lived in density\n",
    "final['logd'] = np.log(final['Lived'])\n",
    "\n",
    "# create a column for death_per_m\n",
    "x = final['death']*1000000 / final['Pop']\n",
    "final['death_per_m'] = x.copy()\n",
    "\n",
    "final['log_std_density'] = np.log(final['Standard'])"
   ]
  },
  {
   "cell_type": "code",
   "execution_count": null,
   "metadata": {},
   "outputs": [],
   "source": [
    "states_df.columns"
   ]
  },
  {
   "cell_type": "code",
   "execution_count": null,
   "metadata": {},
   "outputs": [],
   "source": [
    "final.columns"
   ]
  },
  {
   "cell_type": "code",
   "execution_count": null,
   "metadata": {},
   "outputs": [],
   "source": [
    "final.columns"
   ]
  },
  {
   "cell_type": "code",
   "execution_count": null,
   "metadata": {},
   "outputs": [],
   "source": [
    "final.head()"
   ]
  },
  {
   "cell_type": "markdown",
   "metadata": {},
   "source": [
    "### Get Dates for Date Slider"
   ]
  },
  {
   "cell_type": "code",
   "execution_count": null,
   "metadata": {},
   "outputs": [],
   "source": [
    "# Get today's datea\n",
    "date = time.strftime('%Y-%m-%d')\n",
    "# Set New York for state mask\n",
    "state = 'New York'\n",
    "\n",
    "# Only look at New York Dates\n",
    "state_mask = (df['state'] == state)\n",
    "\n",
    "# create today's date mask\n",
    "date_mask = (df['date'] == date)\n",
    "\n",
    "# Get min date from df\n",
    "min_date = int(time.mktime(df['date'].min().timetuple()))\n",
    "\n",
    "# Hardcode a start date\n",
    "start_date = '2020-03-01'\n",
    "start_date_int = int(time.mktime(datetime.datetime.strptime(start_date, '%Y-%m-%d').timetuple()))\n",
    "\n",
    "# Get max date from df\n",
    "max_date_int = int(time.mktime(df['date'].max().timetuple()))\n",
    "\n",
    "# Create a list of dates from max to min, going back 2 weeks each time\n",
    "date_list = range(max_date_int, start_date_int, -(14*24*60*60))\n",
    "date_dict = {day:time.strftime('%Y-%m-%d',time.localtime(day))  for day in date_list}"
   ]
  },
  {
   "cell_type": "markdown",
   "metadata": {},
   "source": [
    "### Using data_processing"
   ]
  },
  {
   "cell_type": "code",
   "execution_count": null,
   "metadata": {},
   "outputs": [],
   "source": [
    "date_dict = data_processing.generate_slider_dates(df)"
   ]
  },
  {
   "cell_type": "code",
   "execution_count": null,
   "metadata": {},
   "outputs": [],
   "source": [
    "date_dict"
   ]
  },
  {
   "cell_type": "code",
   "execution_count": null,
   "metadata": {},
   "outputs": [],
   "source": [
    "# Get today's date\n",
    "time.strftime('%Y-%m-%d', time.localtime())"
   ]
  },
  {
   "cell_type": "code",
   "execution_count": null,
   "metadata": {},
   "outputs": [],
   "source": [
    "time.strftime('%Y-%m-%d')"
   ]
  },
  {
   "cell_type": "markdown",
   "metadata": {},
   "source": [
    "# Dash Components"
   ]
  },
  {
   "cell_type": "code",
   "execution_count": null,
   "metadata": {},
   "outputs": [],
   "source": [
    "date = '2020-08-26'\n",
    "date_mask = (df['date'] == date)"
   ]
  },
  {
   "cell_type": "code",
   "execution_count": null,
   "metadata": {},
   "outputs": [],
   "source": [
    "a = round(df[date_mask]['cases'].mean(),-1)"
   ]
  },
  {
   "cell_type": "code",
   "execution_count": null,
   "metadata": {},
   "outputs": [],
   "source": [
    "round(a.mean(),-1)"
   ]
  },
  {
   "cell_type": "code",
   "execution_count": null,
   "metadata": {},
   "outputs": [],
   "source": [
    "AB = pd.DataFrame(df.to_dict())"
   ]
  },
  {
   "cell_type": "code",
   "execution_count": null,
   "metadata": {},
   "outputs": [],
   "source": [
    "AB"
   ]
  },
  {
   "cell_type": "code",
   "execution_count": null,
   "metadata": {},
   "outputs": [],
   "source": [
    "dcc.Store(id='store', data = df)"
   ]
  },
  {
   "cell_type": "markdown",
   "metadata": {},
   "source": [
    "# Plotly"
   ]
  },
  {
   "cell_type": "code",
   "execution_count": null,
   "metadata": {},
   "outputs": [],
   "source": [
    "import plotly.graph_objects as go"
   ]
  },
  {
   "cell_type": "code",
   "execution_count": null,
   "metadata": {},
   "outputs": [],
   "source": [
    "go.Figure()"
   ]
  },
  {
   "cell_type": "code",
   "execution_count": null,
   "metadata": {},
   "outputs": [],
   "source": [
    "go.Choropleth()"
   ]
  },
  {
   "cell_type": "code",
   "execution_count": null,
   "metadata": {},
   "outputs": [],
   "source": [
    "STATE_MASK = (COVID_STATES_DF['state'] == 'NY')\n",
    "DATE_MASK = (COVID_STATES_DF['date']<='2020-04-26')"
   ]
  },
  {
   "cell_type": "code",
   "execution_count": null,
   "metadata": {},
   "outputs": [],
   "source": [
    "COVID_STATES_DF[STATE_MASK & DATE_MASK].sort_values('date')['death'].diff()"
   ]
  },
  {
   "cell_type": "code",
   "execution_count": null,
   "metadata": {},
   "outputs": [],
   "source": []
  },
  {
   "cell_type": "code",
   "execution_count": null,
   "metadata": {},
   "outputs": [],
   "source": [
    "COVID_STATES_DF[['date','death','deathIncrease']][STATE_MASK & DATE_MASK]"
   ]
  },
  {
   "cell_type": "code",
   "execution_count": null,
   "metadata": {},
   "outputs": [],
   "source": [
    "def scatter_deaths_states(covid_state_df,state):\n",
    "    \n",
    "    state_mask = (covid_state_df['state'] == state)\n",
    "    covid_state_df[state_mask]\n",
    "\n",
    "    fig = go.Figure()\n",
    "    fig = make_subplots(specs=[[{\"secondary_y\":True}]])\n",
    "    fig.update_layout(height=500,title_text=\"Daily and Total Deaths\")\n",
    "    fig.add_trace(go.Bar(x=covid_state_df[state_mask]['date'],\n",
    "            y=covid_state_df[state_mask]['deathIncrease'], name=\"deathIncrease\"), secondary_y=False,\n",
    "        )\n",
    "    fig.add_trace(\n",
    "            go.Scatter(x=covid_state_df[state_mask]['date'],\n",
    "                y=covid_state_df[state_mask]['death'], \n",
    "                name=\"Total\"\n",
    "            ),secondary_y=True\n",
    "        )\n",
    "    fig.update_yaxes(title_text=\"<b>Daily</b> Deaths\", secondary_y=False)\n",
    "    fig.update_yaxes(title_text=\"<b>Total</b> Deaths to Date\", secondary_y=True)\n",
    "\n",
    "    return fig"
   ]
  },
  {
   "cell_type": "code",
   "execution_count": null,
   "metadata": {},
   "outputs": [],
   "source": [
    "a = tuple(('today','tomorrow'))"
   ]
  },
  {
   "cell_type": "code",
   "execution_count": null,
   "metadata": {},
   "outputs": [],
   "source": [
    "type(a)"
   ]
  },
  {
   "cell_type": "code",
   "execution_count": null,
   "metadata": {},
   "outputs": [],
   "source": [
    "b, c = a"
   ]
  },
  {
   "cell_type": "code",
   "execution_count": null,
   "metadata": {},
   "outputs": [],
   "source": [
    "COVID_STATES_DF.columns"
   ]
  },
  {
   "cell_type": "code",
   "execution_count": null,
   "metadata": {},
   "outputs": [],
   "source": [
    "COVID_STATES_DF['deathIncrease'].min()"
   ]
  },
  {
   "cell_type": "code",
   "execution_count": null,
   "metadata": {},
   "outputs": [],
   "source": [
    "scatter_deaths_states(COVID_STATES_DF, 'CA')"
   ]
  },
  {
   "cell_type": "markdown",
   "metadata": {},
   "source": [
    "# Animation frames"
   ]
  },
  {
   "cell_type": "code",
   "execution_count": null,
   "metadata": {},
   "outputs": [],
   "source": [
    "COVID_STATES_DF"
   ]
  },
  {
   "cell_type": "code",
   "execution_count": null,
   "metadata": {},
   "outputs": [],
   "source": [
    "import datetime"
   ]
  },
  {
   "cell_type": "code",
   "execution_count": null,
   "metadata": {},
   "outputs": [],
   "source": []
  },
  {
   "cell_type": "code",
   "execution_count": null,
   "metadata": {},
   "outputs": [],
   "source": [
    "range()"
   ]
  },
  {
   "cell_type": "code",
   "execution_count": null,
   "metadata": {},
   "outputs": [],
   "source": [
    "COVID_STATES_DF = data_processing.get_covid_state_data()"
   ]
  },
  {
   "cell_type": "code",
   "execution_count": null,
   "metadata": {},
   "outputs": [],
   "source": [
    "type(COVID_STATES_DF['date'][0])"
   ]
  },
  {
   "cell_type": "code",
   "execution_count": null,
   "metadata": {},
   "outputs": [],
   "source": [
    "type(COVID_COUNTIES_DF['date'][0])"
   ]
  },
  {
   "cell_type": "code",
   "execution_count": null,
   "metadata": {},
   "outputs": [],
   "source": [
    "a = COVID_STATES_DF['date'][0]"
   ]
  },
  {
   "cell_type": "code",
   "execution_count": null,
   "metadata": {},
   "outputs": [],
   "source": [
    "a.strftime(format=\"%Y-%m-%d\")"
   ]
  },
  {
   "cell_type": "code",
   "execution_count": null,
   "metadata": {},
   "outputs": [],
   "source": [
    "animation_dates = COVID_STATES_DF[STATE_MASK]['date'].map(lambda x:x.strftime(format=\"%Y-%m-%d\"))\n",
    "animation_dates.sort_values(inplace=True)\n",
    "animation_date_dict = {'date':list(animation_dates)}"
   ]
  },
  {
   "cell_type": "code",
   "execution_count": null,
   "metadata": {},
   "outputs": [],
   "source": [
    "category_orders = {'date':list(COVID_STATES_DF[STATE_MASK]['date'].sort_values())}"
   ]
  },
  {
   "cell_type": "code",
   "execution_count": null,
   "metadata": {},
   "outputs": [],
   "source": [
    "category_orders"
   ]
  },
  {
   "cell_type": "code",
   "execution_count": null,
   "metadata": {},
   "outputs": [],
   "source": [
    "animation_dates = generate_animation_dates(COVID_STATES_DF)"
   ]
  },
  {
   "cell_type": "code",
   "execution_count": null,
   "metadata": {},
   "outputs": [],
   "source": [
    "COVID_STATES_DF['date'].max()"
   ]
  },
  {
   "cell_type": "code",
   "execution_count": null,
   "metadata": {},
   "outputs": [],
   "source": [
    "start_date = '2020-03-01'\n",
    "max_date = COVID_STATES_DF['date'].max()"
   ]
  },
  {
   "cell_type": "code",
   "execution_count": null,
   "metadata": {},
   "outputs": [],
   "source": [
    "range_index=pd.date_range(start=start_date, end=max_date, freq='W')\n",
    "index = range_index.map(lambda x:x.strftime('%Y-%m-%d'))\n",
    "animation_date_dict = {'date':list(index)}"
   ]
  },
  {
   "cell_type": "code",
   "execution_count": null,
   "metadata": {},
   "outputs": [],
   "source": [
    "animation_date_dict"
   ]
  },
  {
   "cell_type": "code",
   "execution_count": null,
   "metadata": {},
   "outputs": [],
   "source": [
    "pd.date_range(start=start_date,end=max_date)"
   ]
  },
  {
   "cell_type": "code",
   "execution_count": null,
   "metadata": {},
   "outputs": [],
   "source": [
    "a.map(lambda x:x.strftime('%Y-%m-%d'))"
   ]
  },
  {
   "cell_type": "code",
   "execution_count": null,
   "metadata": {},
   "outputs": [],
   "source": [
    "animation_date_dict"
   ]
  },
  {
   "cell_type": "code",
   "execution_count": null,
   "metadata": {},
   "outputs": [],
   "source": [
    "range(start_date, max_date,1)"
   ]
  },
  {
   "cell_type": "code",
   "execution_count": null,
   "metadata": {},
   "outputs": [],
   "source": [
    "\n",
    "def generate_animation_dates(df):\n",
    "    \n",
    "    # Hardcode a start date\n",
    "    start_date = '2020-03-01'\n",
    "    max_date = df['date'].max()\n",
    "    \n",
    "\n",
    "    # Create a list of dates from max to min, going back 2 weeks each time\n",
    "    date_list = range(max_date_int, start_date_int, -(14*24*60*60))\n",
    "    date_dict = {day:{'label':time.strftime('%Y-%m-%d',time.localtime(day)),'style':{'writing-mode': 'vertical-rl','text-orientation': 'sideways', 'height':'70px'}}  for day in date_list}\n",
    "    return date_dict"
   ]
  },
  {
   "cell_type": "code",
   "execution_count": null,
   "metadata": {},
   "outputs": [],
   "source": [
    "def plot_animation(df=COVID_STATES_DF, category='death'):\n",
    "    fig = px.choropleth(data_frame=df,\n",
    "                locations='state',\n",
    "                color='death',\n",
    "                locationmode='USA-states',\n",
    "                animation_frame='date',\n",
    "                category_orders=animation_date_dict)\n",
    "    \n",
    "    fig.update_geos(center = {\"lat\": 37.0902, \"lon\": -95.7129},\n",
    "                    scope = 'usa')\n",
    "    return fig"
   ]
  },
  {
   "cell_type": "code",
   "execution_count": null,
   "metadata": {},
   "outputs": [],
   "source": [
    "fig = plot_animation()"
   ]
  },
  {
   "cell_type": "code",
   "execution_count": null,
   "metadata": {},
   "outputs": [],
   "source": [
    "fig"
   ]
  },
  {
   "cell_type": "code",
   "execution_count": null,
   "metadata": {},
   "outputs": [],
   "source": [
    "fig = px.choropleth(data_frame = fires_by_year, \n",
    "                  locations = fires_by_year['STATE'],\n",
    "                  color = 'FIRE_COUNT',\n",
    "                  range_color = [0,9000],\n",
    "                  locationmode = 'USA-states',\n",
    "                  animation_frame = 'FIRE_YEAR')"
   ]
  },
  {
   "cell_type": "markdown",
   "metadata": {},
   "source": [
    "# Generate Aggregate Statistics\n",
    "\n",
    "Here we will generate national statistics for select dates"
   ]
  },
  {
   "cell_type": "code",
   "execution_count": null,
   "metadata": {},
   "outputs": [],
   "source": [
    "COVID_STATES_DF"
   ]
  },
  {
   "cell_type": "code",
   "execution_count": null,
   "metadata": {},
   "outputs": [],
   "source": [
    "date = '2020-08-26'\n",
    "date_mask = (COVID_STATES_DF['date'] == date)\n",
    "death = COVID_STATES_DF[date_mask]['death'].sum()\n",
    "positive = COVID_STATES_DF[date_mask]['positive'].sum()\n",
    "hospitalized_currently = COVID_STATES_DF[date_mask]['hospitalizedCurrently'].sum()"
   ]
  },
  {
   "cell_type": "code",
   "execution_count": null,
   "metadata": {},
   "outputs": [],
   "source": [
    "(death, positive, hospitalized_currently)"
   ]
  },
  {
   "cell_type": "code",
   "execution_count": null,
   "metadata": {},
   "outputs": [],
   "source": [
    "COVID_STATES_DF.groupby(by='date')['positive'].sum().index"
   ]
  },
  {
   "cell_type": "code",
   "execution_count": null,
   "metadata": {},
   "outputs": [],
   "source": [
    "go.Figure(go.Bar(x = COVID_STATES_DF.groupby(by='date')['death'].sum().index,\n",
    "    y = COVID_STATES_DF.groupby(by='date')['death'].sum()))\n"
   ]
  },
  {
   "cell_type": "code",
   "execution_count": null,
   "metadata": {},
   "outputs": [],
   "source": [
    "plotting.plot_national(COVID_STATES_DF, 'hospitalizedCurrently')"
   ]
  },
  {
   "cell_type": "code",
   "execution_count": null,
   "metadata": {},
   "outputs": [],
   "source": [
    "from plotly.subplots import make_subplots"
   ]
  },
  {
   "cell_type": "code",
   "execution_count": null,
   "metadata": {},
   "outputs": [],
   "source": [
    "fig = make_subplots(rows=3,cols=1)\n",
    "fig.append_trace(plotting.plot_national(COVID_STATES_DF, 'death'),row=1,col=1)\n",
    "fig.append_trace(plotting.plot_national(COVID_STATES_DF, 'positive'),row=2,col=1)\n",
    "fig.append_trace(plotting.plot_national(COVID_STATES_DF, 'hospitalizedCurrently'),row=3,col=1)\n",
    "fig.update_layout(height=600, width=600, title_text=\"Stacked Subplots\")\n",
    "fig.show()\n"
   ]
  },
  {
   "cell_type": "code",
   "execution_count": null,
   "metadata": {},
   "outputs": [],
   "source": [
    "px.bar(x = COVID_STATES_DF.groupby(by='date')['positiveIncrease'].sum().index,\n",
    "    y = COVID_STATES_DF.groupby(by='date')['positiveIncrease'].sum())"
   ]
  },
  {
   "cell_type": "code",
   "execution_count": null,
   "metadata": {},
   "outputs": [],
   "source": [
    "px.bar(x = COVID_STATES_DF.groupby(by='date')['deathIncrease'].sum().index,\n",
    "    y = COVID_STATES_DF.groupby(by='date')['deathIncrease'].sum())"
   ]
  },
  {
   "cell_type": "code",
   "execution_count": null,
   "metadata": {},
   "outputs": [],
   "source": [
    "def generate_aggregate_stats(covid_states_df,date):\n",
    "    date_mask = (covid_states_df['date'] == date)\n",
    "    death = covid_states_df[date_mask]['death'].sum()\n",
    "    positive = covid_states_df[date_mask]['positive'].sum()\n",
    "    hospitalized_currently = covid_states_df[date_mask]['hospitalizedCurrently'].sum()\n",
    "    return (death, positive, hospitalized_currently)"
   ]
  },
  {
   "cell_type": "code",
   "execution_count": null,
   "metadata": {},
   "outputs": [],
   "source": [
    "a = 200000"
   ]
  },
  {
   "cell_type": "code",
   "execution_count": null,
   "metadata": {},
   "outputs": [],
   "source": [
    "b = f\"{a:,d}\""
   ]
  },
  {
   "cell_type": "code",
   "execution_count": null,
   "metadata": {},
   "outputs": [],
   "source": [
    "b"
   ]
  },
  {
   "cell_type": "code",
   "execution_count": null,
   "metadata": {},
   "outputs": [],
   "source": [
    "data_processing.generate_state_aggregate_stat(COVID_STATES_DF,'2020-06-20','death')"
   ]
  },
  {
   "cell_type": "code",
   "execution_count": null,
   "metadata": {},
   "outputs": [],
   "source": [
    "html.H5()"
   ]
  },
  {
   "cell_type": "code",
   "execution_count": null,
   "metadata": {},
   "outputs": [],
   "source": []
  },
  {
   "cell_type": "code",
   "execution_count": null,
   "metadata": {},
   "outputs": [],
   "source": []
  },
  {
   "cell_type": "code",
   "execution_count": null,
   "metadata": {},
   "outputs": [],
   "source": []
  },
  {
   "cell_type": "code",
   "execution_count": null,
   "metadata": {},
   "outputs": [],
   "source": []
  },
  {
   "cell_type": "code",
   "execution_count": null,
   "metadata": {},
   "outputs": [],
   "source": [
    "filepath = 'data/co-est2019-alldata.csv'"
   ]
  },
  {
   "cell_type": "code",
   "execution_count": 13,
   "metadata": {},
   "outputs": [],
   "source": [
    "census_county = pd.read_csv(\"data/co-est2019-alldata.csv\",\n",
    "                            encoding = \"ISO-8859-1\")"
   ]
  },
  {
   "cell_type": "code",
   "execution_count": 16,
   "metadata": {},
   "outputs": [],
   "source": [
    "census_county2 = pd.read_csv(\"data/census_county_est2019.csv\")"
   ]
  },
  {
   "cell_type": "code",
   "execution_count": 22,
   "metadata": {},
   "outputs": [
    {
     "data": {
      "text/html": [
       "<div>\n",
       "<style scoped>\n",
       "    .dataframe tbody tr th:only-of-type {\n",
       "        vertical-align: middle;\n",
       "    }\n",
       "\n",
       "    .dataframe tbody tr th {\n",
       "        vertical-align: top;\n",
       "    }\n",
       "\n",
       "    .dataframe thead th {\n",
       "        text-align: right;\n",
       "    }\n",
       "</style>\n",
       "<table border=\"1\" class=\"dataframe\">\n",
       "  <thead>\n",
       "    <tr style=\"text-align: right;\">\n",
       "      <th></th>\n",
       "      <th>SUMLEV</th>\n",
       "      <th>REGION</th>\n",
       "      <th>DIVISION</th>\n",
       "      <th>STATE</th>\n",
       "      <th>COUNTY</th>\n",
       "      <th>STNAME</th>\n",
       "      <th>CTYNAME</th>\n",
       "      <th>CENSUS2010POP</th>\n",
       "      <th>ESTIMATESBASE2010</th>\n",
       "      <th>POPESTIMATE2010</th>\n",
       "      <th>...</th>\n",
       "      <th>RDOMESTICMIG2019</th>\n",
       "      <th>RNETMIG2011</th>\n",
       "      <th>RNETMIG2012</th>\n",
       "      <th>RNETMIG2013</th>\n",
       "      <th>RNETMIG2014</th>\n",
       "      <th>RNETMIG2015</th>\n",
       "      <th>RNETMIG2016</th>\n",
       "      <th>RNETMIG2017</th>\n",
       "      <th>RNETMIG2018</th>\n",
       "      <th>RNETMIG2019</th>\n",
       "    </tr>\n",
       "  </thead>\n",
       "  <tbody>\n",
       "    <tr>\n",
       "      <th>1860</th>\n",
       "      <td>40</td>\n",
       "      <td>1</td>\n",
       "      <td>2</td>\n",
       "      <td>36</td>\n",
       "      <td>0</td>\n",
       "      <td>New York</td>\n",
       "      <td>New York</td>\n",
       "      <td>19378102</td>\n",
       "      <td>19378144</td>\n",
       "      <td>19399878</td>\n",
       "      <td>...</td>\n",
       "      <td>-9.267874</td>\n",
       "      <td>0.310701</td>\n",
       "      <td>-0.963243</td>\n",
       "      <td>-1.791701</td>\n",
       "      <td>-3.130145</td>\n",
       "      <td>-4.174457</td>\n",
       "      <td>-5.379085</td>\n",
       "      <td>-6.127425</td>\n",
       "      <td>-6.406096</td>\n",
       "      <td>-6.920598</td>\n",
       "    </tr>\n",
       "    <tr>\n",
       "      <th>1861</th>\n",
       "      <td>50</td>\n",
       "      <td>1</td>\n",
       "      <td>2</td>\n",
       "      <td>36</td>\n",
       "      <td>1</td>\n",
       "      <td>New York</td>\n",
       "      <td>Albany County</td>\n",
       "      <td>304204</td>\n",
       "      <td>304208</td>\n",
       "      <td>304086</td>\n",
       "      <td>...</td>\n",
       "      <td>-6.116738</td>\n",
       "      <td>0.364722</td>\n",
       "      <td>2.890292</td>\n",
       "      <td>1.224866</td>\n",
       "      <td>0.081468</td>\n",
       "      <td>-0.670372</td>\n",
       "      <td>-0.894265</td>\n",
       "      <td>-0.939358</td>\n",
       "      <td>-4.343141</td>\n",
       "      <td>-4.332689</td>\n",
       "    </tr>\n",
       "    <tr>\n",
       "      <th>1862</th>\n",
       "      <td>50</td>\n",
       "      <td>1</td>\n",
       "      <td>2</td>\n",
       "      <td>36</td>\n",
       "      <td>3</td>\n",
       "      <td>New York</td>\n",
       "      <td>Allegany County</td>\n",
       "      <td>48946</td>\n",
       "      <td>48923</td>\n",
       "      <td>48971</td>\n",
       "      <td>...</td>\n",
       "      <td>-5.496467</td>\n",
       "      <td>-4.909431</td>\n",
       "      <td>-12.493557</td>\n",
       "      <td>-6.700655</td>\n",
       "      <td>-6.237441</td>\n",
       "      <td>-6.569389</td>\n",
       "      <td>-6.717667</td>\n",
       "      <td>-8.518088</td>\n",
       "      <td>-6.862355</td>\n",
       "      <td>-4.890558</td>\n",
       "    </tr>\n",
       "    <tr>\n",
       "      <th>1863</th>\n",
       "      <td>50</td>\n",
       "      <td>1</td>\n",
       "      <td>2</td>\n",
       "      <td>36</td>\n",
       "      <td>5</td>\n",
       "      <td>New York</td>\n",
       "      <td>Bronx County</td>\n",
       "      <td>1385108</td>\n",
       "      <td>1384580</td>\n",
       "      <td>1387298</td>\n",
       "      <td>...</td>\n",
       "      <td>-21.894584</td>\n",
       "      <td>-2.329930</td>\n",
       "      <td>0.901443</td>\n",
       "      <td>-1.274077</td>\n",
       "      <td>-2.256675</td>\n",
       "      <td>-2.144937</td>\n",
       "      <td>-5.059593</td>\n",
       "      <td>-10.433124</td>\n",
       "      <td>-12.643801</td>\n",
       "      <td>-15.792055</td>\n",
       "    </tr>\n",
       "    <tr>\n",
       "      <th>1864</th>\n",
       "      <td>50</td>\n",
       "      <td>1</td>\n",
       "      <td>2</td>\n",
       "      <td>36</td>\n",
       "      <td>7</td>\n",
       "      <td>New York</td>\n",
       "      <td>Broome County</td>\n",
       "      <td>200600</td>\n",
       "      <td>200675</td>\n",
       "      <td>200481</td>\n",
       "      <td>...</td>\n",
       "      <td>-7.834462</td>\n",
       "      <td>-5.061974</td>\n",
       "      <td>-3.838907</td>\n",
       "      <td>-3.303234</td>\n",
       "      <td>-3.618742</td>\n",
       "      <td>-6.134610</td>\n",
       "      <td>-7.356067</td>\n",
       "      <td>-6.212622</td>\n",
       "      <td>-5.448997</td>\n",
       "      <td>-6.537435</td>\n",
       "    </tr>\n",
       "    <tr>\n",
       "      <th>...</th>\n",
       "      <td>...</td>\n",
       "      <td>...</td>\n",
       "      <td>...</td>\n",
       "      <td>...</td>\n",
       "      <td>...</td>\n",
       "      <td>...</td>\n",
       "      <td>...</td>\n",
       "      <td>...</td>\n",
       "      <td>...</td>\n",
       "      <td>...</td>\n",
       "      <td>...</td>\n",
       "      <td>...</td>\n",
       "      <td>...</td>\n",
       "      <td>...</td>\n",
       "      <td>...</td>\n",
       "      <td>...</td>\n",
       "      <td>...</td>\n",
       "      <td>...</td>\n",
       "      <td>...</td>\n",
       "      <td>...</td>\n",
       "      <td>...</td>\n",
       "    </tr>\n",
       "    <tr>\n",
       "      <th>1918</th>\n",
       "      <td>50</td>\n",
       "      <td>1</td>\n",
       "      <td>2</td>\n",
       "      <td>36</td>\n",
       "      <td>115</td>\n",
       "      <td>New York</td>\n",
       "      <td>Washington County</td>\n",
       "      <td>63216</td>\n",
       "      <td>63254</td>\n",
       "      <td>63356</td>\n",
       "      <td>...</td>\n",
       "      <td>1.028756</td>\n",
       "      <td>-4.428733</td>\n",
       "      <td>-2.141260</td>\n",
       "      <td>-3.816551</td>\n",
       "      <td>-4.774832</td>\n",
       "      <td>-2.934550</td>\n",
       "      <td>-7.046057</td>\n",
       "      <td>-2.464452</td>\n",
       "      <td>-2.588881</td>\n",
       "      <td>1.143062</td>\n",
       "    </tr>\n",
       "    <tr>\n",
       "      <th>1919</th>\n",
       "      <td>50</td>\n",
       "      <td>1</td>\n",
       "      <td>2</td>\n",
       "      <td>36</td>\n",
       "      <td>117</td>\n",
       "      <td>New York</td>\n",
       "      <td>Wayne County</td>\n",
       "      <td>93772</td>\n",
       "      <td>93751</td>\n",
       "      <td>93751</td>\n",
       "      <td>...</td>\n",
       "      <td>-4.108418</td>\n",
       "      <td>-6.791190</td>\n",
       "      <td>-4.562901</td>\n",
       "      <td>-9.030685</td>\n",
       "      <td>-7.233627</td>\n",
       "      <td>-6.652393</td>\n",
       "      <td>-6.613604</td>\n",
       "      <td>-4.845822</td>\n",
       "      <td>-3.244219</td>\n",
       "      <td>-3.875237</td>\n",
       "    </tr>\n",
       "    <tr>\n",
       "      <th>1920</th>\n",
       "      <td>50</td>\n",
       "      <td>1</td>\n",
       "      <td>2</td>\n",
       "      <td>36</td>\n",
       "      <td>119</td>\n",
       "      <td>New York</td>\n",
       "      <td>Westchester County</td>\n",
       "      <td>949113</td>\n",
       "      <td>949218</td>\n",
       "      <td>950601</td>\n",
       "      <td>...</td>\n",
       "      <td>-5.568990</td>\n",
       "      <td>1.888966</td>\n",
       "      <td>-0.387296</td>\n",
       "      <td>1.890703</td>\n",
       "      <td>-1.165866</td>\n",
       "      <td>-2.072510</td>\n",
       "      <td>-2.299076</td>\n",
       "      <td>-3.757817</td>\n",
       "      <td>-4.556474</td>\n",
       "      <td>-3.440582</td>\n",
       "    </tr>\n",
       "    <tr>\n",
       "      <th>1921</th>\n",
       "      <td>50</td>\n",
       "      <td>1</td>\n",
       "      <td>2</td>\n",
       "      <td>36</td>\n",
       "      <td>121</td>\n",
       "      <td>New York</td>\n",
       "      <td>Wyoming County</td>\n",
       "      <td>42155</td>\n",
       "      <td>42154</td>\n",
       "      <td>42126</td>\n",
       "      <td>...</td>\n",
       "      <td>-3.680429</td>\n",
       "      <td>-7.430783</td>\n",
       "      <td>-4.117344</td>\n",
       "      <td>-7.873921</td>\n",
       "      <td>-6.327810</td>\n",
       "      <td>-5.142328</td>\n",
       "      <td>-12.634891</td>\n",
       "      <td>-3.369923</td>\n",
       "      <td>-5.404396</td>\n",
       "      <td>-3.655392</td>\n",
       "    </tr>\n",
       "    <tr>\n",
       "      <th>1922</th>\n",
       "      <td>50</td>\n",
       "      <td>1</td>\n",
       "      <td>2</td>\n",
       "      <td>36</td>\n",
       "      <td>123</td>\n",
       "      <td>New York</td>\n",
       "      <td>Yates County</td>\n",
       "      <td>25348</td>\n",
       "      <td>25364</td>\n",
       "      <td>25376</td>\n",
       "      <td>...</td>\n",
       "      <td>-3.930691</td>\n",
       "      <td>0.275428</td>\n",
       "      <td>-6.851608</td>\n",
       "      <td>-7.439063</td>\n",
       "      <td>-5.004369</td>\n",
       "      <td>-0.994491</td>\n",
       "      <td>-5.180624</td>\n",
       "      <td>-5.633128</td>\n",
       "      <td>-3.203011</td>\n",
       "      <td>-3.529601</td>\n",
       "    </tr>\n",
       "  </tbody>\n",
       "</table>\n",
       "<p>63 rows × 164 columns</p>\n",
       "</div>"
      ],
      "text/plain": [
       "      SUMLEV  REGION  DIVISION  STATE  COUNTY    STNAME             CTYNAME  \\\n",
       "1860      40       1         2     36       0  New York            New York   \n",
       "1861      50       1         2     36       1  New York       Albany County   \n",
       "1862      50       1         2     36       3  New York     Allegany County   \n",
       "1863      50       1         2     36       5  New York        Bronx County   \n",
       "1864      50       1         2     36       7  New York       Broome County   \n",
       "...      ...     ...       ...    ...     ...       ...                 ...   \n",
       "1918      50       1         2     36     115  New York   Washington County   \n",
       "1919      50       1         2     36     117  New York        Wayne County   \n",
       "1920      50       1         2     36     119  New York  Westchester County   \n",
       "1921      50       1         2     36     121  New York      Wyoming County   \n",
       "1922      50       1         2     36     123  New York        Yates County   \n",
       "\n",
       "      CENSUS2010POP  ESTIMATESBASE2010  POPESTIMATE2010  ...  \\\n",
       "1860       19378102           19378144         19399878  ...   \n",
       "1861         304204             304208           304086  ...   \n",
       "1862          48946              48923            48971  ...   \n",
       "1863        1385108            1384580          1387298  ...   \n",
       "1864         200600             200675           200481  ...   \n",
       "...             ...                ...              ...  ...   \n",
       "1918          63216              63254            63356  ...   \n",
       "1919          93772              93751            93751  ...   \n",
       "1920         949113             949218           950601  ...   \n",
       "1921          42155              42154            42126  ...   \n",
       "1922          25348              25364            25376  ...   \n",
       "\n",
       "      RDOMESTICMIG2019  RNETMIG2011  RNETMIG2012  RNETMIG2013  RNETMIG2014  \\\n",
       "1860         -9.267874     0.310701    -0.963243    -1.791701    -3.130145   \n",
       "1861         -6.116738     0.364722     2.890292     1.224866     0.081468   \n",
       "1862         -5.496467    -4.909431   -12.493557    -6.700655    -6.237441   \n",
       "1863        -21.894584    -2.329930     0.901443    -1.274077    -2.256675   \n",
       "1864         -7.834462    -5.061974    -3.838907    -3.303234    -3.618742   \n",
       "...                ...          ...          ...          ...          ...   \n",
       "1918          1.028756    -4.428733    -2.141260    -3.816551    -4.774832   \n",
       "1919         -4.108418    -6.791190    -4.562901    -9.030685    -7.233627   \n",
       "1920         -5.568990     1.888966    -0.387296     1.890703    -1.165866   \n",
       "1921         -3.680429    -7.430783    -4.117344    -7.873921    -6.327810   \n",
       "1922         -3.930691     0.275428    -6.851608    -7.439063    -5.004369   \n",
       "\n",
       "      RNETMIG2015  RNETMIG2016  RNETMIG2017  RNETMIG2018  RNETMIG2019  \n",
       "1860    -4.174457    -5.379085    -6.127425    -6.406096    -6.920598  \n",
       "1861    -0.670372    -0.894265    -0.939358    -4.343141    -4.332689  \n",
       "1862    -6.569389    -6.717667    -8.518088    -6.862355    -4.890558  \n",
       "1863    -2.144937    -5.059593   -10.433124   -12.643801   -15.792055  \n",
       "1864    -6.134610    -7.356067    -6.212622    -5.448997    -6.537435  \n",
       "...           ...          ...          ...          ...          ...  \n",
       "1918    -2.934550    -7.046057    -2.464452    -2.588881     1.143062  \n",
       "1919    -6.652393    -6.613604    -4.845822    -3.244219    -3.875237  \n",
       "1920    -2.072510    -2.299076    -3.757817    -4.556474    -3.440582  \n",
       "1921    -5.142328   -12.634891    -3.369923    -5.404396    -3.655392  \n",
       "1922    -0.994491    -5.180624    -5.633128    -3.203011    -3.529601  \n",
       "\n",
       "[63 rows x 164 columns]"
      ]
     },
     "execution_count": 22,
     "metadata": {},
     "output_type": "execute_result"
    }
   ],
   "source": [
    "census_county[(census_county['STNAME'] == 'New York')]"
   ]
  },
  {
   "cell_type": "code",
   "execution_count": 21,
   "metadata": {},
   "outputs": [
    {
     "data": {
      "text/html": [
       "<div>\n",
       "<style scoped>\n",
       "    .dataframe tbody tr th:only-of-type {\n",
       "        vertical-align: middle;\n",
       "    }\n",
       "\n",
       "    .dataframe tbody tr th {\n",
       "        vertical-align: top;\n",
       "    }\n",
       "\n",
       "    .dataframe thead th {\n",
       "        text-align: right;\n",
       "    }\n",
       "</style>\n",
       "<table border=\"1\" class=\"dataframe\">\n",
       "  <thead>\n",
       "    <tr style=\"text-align: right;\">\n",
       "      <th></th>\n",
       "      <th>SUMLEV</th>\n",
       "      <th>REGION</th>\n",
       "      <th>DIVISION</th>\n",
       "      <th>STATE</th>\n",
       "      <th>COUNTY</th>\n",
       "      <th>STNAME</th>\n",
       "      <th>CTYNAME</th>\n",
       "      <th>CENSUS2010POP</th>\n",
       "      <th>ESTIMATESBASE2010</th>\n",
       "      <th>POPESTIMATE2010</th>\n",
       "      <th>...</th>\n",
       "      <th>RDOMESTICMIG2019</th>\n",
       "      <th>RNETMIG2011</th>\n",
       "      <th>RNETMIG2012</th>\n",
       "      <th>RNETMIG2013</th>\n",
       "      <th>RNETMIG2014</th>\n",
       "      <th>RNETMIG2015</th>\n",
       "      <th>RNETMIG2016</th>\n",
       "      <th>RNETMIG2017</th>\n",
       "      <th>RNETMIG2018</th>\n",
       "      <th>RNETMIG2019</th>\n",
       "    </tr>\n",
       "  </thead>\n",
       "  <tbody>\n",
       "    <tr>\n",
       "      <th>0</th>\n",
       "      <td>40</td>\n",
       "      <td>3</td>\n",
       "      <td>6</td>\n",
       "      <td>1</td>\n",
       "      <td>0</td>\n",
       "      <td>Alabama</td>\n",
       "      <td>Alabama</td>\n",
       "      <td>4779736</td>\n",
       "      <td>4780125</td>\n",
       "      <td>4785437</td>\n",
       "      <td>...</td>\n",
       "      <td>1.917501</td>\n",
       "      <td>0.578434</td>\n",
       "      <td>1.186314</td>\n",
       "      <td>1.522549</td>\n",
       "      <td>0.563489</td>\n",
       "      <td>0.626357</td>\n",
       "      <td>0.745172</td>\n",
       "      <td>1.090366</td>\n",
       "      <td>1.773786</td>\n",
       "      <td>2.483744</td>\n",
       "    </tr>\n",
       "    <tr>\n",
       "      <th>1</th>\n",
       "      <td>50</td>\n",
       "      <td>3</td>\n",
       "      <td>6</td>\n",
       "      <td>1</td>\n",
       "      <td>1</td>\n",
       "      <td>Alabama</td>\n",
       "      <td>Autauga County</td>\n",
       "      <td>54571</td>\n",
       "      <td>54597</td>\n",
       "      <td>54773</td>\n",
       "      <td>...</td>\n",
       "      <td>4.847310</td>\n",
       "      <td>6.018182</td>\n",
       "      <td>-6.226119</td>\n",
       "      <td>-3.902226</td>\n",
       "      <td>1.970443</td>\n",
       "      <td>-1.712875</td>\n",
       "      <td>4.777171</td>\n",
       "      <td>0.849656</td>\n",
       "      <td>0.540916</td>\n",
       "      <td>4.560062</td>\n",
       "    </tr>\n",
       "    <tr>\n",
       "      <th>2</th>\n",
       "      <td>50</td>\n",
       "      <td>3</td>\n",
       "      <td>6</td>\n",
       "      <td>1</td>\n",
       "      <td>3</td>\n",
       "      <td>Alabama</td>\n",
       "      <td>Baldwin County</td>\n",
       "      <td>182265</td>\n",
       "      <td>182265</td>\n",
       "      <td>183112</td>\n",
       "      <td>...</td>\n",
       "      <td>24.017829</td>\n",
       "      <td>16.641870</td>\n",
       "      <td>17.488579</td>\n",
       "      <td>22.751474</td>\n",
       "      <td>20.184334</td>\n",
       "      <td>17.725964</td>\n",
       "      <td>21.279291</td>\n",
       "      <td>22.398256</td>\n",
       "      <td>24.727215</td>\n",
       "      <td>24.380567</td>\n",
       "    </tr>\n",
       "    <tr>\n",
       "      <th>3</th>\n",
       "      <td>50</td>\n",
       "      <td>3</td>\n",
       "      <td>6</td>\n",
       "      <td>1</td>\n",
       "      <td>5</td>\n",
       "      <td>Alabama</td>\n",
       "      <td>Barbour County</td>\n",
       "      <td>27457</td>\n",
       "      <td>27455</td>\n",
       "      <td>27327</td>\n",
       "      <td>...</td>\n",
       "      <td>-5.690302</td>\n",
       "      <td>0.292676</td>\n",
       "      <td>-6.897817</td>\n",
       "      <td>-8.132185</td>\n",
       "      <td>-5.140431</td>\n",
       "      <td>-15.724575</td>\n",
       "      <td>-18.238016</td>\n",
       "      <td>-24.998528</td>\n",
       "      <td>-8.754922</td>\n",
       "      <td>-5.165664</td>\n",
       "    </tr>\n",
       "    <tr>\n",
       "      <th>4</th>\n",
       "      <td>50</td>\n",
       "      <td>3</td>\n",
       "      <td>6</td>\n",
       "      <td>1</td>\n",
       "      <td>7</td>\n",
       "      <td>Alabama</td>\n",
       "      <td>Bibb County</td>\n",
       "      <td>22915</td>\n",
       "      <td>22915</td>\n",
       "      <td>22870</td>\n",
       "      <td>...</td>\n",
       "      <td>1.385134</td>\n",
       "      <td>-4.998356</td>\n",
       "      <td>-3.787545</td>\n",
       "      <td>-5.797999</td>\n",
       "      <td>1.331144</td>\n",
       "      <td>1.329817</td>\n",
       "      <td>-0.708717</td>\n",
       "      <td>-3.234669</td>\n",
       "      <td>-6.857092</td>\n",
       "      <td>1.831952</td>\n",
       "    </tr>\n",
       "  </tbody>\n",
       "</table>\n",
       "<p>5 rows × 164 columns</p>\n",
       "</div>"
      ],
      "text/plain": [
       "   SUMLEV  REGION  DIVISION  STATE  COUNTY   STNAME         CTYNAME  \\\n",
       "0      40       3         6      1       0  Alabama         Alabama   \n",
       "1      50       3         6      1       1  Alabama  Autauga County   \n",
       "2      50       3         6      1       3  Alabama  Baldwin County   \n",
       "3      50       3         6      1       5  Alabama  Barbour County   \n",
       "4      50       3         6      1       7  Alabama     Bibb County   \n",
       "\n",
       "   CENSUS2010POP  ESTIMATESBASE2010  POPESTIMATE2010  ...  RDOMESTICMIG2019  \\\n",
       "0        4779736            4780125          4785437  ...          1.917501   \n",
       "1          54571              54597            54773  ...          4.847310   \n",
       "2         182265             182265           183112  ...         24.017829   \n",
       "3          27457              27455            27327  ...         -5.690302   \n",
       "4          22915              22915            22870  ...          1.385134   \n",
       "\n",
       "   RNETMIG2011  RNETMIG2012  RNETMIG2013  RNETMIG2014  RNETMIG2015  \\\n",
       "0     0.578434     1.186314     1.522549     0.563489     0.626357   \n",
       "1     6.018182    -6.226119    -3.902226     1.970443    -1.712875   \n",
       "2    16.641870    17.488579    22.751474    20.184334    17.725964   \n",
       "3     0.292676    -6.897817    -8.132185    -5.140431   -15.724575   \n",
       "4    -4.998356    -3.787545    -5.797999     1.331144     1.329817   \n",
       "\n",
       "   RNETMIG2016  RNETMIG2017  RNETMIG2018  RNETMIG2019  \n",
       "0     0.745172     1.090366     1.773786     2.483744  \n",
       "1     4.777171     0.849656     0.540916     4.560062  \n",
       "2    21.279291    22.398256    24.727215    24.380567  \n",
       "3   -18.238016   -24.998528    -8.754922    -5.165664  \n",
       "4    -0.708717    -3.234669    -6.857092     1.831952  \n",
       "\n",
       "[5 rows x 164 columns]"
      ]
     },
     "execution_count": 21,
     "metadata": {},
     "output_type": "execute_result"
    }
   ],
   "source": [
    "census_county.head()"
   ]
  },
  {
   "cell_type": "code",
   "execution_count": 20,
   "metadata": {},
   "outputs": [
    {
     "name": "stdout",
     "output_type": "stream",
     "text": [
      "SUMLEV\n",
      "REGION\n",
      "DIVISION\n",
      "STATE\n",
      "COUNTY\n",
      "STNAME\n",
      "CTYNAME\n",
      "CENSUS2010POP\n",
      "ESTIMATESBASE2010\n",
      "POPESTIMATE2010\n",
      "POPESTIMATE2011\n",
      "POPESTIMATE2012\n",
      "POPESTIMATE2013\n",
      "POPESTIMATE2014\n",
      "POPESTIMATE2015\n",
      "POPESTIMATE2016\n",
      "POPESTIMATE2017\n",
      "POPESTIMATE2018\n",
      "POPESTIMATE2019\n",
      "NPOPCHG_2010\n",
      "NPOPCHG_2011\n",
      "NPOPCHG_2012\n",
      "NPOPCHG_2013\n",
      "NPOPCHG_2014\n",
      "NPOPCHG_2015\n",
      "NPOPCHG_2016\n",
      "NPOPCHG_2017\n",
      "NPOPCHG_2018\n",
      "NPOPCHG_2019\n",
      "BIRTHS2010\n",
      "BIRTHS2011\n",
      "BIRTHS2012\n",
      "BIRTHS2013\n",
      "BIRTHS2014\n",
      "BIRTHS2015\n",
      "BIRTHS2016\n",
      "BIRTHS2017\n",
      "BIRTHS2018\n",
      "BIRTHS2019\n",
      "DEATHS2010\n",
      "DEATHS2011\n",
      "DEATHS2012\n",
      "DEATHS2013\n",
      "DEATHS2014\n",
      "DEATHS2015\n",
      "DEATHS2016\n",
      "DEATHS2017\n",
      "DEATHS2018\n",
      "DEATHS2019\n",
      "NATURALINC2010\n",
      "NATURALINC2011\n",
      "NATURALINC2012\n",
      "NATURALINC2013\n",
      "NATURALINC2014\n",
      "NATURALINC2015\n",
      "NATURALINC2016\n",
      "NATURALINC2017\n",
      "NATURALINC2018\n",
      "NATURALINC2019\n",
      "INTERNATIONALMIG2010\n",
      "INTERNATIONALMIG2011\n",
      "INTERNATIONALMIG2012\n",
      "INTERNATIONALMIG2013\n",
      "INTERNATIONALMIG2014\n",
      "INTERNATIONALMIG2015\n",
      "INTERNATIONALMIG2016\n",
      "INTERNATIONALMIG2017\n",
      "INTERNATIONALMIG2018\n",
      "INTERNATIONALMIG2019\n",
      "DOMESTICMIG2010\n",
      "DOMESTICMIG2011\n",
      "DOMESTICMIG2012\n",
      "DOMESTICMIG2013\n",
      "DOMESTICMIG2014\n",
      "DOMESTICMIG2015\n",
      "DOMESTICMIG2016\n",
      "DOMESTICMIG2017\n",
      "DOMESTICMIG2018\n",
      "DOMESTICMIG2019\n",
      "NETMIG2010\n",
      "NETMIG2011\n",
      "NETMIG2012\n",
      "NETMIG2013\n",
      "NETMIG2014\n",
      "NETMIG2015\n",
      "NETMIG2016\n",
      "NETMIG2017\n",
      "NETMIG2018\n",
      "NETMIG2019\n",
      "RESIDUAL2010\n",
      "RESIDUAL2011\n",
      "RESIDUAL2012\n",
      "RESIDUAL2013\n",
      "RESIDUAL2014\n",
      "RESIDUAL2015\n",
      "RESIDUAL2016\n",
      "RESIDUAL2017\n",
      "RESIDUAL2018\n",
      "RESIDUAL2019\n",
      "GQESTIMATESBASE2010\n",
      "GQESTIMATES2010\n",
      "GQESTIMATES2011\n",
      "GQESTIMATES2012\n",
      "GQESTIMATES2013\n",
      "GQESTIMATES2014\n",
      "GQESTIMATES2015\n",
      "GQESTIMATES2016\n",
      "GQESTIMATES2017\n",
      "GQESTIMATES2018\n",
      "GQESTIMATES2019\n",
      "RBIRTH2011\n",
      "RBIRTH2012\n",
      "RBIRTH2013\n",
      "RBIRTH2014\n",
      "RBIRTH2015\n",
      "RBIRTH2016\n",
      "RBIRTH2017\n",
      "RBIRTH2018\n",
      "RBIRTH2019\n",
      "RDEATH2011\n",
      "RDEATH2012\n",
      "RDEATH2013\n",
      "RDEATH2014\n",
      "RDEATH2015\n",
      "RDEATH2016\n",
      "RDEATH2017\n",
      "RDEATH2018\n",
      "RDEATH2019\n",
      "RNATURALINC2011\n",
      "RNATURALINC2012\n",
      "RNATURALINC2013\n",
      "RNATURALINC2014\n",
      "RNATURALINC2015\n",
      "RNATURALINC2016\n",
      "RNATURALINC2017\n",
      "RNATURALINC2018\n",
      "RNATURALINC2019\n",
      "RINTERNATIONALMIG2011\n",
      "RINTERNATIONALMIG2012\n",
      "RINTERNATIONALMIG2013\n",
      "RINTERNATIONALMIG2014\n",
      "RINTERNATIONALMIG2015\n",
      "RINTERNATIONALMIG2016\n",
      "RINTERNATIONALMIG2017\n",
      "RINTERNATIONALMIG2018\n",
      "RINTERNATIONALMIG2019\n",
      "RDOMESTICMIG2011\n",
      "RDOMESTICMIG2012\n",
      "RDOMESTICMIG2013\n",
      "RDOMESTICMIG2014\n",
      "RDOMESTICMIG2015\n",
      "RDOMESTICMIG2016\n",
      "RDOMESTICMIG2017\n",
      "RDOMESTICMIG2018\n",
      "RDOMESTICMIG2019\n",
      "RNETMIG2011\n",
      "RNETMIG2012\n",
      "RNETMIG2013\n",
      "RNETMIG2014\n",
      "RNETMIG2015\n",
      "RNETMIG2016\n",
      "RNETMIG2017\n",
      "RNETMIG2018\n",
      "RNETMIG2019\n"
     ]
    }
   ],
   "source": [
    "[print(column) for column in census_county.columns];"
   ]
  },
  {
   "cell_type": "code",
   "execution_count": 15,
   "metadata": {},
   "outputs": [],
   "source": [
    "census_county.to_csv('data/census_county_est2019.csv', index=False)"
   ]
  },
  {
   "cell_type": "code",
   "execution_count": 14,
   "metadata": {},
   "outputs": [
    {
     "data": {
      "text/html": [
       "<div>\n",
       "<style scoped>\n",
       "    .dataframe tbody tr th:only-of-type {\n",
       "        vertical-align: middle;\n",
       "    }\n",
       "\n",
       "    .dataframe tbody tr th {\n",
       "        vertical-align: top;\n",
       "    }\n",
       "\n",
       "    .dataframe thead th {\n",
       "        text-align: right;\n",
       "    }\n",
       "</style>\n",
       "<table border=\"1\" class=\"dataframe\">\n",
       "  <thead>\n",
       "    <tr style=\"text-align: right;\">\n",
       "      <th></th>\n",
       "      <th>SUMLEV</th>\n",
       "      <th>REGION</th>\n",
       "      <th>DIVISION</th>\n",
       "      <th>STATE</th>\n",
       "      <th>COUNTY</th>\n",
       "      <th>STNAME</th>\n",
       "      <th>CTYNAME</th>\n",
       "      <th>CENSUS2010POP</th>\n",
       "      <th>ESTIMATESBASE2010</th>\n",
       "      <th>POPESTIMATE2010</th>\n",
       "      <th>...</th>\n",
       "      <th>RDOMESTICMIG2019</th>\n",
       "      <th>RNETMIG2011</th>\n",
       "      <th>RNETMIG2012</th>\n",
       "      <th>RNETMIG2013</th>\n",
       "      <th>RNETMIG2014</th>\n",
       "      <th>RNETMIG2015</th>\n",
       "      <th>RNETMIG2016</th>\n",
       "      <th>RNETMIG2017</th>\n",
       "      <th>RNETMIG2018</th>\n",
       "      <th>RNETMIG2019</th>\n",
       "    </tr>\n",
       "  </thead>\n",
       "  <tbody>\n",
       "    <tr>\n",
       "      <th>0</th>\n",
       "      <td>40</td>\n",
       "      <td>3</td>\n",
       "      <td>6</td>\n",
       "      <td>1</td>\n",
       "      <td>0</td>\n",
       "      <td>Alabama</td>\n",
       "      <td>Alabama</td>\n",
       "      <td>4779736</td>\n",
       "      <td>4780125</td>\n",
       "      <td>4785437</td>\n",
       "      <td>...</td>\n",
       "      <td>1.917501</td>\n",
       "      <td>0.578434</td>\n",
       "      <td>1.186314</td>\n",
       "      <td>1.522549</td>\n",
       "      <td>0.563489</td>\n",
       "      <td>0.626357</td>\n",
       "      <td>0.745172</td>\n",
       "      <td>1.090366</td>\n",
       "      <td>1.773786</td>\n",
       "      <td>2.483744</td>\n",
       "    </tr>\n",
       "    <tr>\n",
       "      <th>1</th>\n",
       "      <td>50</td>\n",
       "      <td>3</td>\n",
       "      <td>6</td>\n",
       "      <td>1</td>\n",
       "      <td>1</td>\n",
       "      <td>Alabama</td>\n",
       "      <td>Autauga County</td>\n",
       "      <td>54571</td>\n",
       "      <td>54597</td>\n",
       "      <td>54773</td>\n",
       "      <td>...</td>\n",
       "      <td>4.847310</td>\n",
       "      <td>6.018182</td>\n",
       "      <td>-6.226119</td>\n",
       "      <td>-3.902226</td>\n",
       "      <td>1.970443</td>\n",
       "      <td>-1.712875</td>\n",
       "      <td>4.777171</td>\n",
       "      <td>0.849656</td>\n",
       "      <td>0.540916</td>\n",
       "      <td>4.560062</td>\n",
       "    </tr>\n",
       "    <tr>\n",
       "      <th>2</th>\n",
       "      <td>50</td>\n",
       "      <td>3</td>\n",
       "      <td>6</td>\n",
       "      <td>1</td>\n",
       "      <td>3</td>\n",
       "      <td>Alabama</td>\n",
       "      <td>Baldwin County</td>\n",
       "      <td>182265</td>\n",
       "      <td>182265</td>\n",
       "      <td>183112</td>\n",
       "      <td>...</td>\n",
       "      <td>24.017829</td>\n",
       "      <td>16.641870</td>\n",
       "      <td>17.488579</td>\n",
       "      <td>22.751474</td>\n",
       "      <td>20.184334</td>\n",
       "      <td>17.725964</td>\n",
       "      <td>21.279291</td>\n",
       "      <td>22.398256</td>\n",
       "      <td>24.727215</td>\n",
       "      <td>24.380567</td>\n",
       "    </tr>\n",
       "    <tr>\n",
       "      <th>3</th>\n",
       "      <td>50</td>\n",
       "      <td>3</td>\n",
       "      <td>6</td>\n",
       "      <td>1</td>\n",
       "      <td>5</td>\n",
       "      <td>Alabama</td>\n",
       "      <td>Barbour County</td>\n",
       "      <td>27457</td>\n",
       "      <td>27455</td>\n",
       "      <td>27327</td>\n",
       "      <td>...</td>\n",
       "      <td>-5.690302</td>\n",
       "      <td>0.292676</td>\n",
       "      <td>-6.897817</td>\n",
       "      <td>-8.132185</td>\n",
       "      <td>-5.140431</td>\n",
       "      <td>-15.724575</td>\n",
       "      <td>-18.238016</td>\n",
       "      <td>-24.998528</td>\n",
       "      <td>-8.754922</td>\n",
       "      <td>-5.165664</td>\n",
       "    </tr>\n",
       "    <tr>\n",
       "      <th>4</th>\n",
       "      <td>50</td>\n",
       "      <td>3</td>\n",
       "      <td>6</td>\n",
       "      <td>1</td>\n",
       "      <td>7</td>\n",
       "      <td>Alabama</td>\n",
       "      <td>Bibb County</td>\n",
       "      <td>22915</td>\n",
       "      <td>22915</td>\n",
       "      <td>22870</td>\n",
       "      <td>...</td>\n",
       "      <td>1.385134</td>\n",
       "      <td>-4.998356</td>\n",
       "      <td>-3.787545</td>\n",
       "      <td>-5.797999</td>\n",
       "      <td>1.331144</td>\n",
       "      <td>1.329817</td>\n",
       "      <td>-0.708717</td>\n",
       "      <td>-3.234669</td>\n",
       "      <td>-6.857092</td>\n",
       "      <td>1.831952</td>\n",
       "    </tr>\n",
       "  </tbody>\n",
       "</table>\n",
       "<p>5 rows × 164 columns</p>\n",
       "</div>"
      ],
      "text/plain": [
       "   SUMLEV  REGION  DIVISION  STATE  COUNTY   STNAME         CTYNAME  \\\n",
       "0      40       3         6      1       0  Alabama         Alabama   \n",
       "1      50       3         6      1       1  Alabama  Autauga County   \n",
       "2      50       3         6      1       3  Alabama  Baldwin County   \n",
       "3      50       3         6      1       5  Alabama  Barbour County   \n",
       "4      50       3         6      1       7  Alabama     Bibb County   \n",
       "\n",
       "   CENSUS2010POP  ESTIMATESBASE2010  POPESTIMATE2010  ...  RDOMESTICMIG2019  \\\n",
       "0        4779736            4780125          4785437  ...          1.917501   \n",
       "1          54571              54597            54773  ...          4.847310   \n",
       "2         182265             182265           183112  ...         24.017829   \n",
       "3          27457              27455            27327  ...         -5.690302   \n",
       "4          22915              22915            22870  ...          1.385134   \n",
       "\n",
       "   RNETMIG2011  RNETMIG2012  RNETMIG2013  RNETMIG2014  RNETMIG2015  \\\n",
       "0     0.578434     1.186314     1.522549     0.563489     0.626357   \n",
       "1     6.018182    -6.226119    -3.902226     1.970443    -1.712875   \n",
       "2    16.641870    17.488579    22.751474    20.184334    17.725964   \n",
       "3     0.292676    -6.897817    -8.132185    -5.140431   -15.724575   \n",
       "4    -4.998356    -3.787545    -5.797999     1.331144     1.329817   \n",
       "\n",
       "   RNETMIG2016  RNETMIG2017  RNETMIG2018  RNETMIG2019  \n",
       "0     0.745172     1.090366     1.773786     2.483744  \n",
       "1     4.777171     0.849656     0.540916     4.560062  \n",
       "2    21.279291    22.398256    24.727215    24.380567  \n",
       "3   -18.238016   -24.998528    -8.754922    -5.165664  \n",
       "4    -0.708717    -3.234669    -6.857092     1.831952  \n",
       "\n",
       "[5 rows x 164 columns]"
      ]
     },
     "execution_count": 14,
     "metadata": {},
     "output_type": "execute_result"
    }
   ],
   "source": [
    "census_county.head()"
   ]
  },
  {
   "cell_type": "code",
   "execution_count": null,
   "metadata": {},
   "outputs": [],
   "source": []
  }
 ],
 "metadata": {
  "kernelspec": {
   "display_name": "Python 3",
   "language": "python",
   "name": "python3"
  },
  "language_info": {
   "codemirror_mode": {
    "name": "ipython",
    "version": 3
   },
   "file_extension": ".py",
   "mimetype": "text/x-python",
   "name": "python",
   "nbconvert_exporter": "python",
   "pygments_lexer": "ipython3",
   "version": "3.7.7"
  }
 },
 "nbformat": 4,
 "nbformat_minor": 4
}
