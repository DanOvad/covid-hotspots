{
 "cells": [
  {
   "cell_type": "markdown",
   "metadata": {},
   "source": [
    "# Accessing data from Google Cloud Storage\n",
    "\n",
    "### Purpose\n",
    "The purpose of this notebook is to explore using Google Cloud Storage to cache covid data to reduce the need to request and process the data each time the heroku server is accessed.\n",
    "\n",
    "- First, connect and read from cloud storage, from a notebook.\n",
    "- Second, write to cloud to storage, from a notebook.\n",
    "- Third, update the heroku server and test reading from cloud storage.\n",
    "- Fourth, write a script that will request and process data from the source and write to cloud storage."
   ]
  },
  {
   "cell_type": "markdown",
   "metadata": {},
   "source": [
    "## Set Up\n",
    "First we need to knock this notebook one directory up to the root directory of the app.\n",
    "\n",
    "This is just for cleanliness purposes; to keep all notebooks in a notebooks directory."
   ]
  },
  {
   "cell_type": "code",
   "execution_count": 1,
   "metadata": {},
   "outputs": [
    {
     "data": {
      "text/plain": [
       "'/Users/DanOvadia/Projects/covid-hotspots/notebooks'"
      ]
     },
     "execution_count": 1,
     "metadata": {},
     "output_type": "execute_result"
    }
   ],
   "source": [
    "pwd"
   ]
  },
  {
   "cell_type": "code",
   "execution_count": 2,
   "metadata": {},
   "outputs": [
    {
     "name": "stdout",
     "output_type": "stream",
     "text": [
      "/Users/DanOvadia/Projects/covid-hotspots\n"
     ]
    }
   ],
   "source": [
    "cd .."
   ]
  },
  {
   "cell_type": "code",
   "execution_count": 3,
   "metadata": {},
   "outputs": [],
   "source": [
    "import pandas as pd\n",
    "from os import path\n",
    "from google.cloud import storage\n",
    "\n",
    "from config import config\n",
    "\n",
    "%load_ext autoreload\n",
    "%autoreload 1\n",
    "%aimport config.config"
   ]
  },
  {
   "cell_type": "markdown",
   "metadata": {},
   "source": [
    "In order to access google cloud storage we need to set an environment variable `GOOGLE_APPLICATION_CREDENTIALS` for this session. This environment variable will point towards the service account credentials json.\n",
    "\n",
    "In the actual app, we will handle this separately."
   ]
  },
  {
   "cell_type": "code",
   "execution_count": 5,
   "metadata": {},
   "outputs": [],
   "source": [
    "# App Engine default service account credentials \n",
    "config_file = config.config.service_account_credentials_file"
   ]
  },
  {
   "cell_type": "code",
   "execution_count": 7,
   "metadata": {},
   "outputs": [
    {
     "name": "stdout",
     "output_type": "stream",
     "text": [
      "env: GOOGLE_APPLICATION_CREDENTIALS=/Users/DanOvadia/Projects/covid-hotspots/config/ytd-shared-project-eb630837f7b3.json\n"
     ]
    }
   ],
   "source": [
    "# Assign enviroment variable\n",
    "%env GOOGLE_APPLICATION_CREDENTIALS=/Users/DanOvadia/Projects/covid-hotspots/config/$config_file"
   ]
  },
  {
   "cell_type": "markdown",
   "metadata": {},
   "source": [
    "Lets test to see if we've established our authentication for google cloud storage."
   ]
  },
  {
   "cell_type": "code",
   "execution_count": 13,
   "metadata": {},
   "outputs": [
    {
     "name": "stdout",
     "output_type": "stream",
     "text": [
      "[<Bucket: staging.ytd-shared-project.appspot.com>, <Bucket: us.artifacts.ytd-shared-project.appspot.com>, <Bucket: us_covid_hotspot-bucket>, <Bucket: ytd-shared-project.appspot.com>]\n"
     ]
    }
   ],
   "source": [
    "def implicit():\n",
    "    from google.cloud import storage\n",
    "\n",
    "    # If you don't specify credentials when constructing the client, the\n",
    "    # client library will look for credentials in the environment.\n",
    "    storage_client = storage.Client()\n",
    "\n",
    "    # Make an authenticated API request\n",
    "    buckets = list(storage_client.list_buckets())\n",
    "    print(buckets)\n",
    "implicit()"
   ]
  },
  {
   "cell_type": "markdown",
   "metadata": {},
   "source": [
    "Yup, we look good. Now, lets import the data."
   ]
  },
  {
   "cell_type": "markdown",
   "metadata": {},
   "source": [
    "## Read from Cloud Storage"
   ]
  },
  {
   "cell_type": "code",
   "execution_count": 27,
   "metadata": {},
   "outputs": [],
   "source": [
    "covid_counties = pd.read_csv('data/covid_counties_20200901.csv')"
   ]
  },
  {
   "cell_type": "code",
   "execution_count": 28,
   "metadata": {},
   "outputs": [],
   "source": [
    "covid_counties.to_json('data/covid_json.json')"
   ]
  },
  {
   "cell_type": "code",
   "execution_count": 29,
   "metadata": {},
   "outputs": [
    {
     "ename": "TypeError",
     "evalue": "to_hdf() missing 1 required positional argument: 'key'",
     "output_type": "error",
     "traceback": [
      "\u001b[0;31m---------------------------------------------------------------------------\u001b[0m",
      "\u001b[0;31mTypeError\u001b[0m                                 Traceback (most recent call last)",
      "\u001b[0;32m<ipython-input-29-b1352c124114>\u001b[0m in \u001b[0;36m<module>\u001b[0;34m\u001b[0m\n\u001b[0;32m----> 1\u001b[0;31m \u001b[0mcovid_counties\u001b[0m\u001b[0;34m.\u001b[0m\u001b[0mto_hdf\u001b[0m\u001b[0;34m(\u001b[0m\u001b[0;34m'data/covid_hdf.hdf'\u001b[0m\u001b[0;34m)\u001b[0m\u001b[0;34m\u001b[0m\u001b[0;34m\u001b[0m\u001b[0m\n\u001b[0m",
      "\u001b[0;31mTypeError\u001b[0m: to_hdf() missing 1 required positional argument: 'key'"
     ]
    }
   ],
   "source": [
    "covid_counties.to_hdf('data/covid_hdf.hdf')"
   ]
  },
  {
   "cell_type": "code",
   "execution_count": 21,
   "metadata": {},
   "outputs": [],
   "source": [
    "file_name = \"covid_counties_20200831.csv\"\n",
    "bucket_name = \"us_covid_hotspot-bucket\""
   ]
  },
  {
   "cell_type": "code",
   "execution_count": 18,
   "metadata": {},
   "outputs": [],
   "source": [
    "client = storage.Client()"
   ]
  },
  {
   "cell_type": "code",
   "execution_count": 53,
   "metadata": {},
   "outputs": [],
   "source": [
    "bucket = client.get_bucket('us_covid_hotspot-bucket')"
   ]
  },
  {
   "cell_type": "code",
   "execution_count": 58,
   "metadata": {},
   "outputs": [
    {
     "name": "stdout",
     "output_type": "stream",
     "text": [
      "<Blob: us_covid_hotspot-bucket, covid_counties_20200831.csv, 1598919467735996>\n",
      "<Blob: us_covid_hotspot-bucket, covid_states.csv, 1598994661100202>\n",
      "<Blob: us_covid_hotspot-bucket, test-covid_counties_20200831.csv.gz, 1598993956887189>\n"
     ]
    },
    {
     "data": {
      "text/plain": [
       "[None, None, None]"
      ]
     },
     "execution_count": 58,
     "metadata": {},
     "output_type": "execute_result"
    }
   ],
   "source": [
    "[print(blob) for blob in bucket.list_blobs()]"
   ]
  },
  {
   "cell_type": "markdown",
   "metadata": {},
   "source": [
    "## Writing to Blob"
   ]
  },
  {
   "cell_type": "code",
   "execution_count": 57,
   "metadata": {},
   "outputs": [],
   "source": [
    "%%time\n",
    "write_blob_to_gcs(\"us_covid_hotspot-bucket\", \n",
    "                  \"covid_states.csv\", \n",
    "                  \"data/covid_states_20200901.csv\")"
   ]
  },
  {
   "cell_type": "code",
   "execution_count": 56,
   "metadata": {},
   "outputs": [],
   "source": [
    "def write_blob_to_gcs(bucket_name, blob_name, filepath):\n",
    "    # Client to bundle configuration needed for API requests.\n",
    "    client = storage.Client()\n",
    "\n",
    "    # Extract the bucket object from the client bundle\n",
    "    bucket = client.get_bucket(bucket_name)\n",
    "\n",
    "    # Instantiate or extract the blob object from the bucket\n",
    "    blob = storage.blob.Blob(blob_name,bucket)\n",
    "\n",
    "    # Upload the file to the specific blob\n",
    "    blob.upload_from_filename(filepath)"
   ]
  },
  {
   "cell_type": "code",
   "execution_count": 50,
   "metadata": {},
   "outputs": [],
   "source": [
    "#blob = bucket.get_blob(new_file)\n",
    "blob.upload_from_filename(\"data/education_salary.csv.gz\")"
   ]
  },
  {
   "cell_type": "markdown",
   "metadata": {},
   "source": [
    "## Reading from Blob"
   ]
  },
  {
   "cell_type": "code",
   "execution_count": 61,
   "metadata": {},
   "outputs": [
    {
     "data": {
      "text/plain": [
       "'us_covid_hotspot-bucket'"
      ]
     },
     "execution_count": 61,
     "metadata": {},
     "output_type": "execute_result"
    }
   ],
   "source": [
    "bucket.id"
   ]
  },
  {
   "cell_type": "code",
   "execution_count": 24,
   "metadata": {},
   "outputs": [
    {
     "name": "stdout",
     "output_type": "stream",
     "text": [
      "CPU times: user 5.14 s, sys: 1.53 s, total: 6.68 s\n",
      "Wall time: 51.7 s\n"
     ]
    }
   ],
   "source": [
    "%%time\n",
    "content = blob.download_as_string()\n",
    "df = pd.read_csv(BytesIO(content))"
   ]
  },
  {
   "cell_type": "code",
   "execution_count": 59,
   "metadata": {},
   "outputs": [
    {
     "name": "stdout",
     "output_type": "stream",
     "text": [
      "CPU times: user 336 ms, sys: 99.3 ms, total: 436 ms\n",
      "Wall time: 3.1 s\n"
     ]
    }
   ],
   "source": [
    "%%time\n",
    "df = pd.read_csv('gs://us_covid_hotspot-bucket/covid_states.csv')"
   ]
  },
  {
   "cell_type": "code",
   "execution_count": 60,
   "metadata": {},
   "outputs": [
    {
     "data": {
      "text/html": [
       "<div>\n",
       "<style scoped>\n",
       "    .dataframe tbody tr th:only-of-type {\n",
       "        vertical-align: middle;\n",
       "    }\n",
       "\n",
       "    .dataframe tbody tr th {\n",
       "        vertical-align: top;\n",
       "    }\n",
       "\n",
       "    .dataframe thead th {\n",
       "        text-align: right;\n",
       "    }\n",
       "</style>\n",
       "<table border=\"1\" class=\"dataframe\">\n",
       "  <thead>\n",
       "    <tr style=\"text-align: right;\">\n",
       "      <th></th>\n",
       "      <th>date</th>\n",
       "      <th>state</th>\n",
       "      <th>positive</th>\n",
       "      <th>negative</th>\n",
       "      <th>pending</th>\n",
       "      <th>hospitalizedCurrently</th>\n",
       "      <th>hospitalizedCumulative</th>\n",
       "      <th>inIcuCurrently</th>\n",
       "      <th>inIcuCumulative</th>\n",
       "      <th>onVentilatorCurrently</th>\n",
       "      <th>...</th>\n",
       "      <th>density</th>\n",
       "      <th>lat</th>\n",
       "      <th>long</th>\n",
       "      <th>Lived</th>\n",
       "      <th>Standard</th>\n",
       "      <th>fips_y</th>\n",
       "      <th>case_pm</th>\n",
       "      <th>death_pm</th>\n",
       "      <th>deaths_14MA</th>\n",
       "      <th>cases_14MA</th>\n",
       "    </tr>\n",
       "  </thead>\n",
       "  <tbody>\n",
       "    <tr>\n",
       "      <th>0</th>\n",
       "      <td>2020-08-31</td>\n",
       "      <td>AK</td>\n",
       "      <td>6125.0</td>\n",
       "      <td>342505.0</td>\n",
       "      <td>NaN</td>\n",
       "      <td>39.0</td>\n",
       "      <td>NaN</td>\n",
       "      <td>NaN</td>\n",
       "      <td>NaN</td>\n",
       "      <td>8.0</td>\n",
       "      <td>...</td>\n",
       "      <td>1.2863</td>\n",
       "      <td>63.59</td>\n",
       "      <td>-154.49</td>\n",
       "      <td>27.0</td>\n",
       "      <td>1.0</td>\n",
       "      <td>2.0</td>\n",
       "      <td>8344.663911</td>\n",
       "      <td>50.408582</td>\n",
       "      <td>NaN</td>\n",
       "      <td>NaN</td>\n",
       "    </tr>\n",
       "    <tr>\n",
       "      <th>1</th>\n",
       "      <td>2020-08-31</td>\n",
       "      <td>AL</td>\n",
       "      <td>126058.0</td>\n",
       "      <td>859229.0</td>\n",
       "      <td>NaN</td>\n",
       "      <td>1004.0</td>\n",
       "      <td>14267.0</td>\n",
       "      <td>NaN</td>\n",
       "      <td>1474.0</td>\n",
       "      <td>NaN</td>\n",
       "      <td>...</td>\n",
       "      <td>96.9221</td>\n",
       "      <td>32.32</td>\n",
       "      <td>-86.90</td>\n",
       "      <td>93.0</td>\n",
       "      <td>37.0</td>\n",
       "      <td>1.0</td>\n",
       "      <td>25680.939718</td>\n",
       "      <td>444.524032</td>\n",
       "      <td>NaN</td>\n",
       "      <td>NaN</td>\n",
       "    </tr>\n",
       "    <tr>\n",
       "      <th>2</th>\n",
       "      <td>2020-08-31</td>\n",
       "      <td>AR</td>\n",
       "      <td>61224.0</td>\n",
       "      <td>665811.0</td>\n",
       "      <td>NaN</td>\n",
       "      <td>420.0</td>\n",
       "      <td>4213.0</td>\n",
       "      <td>NaN</td>\n",
       "      <td>NaN</td>\n",
       "      <td>87.0</td>\n",
       "      <td>...</td>\n",
       "      <td>58.4030</td>\n",
       "      <td>35.20</td>\n",
       "      <td>-91.83</td>\n",
       "      <td>68.0</td>\n",
       "      <td>22.0</td>\n",
       "      <td>5.0</td>\n",
       "      <td>20146.107320</td>\n",
       "      <td>262.257408</td>\n",
       "      <td>NaN</td>\n",
       "      <td>NaN</td>\n",
       "    </tr>\n",
       "    <tr>\n",
       "      <th>3</th>\n",
       "      <td>2020-08-31</td>\n",
       "      <td>AS</td>\n",
       "      <td>0.0</td>\n",
       "      <td>1514.0</td>\n",
       "      <td>NaN</td>\n",
       "      <td>NaN</td>\n",
       "      <td>NaN</td>\n",
       "      <td>NaN</td>\n",
       "      <td>NaN</td>\n",
       "      <td>NaN</td>\n",
       "      <td>...</td>\n",
       "      <td>NaN</td>\n",
       "      <td>NaN</td>\n",
       "      <td>NaN</td>\n",
       "      <td>NaN</td>\n",
       "      <td>NaN</td>\n",
       "      <td>NaN</td>\n",
       "      <td>NaN</td>\n",
       "      <td>NaN</td>\n",
       "      <td>NaN</td>\n",
       "      <td>NaN</td>\n",
       "    </tr>\n",
       "    <tr>\n",
       "      <th>4</th>\n",
       "      <td>2020-08-31</td>\n",
       "      <td>AZ</td>\n",
       "      <td>201835.0</td>\n",
       "      <td>1002594.0</td>\n",
       "      <td>NaN</td>\n",
       "      <td>768.0</td>\n",
       "      <td>21405.0</td>\n",
       "      <td>256.0</td>\n",
       "      <td>NaN</td>\n",
       "      <td>152.0</td>\n",
       "      <td>...</td>\n",
       "      <td>64.9550</td>\n",
       "      <td>34.05</td>\n",
       "      <td>-111.09</td>\n",
       "      <td>125.0</td>\n",
       "      <td>23.0</td>\n",
       "      <td>4.0</td>\n",
       "      <td>27354.498086</td>\n",
       "      <td>681.575400</td>\n",
       "      <td>NaN</td>\n",
       "      <td>NaN</td>\n",
       "    </tr>\n",
       "  </tbody>\n",
       "</table>\n",
       "<p>5 rows × 66 columns</p>\n",
       "</div>"
      ],
      "text/plain": [
       "         date state  positive   negative  pending  hospitalizedCurrently  \\\n",
       "0  2020-08-31    AK    6125.0   342505.0      NaN                   39.0   \n",
       "1  2020-08-31    AL  126058.0   859229.0      NaN                 1004.0   \n",
       "2  2020-08-31    AR   61224.0   665811.0      NaN                  420.0   \n",
       "3  2020-08-31    AS       0.0     1514.0      NaN                    NaN   \n",
       "4  2020-08-31    AZ  201835.0  1002594.0      NaN                  768.0   \n",
       "\n",
       "   hospitalizedCumulative  inIcuCurrently  inIcuCumulative  \\\n",
       "0                     NaN             NaN              NaN   \n",
       "1                 14267.0             NaN           1474.0   \n",
       "2                  4213.0             NaN              NaN   \n",
       "3                     NaN             NaN              NaN   \n",
       "4                 21405.0           256.0              NaN   \n",
       "\n",
       "   onVentilatorCurrently  ...  density    lat    long  Lived Standard fips_y  \\\n",
       "0                    8.0  ...   1.2863  63.59 -154.49   27.0      1.0    2.0   \n",
       "1                    NaN  ...  96.9221  32.32  -86.90   93.0     37.0    1.0   \n",
       "2                   87.0  ...  58.4030  35.20  -91.83   68.0     22.0    5.0   \n",
       "3                    NaN  ...      NaN    NaN     NaN    NaN      NaN    NaN   \n",
       "4                  152.0  ...  64.9550  34.05 -111.09  125.0     23.0    4.0   \n",
       "\n",
       "        case_pm    death_pm deaths_14MA  cases_14MA  \n",
       "0   8344.663911   50.408582         NaN         NaN  \n",
       "1  25680.939718  444.524032         NaN         NaN  \n",
       "2  20146.107320  262.257408         NaN         NaN  \n",
       "3           NaN         NaN         NaN         NaN  \n",
       "4  27354.498086  681.575400         NaN         NaN  \n",
       "\n",
       "[5 rows x 66 columns]"
      ]
     },
     "execution_count": 60,
     "metadata": {},
     "output_type": "execute_result"
    }
   ],
   "source": [
    "df.head()"
   ]
  },
  {
   "cell_type": "markdown",
   "metadata": {},
   "source": [
    "### Trying to zip and save"
   ]
  },
  {
   "cell_type": "code",
   "execution_count": 30,
   "metadata": {},
   "outputs": [
    {
     "data": {
      "text/html": [
       "<div>\n",
       "<style scoped>\n",
       "    .dataframe tbody tr th:only-of-type {\n",
       "        vertical-align: middle;\n",
       "    }\n",
       "\n",
       "    .dataframe tbody tr th {\n",
       "        vertical-align: top;\n",
       "    }\n",
       "\n",
       "    .dataframe thead th {\n",
       "        text-align: right;\n",
       "    }\n",
       "</style>\n",
       "<table border=\"1\" class=\"dataframe\">\n",
       "  <thead>\n",
       "    <tr style=\"text-align: right;\">\n",
       "      <th></th>\n",
       "      <th>date</th>\n",
       "      <th>county</th>\n",
       "      <th>state</th>\n",
       "      <th>fips</th>\n",
       "      <th>cases</th>\n",
       "      <th>deaths</th>\n",
       "      <th>SUMLEV</th>\n",
       "      <th>REGION</th>\n",
       "      <th>DIVISION</th>\n",
       "      <th>STATE</th>\n",
       "      <th>...</th>\n",
       "      <th>CTYNAME</th>\n",
       "      <th>POPESTIMATE2019</th>\n",
       "      <th>CENSUS2010POP</th>\n",
       "      <th>FIPS</th>\n",
       "      <th>casesPerMillion</th>\n",
       "      <th>deathsPerMillion</th>\n",
       "      <th>case_diff</th>\n",
       "      <th>death_diff</th>\n",
       "      <th>cases_14MA</th>\n",
       "      <th>deaths_14MA</th>\n",
       "    </tr>\n",
       "  </thead>\n",
       "  <tbody>\n",
       "    <tr>\n",
       "      <th>0</th>\n",
       "      <td>2020-01-21</td>\n",
       "      <td>Snohomish</td>\n",
       "      <td>Washington</td>\n",
       "      <td>53061.0</td>\n",
       "      <td>1</td>\n",
       "      <td>0</td>\n",
       "      <td>50.0</td>\n",
       "      <td>4.0</td>\n",
       "      <td>9.0</td>\n",
       "      <td>53.0</td>\n",
       "      <td>...</td>\n",
       "      <td>Snohomish County</td>\n",
       "      <td>822083.0</td>\n",
       "      <td>713335.0</td>\n",
       "      <td>53061.0</td>\n",
       "      <td>1.216422</td>\n",
       "      <td>0.0</td>\n",
       "      <td>NaN</td>\n",
       "      <td>NaN</td>\n",
       "      <td>NaN</td>\n",
       "      <td>NaN</td>\n",
       "    </tr>\n",
       "    <tr>\n",
       "      <th>1</th>\n",
       "      <td>2020-01-22</td>\n",
       "      <td>Snohomish</td>\n",
       "      <td>Washington</td>\n",
       "      <td>53061.0</td>\n",
       "      <td>1</td>\n",
       "      <td>0</td>\n",
       "      <td>50.0</td>\n",
       "      <td>4.0</td>\n",
       "      <td>9.0</td>\n",
       "      <td>53.0</td>\n",
       "      <td>...</td>\n",
       "      <td>Snohomish County</td>\n",
       "      <td>822083.0</td>\n",
       "      <td>713335.0</td>\n",
       "      <td>53061.0</td>\n",
       "      <td>1.216422</td>\n",
       "      <td>0.0</td>\n",
       "      <td>0.0</td>\n",
       "      <td>0.0</td>\n",
       "      <td>NaN</td>\n",
       "      <td>NaN</td>\n",
       "    </tr>\n",
       "    <tr>\n",
       "      <th>2</th>\n",
       "      <td>2020-01-23</td>\n",
       "      <td>Snohomish</td>\n",
       "      <td>Washington</td>\n",
       "      <td>53061.0</td>\n",
       "      <td>1</td>\n",
       "      <td>0</td>\n",
       "      <td>50.0</td>\n",
       "      <td>4.0</td>\n",
       "      <td>9.0</td>\n",
       "      <td>53.0</td>\n",
       "      <td>...</td>\n",
       "      <td>Snohomish County</td>\n",
       "      <td>822083.0</td>\n",
       "      <td>713335.0</td>\n",
       "      <td>53061.0</td>\n",
       "      <td>1.216422</td>\n",
       "      <td>0.0</td>\n",
       "      <td>0.0</td>\n",
       "      <td>0.0</td>\n",
       "      <td>NaN</td>\n",
       "      <td>NaN</td>\n",
       "    </tr>\n",
       "    <tr>\n",
       "      <th>3</th>\n",
       "      <td>2020-01-24</td>\n",
       "      <td>Cook</td>\n",
       "      <td>Illinois</td>\n",
       "      <td>17031.0</td>\n",
       "      <td>1</td>\n",
       "      <td>0</td>\n",
       "      <td>50.0</td>\n",
       "      <td>2.0</td>\n",
       "      <td>3.0</td>\n",
       "      <td>17.0</td>\n",
       "      <td>...</td>\n",
       "      <td>Cook County</td>\n",
       "      <td>5150233.0</td>\n",
       "      <td>5194675.0</td>\n",
       "      <td>17031.0</td>\n",
       "      <td>0.194166</td>\n",
       "      <td>0.0</td>\n",
       "      <td>NaN</td>\n",
       "      <td>NaN</td>\n",
       "      <td>NaN</td>\n",
       "      <td>NaN</td>\n",
       "    </tr>\n",
       "    <tr>\n",
       "      <th>4</th>\n",
       "      <td>2020-01-24</td>\n",
       "      <td>Snohomish</td>\n",
       "      <td>Washington</td>\n",
       "      <td>53061.0</td>\n",
       "      <td>1</td>\n",
       "      <td>0</td>\n",
       "      <td>50.0</td>\n",
       "      <td>4.0</td>\n",
       "      <td>9.0</td>\n",
       "      <td>53.0</td>\n",
       "      <td>...</td>\n",
       "      <td>Snohomish County</td>\n",
       "      <td>822083.0</td>\n",
       "      <td>713335.0</td>\n",
       "      <td>53061.0</td>\n",
       "      <td>1.216422</td>\n",
       "      <td>0.0</td>\n",
       "      <td>0.0</td>\n",
       "      <td>0.0</td>\n",
       "      <td>NaN</td>\n",
       "      <td>NaN</td>\n",
       "    </tr>\n",
       "  </tbody>\n",
       "</table>\n",
       "<p>5 rows × 22 columns</p>\n",
       "</div>"
      ],
      "text/plain": [
       "         date     county       state     fips  cases  deaths  SUMLEV  REGION  \\\n",
       "0  2020-01-21  Snohomish  Washington  53061.0      1       0    50.0     4.0   \n",
       "1  2020-01-22  Snohomish  Washington  53061.0      1       0    50.0     4.0   \n",
       "2  2020-01-23  Snohomish  Washington  53061.0      1       0    50.0     4.0   \n",
       "3  2020-01-24       Cook    Illinois  17031.0      1       0    50.0     2.0   \n",
       "4  2020-01-24  Snohomish  Washington  53061.0      1       0    50.0     4.0   \n",
       "\n",
       "   DIVISION  STATE  ...           CTYNAME POPESTIMATE2019 CENSUS2010POP  \\\n",
       "0       9.0   53.0  ...  Snohomish County        822083.0      713335.0   \n",
       "1       9.0   53.0  ...  Snohomish County        822083.0      713335.0   \n",
       "2       9.0   53.0  ...  Snohomish County        822083.0      713335.0   \n",
       "3       3.0   17.0  ...       Cook County       5150233.0     5194675.0   \n",
       "4       9.0   53.0  ...  Snohomish County        822083.0      713335.0   \n",
       "\n",
       "      FIPS  casesPerMillion  deathsPerMillion  case_diff  death_diff  \\\n",
       "0  53061.0         1.216422               0.0        NaN         NaN   \n",
       "1  53061.0         1.216422               0.0        0.0         0.0   \n",
       "2  53061.0         1.216422               0.0        0.0         0.0   \n",
       "3  17031.0         0.194166               0.0        NaN         NaN   \n",
       "4  53061.0         1.216422               0.0        0.0         0.0   \n",
       "\n",
       "   cases_14MA  deaths_14MA  \n",
       "0         NaN          NaN  \n",
       "1         NaN          NaN  \n",
       "2         NaN          NaN  \n",
       "3         NaN          NaN  \n",
       "4         NaN          NaN  \n",
       "\n",
       "[5 rows x 22 columns]"
      ]
     },
     "execution_count": 30,
     "metadata": {},
     "output_type": "execute_result"
    }
   ],
   "source": [
    "covid_counties.head()"
   ]
  },
  {
   "cell_type": "code",
   "execution_count": 31,
   "metadata": {},
   "outputs": [],
   "source": [
    "# write a pandas dataframe to gzipped CSV file\n",
    "covid_counties.to_csv(\"data/education_salary.csv.gz\", \n",
    "           index=False, \n",
    "           compression=\"gzip\")"
   ]
  },
  {
   "cell_type": "code",
   "execution_count": null,
   "metadata": {},
   "outputs": [],
   "source": [
    "pd.read_csv()"
   ]
  },
  {
   "cell_type": "code",
   "execution_count": 34,
   "metadata": {},
   "outputs": [],
   "source": [
    "a = pd.read_csv(\"data/education_salary.csv.gz\", compression=\"gzip\")"
   ]
  },
  {
   "cell_type": "code",
   "execution_count": 35,
   "metadata": {},
   "outputs": [
    {
     "data": {
      "text/html": [
       "<div>\n",
       "<style scoped>\n",
       "    .dataframe tbody tr th:only-of-type {\n",
       "        vertical-align: middle;\n",
       "    }\n",
       "\n",
       "    .dataframe tbody tr th {\n",
       "        vertical-align: top;\n",
       "    }\n",
       "\n",
       "    .dataframe thead th {\n",
       "        text-align: right;\n",
       "    }\n",
       "</style>\n",
       "<table border=\"1\" class=\"dataframe\">\n",
       "  <thead>\n",
       "    <tr style=\"text-align: right;\">\n",
       "      <th></th>\n",
       "      <th>date</th>\n",
       "      <th>county</th>\n",
       "      <th>state</th>\n",
       "      <th>fips</th>\n",
       "      <th>cases</th>\n",
       "      <th>deaths</th>\n",
       "      <th>SUMLEV</th>\n",
       "      <th>REGION</th>\n",
       "      <th>DIVISION</th>\n",
       "      <th>STATE</th>\n",
       "      <th>...</th>\n",
       "      <th>CTYNAME</th>\n",
       "      <th>POPESTIMATE2019</th>\n",
       "      <th>CENSUS2010POP</th>\n",
       "      <th>FIPS</th>\n",
       "      <th>casesPerMillion</th>\n",
       "      <th>deathsPerMillion</th>\n",
       "      <th>case_diff</th>\n",
       "      <th>death_diff</th>\n",
       "      <th>cases_14MA</th>\n",
       "      <th>deaths_14MA</th>\n",
       "    </tr>\n",
       "  </thead>\n",
       "  <tbody>\n",
       "    <tr>\n",
       "      <th>0</th>\n",
       "      <td>2020-01-21</td>\n",
       "      <td>Snohomish</td>\n",
       "      <td>Washington</td>\n",
       "      <td>53061.0</td>\n",
       "      <td>1</td>\n",
       "      <td>0</td>\n",
       "      <td>50.0</td>\n",
       "      <td>4.0</td>\n",
       "      <td>9.0</td>\n",
       "      <td>53.0</td>\n",
       "      <td>...</td>\n",
       "      <td>Snohomish County</td>\n",
       "      <td>822083.0</td>\n",
       "      <td>713335.0</td>\n",
       "      <td>53061.0</td>\n",
       "      <td>1.216422</td>\n",
       "      <td>0.0</td>\n",
       "      <td>NaN</td>\n",
       "      <td>NaN</td>\n",
       "      <td>NaN</td>\n",
       "      <td>NaN</td>\n",
       "    </tr>\n",
       "    <tr>\n",
       "      <th>1</th>\n",
       "      <td>2020-01-22</td>\n",
       "      <td>Snohomish</td>\n",
       "      <td>Washington</td>\n",
       "      <td>53061.0</td>\n",
       "      <td>1</td>\n",
       "      <td>0</td>\n",
       "      <td>50.0</td>\n",
       "      <td>4.0</td>\n",
       "      <td>9.0</td>\n",
       "      <td>53.0</td>\n",
       "      <td>...</td>\n",
       "      <td>Snohomish County</td>\n",
       "      <td>822083.0</td>\n",
       "      <td>713335.0</td>\n",
       "      <td>53061.0</td>\n",
       "      <td>1.216422</td>\n",
       "      <td>0.0</td>\n",
       "      <td>0.0</td>\n",
       "      <td>0.0</td>\n",
       "      <td>NaN</td>\n",
       "      <td>NaN</td>\n",
       "    </tr>\n",
       "    <tr>\n",
       "      <th>2</th>\n",
       "      <td>2020-01-23</td>\n",
       "      <td>Snohomish</td>\n",
       "      <td>Washington</td>\n",
       "      <td>53061.0</td>\n",
       "      <td>1</td>\n",
       "      <td>0</td>\n",
       "      <td>50.0</td>\n",
       "      <td>4.0</td>\n",
       "      <td>9.0</td>\n",
       "      <td>53.0</td>\n",
       "      <td>...</td>\n",
       "      <td>Snohomish County</td>\n",
       "      <td>822083.0</td>\n",
       "      <td>713335.0</td>\n",
       "      <td>53061.0</td>\n",
       "      <td>1.216422</td>\n",
       "      <td>0.0</td>\n",
       "      <td>0.0</td>\n",
       "      <td>0.0</td>\n",
       "      <td>NaN</td>\n",
       "      <td>NaN</td>\n",
       "    </tr>\n",
       "    <tr>\n",
       "      <th>3</th>\n",
       "      <td>2020-01-24</td>\n",
       "      <td>Cook</td>\n",
       "      <td>Illinois</td>\n",
       "      <td>17031.0</td>\n",
       "      <td>1</td>\n",
       "      <td>0</td>\n",
       "      <td>50.0</td>\n",
       "      <td>2.0</td>\n",
       "      <td>3.0</td>\n",
       "      <td>17.0</td>\n",
       "      <td>...</td>\n",
       "      <td>Cook County</td>\n",
       "      <td>5150233.0</td>\n",
       "      <td>5194675.0</td>\n",
       "      <td>17031.0</td>\n",
       "      <td>0.194166</td>\n",
       "      <td>0.0</td>\n",
       "      <td>NaN</td>\n",
       "      <td>NaN</td>\n",
       "      <td>NaN</td>\n",
       "      <td>NaN</td>\n",
       "    </tr>\n",
       "    <tr>\n",
       "      <th>4</th>\n",
       "      <td>2020-01-24</td>\n",
       "      <td>Snohomish</td>\n",
       "      <td>Washington</td>\n",
       "      <td>53061.0</td>\n",
       "      <td>1</td>\n",
       "      <td>0</td>\n",
       "      <td>50.0</td>\n",
       "      <td>4.0</td>\n",
       "      <td>9.0</td>\n",
       "      <td>53.0</td>\n",
       "      <td>...</td>\n",
       "      <td>Snohomish County</td>\n",
       "      <td>822083.0</td>\n",
       "      <td>713335.0</td>\n",
       "      <td>53061.0</td>\n",
       "      <td>1.216422</td>\n",
       "      <td>0.0</td>\n",
       "      <td>0.0</td>\n",
       "      <td>0.0</td>\n",
       "      <td>NaN</td>\n",
       "      <td>NaN</td>\n",
       "    </tr>\n",
       "  </tbody>\n",
       "</table>\n",
       "<p>5 rows × 22 columns</p>\n",
       "</div>"
      ],
      "text/plain": [
       "         date     county       state     fips  cases  deaths  SUMLEV  REGION  \\\n",
       "0  2020-01-21  Snohomish  Washington  53061.0      1       0    50.0     4.0   \n",
       "1  2020-01-22  Snohomish  Washington  53061.0      1       0    50.0     4.0   \n",
       "2  2020-01-23  Snohomish  Washington  53061.0      1       0    50.0     4.0   \n",
       "3  2020-01-24       Cook    Illinois  17031.0      1       0    50.0     2.0   \n",
       "4  2020-01-24  Snohomish  Washington  53061.0      1       0    50.0     4.0   \n",
       "\n",
       "   DIVISION  STATE  ...           CTYNAME POPESTIMATE2019 CENSUS2010POP  \\\n",
       "0       9.0   53.0  ...  Snohomish County        822083.0      713335.0   \n",
       "1       9.0   53.0  ...  Snohomish County        822083.0      713335.0   \n",
       "2       9.0   53.0  ...  Snohomish County        822083.0      713335.0   \n",
       "3       3.0   17.0  ...       Cook County       5150233.0     5194675.0   \n",
       "4       9.0   53.0  ...  Snohomish County        822083.0      713335.0   \n",
       "\n",
       "      FIPS  casesPerMillion  deathsPerMillion  case_diff  death_diff  \\\n",
       "0  53061.0         1.216422               0.0        NaN         NaN   \n",
       "1  53061.0         1.216422               0.0        0.0         0.0   \n",
       "2  53061.0         1.216422               0.0        0.0         0.0   \n",
       "3  17031.0         0.194166               0.0        NaN         NaN   \n",
       "4  53061.0         1.216422               0.0        0.0         0.0   \n",
       "\n",
       "   cases_14MA  deaths_14MA  \n",
       "0         NaN          NaN  \n",
       "1         NaN          NaN  \n",
       "2         NaN          NaN  \n",
       "3         NaN          NaN  \n",
       "4         NaN          NaN  \n",
       "\n",
       "[5 rows x 22 columns]"
      ]
     },
     "execution_count": 35,
     "metadata": {},
     "output_type": "execute_result"
    }
   ],
   "source": [
    "a.head()"
   ]
  },
  {
   "cell_type": "code",
   "execution_count": null,
   "metadata": {},
   "outputs": [],
   "source": []
  }
 ],
 "metadata": {
  "kernelspec": {
   "display_name": "Python 3",
   "language": "python",
   "name": "python3"
  },
  "language_info": {
   "codemirror_mode": {
    "name": "ipython",
    "version": 3
   },
   "file_extension": ".py",
   "mimetype": "text/x-python",
   "name": "python",
   "nbconvert_exporter": "python",
   "pygments_lexer": "ipython3",
   "version": "3.7.7"
  }
 },
 "nbformat": 4,
 "nbformat_minor": 4
}
