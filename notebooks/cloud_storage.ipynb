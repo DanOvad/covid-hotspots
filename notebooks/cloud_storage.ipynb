{
 "cells": [
  {
   "cell_type": "markdown",
   "metadata": {},
   "source": [
    "# Accessing data from Google Cloud Storage\n",
    "\n",
    "### Purpose\n",
    "The purpose of this notebook is to explore using Google Cloud Storage to cache covid data to reduce the need to request and process the data each time the heroku server is accessed.\n",
    "\n",
    "- First, connect and read from cloud storage, from a notebook.\n",
    "- Second, write to cloud to storage, from a notebook.\n",
    "- Third, update the heroku server and test reading from cloud storage.\n",
    "- Fourth, write a script that will request and process data from the source and write to cloud storage."
   ]
  },
  {
   "cell_type": "markdown",
   "metadata": {},
   "source": [
    "## Set Up\n",
    "First we need to knock this notebook one directory up to the root directory of the app.\n",
    "\n",
    "This is just for cleanliness purposes; to keep all notebooks in a notebooks directory."
   ]
  },
  {
   "cell_type": "code",
   "execution_count": 1,
   "metadata": {},
   "outputs": [
    {
     "data": {
      "text/plain": [
       "'/Users/DanOvadia/Projects/covid-hotspots/notebooks'"
      ]
     },
     "execution_count": 1,
     "metadata": {},
     "output_type": "execute_result"
    }
   ],
   "source": [
    "pwd"
   ]
  },
  {
   "cell_type": "code",
   "execution_count": 2,
   "metadata": {},
   "outputs": [
    {
     "name": "stdout",
     "output_type": "stream",
     "text": [
      "/Users/DanOvadia/Projects/covid-hotspots\n"
     ]
    }
   ],
   "source": [
    "cd .."
   ]
  },
  {
   "cell_type": "code",
   "execution_count": 3,
   "metadata": {},
   "outputs": [],
   "source": [
    "import pandas as pd\n",
    "from os import path\n",
    "from google.cloud import storage\n",
    "\n",
    "from config import config\n",
    "\n",
    "%load_ext autoreload\n",
    "%autoreload 1\n",
    "%aimport config.config"
   ]
  },
  {
   "cell_type": "markdown",
   "metadata": {},
   "source": [
    "In order to access google cloud storage we need to set an environment variable `GOOGLE_APPLICATION_CREDENTIALS` for this session. This environment variable will point towards the service account credentials json.\n",
    "\n",
    "In the actual app, we will handle this separately."
   ]
  },
  {
   "cell_type": "code",
   "execution_count": 5,
   "metadata": {},
   "outputs": [],
   "source": [
    "# App Engine default service account credentials \n",
    "config_file = config.config.service_account_credentials_file"
   ]
  },
  {
   "cell_type": "code",
   "execution_count": 7,
   "metadata": {},
   "outputs": [
    {
     "name": "stdout",
     "output_type": "stream",
     "text": [
      "env: GOOGLE_APPLICATION_CREDENTIALS=/Users/DanOvadia/Projects/covid-hotspots/config/ytd-shared-project-eb630837f7b3.json\n"
     ]
    }
   ],
   "source": [
    "# Assign enviroment variable\n",
    "%env GOOGLE_APPLICATION_CREDENTIALS=/Users/DanOvadia/Projects/covid-hotspots/config/$config_file"
   ]
  },
  {
   "cell_type": "markdown",
   "metadata": {},
   "source": [
    "Lets test to see if we've established our authentication for google cloud storage."
   ]
  },
  {
   "cell_type": "code",
   "execution_count": 13,
   "metadata": {},
   "outputs": [
    {
     "name": "stdout",
     "output_type": "stream",
     "text": [
      "[<Bucket: staging.ytd-shared-project.appspot.com>, <Bucket: us.artifacts.ytd-shared-project.appspot.com>, <Bucket: us_covid_hotspot-bucket>, <Bucket: ytd-shared-project.appspot.com>]\n"
     ]
    }
   ],
   "source": [
    "def implicit():\n",
    "    from google.cloud import storage\n",
    "\n",
    "    # If you don't specify credentials when constructing the client, the\n",
    "    # client library will look for credentials in the environment.\n",
    "    storage_client = storage.Client()\n",
    "\n",
    "    # Make an authenticated API request\n",
    "    buckets = list(storage_client.list_buckets())\n",
    "    print(buckets)\n",
    "implicit()"
   ]
  },
  {
   "cell_type": "markdown",
   "metadata": {},
   "source": [
    "Yup, we look good. Now, lets import the data."
   ]
  },
  {
   "cell_type": "markdown",
   "metadata": {},
   "source": [
    "## Read from Cloud Storage"
   ]
  },
  {
   "cell_type": "code",
   "execution_count": 10,
   "metadata": {},
   "outputs": [],
   "source": [
    "df = pd.read_csv('gs://us_covid_hotspot-bucket/covid_counties_20200831.csv')"
   ]
  },
  {
   "cell_type": "code",
   "execution_count": 11,
   "metadata": {},
   "outputs": [
    {
     "data": {
      "text/html": [
       "<div>\n",
       "<style scoped>\n",
       "    .dataframe tbody tr th:only-of-type {\n",
       "        vertical-align: middle;\n",
       "    }\n",
       "\n",
       "    .dataframe tbody tr th {\n",
       "        vertical-align: top;\n",
       "    }\n",
       "\n",
       "    .dataframe thead th {\n",
       "        text-align: right;\n",
       "    }\n",
       "</style>\n",
       "<table border=\"1\" class=\"dataframe\">\n",
       "  <thead>\n",
       "    <tr style=\"text-align: right;\">\n",
       "      <th></th>\n",
       "      <th>date</th>\n",
       "      <th>county</th>\n",
       "      <th>state</th>\n",
       "      <th>fips</th>\n",
       "      <th>cases</th>\n",
       "      <th>deaths</th>\n",
       "      <th>SUMLEV</th>\n",
       "      <th>REGION</th>\n",
       "      <th>DIVISION</th>\n",
       "      <th>STATE</th>\n",
       "      <th>...</th>\n",
       "      <th>CTYNAME</th>\n",
       "      <th>POPESTIMATE2019</th>\n",
       "      <th>CENSUS2010POP</th>\n",
       "      <th>FIPS</th>\n",
       "      <th>casesPerMillion</th>\n",
       "      <th>deathsPerMillion</th>\n",
       "      <th>case_diff</th>\n",
       "      <th>death_diff</th>\n",
       "      <th>cases_14MA</th>\n",
       "      <th>deaths_14MA</th>\n",
       "    </tr>\n",
       "  </thead>\n",
       "  <tbody>\n",
       "    <tr>\n",
       "      <th>0</th>\n",
       "      <td>2020-01-21</td>\n",
       "      <td>Snohomish</td>\n",
       "      <td>Washington</td>\n",
       "      <td>53061.0</td>\n",
       "      <td>1</td>\n",
       "      <td>0</td>\n",
       "      <td>50.0</td>\n",
       "      <td>4.0</td>\n",
       "      <td>9.0</td>\n",
       "      <td>53.0</td>\n",
       "      <td>...</td>\n",
       "      <td>Snohomish County</td>\n",
       "      <td>822083.0</td>\n",
       "      <td>713335.0</td>\n",
       "      <td>53061.0</td>\n",
       "      <td>1.216422</td>\n",
       "      <td>0.0</td>\n",
       "      <td>NaN</td>\n",
       "      <td>NaN</td>\n",
       "      <td>NaN</td>\n",
       "      <td>NaN</td>\n",
       "    </tr>\n",
       "    <tr>\n",
       "      <th>1</th>\n",
       "      <td>2020-01-22</td>\n",
       "      <td>Snohomish</td>\n",
       "      <td>Washington</td>\n",
       "      <td>53061.0</td>\n",
       "      <td>1</td>\n",
       "      <td>0</td>\n",
       "      <td>50.0</td>\n",
       "      <td>4.0</td>\n",
       "      <td>9.0</td>\n",
       "      <td>53.0</td>\n",
       "      <td>...</td>\n",
       "      <td>Snohomish County</td>\n",
       "      <td>822083.0</td>\n",
       "      <td>713335.0</td>\n",
       "      <td>53061.0</td>\n",
       "      <td>1.216422</td>\n",
       "      <td>0.0</td>\n",
       "      <td>0.0</td>\n",
       "      <td>0.0</td>\n",
       "      <td>NaN</td>\n",
       "      <td>NaN</td>\n",
       "    </tr>\n",
       "    <tr>\n",
       "      <th>2</th>\n",
       "      <td>2020-01-23</td>\n",
       "      <td>Snohomish</td>\n",
       "      <td>Washington</td>\n",
       "      <td>53061.0</td>\n",
       "      <td>1</td>\n",
       "      <td>0</td>\n",
       "      <td>50.0</td>\n",
       "      <td>4.0</td>\n",
       "      <td>9.0</td>\n",
       "      <td>53.0</td>\n",
       "      <td>...</td>\n",
       "      <td>Snohomish County</td>\n",
       "      <td>822083.0</td>\n",
       "      <td>713335.0</td>\n",
       "      <td>53061.0</td>\n",
       "      <td>1.216422</td>\n",
       "      <td>0.0</td>\n",
       "      <td>0.0</td>\n",
       "      <td>0.0</td>\n",
       "      <td>NaN</td>\n",
       "      <td>NaN</td>\n",
       "    </tr>\n",
       "    <tr>\n",
       "      <th>3</th>\n",
       "      <td>2020-01-24</td>\n",
       "      <td>Cook</td>\n",
       "      <td>Illinois</td>\n",
       "      <td>17031.0</td>\n",
       "      <td>1</td>\n",
       "      <td>0</td>\n",
       "      <td>50.0</td>\n",
       "      <td>2.0</td>\n",
       "      <td>3.0</td>\n",
       "      <td>17.0</td>\n",
       "      <td>...</td>\n",
       "      <td>Cook County</td>\n",
       "      <td>5150233.0</td>\n",
       "      <td>5194675.0</td>\n",
       "      <td>17031.0</td>\n",
       "      <td>0.194166</td>\n",
       "      <td>0.0</td>\n",
       "      <td>NaN</td>\n",
       "      <td>NaN</td>\n",
       "      <td>NaN</td>\n",
       "      <td>NaN</td>\n",
       "    </tr>\n",
       "    <tr>\n",
       "      <th>4</th>\n",
       "      <td>2020-01-24</td>\n",
       "      <td>Snohomish</td>\n",
       "      <td>Washington</td>\n",
       "      <td>53061.0</td>\n",
       "      <td>1</td>\n",
       "      <td>0</td>\n",
       "      <td>50.0</td>\n",
       "      <td>4.0</td>\n",
       "      <td>9.0</td>\n",
       "      <td>53.0</td>\n",
       "      <td>...</td>\n",
       "      <td>Snohomish County</td>\n",
       "      <td>822083.0</td>\n",
       "      <td>713335.0</td>\n",
       "      <td>53061.0</td>\n",
       "      <td>1.216422</td>\n",
       "      <td>0.0</td>\n",
       "      <td>0.0</td>\n",
       "      <td>0.0</td>\n",
       "      <td>NaN</td>\n",
       "      <td>NaN</td>\n",
       "    </tr>\n",
       "  </tbody>\n",
       "</table>\n",
       "<p>5 rows × 22 columns</p>\n",
       "</div>"
      ],
      "text/plain": [
       "         date     county       state     fips  cases  deaths  SUMLEV  REGION  \\\n",
       "0  2020-01-21  Snohomish  Washington  53061.0      1       0    50.0     4.0   \n",
       "1  2020-01-22  Snohomish  Washington  53061.0      1       0    50.0     4.0   \n",
       "2  2020-01-23  Snohomish  Washington  53061.0      1       0    50.0     4.0   \n",
       "3  2020-01-24       Cook    Illinois  17031.0      1       0    50.0     2.0   \n",
       "4  2020-01-24  Snohomish  Washington  53061.0      1       0    50.0     4.0   \n",
       "\n",
       "   DIVISION  STATE  ...           CTYNAME POPESTIMATE2019 CENSUS2010POP  \\\n",
       "0       9.0   53.0  ...  Snohomish County        822083.0      713335.0   \n",
       "1       9.0   53.0  ...  Snohomish County        822083.0      713335.0   \n",
       "2       9.0   53.0  ...  Snohomish County        822083.0      713335.0   \n",
       "3       3.0   17.0  ...       Cook County       5150233.0     5194675.0   \n",
       "4       9.0   53.0  ...  Snohomish County        822083.0      713335.0   \n",
       "\n",
       "      FIPS  casesPerMillion  deathsPerMillion  case_diff  death_diff  \\\n",
       "0  53061.0         1.216422               0.0        NaN         NaN   \n",
       "1  53061.0         1.216422               0.0        0.0         0.0   \n",
       "2  53061.0         1.216422               0.0        0.0         0.0   \n",
       "3  17031.0         0.194166               0.0        NaN         NaN   \n",
       "4  53061.0         1.216422               0.0        0.0         0.0   \n",
       "\n",
       "   cases_14MA  deaths_14MA  \n",
       "0         NaN          NaN  \n",
       "1         NaN          NaN  \n",
       "2         NaN          NaN  \n",
       "3         NaN          NaN  \n",
       "4         NaN          NaN  \n",
       "\n",
       "[5 rows x 22 columns]"
      ]
     },
     "execution_count": 11,
     "metadata": {},
     "output_type": "execute_result"
    }
   ],
   "source": [
    "df.head()"
   ]
  },
  {
   "cell_type": "code",
   "execution_count": null,
   "metadata": {},
   "outputs": [],
   "source": []
  }
 ],
 "metadata": {
  "kernelspec": {
   "display_name": "Python 3",
   "language": "python",
   "name": "python3"
  },
  "language_info": {
   "codemirror_mode": {
    "name": "ipython",
    "version": 3
   },
   "file_extension": ".py",
   "mimetype": "text/x-python",
   "name": "python",
   "nbconvert_exporter": "python",
   "pygments_lexer": "ipython3",
   "version": "3.7.7"
  }
 },
 "nbformat": 4,
 "nbformat_minor": 4
}
