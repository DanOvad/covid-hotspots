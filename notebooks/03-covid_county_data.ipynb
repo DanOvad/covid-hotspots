{
 "cells": [
  {
   "cell_type": "markdown",
   "metadata": {},
   "source": [
    "# County Covid Data in the United States\n",
    "\n",
    "In this notebook, we well be pulling in coronavirus data from The New York Times's github. The data are provided at a county-level resolution, with only deaths and cases provided for each county.\n",
    "\n",
    "In this notebook, we will assess whats available, the accuracy of the data, and the potential for processing to make use of these data in visualizations."
   ]
  },
  {
   "cell_type": "markdown",
   "metadata": {},
   "source": [
    "---\n",
    "\n",
    "## 1. Notebook Setup\n",
    "\n",
    "First, we need to make sure we are in the root directory of the project to import custom modules. These notebooks are stored in `notebooks/` for cleanliness."
   ]
  },
  {
   "cell_type": "code",
   "execution_count": 1,
   "metadata": {},
   "outputs": [
    {
     "data": {
      "text/plain": [
       "'/Users/DanOvadia/Projects/covid-hotspots/notebooks'"
      ]
     },
     "execution_count": 1,
     "metadata": {},
     "output_type": "execute_result"
    }
   ],
   "source": [
    "pwd"
   ]
  },
  {
   "cell_type": "code",
   "execution_count": 2,
   "metadata": {},
   "outputs": [
    {
     "name": "stdout",
     "output_type": "stream",
     "text": [
      "/Users/DanOvadia/Projects/covid-hotspots\n"
     ]
    }
   ],
   "source": [
    "cd .."
   ]
  },
  {
   "cell_type": "markdown",
   "metadata": {},
   "source": [
    "### Import Libraries"
   ]
  },
  {
   "cell_type": "code",
   "execution_count": 3,
   "metadata": {},
   "outputs": [],
   "source": [
    "# To hold and manipulate data\n",
    "import pandas as pd\n",
    "\n",
    "# To check across all dates for data accuracy\n",
    "from datetime import date, timedelta\n",
    "\n",
    "# To track times\n",
    "import time"
   ]
  },
  {
   "cell_type": "markdown",
   "metadata": {},
   "source": [
    "### Import Custom Modules"
   ]
  },
  {
   "cell_type": "code",
   "execution_count": 4,
   "metadata": {},
   "outputs": [],
   "source": [
    "from modules import data_processing\n",
    "from modules import plotting # not needed, but available\n",
    "\n",
    "# Extension to auto reload custom modules\n",
    "%load_ext autoreload\n",
    "\n",
    "%autoreload 1\n",
    "\n",
    "%aimport modules.data_processing\n",
    "%aimport modules.plotting"
   ]
  },
  {
   "cell_type": "markdown",
   "metadata": {},
   "source": [
    "---\n",
    "\n",
    "## 2. Data Importing"
   ]
  },
  {
   "cell_type": "markdown",
   "metadata": {},
   "source": [
    "### County Coronavirus Data\n",
    "We import data from [New York Times GitHub](https://github.com/nytimes/covid-19-data) to get county level coronavirus data."
   ]
  },
  {
   "cell_type": "code",
   "execution_count": 26,
   "metadata": {},
   "outputs": [],
   "source": [
    "URL = 'https://raw.githubusercontent.com/nytimes/covid-19-data/master/us-counties.csv'\n",
    "\n",
    "COVID_COUNTIES_DF = pd.read_csv(URL)"
   ]
  },
  {
   "cell_type": "code",
   "execution_count": 27,
   "metadata": {},
   "outputs": [
    {
     "name": "stdout",
     "output_type": "stream",
     "text": [
      "<class 'pandas.core.frame.DataFrame'>\n",
      "RangeIndex: 495663 entries, 0 to 495662\n",
      "Data columns (total 6 columns):\n",
      " #   Column  Non-Null Count   Dtype  \n",
      "---  ------  --------------   -----  \n",
      " 0   date    495663 non-null  object \n",
      " 1   county  495663 non-null  object \n",
      " 2   state   495663 non-null  object \n",
      " 3   fips    490889 non-null  float64\n",
      " 4   cases   495663 non-null  int64  \n",
      " 5   deaths  495663 non-null  int64  \n",
      "dtypes: float64(1), int64(2), object(3)\n",
      "memory usage: 22.7+ MB\n"
     ]
    }
   ],
   "source": [
    "COVID_COUNTIES_DF.info()"
   ]
  },
  {
   "cell_type": "markdown",
   "metadata": {},
   "source": [
    "---\n",
    "\n",
    "## 3 - Cleaning\n",
    "\n",
    "We will need to change `date` to datetime, and change `fips` to a string of length 5.\n",
    "\n",
    "Since the fips-code will be our link to the geojson in choropleth graphs, we will need to check if we are missing any and how we can potentially match them manually."
   ]
  },
  {
   "cell_type": "code",
   "execution_count": 28,
   "metadata": {},
   "outputs": [],
   "source": [
    "# Set date format\n",
    "COVID_COUNTIES_DF['date'] = pd.to_datetime(COVID_COUNTIES_DF['date'], format = '%Y-%m-%d')\n",
    "\n",
    "# Reassign our fips to be a string of length 5\n",
    "COVID_COUNTIES_DF['fips'] = COVID_COUNTIES_DF['fips'].astype(str).apply(lambda x: '0'+x[:4] if len(x) == 6 else x[:5])"
   ]
  },
  {
   "cell_type": "code",
   "execution_count": 29,
   "metadata": {},
   "outputs": [],
   "source": [
    "COVID_COUNTIES_DF = COVID_COUNTIES_DF.merge(data_processing.get_census_county_data(),\n",
    "                how='left',\n",
    "                left_on='fips',\n",
    "                right_on='FIPS')"
   ]
  },
  {
   "cell_type": "code",
   "execution_count": 30,
   "metadata": {},
   "outputs": [
    {
     "name": "stdout",
     "output_type": "stream",
     "text": [
      "<class 'pandas.core.frame.DataFrame'>\n",
      "Int64Index: 495663 entries, 0 to 495662\n",
      "Data columns (total 11 columns):\n",
      " #   Column           Non-Null Count   Dtype         \n",
      "---  ------           --------------   -----         \n",
      " 0   date             495663 non-null  datetime64[ns]\n",
      " 1   county           495663 non-null  object        \n",
      " 2   state            495663 non-null  object        \n",
      " 3   fips             495663 non-null  object        \n",
      " 4   cases            495663 non-null  int64         \n",
      " 5   deaths           495663 non-null  int64         \n",
      " 6   FIPS             480936 non-null  object        \n",
      " 7   STATE            480936 non-null  float64       \n",
      " 8   COUNTY           480936 non-null  float64       \n",
      " 9   POPESTIMATE2019  480936 non-null  float64       \n",
      " 10  CENSUS2010POP    480936 non-null  float64       \n",
      "dtypes: datetime64[ns](1), float64(4), int64(2), object(4)\n",
      "memory usage: 45.4+ MB\n"
     ]
    }
   ],
   "source": [
    "COVID_COUNTIES_DF.info()"
   ]
  },
  {
   "cell_type": "code",
   "execution_count": 31,
   "metadata": {},
   "outputs": [
    {
     "data": {
      "text/plain": [
       "0         1.216422e-06\n",
       "1         1.216422e-06\n",
       "2         1.216422e-06\n",
       "3         1.941660e-07\n",
       "4         1.216422e-06\n",
       "              ...     \n",
       "495658    7.179463e-03\n",
       "495659    1.845380e-02\n",
       "495660    1.498072e-02\n",
       "495661    1.383728e-02\n",
       "495662    2.742890e-03\n",
       "Length: 495663, dtype: float64"
      ]
     },
     "execution_count": 31,
     "metadata": {},
     "output_type": "execute_result"
    }
   ],
   "source": [
    "COVID_COUNTIES_DF['cases']/COVID_COUNTIES_DF['POPESTIMATE2019']"
   ]
  },
  {
   "cell_type": "code",
   "execution_count": 32,
   "metadata": {},
   "outputs": [],
   "source": [
    "# Cases Per Million\n",
    "COVID_COUNTIES_DF['casesPerMillion']=COVID_COUNTIES_DF['cases']/COVID_COUNTIES_DF['POPESTIMATE2019']*1000000"
   ]
  },
  {
   "cell_type": "code",
   "execution_count": 34,
   "metadata": {},
   "outputs": [],
   "source": [
    "COVID_COUNTIES_DF['case_diff'] = COVID_COUNTIES_DF.groupby(\n",
    "        by = ['fips','county','state'])['cases'].diff()"
   ]
  },
  {
   "cell_type": "code",
   "execution_count": 49,
   "metadata": {},
   "outputs": [],
   "source": [
    "COVID_COUNTIES_DF['cases_14MA'] = COVID_COUNTIES_DF.groupby(\n",
    "    by=['fips','county','state'], \n",
    "    as_index=False)['case_diff'].rolling(14).mean().reset_index(level=[0,1,2], drop=True)"
   ]
  },
  {
   "cell_type": "code",
   "execution_count": 48,
   "metadata": {},
   "outputs": [
    {
     "data": {
      "text/plain": [
       "9480            NaN\n",
       "10835           NaN\n",
       "12367           NaN\n",
       "14025           NaN\n",
       "15803           NaN\n",
       "            ...    \n",
       "495629    26.285714\n",
       "43197           NaN\n",
       "45795           NaN\n",
       "56455           NaN\n",
       "59163           NaN\n",
       "Name: case_diff, Length: 495663, dtype: float64"
      ]
     },
     "execution_count": 48,
     "metadata": {},
     "output_type": "execute_result"
    }
   ],
   "source": [
    "a"
   ]
  },
  {
   "cell_type": "markdown",
   "metadata": {},
   "source": [
    "---\n",
    "\n",
    "## 4 - Checks"
   ]
  },
  {
   "cell_type": "markdown",
   "metadata": {},
   "source": [
    "### Checking consistency across dates\n",
    "\n",
    "- Check if any county has holes in their reporting. Make sure dates are consistent from first reporting date to today.\n",
    "\n",
    "- Create a list of counties that have never reported.\n",
    "\n",
    "- Create a list of counties that have errors with their fips codes, find them and repiar them."
   ]
  },
  {
   "cell_type": "code",
   "execution_count": 16,
   "metadata": {},
   "outputs": [
    {
     "data": {
      "text/plain": [
       "0"
      ]
     },
     "execution_count": 16,
     "metadata": {},
     "output_type": "execute_result"
    }
   ],
   "source": [
    "# Check for nulls\n",
    "COVID_COUNTIES_DF['fips'].isna().sum()"
   ]
  },
  {
   "cell_type": "markdown",
   "metadata": {},
   "source": [
    "That's odd. I know there are nulls in here, since NYC is included as one county. I think they just record it as a string. Lets check, NYC."
   ]
  },
  {
   "cell_type": "code",
   "execution_count": 27,
   "metadata": {},
   "outputs": [
    {
     "data": {
      "text/html": [
       "<div>\n",
       "<style scoped>\n",
       "    .dataframe tbody tr th:only-of-type {\n",
       "        vertical-align: middle;\n",
       "    }\n",
       "\n",
       "    .dataframe tbody tr th {\n",
       "        vertical-align: top;\n",
       "    }\n",
       "\n",
       "    .dataframe thead th {\n",
       "        text-align: right;\n",
       "    }\n",
       "</style>\n",
       "<table border=\"1\" class=\"dataframe\">\n",
       "  <thead>\n",
       "    <tr style=\"text-align: right;\">\n",
       "      <th></th>\n",
       "      <th>date</th>\n",
       "      <th>county</th>\n",
       "      <th>state</th>\n",
       "      <th>fips</th>\n",
       "      <th>cases</th>\n",
       "      <th>deaths</th>\n",
       "    </tr>\n",
       "  </thead>\n",
       "  <tbody>\n",
       "    <tr>\n",
       "      <th>416</th>\n",
       "      <td>2020-03-01</td>\n",
       "      <td>New York City</td>\n",
       "      <td>New York</td>\n",
       "      <td>nan</td>\n",
       "      <td>1</td>\n",
       "      <td>0</td>\n",
       "    </tr>\n",
       "    <tr>\n",
       "      <th>448</th>\n",
       "      <td>2020-03-02</td>\n",
       "      <td>New York City</td>\n",
       "      <td>New York</td>\n",
       "      <td>nan</td>\n",
       "      <td>1</td>\n",
       "      <td>0</td>\n",
       "    </tr>\n",
       "  </tbody>\n",
       "</table>\n",
       "</div>"
      ],
      "text/plain": [
       "          date         county     state fips  cases  deaths\n",
       "416 2020-03-01  New York City  New York  nan      1       0\n",
       "448 2020-03-02  New York City  New York  nan      1       0"
      ]
     },
     "execution_count": 27,
     "metadata": {},
     "output_type": "execute_result"
    }
   ],
   "source": [
    "COVID_COUNTIES_DF[COVID_COUNTIES_DF['county'] == 'New York City'].head(2)"
   ]
  },
  {
   "cell_type": "code",
   "execution_count": 28,
   "metadata": {},
   "outputs": [
    {
     "name": "stdout",
     "output_type": "stream",
     "text": [
      "<class 'str'>\n"
     ]
    },
    {
     "data": {
      "text/plain": [
       "'nan'"
      ]
     },
     "execution_count": 28,
     "metadata": {},
     "output_type": "execute_result"
    }
   ],
   "source": [
    "# Check the type of fips for NYC and return a sample\n",
    "print(type(COVID_COUNTIES_DF[COVID_COUNTIES_DF['county'] == 'New York City']['fips'].iloc[0]))\n",
    "COVID_COUNTIES_DF[COVID_COUNTIES_DF['county'] == 'New York City']['fips'].iloc[0]"
   ]
  },
  {
   "cell_type": "code",
   "execution_count": 14,
   "metadata": {},
   "outputs": [
    {
     "data": {
      "text/plain": [
       "4743"
      ]
     },
     "execution_count": 14,
     "metadata": {},
     "output_type": "execute_result"
    }
   ],
   "source": [
    "# Check the number of \"nan\" strings in covid counties.\n",
    "(COVID_COUNTIES_DF['fips'] == 'nan').sum()"
   ]
  },
  {
   "cell_type": "markdown",
   "metadata": {},
   "source": [
    "That seems like a lot of nulls, but remember this dataset has almost half a million rows, and there are 3,141 counties in the United States."
   ]
  },
  {
   "cell_type": "code",
   "execution_count": 32,
   "metadata": {},
   "outputs": [
    {
     "data": {
      "text/plain": [
       "185"
      ]
     },
     "execution_count": 32,
     "metadata": {},
     "output_type": "execute_result"
    }
   ],
   "source": [
    "# Number of days since March 1st.\n",
    "len(pd.date_range(start='2020-03-01',end='2020-09-01'))"
   ]
  },
  {
   "cell_type": "markdown",
   "metadata": {},
   "source": [
    "The pandemic has also been raging in the United States for around 185 days.\n",
    "\n",
    "Lets get a list of (unique county), state pairs that have null fips."
   ]
  },
  {
   "cell_type": "code",
   "execution_count": 108,
   "metadata": {},
   "outputs": [
    {
     "data": {
      "text/plain": [
       "54"
      ]
     },
     "execution_count": 108,
     "metadata": {},
     "output_type": "execute_result"
    }
   ],
   "source": [
    "# Create a mask of counties with fips = 'nan'\n",
    "NAN_COUNTY_MASK = (COVID_COUNTIES_DF['fips'] == 'nan')\n",
    "DATE_MASK = (COVID_COUNTIES_DF['date'] == '2020-09-01')\n",
    "\n",
    "# Subset our data and only grab county/state names\n",
    "NAN_COUNTY_SERIES = COVID_COUNTIES_DF[nan_mask].apply(lambda x: (str(x['county']), str(x['state'])), axis = 1)\n",
    "\n",
    "# Grab a unique set of county, state tuples\n",
    "NAN_UNIQUE_COUNTIES = list(pd.unique(NAN_SERIES))\n",
    "\n",
    "# Return the length of our list\n",
    "len(NAN_UNIQUE_COUNTIES)"
   ]
  },
  {
   "cell_type": "markdown",
   "metadata": {},
   "source": [
    "Lets see how many cases and deaths are coming from these nan counties (Specifically as of today)"
   ]
  },
  {
   "cell_type": "code",
   "execution_count": 109,
   "metadata": {},
   "outputs": [
    {
     "name": "stdout",
     "output_type": "stream",
     "text": [
      "Cases: 269322\n",
      "Deaths: 24328\n"
     ]
    }
   ],
   "source": [
    "print(f\"Cases: {COVID_COUNTIES_DF[NAN_COUNTY_MASK & DATE_MASK]['cases'].sum()}\")\n",
    "print(f\"Deaths: {COVID_COUNTIES_DF[NAN_COUNTY_MASK & DATE_MASK]['deaths'].sum()}\")"
   ]
  },
  {
   "cell_type": "markdown",
   "metadata": {},
   "source": [
    "Most of these cases are definitely coming from New York. If we fix the non-Unknown values. That will likely make a big difference in our data accuracy. We can also examine to see how many cases are in the unknown counties separately."
   ]
  },
  {
   "cell_type": "code",
   "execution_count": 58,
   "metadata": {},
   "outputs": [
    {
     "data": {
      "text/plain": [
       "[('New York City', 'New York'),\n",
       " ('Unknown', 'Rhode Island'),\n",
       " ('Unknown', 'New Jersey'),\n",
       " ('Unknown', 'Puerto Rico'),\n",
       " ('Unknown', 'Virgin Islands'),\n",
       " ('Unknown', 'Guam'),\n",
       " ('Unknown', 'Maine'),\n",
       " ('Unknown', 'Massachusetts'),\n",
       " ('Unknown', 'Louisiana'),\n",
       " ('Unknown', 'Kentucky'),\n",
       " ('Unknown', 'Nevada'),\n",
       " ('Unknown', 'Tennessee'),\n",
       " ('Unknown', 'Arkansas'),\n",
       " ('Unknown', 'Georgia'),\n",
       " ('Kansas City', 'Missouri'),\n",
       " ('Unknown', 'Missouri'),\n",
       " ('Unknown', 'Minnesota'),\n",
       " ('Unknown', 'California'),\n",
       " ('Unknown', 'Colorado'),\n",
       " ('Unknown', 'Florida'),\n",
       " ('Unknown', 'Hawaii'),\n",
       " ('Unknown', 'Illinois'),\n",
       " ('Unknown', 'Vermont'),\n",
       " ('Unknown', 'Arizona'),\n",
       " ('Unknown', 'Michigan'),\n",
       " ('Unknown', 'Texas'),\n",
       " ('Unknown', 'Virginia'),\n",
       " ('Unknown', 'Washington'),\n",
       " ('Unknown', 'Utah'),\n",
       " ('Unknown', 'Idaho'),\n",
       " ('Unknown', 'Mississippi'),\n",
       " ('Unknown', 'Northern Mariana Islands'),\n",
       " ('Unknown', 'New York'),\n",
       " ('Unknown', 'Connecticut'),\n",
       " ('Unknown', 'Nebraska'),\n",
       " ('Unknown', 'Montana'),\n",
       " ('Unknown', 'Pennsylvania'),\n",
       " ('Unknown', 'Indiana'),\n",
       " ('Unknown', 'Iowa'),\n",
       " ('Unknown', 'Maryland'),\n",
       " ('Unknown', 'Oklahoma'),\n",
       " ('Unknown', 'West Virginia'),\n",
       " ('Unknown', 'Alaska'),\n",
       " ('Unknown', 'New Mexico'),\n",
       " ('Unknown', 'New Hampshire'),\n",
       " ('Unknown', 'South Dakota'),\n",
       " ('Unknown', 'Kansas'),\n",
       " ('Unknown', 'Wyoming'),\n",
       " ('Unknown', 'Delaware'),\n",
       " ('Unknown', 'North Dakota'),\n",
       " ('Unknown', 'Ohio'),\n",
       " ('Unknown', 'Wisconsin'),\n",
       " ('Joplin', 'Missouri'),\n",
       " ('Unknown', 'South Carolina')]"
      ]
     },
     "execution_count": 58,
     "metadata": {},
     "output_type": "execute_result"
    }
   ],
   "source": [
    "NAN_UNIQUE_COUNTIES"
   ]
  },
  {
   "cell_type": "markdown",
   "metadata": {},
   "source": [
    "These unknown county names could very well represent multiple counties. Will have to dig deeper later to determine if they are unique or multiple."
   ]
  },
  {
   "cell_type": "markdown",
   "metadata": {},
   "source": [
    "#### Investigating California's Unknown county\n",
    "\n",
    "Lets take one example and see if this is just an error with one county. Or if this represents something broadly more wrong with these data."
   ]
  },
  {
   "cell_type": "code",
   "execution_count": 116,
   "metadata": {},
   "outputs": [
    {
     "name": "stdout",
     "output_type": "stream",
     "text": [
      "Kansas\n",
      "16 county dates\n",
      "Average of 0.0 cases\n",
      "Average of 2.4375 deaths\n"
     ]
    }
   ],
   "source": [
    "def check_state_nans(df, state):\n",
    "    state_mask = (df['state'] == state)\n",
    "    county_mask = (df['county'] == 'Unknown')\n",
    "    state_nans = df[state_mask & county_mask]\n",
    "    print(f\"{state}\")\n",
    "    print(f\"{len(state_nans)} county dates\")\n",
    "    print(f\"Average of {state_nans['cases'].mean()} cases\")\n",
    "    print(f\"Average of {state_nans['deaths'].mean()} deaths\")\n",
    "    \n",
    "#for state in \n",
    "check_state_nans(COVID_COUNTIES_DF, 'Kansas')"
   ]
  },
  {
   "cell_type": "code",
   "execution_count": 94,
   "metadata": {},
   "outputs": [],
   "source": [
    "a = list(pd.unique(COVID_COUNTIES_DF[STATE_MASK]['county']))"
   ]
  },
  {
   "cell_type": "code",
   "execution_count": 95,
   "metadata": {},
   "outputs": [],
   "source": [
    "a.sort()"
   ]
  },
  {
   "cell_type": "code",
   "execution_count": 97,
   "metadata": {},
   "outputs": [
    {
     "data": {
      "text/plain": [
       "96"
      ]
     },
     "execution_count": 97,
     "metadata": {},
     "output_type": "execute_result"
    }
   ],
   "source": [
    "len(a)"
   ]
  },
  {
   "cell_type": "code",
   "execution_count": null,
   "metadata": {},
   "outputs": [],
   "source": []
  },
  {
   "cell_type": "code",
   "execution_count": 82,
   "metadata": {},
   "outputs": [],
   "source": [
    "df = pd.read_csv('data/census_county_est2019.csv')"
   ]
  },
  {
   "cell_type": "code",
   "execution_count": 84,
   "metadata": {},
   "outputs": [],
   "source": [
    "state_mask = (df['STNAME'] == 'Tennessee')"
   ]
  },
  {
   "cell_type": "code",
   "execution_count": 89,
   "metadata": {},
   "outputs": [
    {
     "data": {
      "text/plain": [
       "96"
      ]
     },
     "execution_count": 89,
     "metadata": {},
     "output_type": "execute_result"
    }
   ],
   "source": [
    "state_mask.sum()"
   ]
  },
  {
   "cell_type": "code",
   "execution_count": 88,
   "metadata": {},
   "outputs": [
    {
     "data": {
      "text/html": [
       "<div>\n",
       "<style scoped>\n",
       "    .dataframe tbody tr th:only-of-type {\n",
       "        vertical-align: middle;\n",
       "    }\n",
       "\n",
       "    .dataframe tbody tr th {\n",
       "        vertical-align: top;\n",
       "    }\n",
       "\n",
       "    .dataframe thead th {\n",
       "        text-align: right;\n",
       "    }\n",
       "</style>\n",
       "<table border=\"1\" class=\"dataframe\">\n",
       "  <thead>\n",
       "    <tr style=\"text-align: right;\">\n",
       "      <th></th>\n",
       "      <th>SUMLEV</th>\n",
       "      <th>REGION</th>\n",
       "      <th>DIVISION</th>\n",
       "      <th>STATE</th>\n",
       "      <th>COUNTY</th>\n",
       "      <th>STNAME</th>\n",
       "      <th>CTYNAME</th>\n",
       "      <th>CENSUS2010POP</th>\n",
       "      <th>ESTIMATESBASE2010</th>\n",
       "      <th>POPESTIMATE2010</th>\n",
       "      <th>...</th>\n",
       "      <th>RDOMESTICMIG2019</th>\n",
       "      <th>RNETMIG2011</th>\n",
       "      <th>RNETMIG2012</th>\n",
       "      <th>RNETMIG2013</th>\n",
       "      <th>RNETMIG2014</th>\n",
       "      <th>RNETMIG2015</th>\n",
       "      <th>RNETMIG2016</th>\n",
       "      <th>RNETMIG2017</th>\n",
       "      <th>RNETMIG2018</th>\n",
       "      <th>RNETMIG2019</th>\n",
       "    </tr>\n",
       "  </thead>\n",
       "  <tbody>\n",
       "    <tr>\n",
       "      <th>2471</th>\n",
       "      <td>50</td>\n",
       "      <td>3</td>\n",
       "      <td>6</td>\n",
       "      <td>47</td>\n",
       "      <td>1</td>\n",
       "      <td>Tennessee</td>\n",
       "      <td>Anderson County</td>\n",
       "      <td>75129</td>\n",
       "      <td>75082</td>\n",
       "      <td>75098</td>\n",
       "      <td>...</td>\n",
       "      <td>10.217597</td>\n",
       "      <td>2.448322</td>\n",
       "      <td>2.113884</td>\n",
       "      <td>2.404932</td>\n",
       "      <td>0.611474</td>\n",
       "      <td>5.829510</td>\n",
       "      <td>3.046680</td>\n",
       "      <td>10.001056</td>\n",
       "      <td>5.592643</td>\n",
       "      <td>10.883111</td>\n",
       "    </tr>\n",
       "    <tr>\n",
       "      <th>2472</th>\n",
       "      <td>50</td>\n",
       "      <td>3</td>\n",
       "      <td>6</td>\n",
       "      <td>47</td>\n",
       "      <td>3</td>\n",
       "      <td>Tennessee</td>\n",
       "      <td>Bedford County</td>\n",
       "      <td>45058</td>\n",
       "      <td>45057</td>\n",
       "      <td>45078</td>\n",
       "      <td>...</td>\n",
       "      <td>5.725326</td>\n",
       "      <td>-0.132854</td>\n",
       "      <td>-3.734765</td>\n",
       "      <td>3.479448</td>\n",
       "      <td>11.370567</td>\n",
       "      <td>11.974377</td>\n",
       "      <td>7.988134</td>\n",
       "      <td>13.381703</td>\n",
       "      <td>15.181240</td>\n",
       "      <td>7.505639</td>\n",
       "    </tr>\n",
       "    <tr>\n",
       "      <th>2473</th>\n",
       "      <td>50</td>\n",
       "      <td>3</td>\n",
       "      <td>6</td>\n",
       "      <td>47</td>\n",
       "      <td>5</td>\n",
       "      <td>Tennessee</td>\n",
       "      <td>Benton County</td>\n",
       "      <td>16489</td>\n",
       "      <td>16491</td>\n",
       "      <td>16511</td>\n",
       "      <td>...</td>\n",
       "      <td>0.370302</td>\n",
       "      <td>3.874092</td>\n",
       "      <td>1.395039</td>\n",
       "      <td>-2.011888</td>\n",
       "      <td>-2.887244</td>\n",
       "      <td>6.663171</td>\n",
       "      <td>-3.033868</td>\n",
       "      <td>3.055339</td>\n",
       "      <td>21.836906</td>\n",
       "      <td>0.432019</td>\n",
       "    </tr>\n",
       "    <tr>\n",
       "      <th>2474</th>\n",
       "      <td>50</td>\n",
       "      <td>3</td>\n",
       "      <td>6</td>\n",
       "      <td>47</td>\n",
       "      <td>7</td>\n",
       "      <td>Tennessee</td>\n",
       "      <td>Bledsoe County</td>\n",
       "      <td>12876</td>\n",
       "      <td>12874</td>\n",
       "      <td>12884</td>\n",
       "      <td>...</td>\n",
       "      <td>13.089792</td>\n",
       "      <td>8.424795</td>\n",
       "      <td>-5.555984</td>\n",
       "      <td>71.545685</td>\n",
       "      <td>41.040442</td>\n",
       "      <td>6.941104</td>\n",
       "      <td>9.407274</td>\n",
       "      <td>12.891034</td>\n",
       "      <td>1.410437</td>\n",
       "      <td>14.559054</td>\n",
       "    </tr>\n",
       "    <tr>\n",
       "      <th>2475</th>\n",
       "      <td>50</td>\n",
       "      <td>3</td>\n",
       "      <td>6</td>\n",
       "      <td>47</td>\n",
       "      <td>9</td>\n",
       "      <td>Tennessee</td>\n",
       "      <td>Blount County</td>\n",
       "      <td>123010</td>\n",
       "      <td>123098</td>\n",
       "      <td>123199</td>\n",
       "      <td>...</td>\n",
       "      <td>13.932433</td>\n",
       "      <td>3.937407</td>\n",
       "      <td>2.777688</td>\n",
       "      <td>7.521153</td>\n",
       "      <td>8.216304</td>\n",
       "      <td>9.224647</td>\n",
       "      <td>11.096396</td>\n",
       "      <td>14.992469</td>\n",
       "      <td>11.671067</td>\n",
       "      <td>14.469459</td>\n",
       "    </tr>\n",
       "    <tr>\n",
       "      <th>...</th>\n",
       "      <td>...</td>\n",
       "      <td>...</td>\n",
       "      <td>...</td>\n",
       "      <td>...</td>\n",
       "      <td>...</td>\n",
       "      <td>...</td>\n",
       "      <td>...</td>\n",
       "      <td>...</td>\n",
       "      <td>...</td>\n",
       "      <td>...</td>\n",
       "      <td>...</td>\n",
       "      <td>...</td>\n",
       "      <td>...</td>\n",
       "      <td>...</td>\n",
       "      <td>...</td>\n",
       "      <td>...</td>\n",
       "      <td>...</td>\n",
       "      <td>...</td>\n",
       "      <td>...</td>\n",
       "      <td>...</td>\n",
       "      <td>...</td>\n",
       "    </tr>\n",
       "    <tr>\n",
       "      <th>2561</th>\n",
       "      <td>50</td>\n",
       "      <td>3</td>\n",
       "      <td>6</td>\n",
       "      <td>47</td>\n",
       "      <td>181</td>\n",
       "      <td>Tennessee</td>\n",
       "      <td>Wayne County</td>\n",
       "      <td>17021</td>\n",
       "      <td>17025</td>\n",
       "      <td>16985</td>\n",
       "      <td>...</td>\n",
       "      <td>6.605020</td>\n",
       "      <td>4.060615</td>\n",
       "      <td>-1.530627</td>\n",
       "      <td>1.003157</td>\n",
       "      <td>-0.118413</td>\n",
       "      <td>-0.535284</td>\n",
       "      <td>2.864475</td>\n",
       "      <td>-0.958428</td>\n",
       "      <td>3.305686</td>\n",
       "      <td>6.665065</td>\n",
       "    </tr>\n",
       "    <tr>\n",
       "      <th>2562</th>\n",
       "      <td>50</td>\n",
       "      <td>3</td>\n",
       "      <td>6</td>\n",
       "      <td>47</td>\n",
       "      <td>183</td>\n",
       "      <td>Tennessee</td>\n",
       "      <td>Weakley County</td>\n",
       "      <td>35021</td>\n",
       "      <td>35015</td>\n",
       "      <td>35044</td>\n",
       "      <td>...</td>\n",
       "      <td>-2.037728</td>\n",
       "      <td>-4.463455</td>\n",
       "      <td>-8.759419</td>\n",
       "      <td>-9.460187</td>\n",
       "      <td>-5.575445</td>\n",
       "      <td>-2.858279</td>\n",
       "      <td>-6.816633</td>\n",
       "      <td>-5.946067</td>\n",
       "      <td>4.315383</td>\n",
       "      <td>-1.018864</td>\n",
       "    </tr>\n",
       "    <tr>\n",
       "      <th>2563</th>\n",
       "      <td>50</td>\n",
       "      <td>3</td>\n",
       "      <td>6</td>\n",
       "      <td>47</td>\n",
       "      <td>185</td>\n",
       "      <td>Tennessee</td>\n",
       "      <td>White County</td>\n",
       "      <td>25841</td>\n",
       "      <td>25844</td>\n",
       "      <td>25828</td>\n",
       "      <td>...</td>\n",
       "      <td>12.125443</td>\n",
       "      <td>10.640349</td>\n",
       "      <td>1.881684</td>\n",
       "      <td>7.850797</td>\n",
       "      <td>5.680843</td>\n",
       "      <td>4.714291</td>\n",
       "      <td>7.764416</td>\n",
       "      <td>13.714844</td>\n",
       "      <td>15.264624</td>\n",
       "      <td>12.309162</td>\n",
       "    </tr>\n",
       "    <tr>\n",
       "      <th>2564</th>\n",
       "      <td>50</td>\n",
       "      <td>3</td>\n",
       "      <td>6</td>\n",
       "      <td>47</td>\n",
       "      <td>187</td>\n",
       "      <td>Tennessee</td>\n",
       "      <td>Williamson County</td>\n",
       "      <td>183182</td>\n",
       "      <td>183277</td>\n",
       "      <td>184143</td>\n",
       "      <td>...</td>\n",
       "      <td>20.557410</td>\n",
       "      <td>18.124537</td>\n",
       "      <td>19.024815</td>\n",
       "      <td>24.646110</td>\n",
       "      <td>25.123802</td>\n",
       "      <td>24.574338</td>\n",
       "      <td>28.970426</td>\n",
       "      <td>27.306378</td>\n",
       "      <td>21.369966</td>\n",
       "      <td>22.997938</td>\n",
       "    </tr>\n",
       "    <tr>\n",
       "      <th>2565</th>\n",
       "      <td>50</td>\n",
       "      <td>3</td>\n",
       "      <td>6</td>\n",
       "      <td>47</td>\n",
       "      <td>189</td>\n",
       "      <td>Tennessee</td>\n",
       "      <td>Wilson County</td>\n",
       "      <td>113993</td>\n",
       "      <td>114062</td>\n",
       "      <td>114677</td>\n",
       "      <td>...</td>\n",
       "      <td>21.497771</td>\n",
       "      <td>14.653724</td>\n",
       "      <td>15.876716</td>\n",
       "      <td>19.980675</td>\n",
       "      <td>22.201815</td>\n",
       "      <td>23.394671</td>\n",
       "      <td>26.916446</td>\n",
       "      <td>27.215484</td>\n",
       "      <td>27.149778</td>\n",
       "      <td>22.590166</td>\n",
       "    </tr>\n",
       "  </tbody>\n",
       "</table>\n",
       "<p>96 rows × 164 columns</p>\n",
       "</div>"
      ],
      "text/plain": [
       "      SUMLEV  REGION  DIVISION  STATE  COUNTY     STNAME            CTYNAME  \\\n",
       "2471      50       3         6     47       1  Tennessee    Anderson County   \n",
       "2472      50       3         6     47       3  Tennessee     Bedford County   \n",
       "2473      50       3         6     47       5  Tennessee      Benton County   \n",
       "2474      50       3         6     47       7  Tennessee     Bledsoe County   \n",
       "2475      50       3         6     47       9  Tennessee      Blount County   \n",
       "...      ...     ...       ...    ...     ...        ...                ...   \n",
       "2561      50       3         6     47     181  Tennessee       Wayne County   \n",
       "2562      50       3         6     47     183  Tennessee     Weakley County   \n",
       "2563      50       3         6     47     185  Tennessee       White County   \n",
       "2564      50       3         6     47     187  Tennessee  Williamson County   \n",
       "2565      50       3         6     47     189  Tennessee      Wilson County   \n",
       "\n",
       "      CENSUS2010POP  ESTIMATESBASE2010  POPESTIMATE2010  ...  \\\n",
       "2471          75129              75082            75098  ...   \n",
       "2472          45058              45057            45078  ...   \n",
       "2473          16489              16491            16511  ...   \n",
       "2474          12876              12874            12884  ...   \n",
       "2475         123010             123098           123199  ...   \n",
       "...             ...                ...              ...  ...   \n",
       "2561          17021              17025            16985  ...   \n",
       "2562          35021              35015            35044  ...   \n",
       "2563          25841              25844            25828  ...   \n",
       "2564         183182             183277           184143  ...   \n",
       "2565         113993             114062           114677  ...   \n",
       "\n",
       "      RDOMESTICMIG2019  RNETMIG2011  RNETMIG2012  RNETMIG2013  RNETMIG2014  \\\n",
       "2471         10.217597     2.448322     2.113884     2.404932     0.611474   \n",
       "2472          5.725326    -0.132854    -3.734765     3.479448    11.370567   \n",
       "2473          0.370302     3.874092     1.395039    -2.011888    -2.887244   \n",
       "2474         13.089792     8.424795    -5.555984    71.545685    41.040442   \n",
       "2475         13.932433     3.937407     2.777688     7.521153     8.216304   \n",
       "...                ...          ...          ...          ...          ...   \n",
       "2561          6.605020     4.060615    -1.530627     1.003157    -0.118413   \n",
       "2562         -2.037728    -4.463455    -8.759419    -9.460187    -5.575445   \n",
       "2563         12.125443    10.640349     1.881684     7.850797     5.680843   \n",
       "2564         20.557410    18.124537    19.024815    24.646110    25.123802   \n",
       "2565         21.497771    14.653724    15.876716    19.980675    22.201815   \n",
       "\n",
       "      RNETMIG2015  RNETMIG2016  RNETMIG2017  RNETMIG2018  RNETMIG2019  \n",
       "2471     5.829510     3.046680    10.001056     5.592643    10.883111  \n",
       "2472    11.974377     7.988134    13.381703    15.181240     7.505639  \n",
       "2473     6.663171    -3.033868     3.055339    21.836906     0.432019  \n",
       "2474     6.941104     9.407274    12.891034     1.410437    14.559054  \n",
       "2475     9.224647    11.096396    14.992469    11.671067    14.469459  \n",
       "...           ...          ...          ...          ...          ...  \n",
       "2561    -0.535284     2.864475    -0.958428     3.305686     6.665065  \n",
       "2562    -2.858279    -6.816633    -5.946067     4.315383    -1.018864  \n",
       "2563     4.714291     7.764416    13.714844    15.264624    12.309162  \n",
       "2564    24.574338    28.970426    27.306378    21.369966    22.997938  \n",
       "2565    23.394671    26.916446    27.215484    27.149778    22.590166  \n",
       "\n",
       "[96 rows x 164 columns]"
      ]
     },
     "execution_count": 88,
     "metadata": {},
     "output_type": "execute_result"
    }
   ],
   "source": [
    "df[state_mask].sort_values(by = 'CTYNAME')"
   ]
  },
  {
   "cell_type": "code",
   "execution_count": 90,
   "metadata": {},
   "outputs": [],
   "source": [
    "STATE_MASK = (COVID_COUNTIES_DF['state'] == 'Tennessee')\n",
    "COUNTY_MASK = (COVID_COUNTIES_DF['county'] == 'Unknown')\n",
    "\n",
    "CA_NAN = COVID_COUNTIES_DF[STATE_MASK & COUNTY_MASK]"
   ]
  },
  {
   "cell_type": "code",
   "execution_count": 91,
   "metadata": {},
   "outputs": [
    {
     "data": {
      "text/html": [
       "<div>\n",
       "<style scoped>\n",
       "    .dataframe tbody tr th:only-of-type {\n",
       "        vertical-align: middle;\n",
       "    }\n",
       "\n",
       "    .dataframe tbody tr th {\n",
       "        vertical-align: top;\n",
       "    }\n",
       "\n",
       "    .dataframe thead th {\n",
       "        text-align: right;\n",
       "    }\n",
       "</style>\n",
       "<table border=\"1\" class=\"dataframe\">\n",
       "  <thead>\n",
       "    <tr style=\"text-align: right;\">\n",
       "      <th></th>\n",
       "      <th>date</th>\n",
       "      <th>county</th>\n",
       "      <th>state</th>\n",
       "      <th>fips</th>\n",
       "      <th>cases</th>\n",
       "      <th>deaths</th>\n",
       "    </tr>\n",
       "  </thead>\n",
       "  <tbody>\n",
       "    <tr>\n",
       "      <th>5038</th>\n",
       "      <td>2020-03-19</td>\n",
       "      <td>Unknown</td>\n",
       "      <td>Tennessee</td>\n",
       "      <td>nan</td>\n",
       "      <td>2</td>\n",
       "      <td>0</td>\n",
       "    </tr>\n",
       "    <tr>\n",
       "      <th>5927</th>\n",
       "      <td>2020-03-20</td>\n",
       "      <td>Unknown</td>\n",
       "      <td>Tennessee</td>\n",
       "      <td>nan</td>\n",
       "      <td>2</td>\n",
       "      <td>0</td>\n",
       "    </tr>\n",
       "    <tr>\n",
       "      <th>6944</th>\n",
       "      <td>2020-03-21</td>\n",
       "      <td>Unknown</td>\n",
       "      <td>Tennessee</td>\n",
       "      <td>nan</td>\n",
       "      <td>8</td>\n",
       "      <td>0</td>\n",
       "    </tr>\n",
       "    <tr>\n",
       "      <th>8074</th>\n",
       "      <td>2020-03-22</td>\n",
       "      <td>Unknown</td>\n",
       "      <td>Tennessee</td>\n",
       "      <td>nan</td>\n",
       "      <td>28</td>\n",
       "      <td>0</td>\n",
       "    </tr>\n",
       "    <tr>\n",
       "      <th>9292</th>\n",
       "      <td>2020-03-23</td>\n",
       "      <td>Unknown</td>\n",
       "      <td>Tennessee</td>\n",
       "      <td>nan</td>\n",
       "      <td>109</td>\n",
       "      <td>0</td>\n",
       "    </tr>\n",
       "    <tr>\n",
       "      <th>...</th>\n",
       "      <td>...</td>\n",
       "      <td>...</td>\n",
       "      <td>...</td>\n",
       "      <td>...</td>\n",
       "      <td>...</td>\n",
       "      <td>...</td>\n",
       "    </tr>\n",
       "    <tr>\n",
       "      <th>478863</th>\n",
       "      <td>2020-08-28</td>\n",
       "      <td>Unknown</td>\n",
       "      <td>Tennessee</td>\n",
       "      <td>nan</td>\n",
       "      <td>206</td>\n",
       "      <td>0</td>\n",
       "    </tr>\n",
       "    <tr>\n",
       "      <th>482097</th>\n",
       "      <td>2020-08-29</td>\n",
       "      <td>Unknown</td>\n",
       "      <td>Tennessee</td>\n",
       "      <td>nan</td>\n",
       "      <td>146</td>\n",
       "      <td>5</td>\n",
       "    </tr>\n",
       "    <tr>\n",
       "      <th>485332</th>\n",
       "      <td>2020-08-30</td>\n",
       "      <td>Unknown</td>\n",
       "      <td>Tennessee</td>\n",
       "      <td>nan</td>\n",
       "      <td>102</td>\n",
       "      <td>5</td>\n",
       "    </tr>\n",
       "    <tr>\n",
       "      <th>488565</th>\n",
       "      <td>2020-08-31</td>\n",
       "      <td>Unknown</td>\n",
       "      <td>Tennessee</td>\n",
       "      <td>nan</td>\n",
       "      <td>43</td>\n",
       "      <td>5</td>\n",
       "    </tr>\n",
       "    <tr>\n",
       "      <th>491798</th>\n",
       "      <td>2020-09-01</td>\n",
       "      <td>Unknown</td>\n",
       "      <td>Tennessee</td>\n",
       "      <td>nan</td>\n",
       "      <td>67</td>\n",
       "      <td>6</td>\n",
       "    </tr>\n",
       "  </tbody>\n",
       "</table>\n",
       "<p>109 rows × 6 columns</p>\n",
       "</div>"
      ],
      "text/plain": [
       "             date   county      state fips  cases  deaths\n",
       "5038   2020-03-19  Unknown  Tennessee  nan      2       0\n",
       "5927   2020-03-20  Unknown  Tennessee  nan      2       0\n",
       "6944   2020-03-21  Unknown  Tennessee  nan      8       0\n",
       "8074   2020-03-22  Unknown  Tennessee  nan     28       0\n",
       "9292   2020-03-23  Unknown  Tennessee  nan    109       0\n",
       "...           ...      ...        ...  ...    ...     ...\n",
       "478863 2020-08-28  Unknown  Tennessee  nan    206       0\n",
       "482097 2020-08-29  Unknown  Tennessee  nan    146       5\n",
       "485332 2020-08-30  Unknown  Tennessee  nan    102       5\n",
       "488565 2020-08-31  Unknown  Tennessee  nan     43       5\n",
       "491798 2020-09-01  Unknown  Tennessee  nan     67       6\n",
       "\n",
       "[109 rows x 6 columns]"
      ]
     },
     "execution_count": 91,
     "metadata": {},
     "output_type": "execute_result"
    }
   ],
   "source": [
    "CA_NAN.sort_values(by='date', ascending = True)"
   ]
  },
  {
   "cell_type": "code",
   "execution_count": 65,
   "metadata": {},
   "outputs": [
    {
     "data": {
      "text/plain": [
       "30"
      ]
     },
     "execution_count": 65,
     "metadata": {},
     "output_type": "execute_result"
    }
   ],
   "source": [
    "len(CA_NAN)"
   ]
  },
  {
   "cell_type": "markdown",
   "metadata": {},
   "source": [
    "First of all the entries are not consecutive; there are gaps. Second, I would expect cases and deaths to be cumulative and therefore move in a positive direction. That is not the case here. Besides, only 9 unknown rows for California?\n",
    "\n",
    "These data could very well be coming from multiple counties or mistakes along the reporting pipeline."
   ]
  },
  {
   "cell_type": "code",
   "execution_count": null,
   "metadata": {},
   "outputs": [],
   "source": []
  },
  {
   "cell_type": "code",
   "execution_count": 5,
   "metadata": {},
   "outputs": [
    {
     "name": "stdout",
     "output_type": "stream",
     "text": [
      "Retrieving Covid County data\n",
      "Pulling county data from github.\n"
     ]
    },
    {
     "ename": "TypeError",
     "evalue": "incompatible index of inserted column with frame index",
     "output_type": "error",
     "traceback": [
      "\u001b[0;31m---------------------------------------------------------------------------\u001b[0m",
      "\u001b[0;31mValueError\u001b[0m                                Traceback (most recent call last)",
      "\u001b[0;32m~/opt/anaconda3/lib/python3.7/site-packages/pandas/core/frame.py\u001b[0m in \u001b[0;36mreindexer\u001b[0;34m(value)\u001b[0m\n\u001b[1;32m   3723\u001b[0m                 \u001b[0;32mtry\u001b[0m\u001b[0;34m:\u001b[0m\u001b[0;34m\u001b[0m\u001b[0;34m\u001b[0m\u001b[0m\n\u001b[0;32m-> 3724\u001b[0;31m                     \u001b[0mvalue\u001b[0m \u001b[0;34m=\u001b[0m \u001b[0mvalue\u001b[0m\u001b[0;34m.\u001b[0m\u001b[0mreindex\u001b[0m\u001b[0;34m(\u001b[0m\u001b[0mself\u001b[0m\u001b[0;34m.\u001b[0m\u001b[0mindex\u001b[0m\u001b[0;34m)\u001b[0m\u001b[0;34m.\u001b[0m\u001b[0m_values\u001b[0m\u001b[0;34m\u001b[0m\u001b[0;34m\u001b[0m\u001b[0m\n\u001b[0m\u001b[1;32m   3725\u001b[0m                 \u001b[0;32mexcept\u001b[0m \u001b[0mValueError\u001b[0m \u001b[0;32mas\u001b[0m \u001b[0merr\u001b[0m\u001b[0;34m:\u001b[0m\u001b[0;34m\u001b[0m\u001b[0;34m\u001b[0m\u001b[0m\n",
      "\u001b[0;32m~/opt/anaconda3/lib/python3.7/site-packages/pandas/core/series.py\u001b[0m in \u001b[0;36mreindex\u001b[0;34m(self, index, **kwargs)\u001b[0m\n\u001b[1;32m   4398\u001b[0m     \u001b[0;32mdef\u001b[0m \u001b[0mreindex\u001b[0m\u001b[0;34m(\u001b[0m\u001b[0mself\u001b[0m\u001b[0;34m,\u001b[0m \u001b[0mindex\u001b[0m\u001b[0;34m=\u001b[0m\u001b[0;32mNone\u001b[0m\u001b[0;34m,\u001b[0m \u001b[0;34m**\u001b[0m\u001b[0mkwargs\u001b[0m\u001b[0;34m)\u001b[0m\u001b[0;34m:\u001b[0m\u001b[0;34m\u001b[0m\u001b[0;34m\u001b[0m\u001b[0m\n\u001b[0;32m-> 4399\u001b[0;31m         \u001b[0;32mreturn\u001b[0m \u001b[0msuper\u001b[0m\u001b[0;34m(\u001b[0m\u001b[0;34m)\u001b[0m\u001b[0;34m.\u001b[0m\u001b[0mreindex\u001b[0m\u001b[0;34m(\u001b[0m\u001b[0mindex\u001b[0m\u001b[0;34m=\u001b[0m\u001b[0mindex\u001b[0m\u001b[0;34m,\u001b[0m \u001b[0;34m**\u001b[0m\u001b[0mkwargs\u001b[0m\u001b[0;34m)\u001b[0m\u001b[0;34m\u001b[0m\u001b[0;34m\u001b[0m\u001b[0m\n\u001b[0m\u001b[1;32m   4400\u001b[0m \u001b[0;34m\u001b[0m\u001b[0m\n",
      "\u001b[0;32m~/opt/anaconda3/lib/python3.7/site-packages/pandas/core/generic.py\u001b[0m in \u001b[0;36mreindex\u001b[0;34m(self, *args, **kwargs)\u001b[0m\n\u001b[1;32m   4452\u001b[0m         return self._reindex_axes(\n\u001b[0;32m-> 4453\u001b[0;31m             \u001b[0maxes\u001b[0m\u001b[0;34m,\u001b[0m \u001b[0mlevel\u001b[0m\u001b[0;34m,\u001b[0m \u001b[0mlimit\u001b[0m\u001b[0;34m,\u001b[0m \u001b[0mtolerance\u001b[0m\u001b[0;34m,\u001b[0m \u001b[0mmethod\u001b[0m\u001b[0;34m,\u001b[0m \u001b[0mfill_value\u001b[0m\u001b[0;34m,\u001b[0m \u001b[0mcopy\u001b[0m\u001b[0;34m\u001b[0m\u001b[0;34m\u001b[0m\u001b[0m\n\u001b[0m\u001b[1;32m   4454\u001b[0m         ).__finalize__(self, method=\"reindex\")\n",
      "\u001b[0;32m~/opt/anaconda3/lib/python3.7/site-packages/pandas/core/generic.py\u001b[0m in \u001b[0;36m_reindex_axes\u001b[0;34m(self, axes, level, limit, tolerance, method, fill_value, copy)\u001b[0m\n\u001b[1;32m   4467\u001b[0m             new_index, indexer = ax.reindex(\n\u001b[0;32m-> 4468\u001b[0;31m                 \u001b[0mlabels\u001b[0m\u001b[0;34m,\u001b[0m \u001b[0mlevel\u001b[0m\u001b[0;34m=\u001b[0m\u001b[0mlevel\u001b[0m\u001b[0;34m,\u001b[0m \u001b[0mlimit\u001b[0m\u001b[0;34m=\u001b[0m\u001b[0mlimit\u001b[0m\u001b[0;34m,\u001b[0m \u001b[0mtolerance\u001b[0m\u001b[0;34m=\u001b[0m\u001b[0mtolerance\u001b[0m\u001b[0;34m,\u001b[0m \u001b[0mmethod\u001b[0m\u001b[0;34m=\u001b[0m\u001b[0mmethod\u001b[0m\u001b[0;34m\u001b[0m\u001b[0;34m\u001b[0m\u001b[0m\n\u001b[0m\u001b[1;32m   4469\u001b[0m             )\n",
      "\u001b[0;32m~/opt/anaconda3/lib/python3.7/site-packages/pandas/core/indexes/multi.py\u001b[0m in \u001b[0;36mreindex\u001b[0;34m(self, target, method, level, limit, tolerance)\u001b[0m\n\u001b[1;32m   2324\u001b[0m                 \u001b[0;31m# hopefully?\u001b[0m\u001b[0;34m\u001b[0m\u001b[0;34m\u001b[0m\u001b[0;34m\u001b[0m\u001b[0m\n\u001b[0;32m-> 2325\u001b[0;31m                 \u001b[0mtarget\u001b[0m \u001b[0;34m=\u001b[0m \u001b[0mMultiIndex\u001b[0m\u001b[0;34m.\u001b[0m\u001b[0mfrom_tuples\u001b[0m\u001b[0;34m(\u001b[0m\u001b[0mtarget\u001b[0m\u001b[0;34m)\u001b[0m\u001b[0;34m\u001b[0m\u001b[0;34m\u001b[0m\u001b[0m\n\u001b[0m\u001b[1;32m   2326\u001b[0m \u001b[0;34m\u001b[0m\u001b[0m\n",
      "\u001b[0;32m~/opt/anaconda3/lib/python3.7/site-packages/pandas/core/indexes/multi.py\u001b[0m in \u001b[0;36mfrom_tuples\u001b[0;34m(cls, tuples, sortorder, names)\u001b[0m\n\u001b[1;32m    500\u001b[0m \u001b[0;34m\u001b[0m\u001b[0m\n\u001b[0;32m--> 501\u001b[0;31m             \u001b[0marrays\u001b[0m \u001b[0;34m=\u001b[0m \u001b[0mlist\u001b[0m\u001b[0;34m(\u001b[0m\u001b[0mlib\u001b[0m\u001b[0;34m.\u001b[0m\u001b[0mtuples_to_object_array\u001b[0m\u001b[0;34m(\u001b[0m\u001b[0mtuples\u001b[0m\u001b[0;34m)\u001b[0m\u001b[0;34m.\u001b[0m\u001b[0mT\u001b[0m\u001b[0;34m)\u001b[0m\u001b[0;34m\u001b[0m\u001b[0;34m\u001b[0m\u001b[0m\n\u001b[0m\u001b[1;32m    502\u001b[0m         \u001b[0;32melif\u001b[0m \u001b[0misinstance\u001b[0m\u001b[0;34m(\u001b[0m\u001b[0mtuples\u001b[0m\u001b[0;34m,\u001b[0m \u001b[0mlist\u001b[0m\u001b[0;34m)\u001b[0m\u001b[0;34m:\u001b[0m\u001b[0;34m\u001b[0m\u001b[0;34m\u001b[0m\u001b[0m\n",
      "\u001b[0;32mpandas/_libs/lib.pyx\u001b[0m in \u001b[0;36mpandas._libs.lib.tuples_to_object_array\u001b[0;34m()\u001b[0m\n",
      "\u001b[0;31mValueError\u001b[0m: Buffer dtype mismatch, expected 'Python object' but got 'long'",
      "\nThe above exception was the direct cause of the following exception:\n",
      "\u001b[0;31mTypeError\u001b[0m                                 Traceback (most recent call last)",
      "\u001b[0;32m<ipython-input-5-6901c98d9d6b>\u001b[0m in \u001b[0;36m<module>\u001b[0;34m\u001b[0m\n\u001b[0;32m----> 1\u001b[0;31m \u001b[0mCOVID_COUNTIES_DF\u001b[0m \u001b[0;34m=\u001b[0m \u001b[0mdata_processing\u001b[0m\u001b[0;34m.\u001b[0m\u001b[0mget_covid_county_data\u001b[0m\u001b[0;34m(\u001b[0m\u001b[0mcache_mode\u001b[0m \u001b[0;34m=\u001b[0m \u001b[0;36m0\u001b[0m\u001b[0;34m)\u001b[0m\u001b[0;34m\u001b[0m\u001b[0;34m\u001b[0m\u001b[0m\n\u001b[0m",
      "\u001b[0;32m~/Projects/covid-hotspots/modules/data_processing.py\u001b[0m in \u001b[0;36mget_covid_county_data\u001b[0;34m(cache_mode)\u001b[0m\n\u001b[1;32m    182\u001b[0m         df[\"cases_14MA\"] = df.groupby(\n\u001b[1;32m    183\u001b[0m             \u001b[0mby\u001b[0m\u001b[0;34m=\u001b[0m\u001b[0;34m[\u001b[0m\u001b[0;34m'fips'\u001b[0m\u001b[0;34m,\u001b[0m\u001b[0;34m'county'\u001b[0m\u001b[0;34m,\u001b[0m\u001b[0;34m'state'\u001b[0m\u001b[0;34m]\u001b[0m\u001b[0;34m,\u001b[0m\u001b[0;34m\u001b[0m\u001b[0;34m\u001b[0m\u001b[0m\n\u001b[0;32m--> 184\u001b[0;31m             as_index=False)['case_diff'].rolling(14).mean().reset_index(level=0, drop=True)\n\u001b[0m\u001b[1;32m    185\u001b[0m \u001b[0;34m\u001b[0m\u001b[0m\n\u001b[1;32m    186\u001b[0m         df[\"deaths_14MA\"] = df.groupby(\n",
      "\u001b[0;32m~/opt/anaconda3/lib/python3.7/site-packages/pandas/core/frame.py\u001b[0m in \u001b[0;36m__setitem__\u001b[0;34m(self, key, value)\u001b[0m\n\u001b[1;32m   3038\u001b[0m         \u001b[0;32melse\u001b[0m\u001b[0;34m:\u001b[0m\u001b[0;34m\u001b[0m\u001b[0;34m\u001b[0m\u001b[0m\n\u001b[1;32m   3039\u001b[0m             \u001b[0;31m# set column\u001b[0m\u001b[0;34m\u001b[0m\u001b[0;34m\u001b[0m\u001b[0;34m\u001b[0m\u001b[0m\n\u001b[0;32m-> 3040\u001b[0;31m             \u001b[0mself\u001b[0m\u001b[0;34m.\u001b[0m\u001b[0m_set_item\u001b[0m\u001b[0;34m(\u001b[0m\u001b[0mkey\u001b[0m\u001b[0;34m,\u001b[0m \u001b[0mvalue\u001b[0m\u001b[0;34m)\u001b[0m\u001b[0;34m\u001b[0m\u001b[0;34m\u001b[0m\u001b[0m\n\u001b[0m\u001b[1;32m   3041\u001b[0m \u001b[0;34m\u001b[0m\u001b[0m\n\u001b[1;32m   3042\u001b[0m     \u001b[0;32mdef\u001b[0m \u001b[0m_setitem_slice\u001b[0m\u001b[0;34m(\u001b[0m\u001b[0mself\u001b[0m\u001b[0;34m,\u001b[0m \u001b[0mkey\u001b[0m\u001b[0;34m:\u001b[0m \u001b[0mslice\u001b[0m\u001b[0;34m,\u001b[0m \u001b[0mvalue\u001b[0m\u001b[0;34m)\u001b[0m\u001b[0;34m:\u001b[0m\u001b[0;34m\u001b[0m\u001b[0;34m\u001b[0m\u001b[0m\n",
      "\u001b[0;32m~/opt/anaconda3/lib/python3.7/site-packages/pandas/core/frame.py\u001b[0m in \u001b[0;36m_set_item\u001b[0;34m(self, key, value)\u001b[0m\n\u001b[1;32m   3114\u001b[0m         \"\"\"\n\u001b[1;32m   3115\u001b[0m         \u001b[0mself\u001b[0m\u001b[0;34m.\u001b[0m\u001b[0m_ensure_valid_index\u001b[0m\u001b[0;34m(\u001b[0m\u001b[0mvalue\u001b[0m\u001b[0;34m)\u001b[0m\u001b[0;34m\u001b[0m\u001b[0;34m\u001b[0m\u001b[0m\n\u001b[0;32m-> 3116\u001b[0;31m         \u001b[0mvalue\u001b[0m \u001b[0;34m=\u001b[0m \u001b[0mself\u001b[0m\u001b[0;34m.\u001b[0m\u001b[0m_sanitize_column\u001b[0m\u001b[0;34m(\u001b[0m\u001b[0mkey\u001b[0m\u001b[0;34m,\u001b[0m \u001b[0mvalue\u001b[0m\u001b[0;34m)\u001b[0m\u001b[0;34m\u001b[0m\u001b[0;34m\u001b[0m\u001b[0m\n\u001b[0m\u001b[1;32m   3117\u001b[0m         \u001b[0mNDFrame\u001b[0m\u001b[0;34m.\u001b[0m\u001b[0m_set_item\u001b[0m\u001b[0;34m(\u001b[0m\u001b[0mself\u001b[0m\u001b[0;34m,\u001b[0m \u001b[0mkey\u001b[0m\u001b[0;34m,\u001b[0m \u001b[0mvalue\u001b[0m\u001b[0;34m)\u001b[0m\u001b[0;34m\u001b[0m\u001b[0;34m\u001b[0m\u001b[0m\n\u001b[1;32m   3118\u001b[0m \u001b[0;34m\u001b[0m\u001b[0m\n",
      "\u001b[0;32m~/opt/anaconda3/lib/python3.7/site-packages/pandas/core/frame.py\u001b[0m in \u001b[0;36m_sanitize_column\u001b[0;34m(self, key, value, broadcast)\u001b[0m\n\u001b[1;32m   3736\u001b[0m \u001b[0;34m\u001b[0m\u001b[0m\n\u001b[1;32m   3737\u001b[0m         \u001b[0;32mif\u001b[0m \u001b[0misinstance\u001b[0m\u001b[0;34m(\u001b[0m\u001b[0mvalue\u001b[0m\u001b[0;34m,\u001b[0m \u001b[0mSeries\u001b[0m\u001b[0;34m)\u001b[0m\u001b[0;34m:\u001b[0m\u001b[0;34m\u001b[0m\u001b[0;34m\u001b[0m\u001b[0m\n\u001b[0;32m-> 3738\u001b[0;31m             \u001b[0mvalue\u001b[0m \u001b[0;34m=\u001b[0m \u001b[0mreindexer\u001b[0m\u001b[0;34m(\u001b[0m\u001b[0mvalue\u001b[0m\u001b[0;34m)\u001b[0m\u001b[0;34m\u001b[0m\u001b[0;34m\u001b[0m\u001b[0m\n\u001b[0m\u001b[1;32m   3739\u001b[0m \u001b[0;34m\u001b[0m\u001b[0m\n\u001b[1;32m   3740\u001b[0m         \u001b[0;32melif\u001b[0m \u001b[0misinstance\u001b[0m\u001b[0;34m(\u001b[0m\u001b[0mvalue\u001b[0m\u001b[0;34m,\u001b[0m \u001b[0mDataFrame\u001b[0m\u001b[0;34m)\u001b[0m\u001b[0;34m:\u001b[0m\u001b[0;34m\u001b[0m\u001b[0;34m\u001b[0m\u001b[0m\n",
      "\u001b[0;32m~/opt/anaconda3/lib/python3.7/site-packages/pandas/core/frame.py\u001b[0m in \u001b[0;36mreindexer\u001b[0;34m(value)\u001b[0m\n\u001b[1;32m   3732\u001b[0m                     raise TypeError(\n\u001b[1;32m   3733\u001b[0m                         \u001b[0;34m\"incompatible index of inserted column with frame index\"\u001b[0m\u001b[0;34m\u001b[0m\u001b[0;34m\u001b[0m\u001b[0m\n\u001b[0;32m-> 3734\u001b[0;31m                     ) from err\n\u001b[0m\u001b[1;32m   3735\u001b[0m             \u001b[0;32mreturn\u001b[0m \u001b[0mvalue\u001b[0m\u001b[0;34m\u001b[0m\u001b[0;34m\u001b[0m\u001b[0m\n\u001b[1;32m   3736\u001b[0m \u001b[0;34m\u001b[0m\u001b[0m\n",
      "\u001b[0;31mTypeError\u001b[0m: incompatible index of inserted column with frame index"
     ]
    }
   ],
   "source": [
    "COVID_COUNTIES_DF = data_processing.get_covid_county_data(cache_mode = 0)"
   ]
  },
  {
   "cell_type": "code",
   "execution_count": 13,
   "metadata": {},
   "outputs": [],
   "source": [
    "url = 'https://www2.census.gov/programs-surveys/popest/datasets/2010-2019/counties/totals/co-est2019-alldata.csv'\n",
    "\n",
    "# Read in the data to dataframe\n",
    "census_df = pd.read_csv(url, encoding = \"ISO-8859-1\")"
   ]
  },
  {
   "cell_type": "code",
   "execution_count": 19,
   "metadata": {},
   "outputs": [
    {
     "data": {
      "text/plain": [
       "RangeIndex(start=0, stop=3193, step=1)"
      ]
     },
     "execution_count": 19,
     "metadata": {},
     "output_type": "execute_result"
    }
   ],
   "source": [
    "census_df.index"
   ]
  },
  {
   "cell_type": "code",
   "execution_count": 20,
   "metadata": {},
   "outputs": [
    {
     "data": {
      "text/plain": [
       "RangeIndex(start=0, stop=3193, step=1)"
      ]
     },
     "execution_count": 20,
     "metadata": {},
     "output_type": "execute_result"
    }
   ],
   "source": [
    "census_df[['STATE','COUNTY']].apply(\n",
    "        lambda x:generate_fips(\n",
    "            x['STATE'],\n",
    "            x['COUNTY']\n",
    "        ), axis=1\n",
    "    ).index"
   ]
  },
  {
   "cell_type": "code",
   "execution_count": 14,
   "metadata": {},
   "outputs": [],
   "source": [
    "def generate_fips(state_fips, county_fips):\n",
    "    state_str, county_str = str(state_fips), str(county_fips)\n",
    "    \n",
    "    # Check length of state code and append 0's if necessary.\n",
    "    if len(state_str) == 1:\n",
    "        state_str = \"0\"+state_str\n",
    "        \n",
    "    # Check length of county code and append 0's if necessary.\n",
    "    if len(county_str) == 1:\n",
    "        county_str = \"00\"+county_str\n",
    "    elif len(county_str) == 2:\n",
    "        county_str = \"0\"+county_str\n",
    "        \n",
    "    return state_str+county_str"
   ]
  },
  {
   "cell_type": "code",
   "execution_count": 21,
   "metadata": {},
   "outputs": [],
   "source": [
    "census_df['FIPS'] = census_df[['STATE','COUNTY']].apply(\n",
    "        lambda x:generate_fips(\n",
    "            x['STATE'],\n",
    "            x['COUNTY']\n",
    "        ), axis=1\n",
    "    )"
   ]
  },
  {
   "cell_type": "code",
   "execution_count": null,
   "metadata": {},
   "outputs": [],
   "source": [
    "census_df.info(verbose = True)"
   ]
  },
  {
   "cell_type": "code",
   "execution_count": null,
   "metadata": {},
   "outputs": [],
   "source": []
  },
  {
   "cell_type": "code",
   "execution_count": null,
   "metadata": {},
   "outputs": [],
   "source": []
  },
  {
   "cell_type": "markdown",
   "metadata": {},
   "source": [
    "### Merge Dataframes\n",
    "\n",
    "To calculate cases and deaths per capita at a county level, we will merge our population reference data with county covid data on fips codes. Reminder: County covid data has many rows of the same fips code since it is a time series. We may need to check for consistency."
   ]
  },
  {
   "cell_type": "code",
   "execution_count": null,
   "metadata": {},
   "outputs": [],
   "source": [
    "# Merge dataframes on fips\n",
    "DF = COVID_COUNTIES_DF.merge(CENSUS_COUNTIES_DF, \n",
    "                        how='left',\n",
    "                        left_on='fips',\n",
    "                        right_on='FIPS')"
   ]
  },
  {
   "cell_type": "code",
   "execution_count": null,
   "metadata": {},
   "outputs": [],
   "source": []
  },
  {
   "cell_type": "code",
   "execution_count": 117,
   "metadata": {},
   "outputs": [
    {
     "data": {
      "text/html": [
       "<div>\n",
       "<style scoped>\n",
       "    .dataframe tbody tr th:only-of-type {\n",
       "        vertical-align: middle;\n",
       "    }\n",
       "\n",
       "    .dataframe tbody tr th {\n",
       "        vertical-align: top;\n",
       "    }\n",
       "\n",
       "    .dataframe thead th {\n",
       "        text-align: right;\n",
       "    }\n",
       "</style>\n",
       "<table border=\"1\" class=\"dataframe\">\n",
       "  <thead>\n",
       "    <tr style=\"text-align: right;\">\n",
       "      <th></th>\n",
       "      <th>date</th>\n",
       "      <th>county</th>\n",
       "      <th>state</th>\n",
       "      <th>fips</th>\n",
       "      <th>cases</th>\n",
       "      <th>deaths</th>\n",
       "    </tr>\n",
       "  </thead>\n",
       "  <tbody>\n",
       "    <tr>\n",
       "      <th>0</th>\n",
       "      <td>2020-01-21</td>\n",
       "      <td>Snohomish</td>\n",
       "      <td>Washington</td>\n",
       "      <td>53061</td>\n",
       "      <td>1</td>\n",
       "      <td>0</td>\n",
       "    </tr>\n",
       "    <tr>\n",
       "      <th>1</th>\n",
       "      <td>2020-01-22</td>\n",
       "      <td>Snohomish</td>\n",
       "      <td>Washington</td>\n",
       "      <td>53061</td>\n",
       "      <td>1</td>\n",
       "      <td>0</td>\n",
       "    </tr>\n",
       "    <tr>\n",
       "      <th>2</th>\n",
       "      <td>2020-01-23</td>\n",
       "      <td>Snohomish</td>\n",
       "      <td>Washington</td>\n",
       "      <td>53061</td>\n",
       "      <td>1</td>\n",
       "      <td>0</td>\n",
       "    </tr>\n",
       "    <tr>\n",
       "      <th>3</th>\n",
       "      <td>2020-01-24</td>\n",
       "      <td>Cook</td>\n",
       "      <td>Illinois</td>\n",
       "      <td>17031</td>\n",
       "      <td>1</td>\n",
       "      <td>0</td>\n",
       "    </tr>\n",
       "    <tr>\n",
       "      <th>4</th>\n",
       "      <td>2020-01-24</td>\n",
       "      <td>Snohomish</td>\n",
       "      <td>Washington</td>\n",
       "      <td>53061</td>\n",
       "      <td>1</td>\n",
       "      <td>0</td>\n",
       "    </tr>\n",
       "    <tr>\n",
       "      <th>...</th>\n",
       "      <td>...</td>\n",
       "      <td>...</td>\n",
       "      <td>...</td>\n",
       "      <td>...</td>\n",
       "      <td>...</td>\n",
       "      <td>...</td>\n",
       "    </tr>\n",
       "    <tr>\n",
       "      <th>492424</th>\n",
       "      <td>2020-09-01</td>\n",
       "      <td>Sweetwater</td>\n",
       "      <td>Wyoming</td>\n",
       "      <td>56037</td>\n",
       "      <td>302</td>\n",
       "      <td>2</td>\n",
       "    </tr>\n",
       "    <tr>\n",
       "      <th>492425</th>\n",
       "      <td>2020-09-01</td>\n",
       "      <td>Teton</td>\n",
       "      <td>Wyoming</td>\n",
       "      <td>56039</td>\n",
       "      <td>430</td>\n",
       "      <td>1</td>\n",
       "    </tr>\n",
       "    <tr>\n",
       "      <th>492426</th>\n",
       "      <td>2020-09-01</td>\n",
       "      <td>Uinta</td>\n",
       "      <td>Wyoming</td>\n",
       "      <td>56041</td>\n",
       "      <td>301</td>\n",
       "      <td>2</td>\n",
       "    </tr>\n",
       "    <tr>\n",
       "      <th>492427</th>\n",
       "      <td>2020-09-01</td>\n",
       "      <td>Washakie</td>\n",
       "      <td>Wyoming</td>\n",
       "      <td>56043</td>\n",
       "      <td>107</td>\n",
       "      <td>6</td>\n",
       "    </tr>\n",
       "    <tr>\n",
       "      <th>492428</th>\n",
       "      <td>2020-09-01</td>\n",
       "      <td>Weston</td>\n",
       "      <td>Wyoming</td>\n",
       "      <td>56045</td>\n",
       "      <td>19</td>\n",
       "      <td>0</td>\n",
       "    </tr>\n",
       "  </tbody>\n",
       "</table>\n",
       "<p>492429 rows × 6 columns</p>\n",
       "</div>"
      ],
      "text/plain": [
       "             date      county       state   fips  cases  deaths\n",
       "0      2020-01-21   Snohomish  Washington  53061      1       0\n",
       "1      2020-01-22   Snohomish  Washington  53061      1       0\n",
       "2      2020-01-23   Snohomish  Washington  53061      1       0\n",
       "3      2020-01-24        Cook    Illinois  17031      1       0\n",
       "4      2020-01-24   Snohomish  Washington  53061      1       0\n",
       "...           ...         ...         ...    ...    ...     ...\n",
       "492424 2020-09-01  Sweetwater     Wyoming  56037    302       2\n",
       "492425 2020-09-01       Teton     Wyoming  56039    430       1\n",
       "492426 2020-09-01       Uinta     Wyoming  56041    301       2\n",
       "492427 2020-09-01    Washakie     Wyoming  56043    107       6\n",
       "492428 2020-09-01      Weston     Wyoming  56045     19       0\n",
       "\n",
       "[492429 rows x 6 columns]"
      ]
     },
     "execution_count": 117,
     "metadata": {},
     "output_type": "execute_result"
    }
   ],
   "source": [
    "COVID_COUNTIES_DF"
   ]
  },
  {
   "cell_type": "code",
   "execution_count": 23,
   "metadata": {},
   "outputs": [],
   "source": [
    "census_df = data_processing.get_census_county_data()"
   ]
  },
  {
   "cell_type": "code",
   "execution_count": null,
   "metadata": {},
   "outputs": [],
   "source": []
  },
  {
   "cell_type": "code",
   "execution_count": 24,
   "metadata": {},
   "outputs": [
    {
     "name": "stdout",
     "output_type": "stream",
     "text": [
      "Retrieving Covid County data\n",
      "Pulling county data from github.\n"
     ]
    },
    {
     "ename": "TypeError",
     "evalue": "incompatible index of inserted column with frame index",
     "output_type": "error",
     "traceback": [
      "\u001b[0;31m---------------------------------------------------------------------------\u001b[0m",
      "\u001b[0;31mValueError\u001b[0m                                Traceback (most recent call last)",
      "\u001b[0;32m~/opt/anaconda3/lib/python3.7/site-packages/pandas/core/frame.py\u001b[0m in \u001b[0;36mreindexer\u001b[0;34m(value)\u001b[0m\n\u001b[1;32m   3723\u001b[0m                 \u001b[0;32mtry\u001b[0m\u001b[0;34m:\u001b[0m\u001b[0;34m\u001b[0m\u001b[0;34m\u001b[0m\u001b[0m\n\u001b[0;32m-> 3724\u001b[0;31m                     \u001b[0mvalue\u001b[0m \u001b[0;34m=\u001b[0m \u001b[0mvalue\u001b[0m\u001b[0;34m.\u001b[0m\u001b[0mreindex\u001b[0m\u001b[0;34m(\u001b[0m\u001b[0mself\u001b[0m\u001b[0;34m.\u001b[0m\u001b[0mindex\u001b[0m\u001b[0;34m)\u001b[0m\u001b[0;34m.\u001b[0m\u001b[0m_values\u001b[0m\u001b[0;34m\u001b[0m\u001b[0;34m\u001b[0m\u001b[0m\n\u001b[0m\u001b[1;32m   3725\u001b[0m                 \u001b[0;32mexcept\u001b[0m \u001b[0mValueError\u001b[0m \u001b[0;32mas\u001b[0m \u001b[0merr\u001b[0m\u001b[0;34m:\u001b[0m\u001b[0;34m\u001b[0m\u001b[0;34m\u001b[0m\u001b[0m\n",
      "\u001b[0;32m~/opt/anaconda3/lib/python3.7/site-packages/pandas/core/series.py\u001b[0m in \u001b[0;36mreindex\u001b[0;34m(self, index, **kwargs)\u001b[0m\n\u001b[1;32m   4398\u001b[0m     \u001b[0;32mdef\u001b[0m \u001b[0mreindex\u001b[0m\u001b[0;34m(\u001b[0m\u001b[0mself\u001b[0m\u001b[0;34m,\u001b[0m \u001b[0mindex\u001b[0m\u001b[0;34m=\u001b[0m\u001b[0;32mNone\u001b[0m\u001b[0;34m,\u001b[0m \u001b[0;34m**\u001b[0m\u001b[0mkwargs\u001b[0m\u001b[0;34m)\u001b[0m\u001b[0;34m:\u001b[0m\u001b[0;34m\u001b[0m\u001b[0;34m\u001b[0m\u001b[0m\n\u001b[0;32m-> 4399\u001b[0;31m         \u001b[0;32mreturn\u001b[0m \u001b[0msuper\u001b[0m\u001b[0;34m(\u001b[0m\u001b[0;34m)\u001b[0m\u001b[0;34m.\u001b[0m\u001b[0mreindex\u001b[0m\u001b[0;34m(\u001b[0m\u001b[0mindex\u001b[0m\u001b[0;34m=\u001b[0m\u001b[0mindex\u001b[0m\u001b[0;34m,\u001b[0m \u001b[0;34m**\u001b[0m\u001b[0mkwargs\u001b[0m\u001b[0;34m)\u001b[0m\u001b[0;34m\u001b[0m\u001b[0;34m\u001b[0m\u001b[0m\n\u001b[0m\u001b[1;32m   4400\u001b[0m \u001b[0;34m\u001b[0m\u001b[0m\n",
      "\u001b[0;32m~/opt/anaconda3/lib/python3.7/site-packages/pandas/core/generic.py\u001b[0m in \u001b[0;36mreindex\u001b[0;34m(self, *args, **kwargs)\u001b[0m\n\u001b[1;32m   4452\u001b[0m         return self._reindex_axes(\n\u001b[0;32m-> 4453\u001b[0;31m             \u001b[0maxes\u001b[0m\u001b[0;34m,\u001b[0m \u001b[0mlevel\u001b[0m\u001b[0;34m,\u001b[0m \u001b[0mlimit\u001b[0m\u001b[0;34m,\u001b[0m \u001b[0mtolerance\u001b[0m\u001b[0;34m,\u001b[0m \u001b[0mmethod\u001b[0m\u001b[0;34m,\u001b[0m \u001b[0mfill_value\u001b[0m\u001b[0;34m,\u001b[0m \u001b[0mcopy\u001b[0m\u001b[0;34m\u001b[0m\u001b[0;34m\u001b[0m\u001b[0m\n\u001b[0m\u001b[1;32m   4454\u001b[0m         ).__finalize__(self, method=\"reindex\")\n",
      "\u001b[0;32m~/opt/anaconda3/lib/python3.7/site-packages/pandas/core/generic.py\u001b[0m in \u001b[0;36m_reindex_axes\u001b[0;34m(self, axes, level, limit, tolerance, method, fill_value, copy)\u001b[0m\n\u001b[1;32m   4467\u001b[0m             new_index, indexer = ax.reindex(\n\u001b[0;32m-> 4468\u001b[0;31m                 \u001b[0mlabels\u001b[0m\u001b[0;34m,\u001b[0m \u001b[0mlevel\u001b[0m\u001b[0;34m=\u001b[0m\u001b[0mlevel\u001b[0m\u001b[0;34m,\u001b[0m \u001b[0mlimit\u001b[0m\u001b[0;34m=\u001b[0m\u001b[0mlimit\u001b[0m\u001b[0;34m,\u001b[0m \u001b[0mtolerance\u001b[0m\u001b[0;34m=\u001b[0m\u001b[0mtolerance\u001b[0m\u001b[0;34m,\u001b[0m \u001b[0mmethod\u001b[0m\u001b[0;34m=\u001b[0m\u001b[0mmethod\u001b[0m\u001b[0;34m\u001b[0m\u001b[0;34m\u001b[0m\u001b[0m\n\u001b[0m\u001b[1;32m   4469\u001b[0m             )\n",
      "\u001b[0;32m~/opt/anaconda3/lib/python3.7/site-packages/pandas/core/indexes/multi.py\u001b[0m in \u001b[0;36mreindex\u001b[0;34m(self, target, method, level, limit, tolerance)\u001b[0m\n\u001b[1;32m   2324\u001b[0m                 \u001b[0;31m# hopefully?\u001b[0m\u001b[0;34m\u001b[0m\u001b[0;34m\u001b[0m\u001b[0;34m\u001b[0m\u001b[0m\n\u001b[0;32m-> 2325\u001b[0;31m                 \u001b[0mtarget\u001b[0m \u001b[0;34m=\u001b[0m \u001b[0mMultiIndex\u001b[0m\u001b[0;34m.\u001b[0m\u001b[0mfrom_tuples\u001b[0m\u001b[0;34m(\u001b[0m\u001b[0mtarget\u001b[0m\u001b[0;34m)\u001b[0m\u001b[0;34m\u001b[0m\u001b[0;34m\u001b[0m\u001b[0m\n\u001b[0m\u001b[1;32m   2326\u001b[0m \u001b[0;34m\u001b[0m\u001b[0m\n",
      "\u001b[0;32m~/opt/anaconda3/lib/python3.7/site-packages/pandas/core/indexes/multi.py\u001b[0m in \u001b[0;36mfrom_tuples\u001b[0;34m(cls, tuples, sortorder, names)\u001b[0m\n\u001b[1;32m    500\u001b[0m \u001b[0;34m\u001b[0m\u001b[0m\n\u001b[0;32m--> 501\u001b[0;31m             \u001b[0marrays\u001b[0m \u001b[0;34m=\u001b[0m \u001b[0mlist\u001b[0m\u001b[0;34m(\u001b[0m\u001b[0mlib\u001b[0m\u001b[0;34m.\u001b[0m\u001b[0mtuples_to_object_array\u001b[0m\u001b[0;34m(\u001b[0m\u001b[0mtuples\u001b[0m\u001b[0;34m)\u001b[0m\u001b[0;34m.\u001b[0m\u001b[0mT\u001b[0m\u001b[0;34m)\u001b[0m\u001b[0;34m\u001b[0m\u001b[0;34m\u001b[0m\u001b[0m\n\u001b[0m\u001b[1;32m    502\u001b[0m         \u001b[0;32melif\u001b[0m \u001b[0misinstance\u001b[0m\u001b[0;34m(\u001b[0m\u001b[0mtuples\u001b[0m\u001b[0;34m,\u001b[0m \u001b[0mlist\u001b[0m\u001b[0;34m)\u001b[0m\u001b[0;34m:\u001b[0m\u001b[0;34m\u001b[0m\u001b[0;34m\u001b[0m\u001b[0m\n",
      "\u001b[0;32mpandas/_libs/lib.pyx\u001b[0m in \u001b[0;36mpandas._libs.lib.tuples_to_object_array\u001b[0;34m()\u001b[0m\n",
      "\u001b[0;31mValueError\u001b[0m: Buffer dtype mismatch, expected 'Python object' but got 'long'",
      "\nThe above exception was the direct cause of the following exception:\n",
      "\u001b[0;31mTypeError\u001b[0m                                 Traceback (most recent call last)",
      "\u001b[0;32m<timed exec>\u001b[0m in \u001b[0;36m<module>\u001b[0;34m\u001b[0m\n",
      "\u001b[0;32m~/Projects/covid-hotspots/modules/data_processing.py\u001b[0m in \u001b[0;36mget_covid_county_data\u001b[0;34m(cache_mode)\u001b[0m\n\u001b[1;32m    182\u001b[0m         df[\"cases_14MA\"] = df.groupby(\n\u001b[1;32m    183\u001b[0m             \u001b[0mby\u001b[0m\u001b[0;34m=\u001b[0m\u001b[0;34m[\u001b[0m\u001b[0;34m'fips'\u001b[0m\u001b[0;34m,\u001b[0m\u001b[0;34m'county'\u001b[0m\u001b[0;34m,\u001b[0m\u001b[0;34m'state'\u001b[0m\u001b[0;34m]\u001b[0m\u001b[0;34m,\u001b[0m\u001b[0;34m\u001b[0m\u001b[0;34m\u001b[0m\u001b[0m\n\u001b[0;32m--> 184\u001b[0;31m             as_index=False)['case_diff'].rolling(14).mean().reset_index(level=0, drop=True)\n\u001b[0m\u001b[1;32m    185\u001b[0m \u001b[0;34m\u001b[0m\u001b[0m\n\u001b[1;32m    186\u001b[0m         df[\"deaths_14MA\"] = df.groupby(\n",
      "\u001b[0;32m~/opt/anaconda3/lib/python3.7/site-packages/pandas/core/frame.py\u001b[0m in \u001b[0;36m__setitem__\u001b[0;34m(self, key, value)\u001b[0m\n\u001b[1;32m   3038\u001b[0m         \u001b[0;32melse\u001b[0m\u001b[0;34m:\u001b[0m\u001b[0;34m\u001b[0m\u001b[0;34m\u001b[0m\u001b[0m\n\u001b[1;32m   3039\u001b[0m             \u001b[0;31m# set column\u001b[0m\u001b[0;34m\u001b[0m\u001b[0;34m\u001b[0m\u001b[0;34m\u001b[0m\u001b[0m\n\u001b[0;32m-> 3040\u001b[0;31m             \u001b[0mself\u001b[0m\u001b[0;34m.\u001b[0m\u001b[0m_set_item\u001b[0m\u001b[0;34m(\u001b[0m\u001b[0mkey\u001b[0m\u001b[0;34m,\u001b[0m \u001b[0mvalue\u001b[0m\u001b[0;34m)\u001b[0m\u001b[0;34m\u001b[0m\u001b[0;34m\u001b[0m\u001b[0m\n\u001b[0m\u001b[1;32m   3041\u001b[0m \u001b[0;34m\u001b[0m\u001b[0m\n\u001b[1;32m   3042\u001b[0m     \u001b[0;32mdef\u001b[0m \u001b[0m_setitem_slice\u001b[0m\u001b[0;34m(\u001b[0m\u001b[0mself\u001b[0m\u001b[0;34m,\u001b[0m \u001b[0mkey\u001b[0m\u001b[0;34m:\u001b[0m \u001b[0mslice\u001b[0m\u001b[0;34m,\u001b[0m \u001b[0mvalue\u001b[0m\u001b[0;34m)\u001b[0m\u001b[0;34m:\u001b[0m\u001b[0;34m\u001b[0m\u001b[0;34m\u001b[0m\u001b[0m\n",
      "\u001b[0;32m~/opt/anaconda3/lib/python3.7/site-packages/pandas/core/frame.py\u001b[0m in \u001b[0;36m_set_item\u001b[0;34m(self, key, value)\u001b[0m\n\u001b[1;32m   3114\u001b[0m         \"\"\"\n\u001b[1;32m   3115\u001b[0m         \u001b[0mself\u001b[0m\u001b[0;34m.\u001b[0m\u001b[0m_ensure_valid_index\u001b[0m\u001b[0;34m(\u001b[0m\u001b[0mvalue\u001b[0m\u001b[0;34m)\u001b[0m\u001b[0;34m\u001b[0m\u001b[0;34m\u001b[0m\u001b[0m\n\u001b[0;32m-> 3116\u001b[0;31m         \u001b[0mvalue\u001b[0m \u001b[0;34m=\u001b[0m \u001b[0mself\u001b[0m\u001b[0;34m.\u001b[0m\u001b[0m_sanitize_column\u001b[0m\u001b[0;34m(\u001b[0m\u001b[0mkey\u001b[0m\u001b[0;34m,\u001b[0m \u001b[0mvalue\u001b[0m\u001b[0;34m)\u001b[0m\u001b[0;34m\u001b[0m\u001b[0;34m\u001b[0m\u001b[0m\n\u001b[0m\u001b[1;32m   3117\u001b[0m         \u001b[0mNDFrame\u001b[0m\u001b[0;34m.\u001b[0m\u001b[0m_set_item\u001b[0m\u001b[0;34m(\u001b[0m\u001b[0mself\u001b[0m\u001b[0;34m,\u001b[0m \u001b[0mkey\u001b[0m\u001b[0;34m,\u001b[0m \u001b[0mvalue\u001b[0m\u001b[0;34m)\u001b[0m\u001b[0;34m\u001b[0m\u001b[0;34m\u001b[0m\u001b[0m\n\u001b[1;32m   3118\u001b[0m \u001b[0;34m\u001b[0m\u001b[0m\n",
      "\u001b[0;32m~/opt/anaconda3/lib/python3.7/site-packages/pandas/core/frame.py\u001b[0m in \u001b[0;36m_sanitize_column\u001b[0;34m(self, key, value, broadcast)\u001b[0m\n\u001b[1;32m   3736\u001b[0m \u001b[0;34m\u001b[0m\u001b[0m\n\u001b[1;32m   3737\u001b[0m         \u001b[0;32mif\u001b[0m \u001b[0misinstance\u001b[0m\u001b[0;34m(\u001b[0m\u001b[0mvalue\u001b[0m\u001b[0;34m,\u001b[0m \u001b[0mSeries\u001b[0m\u001b[0;34m)\u001b[0m\u001b[0;34m:\u001b[0m\u001b[0;34m\u001b[0m\u001b[0;34m\u001b[0m\u001b[0m\n\u001b[0;32m-> 3738\u001b[0;31m             \u001b[0mvalue\u001b[0m \u001b[0;34m=\u001b[0m \u001b[0mreindexer\u001b[0m\u001b[0;34m(\u001b[0m\u001b[0mvalue\u001b[0m\u001b[0;34m)\u001b[0m\u001b[0;34m\u001b[0m\u001b[0;34m\u001b[0m\u001b[0m\n\u001b[0m\u001b[1;32m   3739\u001b[0m \u001b[0;34m\u001b[0m\u001b[0m\n\u001b[1;32m   3740\u001b[0m         \u001b[0;32melif\u001b[0m \u001b[0misinstance\u001b[0m\u001b[0;34m(\u001b[0m\u001b[0mvalue\u001b[0m\u001b[0;34m,\u001b[0m \u001b[0mDataFrame\u001b[0m\u001b[0;34m)\u001b[0m\u001b[0;34m:\u001b[0m\u001b[0;34m\u001b[0m\u001b[0;34m\u001b[0m\u001b[0m\n",
      "\u001b[0;32m~/opt/anaconda3/lib/python3.7/site-packages/pandas/core/frame.py\u001b[0m in \u001b[0;36mreindexer\u001b[0;34m(value)\u001b[0m\n\u001b[1;32m   3732\u001b[0m                     raise TypeError(\n\u001b[1;32m   3733\u001b[0m                         \u001b[0;34m\"incompatible index of inserted column with frame index\"\u001b[0m\u001b[0;34m\u001b[0m\u001b[0;34m\u001b[0m\u001b[0m\n\u001b[0;32m-> 3734\u001b[0;31m                     ) from err\n\u001b[0m\u001b[1;32m   3735\u001b[0m             \u001b[0;32mreturn\u001b[0m \u001b[0mvalue\u001b[0m\u001b[0;34m\u001b[0m\u001b[0;34m\u001b[0m\u001b[0m\n\u001b[1;32m   3736\u001b[0m \u001b[0;34m\u001b[0m\u001b[0m\n",
      "\u001b[0;31mTypeError\u001b[0m: incompatible index of inserted column with frame index"
     ]
    }
   ],
   "source": [
    "%%time\n",
    "# Get county data\n",
    "x0 = time.time()\n",
    "COVID_COUNTIES_DF = data_processing.get_covid_county_data()\n",
    "time.time() - x0"
   ]
  },
  {
   "cell_type": "code",
   "execution_count": null,
   "metadata": {},
   "outputs": [],
   "source": [
    "%%time\n",
    "COVID_COUNTIES_DF.to_csv('data/covid_counties_20200901.csv.gz',\n",
    "                        index = False,\n",
    "                        compression = 'gzip')"
   ]
  },
  {
   "cell_type": "code",
   "execution_count": null,
   "metadata": {},
   "outputs": [],
   "source": [
    "%%time\n",
    "COVID_COUNTIES_2 = pd.read_csv('data/covid_counties_20200901.csv.gz',\n",
    "                              compression = 'gzip')"
   ]
  },
  {
   "cell_type": "code",
   "execution_count": null,
   "metadata": {},
   "outputs": [],
   "source": [
    "COVID_COUNTIES_DF.info()"
   ]
  },
  {
   "cell_type": "code",
   "execution_count": null,
   "metadata": {},
   "outputs": [],
   "source": []
  },
  {
   "cell_type": "code",
   "execution_count": null,
   "metadata": {},
   "outputs": [],
   "source": [
    "# Take a look at columns for reference and context\n",
    "COVID_COUNTIES_DF.columns"
   ]
  },
  {
   "cell_type": "markdown",
   "metadata": {},
   "source": [
    "### County Census Data\n",
    "\n",
    "We import data from census.gov to get county level population data. Specifically using 2019 estimates."
   ]
  },
  {
   "cell_type": "code",
   "execution_count": null,
   "metadata": {},
   "outputs": [],
   "source": [
    "# Get Census Data\n",
    "CENSUS_COUNTIES_DF = data_processing.get_census_county_data()"
   ]
  },
  {
   "cell_type": "code",
   "execution_count": null,
   "metadata": {},
   "outputs": [],
   "source": [
    "# Take a look at columns for reference and context\n",
    "CENSUS_COUNTIES_DF.columns"
   ]
  },
  {
   "cell_type": "markdown",
   "metadata": {},
   "source": [
    "## Merge Dataframes\n",
    "\n",
    "To calculate cases and deaths per capita at a county level, we will merge our population reference data with county covid data on fips codes. Reminder: County covid data has many rows of the same fips code since it is a time series. We may need to check for consistency."
   ]
  },
  {
   "cell_type": "code",
   "execution_count": null,
   "metadata": {},
   "outputs": [],
   "source": [
    "# Merge dataframes on fips\n",
    "DF = COVID_COUNTIES_DF.merge(CENSUS_COUNTIES_DF, \n",
    "                        how='left',\n",
    "                        left_on='fips',\n",
    "                        right_on='FIPS')"
   ]
  },
  {
   "cell_type": "code",
   "execution_count": null,
   "metadata": {},
   "outputs": [],
   "source": [
    "DF.info()"
   ]
  },
  {
   "cell_type": "markdown",
   "metadata": {},
   "source": [
    "Now lets create the two columns we care about:\n",
    " - Cases per million population\n",
    " - Deaths per million population"
   ]
  },
  {
   "cell_type": "code",
   "execution_count": null,
   "metadata": {},
   "outputs": [],
   "source": [
    "DF['casesPerMillion']=DF['cases']/DF['POPESTIMATE2019']*1000000"
   ]
  },
  {
   "cell_type": "code",
   "execution_count": null,
   "metadata": {},
   "outputs": [],
   "source": [
    "DF['deathsPerMillion']=DF['deaths']/DF['POPESTIMATE2019']*1000000"
   ]
  },
  {
   "cell_type": "code",
   "execution_count": null,
   "metadata": {},
   "outputs": [],
   "source": [
    "DF.head()"
   ]
  },
  {
   "cell_type": "code",
   "execution_count": null,
   "metadata": {},
   "outputs": [],
   "source": [
    "fips_mask = (DF['fips'] == '01001')\n",
    "date_mask = DF['date'] == '2020-08-28'\n",
    "\n",
    "DF[fips_mask & date_mask]"
   ]
  },
  {
   "cell_type": "code",
   "execution_count": null,
   "metadata": {},
   "outputs": [],
   "source": [
    "%%time\n",
    "COVID_COUNTIES_DF['case_diff2'] = COVID_COUNTIES_DF['cases'].diff()"
   ]
  },
  {
   "cell_type": "code",
   "execution_count": null,
   "metadata": {},
   "outputs": [],
   "source": [
    "%%time\n",
    "COVID_COUNTIES_DF['case_diff'] = COVID_COUNTIES_DF.sort_values(\n",
    "    by=['fips','state','county','date'])['cases'].diff()"
   ]
  },
  {
   "cell_type": "code",
   "execution_count": null,
   "metadata": {},
   "outputs": [],
   "source": [
    "%%time\n",
    "COVID_COUNTIES_DF['cases_diff_group'] = COVID_COUNTIES_DF.groupby(\n",
    "    by = ['fips','county','state'])['cases'].diff()"
   ]
  },
  {
   "cell_type": "code",
   "execution_count": null,
   "metadata": {},
   "outputs": [],
   "source": [
    "%%time\n",
    "cases_14MA = COVID_COUNTIES_DF.groupby(\n",
    "    by = ['fips','county','state'],as_index=False)['cases'].rolling(14).mean()\n",
    "\n",
    "COVID_COUNTIES_DF[\"cases_14MA\"] = cases_14MA.reset_index(level=0, drop=True)"
   ]
  },
  {
   "cell_type": "code",
   "execution_count": null,
   "metadata": {},
   "outputs": [],
   "source": [
    "type(a)"
   ]
  },
  {
   "cell_type": "code",
   "execution_count": null,
   "metadata": {},
   "outputs": [],
   "source": [
    "print((COVID_COUNTIES_DF['case_diff'] != COVID_COUNTIES_DF['case_diff2']).sum())\n",
    "print((COVID_COUNTIES_DF['case_diff'] != COVID_COUNTIES_DF['cases_diff_group']).sum())"
   ]
  },
  {
   "cell_type": "code",
   "execution_count": null,
   "metadata": {},
   "outputs": [],
   "source": [
    "disc_mask = (COVID_COUNTIES_DF['cases_diff_group'] != COVID_COUNTIES_DF['case_diff'])\n",
    "COVID_COUNTIES_DF[disc_mask]"
   ]
  },
  {
   "cell_type": "code",
   "execution_count": null,
   "metadata": {},
   "outputs": [],
   "source": [
    "COVID_COUNTIES_DF[['date','county','state','fips','cases','case_diff','cases_diff_group']]"
   ]
  },
  {
   "cell_type": "code",
   "execution_count": null,
   "metadata": {},
   "outputs": [],
   "source": [
    "df.sort_values(by=['fips','state','county','date'])['cases']"
   ]
  },
  {
   "cell_type": "code",
   "execution_count": null,
   "metadata": {},
   "outputs": [],
   "source": [
    "dfmask = (COVID_COUNTIES_DF['fips'] != COVID_COUNTIES_DF['fips'].shift(1))\n",
    "COVID_COUNTIES_DF[dfmask]['case_diff'] = np.nan"
   ]
  },
  {
   "cell_type": "code",
   "execution_count": null,
   "metadata": {},
   "outputs": [],
   "source": [
    "def get_county_data_by_dates(df, fips, start_date, end_date):\n",
    "    fips_mask = (df['fips'] == fips)\n",
    "    date_mask = (df['date'] >= start_date) & (df['date'] <= end_date)\n",
    "    return df[fips_mask & date_mask]\n",
    "\n",
    "get_county_data_by_dates(COVID_COUNTIES_DF,'24015','2020-02-01','2020-04-10')[['date','county','state','cases','deaths','case_diff']]"
   ]
  },
  {
   "cell_type": "code",
   "execution_count": null,
   "metadata": {},
   "outputs": [],
   "source": [
    "negative_mask = (DF['case_diff'] < 0)\n",
    "DF[negative_mask].sort_values(by=['fips','date'])"
   ]
  },
  {
   "cell_type": "code",
   "execution_count": null,
   "metadata": {},
   "outputs": [],
   "source": [
    "[np.isnan(x) for x in DF['case_diff'].head()]"
   ]
  },
  {
   "cell_type": "code",
   "execution_count": null,
   "metadata": {},
   "outputs": [],
   "source": [
    "plotting.scatter_deaths_county(DF,'case_diff','2020-08-28','06037')"
   ]
  },
  {
   "cell_type": "code",
   "execution_count": null,
   "metadata": {},
   "outputs": [],
   "source": [
    "DF['cases']"
   ]
  },
  {
   "cell_type": "markdown",
   "metadata": {},
   "source": [
    "### Consistentcy Check\n",
    "\n",
    "Here I want to check to see if we still have 30 nulls coming from fips codes. \n",
    "\n",
    "Since we're dealing with time series I want to check across all available dates to make sure we're consistent across all dates. Or at least that there is some sense as to why the data are missing."
   ]
  },
  {
   "cell_type": "markdown",
   "metadata": {},
   "source": [
    "First lets run a consistency check for one date. And create a function to check each specific date."
   ]
  },
  {
   "cell_type": "code",
   "execution_count": null,
   "metadata": {},
   "outputs": [],
   "source": [
    "def check_null_fips(df, date, seen_set=set()):\n",
    "    # Create a mask for a specific date.\n",
    "    date_mask = (df['date'] == date)\n",
    "\n",
    "    # Create a mask for when fips are null.\n",
    "    fips_null_mask = (df['fips'].map(lambda x:len(x)) < 5)\n",
    "    \n",
    "    nulls_set = set(df[fips_null_mask & date_mask][['county','state']].apply(\n",
    "        lambda x:str(x['county'])+str(x['state']), axis=1))\n",
    "    \n",
    "    # Print if find new\n",
    "    if len(nulls_set.difference(seen_set.intersection(nulls_set))) != 0:\n",
    "        print(f\"{len(nulls_set.difference(seen_set.intersection(nulls_set)))} NEW nulls. {len(seen_set | nulls_set)} Total Unique Nulls on {date}\")\n",
    "\n",
    "    # Update seen_set\n",
    "    seen_set = seen_set | nulls_set\n",
    "    \n",
    "    return seen_set #df[fips_null_mask & date_mask].shape[0]\n",
    "\n",
    "# Test it out\n",
    "a = check_null_fips(DF,'2020-08-28')"
   ]
  },
  {
   "cell_type": "markdown",
   "metadata": {},
   "source": [
    "Here we see that we have 30 nulls, which is what we expected. Lets check across all dates now."
   ]
  },
  {
   "cell_type": "code",
   "execution_count": null,
   "metadata": {},
   "outputs": [],
   "source": [
    "# \n",
    "sdate = date(2020, 3,1) # start date\n",
    "edate = date(2020,8,28) # end date\n",
    "\n",
    "date_list = [date.strftime(format=\"%Y-%m-%d\") \n",
    "    for date in \n",
    "        pd.date_range(sdate, edate-timedelta(days=1), freq='d')]"
   ]
  },
  {
   "cell_type": "code",
   "execution_count": null,
   "metadata": {},
   "outputs": [],
   "source": [
    "# Create a list of sets seen\n",
    "seen_set = set()\n",
    "\n",
    "# Loop over date_list\n",
    "for date in date_list:\n",
    "    \n",
    "    # First empty, then continues to grow\n",
    "    seen_set = check_null_fips(DF, date, seen_set)"
   ]
  },
  {
   "cell_type": "code",
   "execution_count": null,
   "metadata": {},
   "outputs": [],
   "source": [
    "date_mask = (DF['date'] == '2020-08-28')"
   ]
  },
  {
   "cell_type": "code",
   "execution_count": null,
   "metadata": {},
   "outputs": [],
   "source": [
    "DF[date_mask]['cases']"
   ]
  },
  {
   "cell_type": "code",
   "execution_count": null,
   "metadata": {},
   "outputs": [],
   "source": [
    "import seaborn as sns"
   ]
  },
  {
   "cell_type": "code",
   "execution_count": null,
   "metadata": {},
   "outputs": [],
   "source": [
    "sns.distplot(DF[date_mask]['casesPerMillion'])"
   ]
  },
  {
   "cell_type": "code",
   "execution_count": null,
   "metadata": {},
   "outputs": [],
   "source": []
  },
  {
   "cell_type": "code",
   "execution_count": null,
   "metadata": {},
   "outputs": [],
   "source": [
    "date_mask = (COVID_COUNTIES_DF['date'] == '2020-08-28')\n",
    "category = 'cases'\n",
    "category_series = COVID_COUNTIES_DF[date_mask][category]\n",
    "print(f\"Mean of {category} is {category_series.mean()}\")\n",
    "print(category_series.quantile([0, 0.1, 0.25, 0.5, 0.75, 0.8,0.85,0.9, 0.95, 0.99,1]))"
   ]
  },
  {
   "cell_type": "code",
   "execution_count": null,
   "metadata": {},
   "outputs": [],
   "source": [
    "DF[date_mask]['case_diff'].max()"
   ]
  },
  {
   "cell_type": "code",
   "execution_count": null,
   "metadata": {},
   "outputs": [],
   "source": [
    "date_mask = (COVID_COUNTIES_DF['date'] == '2020-03-01')"
   ]
  },
  {
   "cell_type": "code",
   "execution_count": null,
   "metadata": {},
   "outputs": [],
   "source": [
    "DF"
   ]
  }
 ],
 "metadata": {
  "kernelspec": {
   "display_name": "Python 3",
   "language": "python",
   "name": "python3"
  },
  "language_info": {
   "codemirror_mode": {
    "name": "ipython",
    "version": 3
   },
   "file_extension": ".py",
   "mimetype": "text/x-python",
   "name": "python",
   "nbconvert_exporter": "python",
   "pygments_lexer": "ipython3",
   "version": "3.7.7"
  }
 },
 "nbformat": 4,
 "nbformat_minor": 4
}
