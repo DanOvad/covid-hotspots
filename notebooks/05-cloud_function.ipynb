{
 "cells": [
  {
   "cell_type": "code",
   "execution_count": 1,
   "metadata": {},
   "outputs": [
    {
     "data": {
      "text/plain": [
       "'/Users/DanOvadia/Projects/covid-hotspots/notebooks'"
      ]
     },
     "execution_count": 1,
     "metadata": {},
     "output_type": "execute_result"
    }
   ],
   "source": [
    "pwd"
   ]
  },
  {
   "cell_type": "code",
   "execution_count": 2,
   "metadata": {},
   "outputs": [
    {
     "name": "stdout",
     "output_type": "stream",
     "text": [
      "/Users/DanOvadia/Projects/covid-hotspots\n"
     ]
    }
   ],
   "source": [
    "cd .."
   ]
  },
  {
   "cell_type": "code",
   "execution_count": 3,
   "metadata": {},
   "outputs": [],
   "source": [
    "import os\n",
    "import pandas as pd\n",
    "from google.cloud import storage\n",
    "\n",
    "# Custom files and modules\n",
    "from config import config\n",
    "from modules import data_processing"
   ]
  },
  {
   "cell_type": "code",
   "execution_count": 4,
   "metadata": {},
   "outputs": [],
   "source": [
    "# App Engine default service account credentials \n",
    "config_file = config.service_account_credentials_file"
   ]
  },
  {
   "cell_type": "code",
   "execution_count": 5,
   "metadata": {},
   "outputs": [
    {
     "name": "stdout",
     "output_type": "stream",
     "text": [
      "env: GOOGLE_APPLICATION_CREDENTIALS=/Users/DanOvadia/Projects/covid-hotspots/config/ytd-shared-project-eb630837f7b3.json\n",
      "Credentials already in environment: True\n"
     ]
    }
   ],
   "source": [
    "# Assign enviroment variable if it hasn't been assigned yet\n",
    "if 'GOOGLE_APPLICATION_CREDENTIALS' not in os.environ:\n",
    "    %env GOOGLE_APPLICATION_CREDENTIALS=/Users/DanOvadia/Projects/covid-hotspots/config/$config_file\n",
    "    \n",
    "print(f\"Credentials already in environment: {'GOOGLE_APPLICATION_CREDENTIALS' in os.environ}\")\n"
   ]
  },
  {
   "cell_type": "code",
   "execution_count": 6,
   "metadata": {},
   "outputs": [
    {
     "name": "stdout",
     "output_type": "stream",
     "text": [
      "['staging.ytd-shared-project.appspot.com', 'us.artifacts.ytd-shared-project.appspot.com', 'us_covid_hotspot-bucket', 'ytd-shared-project.appspot.com']\n"
     ]
    }
   ],
   "source": [
    "def implicit():\n",
    "    from google.cloud import storage\n",
    "\n",
    "    # If you don't specify credentials when constructing the client, the\n",
    "    # client library will look for credentials in the environment.\n",
    "    storage_client = storage.Client()\n",
    "\n",
    "    # Make an authenticated API request\n",
    "    buckets = [bucket.name for bucket in storage_client.list_buckets()]\n",
    "    print(buckets)\n",
    "    return buckets\n",
    "a = implicit()"
   ]
  },
  {
   "cell_type": "markdown",
   "metadata": {},
   "source": [
    "## 1 - State Data"
   ]
  },
  {
   "cell_type": "code",
   "execution_count": 12,
   "metadata": {},
   "outputs": [
    {
     "name": "stdout",
     "output_type": "stream",
     "text": [
      "Pulling state data from Covid Tracking API\n",
      "0.0 to pull data\n",
      "0.0 to df data\n"
     ]
    }
   ],
   "source": [
    "COVID_STATES_DF = data_processing.get_covid_state_data(cache_mode = 0)"
   ]
  },
  {
   "cell_type": "code",
   "execution_count": 13,
   "metadata": {},
   "outputs": [],
   "source": [
    "# Write DF to csv.gz\n",
    "COVID_STATES_DF.to_csv('data/covid_states.csv.gz', \n",
    "                       index = False,\n",
    "                       compression = 'gzip')"
   ]
  },
  {
   "cell_type": "markdown",
   "metadata": {},
   "source": [
    "Function to write create and write a blob object to GCS"
   ]
  },
  {
   "cell_type": "code",
   "execution_count": 16,
   "metadata": {},
   "outputs": [
    {
     "data": {
      "text/plain": [
       "'/Users/DanOvadia/Projects/covid-hotspots'"
      ]
     },
     "execution_count": 16,
     "metadata": {},
     "output_type": "execute_result"
    }
   ],
   "source": [
    "pwd"
   ]
  },
  {
   "cell_type": "code",
   "execution_count": 19,
   "metadata": {},
   "outputs": [],
   "source": [
    "BLOB_NAME = 'states_populuations.csv'\n",
    "FILEPATH = f'data/tbl_states.csv'"
   ]
  },
  {
   "cell_type": "code",
   "execution_count": 20,
   "metadata": {},
   "outputs": [
    {
     "data": {
      "text/plain": [
       "['covid_counties.csv.gz',\n",
       " 'covid_counties_20200901.csv.gz',\n",
       " 'covid_states.csv.gz',\n",
       " 'covid_states2.csv.gz',\n",
       " 'covid_states_20200901.csv.gz',\n",
       " 'states_populuations.csv']"
      ]
     },
     "execution_count": 20,
     "metadata": {},
     "output_type": "execute_result"
    }
   ],
   "source": [
    "write_blob_to_gcs(BUCKET_NAME, BLOB_NAME, FILEPATH)"
   ]
  },
  {
   "cell_type": "code",
   "execution_count": 12,
   "metadata": {},
   "outputs": [],
   "source": [
    "def write_blob_to_gcs(bucket_name, blob_name, filepath):\n",
    "    # Client to bundle configuration needed for API requests.\n",
    "    client = storage.Client()\n",
    "\n",
    "    # Extract the bucket object from the client bundle\n",
    "    bucket = client.get_bucket(bucket_name)\n",
    "\n",
    "    # Instantiate or extract the blob object from the bucket\n",
    "    blob = storage.blob.Blob(blob_name,bucket)\n",
    "\n",
    "    # Upload the file to the specific blob\n",
    "    blob.upload_from_filename(filepath)\n",
    "    \n",
    "    return [blob_item.name for blob_item in bucket.list_blobs()]"
   ]
  },
  {
   "cell_type": "code",
   "execution_count": 15,
   "metadata": {},
   "outputs": [
    {
     "data": {
      "text/plain": [
       "['covid_counties_20200901.csv.gz',\n",
       " 'covid_states.csv.gz',\n",
       " 'covid_states_20200901.csv.gz']"
      ]
     },
     "execution_count": 15,
     "metadata": {},
     "output_type": "execute_result"
    }
   ],
   "source": [
    "BUCKET_NAME = 'us_covid_hotspot-bucket'\n",
    "BLOB_NAME = 'covid_states.csv.gz'\n",
    "FILEPATH = f\"data/{BLOB_NAME}\"\n",
    "write_blob_to_gcs(BUCKET_NAME, BLOB_NAME, FILEPATH)"
   ]
  },
  {
   "cell_type": "markdown",
   "metadata": {},
   "source": [
    "## 2 - County Data"
   ]
  },
  {
   "cell_type": "code",
   "execution_count": 16,
   "metadata": {},
   "outputs": [
    {
     "name": "stdout",
     "output_type": "stream",
     "text": [
      "Retrieving Covid County data\n",
      "Pulling county data from github.\n"
     ]
    }
   ],
   "source": [
    "COVID_COUNTIES_DF = data_processing.get_covid_county_data(cache_mode=0)"
   ]
  },
  {
   "cell_type": "code",
   "execution_count": null,
   "metadata": {},
   "outputs": [],
   "source": [
    "COVID_COUNTY_DF.to_csv()"
   ]
  },
  {
   "cell_type": "code",
   "execution_count": 17,
   "metadata": {},
   "outputs": [],
   "source": [
    "COVID_COUNTIES_DF.to_csv('data/covid_counties.csv.gz', \n",
    "                       index = False,\n",
    "                       compression = 'gzip')"
   ]
  },
  {
   "cell_type": "code",
   "execution_count": 8,
   "metadata": {},
   "outputs": [],
   "source": [
    "BUCKET_NAME = 'us_covid_hotspot-bucket'\n",
    "BLOB_NAME = 'covid_counties.csv.gz'\n",
    "FILEPATH = f\"data/{BLOB_NAME}\""
   ]
  },
  {
   "cell_type": "code",
   "execution_count": null,
   "metadata": {},
   "outputs": [],
   "source": [
    "write_blob_to_gcs(BUCKET_NAME, BLOB_NAME, FILEPATH)"
   ]
  },
  {
   "cell_type": "code",
   "execution_count": null,
   "metadata": {},
   "outputs": [],
   "source": []
  },
  {
   "cell_type": "code",
   "execution_count": null,
   "metadata": {},
   "outputs": [],
   "source": [
    "blob.upload_from_string()"
   ]
  },
  {
   "cell_type": "code",
   "execution_count": null,
   "metadata": {},
   "outputs": [],
   "source": []
  },
  {
   "cell_type": "code",
   "execution_count": 10,
   "metadata": {},
   "outputs": [],
   "source": [
    "client = storage.Client()\n",
    "bucket = client.get_bucket(BUCKET_NAME)"
   ]
  },
  {
   "cell_type": "code",
   "execution_count": 11,
   "metadata": {},
   "outputs": [],
   "source": [
    "blob = storage.blob.Blob(BLOB_NAME, bucket)"
   ]
  },
  {
   "cell_type": "code",
   "execution_count": null,
   "metadata": {},
   "outputs": [],
   "source": [
    "blob.upload_from_file()"
   ]
  }
 ],
 "metadata": {
  "kernelspec": {
   "display_name": "Python 3",
   "language": "python",
   "name": "python3"
  },
  "language_info": {
   "codemirror_mode": {
    "name": "ipython",
    "version": 3
   },
   "file_extension": ".py",
   "mimetype": "text/x-python",
   "name": "python",
   "nbconvert_exporter": "python",
   "pygments_lexer": "ipython3",
   "version": "3.7.7"
  }
 },
 "nbformat": 4,
 "nbformat_minor": 4
}
