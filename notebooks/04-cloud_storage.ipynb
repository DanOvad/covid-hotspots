{
 "cells": [
  {
   "cell_type": "markdown",
   "metadata": {},
   "source": [
    "# Accessing data from Google Cloud Storage\n",
    "\n",
    "### Purpose\n",
    "The purpose of this notebook is to explore using Google Cloud Storage to cache covid data to reduce the need to request and process the data each time the heroku server is accessed.\n",
    "\n",
    "- First, connect and read from cloud storage, from a notebook.\n",
    "- Second, write to cloud to storage, from a notebook.\n",
    "- Third, update the heroku server and test reading from cloud storage.\n",
    "- Fourth, write a script that will request and process data from the source and write to cloud storage."
   ]
  },
  {
   "cell_type": "markdown",
   "metadata": {},
   "source": [
    "## Set Up\n",
    "First we need to knock this notebook one directory up to the root directory of the app.\n",
    "\n",
    "This is just for cleanliness purposes; to keep all notebooks in a notebooks directory."
   ]
  },
  {
   "cell_type": "code",
   "execution_count": 1,
   "metadata": {},
   "outputs": [
    {
     "data": {
      "text/plain": [
       "'/Users/DanOvadia/Projects/covid-hotspots/notebooks'"
      ]
     },
     "execution_count": 1,
     "metadata": {},
     "output_type": "execute_result"
    }
   ],
   "source": [
    "pwd"
   ]
  },
  {
   "cell_type": "code",
   "execution_count": 2,
   "metadata": {},
   "outputs": [
    {
     "name": "stdout",
     "output_type": "stream",
     "text": [
      "/Users/DanOvadia/Projects/covid-hotspots\n"
     ]
    }
   ],
   "source": [
    "cd .."
   ]
  },
  {
   "cell_type": "markdown",
   "metadata": {},
   "source": [
    "## Import Libraries"
   ]
  },
  {
   "cell_type": "code",
   "execution_count": 76,
   "metadata": {},
   "outputs": [
    {
     "name": "stdout",
     "output_type": "stream",
     "text": [
      "The autoreload extension is already loaded. To reload it, use:\n",
      "  %reload_ext autoreload\n"
     ]
    }
   ],
   "source": [
    "import pandas as pd\n",
    "import os\n",
    "from google.cloud import storage\n",
    "\n",
    "from config import config\n",
    "from modules import data_processing\n",
    "\n",
    "%load_ext autoreload\n",
    "%autoreload 1\n",
    "%aimport config.config\n",
    "%aimport modules.data_processing"
   ]
  },
  {
   "cell_type": "markdown",
   "metadata": {},
   "source": [
    "In order to access google cloud storage we need to set an environment variable `GOOGLE_APPLICATION_CREDENTIALS` for this session. This environment variable will point towards the service account credentials json.\n",
    "\n",
    "In the actual app, we will handle this separately."
   ]
  },
  {
   "cell_type": "code",
   "execution_count": 4,
   "metadata": {},
   "outputs": [],
   "source": [
    "# App Engine default service account credentials \n",
    "config_file = config.config.service_account_credentials_file"
   ]
  },
  {
   "cell_type": "code",
   "execution_count": 10,
   "metadata": {},
   "outputs": [
    {
     "name": "stdout",
     "output_type": "stream",
     "text": [
      "Credentials already in environment: True\n"
     ]
    }
   ],
   "source": [
    "# Assign enviroment variable if it hasn't been assigned yet\n",
    "if 'GOOGLE_APPLICATION_CREDENTIALS' not in os.environ:\n",
    "    %env GOOGLE_APPLICATION_CREDENTIALS=/Users/DanOvadia/Projects/covid-hotspots/config/$config_file\n",
    "    \n",
    "print(f\"Credentials already in environment: {'GOOGLE_APPLICATION_CREDENTIALS' in os.environ}\")\n"
   ]
  },
  {
   "cell_type": "markdown",
   "metadata": {},
   "source": [
    "Lets test to see if we've established our authentication for google cloud storage."
   ]
  },
  {
   "cell_type": "markdown",
   "metadata": {},
   "source": [
    "### List available buckets for our service account"
   ]
  },
  {
   "cell_type": "code",
   "execution_count": 46,
   "metadata": {},
   "outputs": [
    {
     "name": "stdout",
     "output_type": "stream",
     "text": [
      "['staging.ytd-shared-project.appspot.com', 'us.artifacts.ytd-shared-project.appspot.com', 'us_covid_hotspot-bucket', 'ytd-shared-project.appspot.com']\n"
     ]
    }
   ],
   "source": [
    "def implicit():\n",
    "    from google.cloud import storage\n",
    "\n",
    "    # If you don't specify credentials when constructing the client, the\n",
    "    # client library will look for credentials in the environment.\n",
    "    storage_client = storage.Client()\n",
    "\n",
    "    # Make an authenticated API request\n",
    "    buckets = [bucket.name for bucket in storage_client.list_buckets()]\n",
    "    print(buckets)\n",
    "    return buckets\n",
    "a = implicit()"
   ]
  },
  {
   "cell_type": "markdown",
   "metadata": {},
   "source": [
    "Yup, we look good. Now, lets import the data."
   ]
  },
  {
   "cell_type": "markdown",
   "metadata": {},
   "source": [
    "## Connect to cloud storage\n",
    "\n",
    "First we create a `google.cloud.storage.client.Client` object: Client to bundle configuration needed for API requests."
   ]
  },
  {
   "cell_type": "code",
   "execution_count": null,
   "metadata": {},
   "outputs": [],
   "source": [
    "CLIENT = storage.Client()"
   ]
  },
  {
   "cell_type": "markdown",
   "metadata": {},
   "source": [
    "Using the name of a bucket, we grab a bucket object from our client bundle."
   ]
  },
  {
   "cell_type": "code",
   "execution_count": 49,
   "metadata": {},
   "outputs": [],
   "source": [
    "BUCKET_NAME = 'us_covid_hotspot-bucket'\n",
    "BUCKET = CLIENT.get_bucket(bucket_or_name = BUCKET_NAME)"
   ]
  },
  {
   "cell_type": "code",
   "execution_count": 50,
   "metadata": {},
   "outputs": [
    {
     "data": {
      "text/plain": [
       "['covid_counties_20200831.csv',\n",
       " 'covid_states.csv',\n",
       " 'test-covid_counties_20200831.csv.gz']"
      ]
     },
     "execution_count": 50,
     "metadata": {},
     "output_type": "execute_result"
    }
   ],
   "source": [
    "[blob.name for blob in BUCKET.list_blobs()]"
   ]
  },
  {
   "cell_type": "code",
   "execution_count": 20,
   "metadata": {},
   "outputs": [],
   "source": [
    "FILENAME = 'covid_states.csv'"
   ]
  },
  {
   "cell_type": "code",
   "execution_count": null,
   "metadata": {},
   "outputs": [],
   "source": [
    "blob = storage.blob.Blob(name = BLOB_NAME, bucket = BUCKET_NAME)"
   ]
  },
  {
   "cell_type": "code",
   "execution_count": null,
   "metadata": {},
   "outputs": [],
   "source": [
    "BUCKET.get_blob()"
   ]
  },
  {
   "cell_type": "code",
   "execution_count": 57,
   "metadata": {},
   "outputs": [],
   "source": [
    "BUCKET_NAME = 'us_covid_hotspot-bucket'\n",
    "BUCKET = client.get_bucket(bucket_or_name=BUCKET_NAME)"
   ]
  },
  {
   "cell_type": "code",
   "execution_count": 58,
   "metadata": {},
   "outputs": [],
   "source": [
    "BUCKET_NAME = 'us_covid_hotspot-bucket'\n",
    "BLOB_NAME = \"covid_states.csv\""
   ]
  },
  {
   "cell_type": "code",
   "execution_count": 60,
   "metadata": {},
   "outputs": [],
   "source": [
    "df = get_df_from_blob(BUCKET_NAME, BLOB_NAME)"
   ]
  },
  {
   "cell_type": "code",
   "execution_count": 70,
   "metadata": {},
   "outputs": [],
   "source": [
    "def get_df_from_blob(bucket_name, blob_name):\n",
    "    client = storage.Client()\n",
    "    \n",
    "    #bucket = client.get_bucket(bucket_or_name = bucket_name)\n",
    "    #blob = bucket.get_blob(blob_name=blob_name)\n",
    "    \n",
    "    BLOB_URI = f\"gs://{BUCKET_NAME}/{BLOB_NAME}\"\n",
    "    \n",
    "    return pd.read_csv(BLOB_URI, compression = 'gzip')"
   ]
  },
  {
   "cell_type": "markdown",
   "metadata": {},
   "source": [
    "## Reading from a blob\n",
    "\n",
    "I attempted two ways to read from the blob. Converting the blob to a string, storing the string, then using BytesIO to read that string and send it to pd.read_CSV.\n",
    "\n",
    "I also attempted a method provided by pandas to read direction from a blob using the `gs://[BUCKET_NAME]/[BLOB_NAME]` URI of the blob."
   ]
  },
  {
   "cell_type": "code",
   "execution_count": 53,
   "metadata": {},
   "outputs": [],
   "source": [
    "BLOB_URI = f\"gs://{BUCKET_NAME}/{BLOB_NAME}\""
   ]
  },
  {
   "cell_type": "code",
   "execution_count": 54,
   "metadata": {},
   "outputs": [
    {
     "data": {
      "text/plain": [
       "'gs://us_covid_hotspot-bucket/covid_states.csv'"
      ]
     },
     "execution_count": 54,
     "metadata": {},
     "output_type": "execute_result"
    }
   ],
   "source": [
    "BLOB_URI"
   ]
  },
  {
   "cell_type": "code",
   "execution_count": 56,
   "metadata": {},
   "outputs": [
    {
     "name": "stdout",
     "output_type": "stream",
     "text": [
      "CPU times: user 421 ms, sys: 93.1 ms, total: 514 ms\n",
      "Wall time: 2.6 s\n"
     ]
    }
   ],
   "source": [
    "%%time\n",
    "df = pd.read_csv(BLOB_URI)"
   ]
  },
  {
   "cell_type": "code",
   "execution_count": 69,
   "metadata": {},
   "outputs": [
    {
     "data": {
      "text/html": [
       "<div>\n",
       "<style scoped>\n",
       "    .dataframe tbody tr th:only-of-type {\n",
       "        vertical-align: middle;\n",
       "    }\n",
       "\n",
       "    .dataframe tbody tr th {\n",
       "        vertical-align: top;\n",
       "    }\n",
       "\n",
       "    .dataframe thead th {\n",
       "        text-align: right;\n",
       "    }\n",
       "</style>\n",
       "<table border=\"1\" class=\"dataframe\">\n",
       "  <thead>\n",
       "    <tr style=\"text-align: right;\">\n",
       "      <th></th>\n",
       "      <th>date</th>\n",
       "      <th>county</th>\n",
       "      <th>state</th>\n",
       "      <th>fips</th>\n",
       "      <th>cases</th>\n",
       "      <th>deaths</th>\n",
       "      <th>FIPS</th>\n",
       "      <th>POPESTIMATE2019</th>\n",
       "      <th>CENSUS2010POP</th>\n",
       "      <th>casesPerMillion</th>\n",
       "      <th>deathsPerMillion</th>\n",
       "      <th>case_diff</th>\n",
       "      <th>death_diff</th>\n",
       "      <th>cases_14MA</th>\n",
       "      <th>deaths_14MA</th>\n",
       "    </tr>\n",
       "  </thead>\n",
       "  <tbody>\n",
       "    <tr>\n",
       "      <th>0</th>\n",
       "      <td>2020-01-21</td>\n",
       "      <td>Snohomish</td>\n",
       "      <td>Washington</td>\n",
       "      <td>53061.0</td>\n",
       "      <td>1</td>\n",
       "      <td>0</td>\n",
       "      <td>53061.0</td>\n",
       "      <td>822083.0</td>\n",
       "      <td>713335.0</td>\n",
       "      <td>1.216422</td>\n",
       "      <td>0.0</td>\n",
       "      <td>NaN</td>\n",
       "      <td>NaN</td>\n",
       "      <td>NaN</td>\n",
       "      <td>NaN</td>\n",
       "    </tr>\n",
       "    <tr>\n",
       "      <th>1</th>\n",
       "      <td>2020-01-22</td>\n",
       "      <td>Snohomish</td>\n",
       "      <td>Washington</td>\n",
       "      <td>53061.0</td>\n",
       "      <td>1</td>\n",
       "      <td>0</td>\n",
       "      <td>53061.0</td>\n",
       "      <td>822083.0</td>\n",
       "      <td>713335.0</td>\n",
       "      <td>1.216422</td>\n",
       "      <td>0.0</td>\n",
       "      <td>0.0</td>\n",
       "      <td>0.0</td>\n",
       "      <td>NaN</td>\n",
       "      <td>NaN</td>\n",
       "    </tr>\n",
       "    <tr>\n",
       "      <th>2</th>\n",
       "      <td>2020-01-23</td>\n",
       "      <td>Snohomish</td>\n",
       "      <td>Washington</td>\n",
       "      <td>53061.0</td>\n",
       "      <td>1</td>\n",
       "      <td>0</td>\n",
       "      <td>53061.0</td>\n",
       "      <td>822083.0</td>\n",
       "      <td>713335.0</td>\n",
       "      <td>1.216422</td>\n",
       "      <td>0.0</td>\n",
       "      <td>0.0</td>\n",
       "      <td>0.0</td>\n",
       "      <td>NaN</td>\n",
       "      <td>NaN</td>\n",
       "    </tr>\n",
       "    <tr>\n",
       "      <th>3</th>\n",
       "      <td>2020-01-24</td>\n",
       "      <td>Cook</td>\n",
       "      <td>Illinois</td>\n",
       "      <td>17031.0</td>\n",
       "      <td>1</td>\n",
       "      <td>0</td>\n",
       "      <td>17031.0</td>\n",
       "      <td>5150233.0</td>\n",
       "      <td>5194675.0</td>\n",
       "      <td>0.194166</td>\n",
       "      <td>0.0</td>\n",
       "      <td>NaN</td>\n",
       "      <td>NaN</td>\n",
       "      <td>NaN</td>\n",
       "      <td>NaN</td>\n",
       "    </tr>\n",
       "    <tr>\n",
       "      <th>4</th>\n",
       "      <td>2020-01-24</td>\n",
       "      <td>Snohomish</td>\n",
       "      <td>Washington</td>\n",
       "      <td>53061.0</td>\n",
       "      <td>1</td>\n",
       "      <td>0</td>\n",
       "      <td>53061.0</td>\n",
       "      <td>822083.0</td>\n",
       "      <td>713335.0</td>\n",
       "      <td>1.216422</td>\n",
       "      <td>0.0</td>\n",
       "      <td>0.0</td>\n",
       "      <td>0.0</td>\n",
       "      <td>NaN</td>\n",
       "      <td>NaN</td>\n",
       "    </tr>\n",
       "  </tbody>\n",
       "</table>\n",
       "</div>"
      ],
      "text/plain": [
       "         date     county       state     fips  cases  deaths     FIPS  \\\n",
       "0  2020-01-21  Snohomish  Washington  53061.0      1       0  53061.0   \n",
       "1  2020-01-22  Snohomish  Washington  53061.0      1       0  53061.0   \n",
       "2  2020-01-23  Snohomish  Washington  53061.0      1       0  53061.0   \n",
       "3  2020-01-24       Cook    Illinois  17031.0      1       0  17031.0   \n",
       "4  2020-01-24  Snohomish  Washington  53061.0      1       0  53061.0   \n",
       "\n",
       "   POPESTIMATE2019  CENSUS2010POP  casesPerMillion  deathsPerMillion  \\\n",
       "0         822083.0       713335.0         1.216422               0.0   \n",
       "1         822083.0       713335.0         1.216422               0.0   \n",
       "2         822083.0       713335.0         1.216422               0.0   \n",
       "3        5150233.0      5194675.0         0.194166               0.0   \n",
       "4         822083.0       713335.0         1.216422               0.0   \n",
       "\n",
       "   case_diff  death_diff  cases_14MA  deaths_14MA  \n",
       "0        NaN         NaN         NaN          NaN  \n",
       "1        0.0         0.0         NaN          NaN  \n",
       "2        0.0         0.0         NaN          NaN  \n",
       "3        NaN         NaN         NaN          NaN  \n",
       "4        0.0         0.0         NaN          NaN  "
      ]
     },
     "execution_count": 69,
     "metadata": {},
     "output_type": "execute_result"
    }
   ],
   "source": [
    "df.head()"
   ]
  },
  {
   "cell_type": "code",
   "execution_count": null,
   "metadata": {},
   "outputs": [],
   "source": [
    "%%time\n",
    "content = blob.download_as_string()\n",
    "df = pd.read_csv(BytesIO(content))"
   ]
  },
  {
   "cell_type": "markdown",
   "metadata": {},
   "source": [
    "## Writing to Blob"
   ]
  },
  {
   "cell_type": "code",
   "execution_count": 99,
   "metadata": {},
   "outputs": [],
   "source": [
    "BUCKET_NAME = 'us_covid_hotspot-bucket'\n",
    "#BLOB_NAME = \"covid_states.csv\"\n",
    "BLOB_NAME = \"covid_states_20200901.csv.gz\"\n",
    "FILE_PATH = f\"data/{BLOB_NAME}\""
   ]
  },
  {
   "cell_type": "code",
   "execution_count": 100,
   "metadata": {},
   "outputs": [
    {
     "name": "stdout",
     "output_type": "stream",
     "text": [
      "CPU times: user 87.6 ms, sys: 21.3 ms, total: 109 ms\n",
      "Wall time: 9.28 s\n"
     ]
    },
    {
     "data": {
      "text/plain": [
       "['covid_counties_20200831.csv',\n",
       " 'covid_counties_20200901.csv.gz',\n",
       " 'covid_states.csv',\n",
       " 'covid_states_20200901.csv.gz',\n",
       " 'test-covid_counties_20200831.csv.gz']"
      ]
     },
     "execution_count": 100,
     "metadata": {},
     "output_type": "execute_result"
    }
   ],
   "source": [
    "%%time\n",
    "write_blob_to_gcs(BUCKET_NAME, \n",
    "                  BLOB_NAME, \n",
    "                  FILE_PATH)"
   ]
  },
  {
   "cell_type": "markdown",
   "metadata": {},
   "source": [
    "Now lets test to see if we got the result we wanted"
   ]
  },
  {
   "cell_type": "code",
   "execution_count": 72,
   "metadata": {},
   "outputs": [
    {
     "name": "stdout",
     "output_type": "stream",
     "text": [
      "CPU times: user 3 µs, sys: 1 µs, total: 4 µs\n",
      "Wall time: 6.91 µs\n"
     ]
    }
   ],
   "source": [
    "%%time \n",
    "df = get_df_from_blob(BUCKET_NAME, BLOB_NAME)"
   ]
  },
  {
   "cell_type": "code",
   "execution_count": 73,
   "metadata": {},
   "outputs": [
    {
     "data": {
      "text/html": [
       "<div>\n",
       "<style scoped>\n",
       "    .dataframe tbody tr th:only-of-type {\n",
       "        vertical-align: middle;\n",
       "    }\n",
       "\n",
       "    .dataframe tbody tr th {\n",
       "        vertical-align: top;\n",
       "    }\n",
       "\n",
       "    .dataframe thead th {\n",
       "        text-align: right;\n",
       "    }\n",
       "</style>\n",
       "<table border=\"1\" class=\"dataframe\">\n",
       "  <thead>\n",
       "    <tr style=\"text-align: right;\">\n",
       "      <th></th>\n",
       "      <th>date</th>\n",
       "      <th>county</th>\n",
       "      <th>state</th>\n",
       "      <th>fips</th>\n",
       "      <th>cases</th>\n",
       "      <th>deaths</th>\n",
       "      <th>FIPS</th>\n",
       "      <th>POPESTIMATE2019</th>\n",
       "      <th>CENSUS2010POP</th>\n",
       "      <th>casesPerMillion</th>\n",
       "      <th>deathsPerMillion</th>\n",
       "      <th>case_diff</th>\n",
       "      <th>death_diff</th>\n",
       "      <th>cases_14MA</th>\n",
       "      <th>deaths_14MA</th>\n",
       "    </tr>\n",
       "  </thead>\n",
       "  <tbody>\n",
       "    <tr>\n",
       "      <th>0</th>\n",
       "      <td>2020-01-21</td>\n",
       "      <td>Snohomish</td>\n",
       "      <td>Washington</td>\n",
       "      <td>53061.0</td>\n",
       "      <td>1</td>\n",
       "      <td>0</td>\n",
       "      <td>53061.0</td>\n",
       "      <td>822083.0</td>\n",
       "      <td>713335.0</td>\n",
       "      <td>1.216422</td>\n",
       "      <td>0.0</td>\n",
       "      <td>NaN</td>\n",
       "      <td>NaN</td>\n",
       "      <td>NaN</td>\n",
       "      <td>NaN</td>\n",
       "    </tr>\n",
       "    <tr>\n",
       "      <th>1</th>\n",
       "      <td>2020-01-22</td>\n",
       "      <td>Snohomish</td>\n",
       "      <td>Washington</td>\n",
       "      <td>53061.0</td>\n",
       "      <td>1</td>\n",
       "      <td>0</td>\n",
       "      <td>53061.0</td>\n",
       "      <td>822083.0</td>\n",
       "      <td>713335.0</td>\n",
       "      <td>1.216422</td>\n",
       "      <td>0.0</td>\n",
       "      <td>0.0</td>\n",
       "      <td>0.0</td>\n",
       "      <td>NaN</td>\n",
       "      <td>NaN</td>\n",
       "    </tr>\n",
       "    <tr>\n",
       "      <th>2</th>\n",
       "      <td>2020-01-23</td>\n",
       "      <td>Snohomish</td>\n",
       "      <td>Washington</td>\n",
       "      <td>53061.0</td>\n",
       "      <td>1</td>\n",
       "      <td>0</td>\n",
       "      <td>53061.0</td>\n",
       "      <td>822083.0</td>\n",
       "      <td>713335.0</td>\n",
       "      <td>1.216422</td>\n",
       "      <td>0.0</td>\n",
       "      <td>0.0</td>\n",
       "      <td>0.0</td>\n",
       "      <td>NaN</td>\n",
       "      <td>NaN</td>\n",
       "    </tr>\n",
       "    <tr>\n",
       "      <th>3</th>\n",
       "      <td>2020-01-24</td>\n",
       "      <td>Cook</td>\n",
       "      <td>Illinois</td>\n",
       "      <td>17031.0</td>\n",
       "      <td>1</td>\n",
       "      <td>0</td>\n",
       "      <td>17031.0</td>\n",
       "      <td>5150233.0</td>\n",
       "      <td>5194675.0</td>\n",
       "      <td>0.194166</td>\n",
       "      <td>0.0</td>\n",
       "      <td>NaN</td>\n",
       "      <td>NaN</td>\n",
       "      <td>NaN</td>\n",
       "      <td>NaN</td>\n",
       "    </tr>\n",
       "    <tr>\n",
       "      <th>4</th>\n",
       "      <td>2020-01-24</td>\n",
       "      <td>Snohomish</td>\n",
       "      <td>Washington</td>\n",
       "      <td>53061.0</td>\n",
       "      <td>1</td>\n",
       "      <td>0</td>\n",
       "      <td>53061.0</td>\n",
       "      <td>822083.0</td>\n",
       "      <td>713335.0</td>\n",
       "      <td>1.216422</td>\n",
       "      <td>0.0</td>\n",
       "      <td>0.0</td>\n",
       "      <td>0.0</td>\n",
       "      <td>NaN</td>\n",
       "      <td>NaN</td>\n",
       "    </tr>\n",
       "  </tbody>\n",
       "</table>\n",
       "</div>"
      ],
      "text/plain": [
       "         date     county       state     fips  cases  deaths     FIPS  \\\n",
       "0  2020-01-21  Snohomish  Washington  53061.0      1       0  53061.0   \n",
       "1  2020-01-22  Snohomish  Washington  53061.0      1       0  53061.0   \n",
       "2  2020-01-23  Snohomish  Washington  53061.0      1       0  53061.0   \n",
       "3  2020-01-24       Cook    Illinois  17031.0      1       0  17031.0   \n",
       "4  2020-01-24  Snohomish  Washington  53061.0      1       0  53061.0   \n",
       "\n",
       "   POPESTIMATE2019  CENSUS2010POP  casesPerMillion  deathsPerMillion  \\\n",
       "0         822083.0       713335.0         1.216422               0.0   \n",
       "1         822083.0       713335.0         1.216422               0.0   \n",
       "2         822083.0       713335.0         1.216422               0.0   \n",
       "3        5150233.0      5194675.0         0.194166               0.0   \n",
       "4         822083.0       713335.0         1.216422               0.0   \n",
       "\n",
       "   case_diff  death_diff  cases_14MA  deaths_14MA  \n",
       "0        NaN         NaN         NaN          NaN  \n",
       "1        0.0         0.0         NaN          NaN  \n",
       "2        0.0         0.0         NaN          NaN  \n",
       "3        NaN         NaN         NaN          NaN  \n",
       "4        0.0         0.0         NaN          NaN  "
      ]
     },
     "execution_count": 73,
     "metadata": {},
     "output_type": "execute_result"
    }
   ],
   "source": [
    "df.head()"
   ]
  },
  {
   "cell_type": "code",
   "execution_count": 65,
   "metadata": {},
   "outputs": [],
   "source": [
    "def write_blob_to_gcs(bucket_name, blob_name, filepath):\n",
    "    # Client to bundle configuration needed for API requests.\n",
    "    client = storage.Client()\n",
    "\n",
    "    # Extract the bucket object from the client bundle\n",
    "    bucket = client.get_bucket(bucket_name)\n",
    "\n",
    "    # Instantiate or extract the blob object from the bucket\n",
    "    blob = storage.blob.Blob(blob_name,bucket)\n",
    "\n",
    "    # Upload the file to the specific blob\n",
    "    blob.upload_from_filename(filepath)\n",
    "    \n",
    "    return [blob_item.name for blob_item in bucket.list_blobs()]"
   ]
  },
  {
   "cell_type": "markdown",
   "metadata": {},
   "source": [
    "## Reading from Blob"
   ]
  },
  {
   "cell_type": "code",
   "execution_count": 98,
   "metadata": {},
   "outputs": [
    {
     "data": {
      "text/plain": [
       "'us_covid_hotspot-bucket'"
      ]
     },
     "execution_count": 98,
     "metadata": {},
     "output_type": "execute_result"
    }
   ],
   "source": [
    "BUCKET_NAME = 'us_covid_hotspot-bucket'\n",
    "BLOB_NAME = "
   ]
  },
  {
   "cell_type": "code",
   "execution_count": null,
   "metadata": {},
   "outputs": [],
   "source": [
    "write_blob_to_gcs()"
   ]
  },
  {
   "cell_type": "code",
   "execution_count": 102,
   "metadata": {},
   "outputs": [
    {
     "data": {
      "text/plain": [
       "['covid_counties_20200831.csv',\n",
       " 'covid_counties_20200901.csv.gz',\n",
       " 'covid_states.csv',\n",
       " 'covid_states_20200901.csv.gz',\n",
       " 'test-covid_counties_20200831.csv.gz']"
      ]
     },
     "execution_count": 102,
     "metadata": {},
     "output_type": "execute_result"
    }
   ],
   "source": [
    "[blob_item.name for blob_item in BUCKET.list_blobs()]"
   ]
  },
  {
   "cell_type": "markdown",
   "metadata": {},
   "source": [
    "### Trying to zip and save"
   ]
  },
  {
   "cell_type": "code",
   "execution_count": null,
   "metadata": {},
   "outputs": [],
   "source": [
    "covid_counties.head()"
   ]
  },
  {
   "cell_type": "code",
   "execution_count": null,
   "metadata": {},
   "outputs": [],
   "source": [
    "# write a pandas dataframe to gzipped CSV file\n",
    "covid_counties.to_csv(\"data/education_salary.csv.gz\", \n",
    "           index=False, \n",
    "           compression=\"gzip\")"
   ]
  },
  {
   "cell_type": "code",
   "execution_count": null,
   "metadata": {},
   "outputs": [],
   "source": [
    "pd.read_csv()"
   ]
  },
  {
   "cell_type": "code",
   "execution_count": 104,
   "metadata": {},
   "outputs": [],
   "source": [
    "a = pd.read_csv(\"data/covid_states_20200901.csv.gz\", compression=\"gzip\")"
   ]
  },
  {
   "cell_type": "code",
   "execution_count": null,
   "metadata": {},
   "outputs": [],
   "source": []
  },
  {
   "cell_type": "code",
   "execution_count": null,
   "metadata": {},
   "outputs": [],
   "source": [
    "df = pd.read_csv('gs://us_covid_hotspot-bucket/covid_states_20200901.csv.gz')"
   ]
  },
  {
   "cell_type": "code",
   "execution_count": 91,
   "metadata": {},
   "outputs": [
    {
     "data": {
      "text/plain": [
       "True"
      ]
     },
     "execution_count": 91,
     "metadata": {},
     "output_type": "execute_result"
    }
   ],
   "source": [
    "import time\n",
    "\n",
    "today = time.strftime('%Y%m%d')\n",
    "filepath = f'data/covid_states_{today}.csv.gz'\n",
    "cache_mode = 2\n",
    "\n",
    "(os.path.exists(filepath) and cache_mode in (1,2))"
   ]
  },
  {
   "cell_type": "code",
   "execution_count": 107,
   "metadata": {},
   "outputs": [
    {
     "name": "stdout",
     "output_type": "stream",
     "text": [
      "Pulling state data from Cloud Storage\n",
      "gs://us_covid_hotspot-bucket/covid_states_20200901.csv.gz\n"
     ]
    }
   ],
   "source": [
    "#a = data_processing.get_covid_county_data()\n",
    "b = data_processing.get_covid_state_data(cache_mode = 3)\n"
   ]
  },
  {
   "cell_type": "code",
   "execution_count": 108,
   "metadata": {},
   "outputs": [
    {
     "data": {
      "text/html": [
       "<div>\n",
       "<style scoped>\n",
       "    .dataframe tbody tr th:only-of-type {\n",
       "        vertical-align: middle;\n",
       "    }\n",
       "\n",
       "    .dataframe tbody tr th {\n",
       "        vertical-align: top;\n",
       "    }\n",
       "\n",
       "    .dataframe thead th {\n",
       "        text-align: right;\n",
       "    }\n",
       "</style>\n",
       "<table border=\"1\" class=\"dataframe\">\n",
       "  <thead>\n",
       "    <tr style=\"text-align: right;\">\n",
       "      <th></th>\n",
       "      <th>date</th>\n",
       "      <th>state</th>\n",
       "      <th>positive</th>\n",
       "      <th>negative</th>\n",
       "      <th>pending</th>\n",
       "      <th>hospitalizedCurrently</th>\n",
       "      <th>hospitalizedCumulative</th>\n",
       "      <th>inIcuCurrently</th>\n",
       "      <th>inIcuCumulative</th>\n",
       "      <th>onVentilatorCurrently</th>\n",
       "      <th>...</th>\n",
       "      <th>density</th>\n",
       "      <th>lat</th>\n",
       "      <th>long</th>\n",
       "      <th>Lived</th>\n",
       "      <th>Standard</th>\n",
       "      <th>fips_y</th>\n",
       "      <th>case_pm</th>\n",
       "      <th>death_pm</th>\n",
       "      <th>deaths_14MA</th>\n",
       "      <th>cases_14MA</th>\n",
       "    </tr>\n",
       "  </thead>\n",
       "  <tbody>\n",
       "    <tr>\n",
       "      <th>0</th>\n",
       "      <td>2020-09-01</td>\n",
       "      <td>AK</td>\n",
       "      <td>6160.0</td>\n",
       "      <td>368095.0</td>\n",
       "      <td>NaN</td>\n",
       "      <td>41.0</td>\n",
       "      <td>NaN</td>\n",
       "      <td>NaN</td>\n",
       "      <td>NaN</td>\n",
       "      <td>9.0</td>\n",
       "      <td>...</td>\n",
       "      <td>1.2863</td>\n",
       "      <td>63.59</td>\n",
       "      <td>-154.49</td>\n",
       "      <td>27.0</td>\n",
       "      <td>1.0</td>\n",
       "      <td>2.0</td>\n",
       "      <td>8392.347705</td>\n",
       "      <td>53.133370</td>\n",
       "      <td>NaN</td>\n",
       "      <td>NaN</td>\n",
       "    </tr>\n",
       "    <tr>\n",
       "      <th>1</th>\n",
       "      <td>2020-09-01</td>\n",
       "      <td>AL</td>\n",
       "      <td>127616.0</td>\n",
       "      <td>831304.0</td>\n",
       "      <td>NaN</td>\n",
       "      <td>990.0</td>\n",
       "      <td>14538.0</td>\n",
       "      <td>NaN</td>\n",
       "      <td>1487.0</td>\n",
       "      <td>NaN</td>\n",
       "      <td>...</td>\n",
       "      <td>96.9221</td>\n",
       "      <td>32.32</td>\n",
       "      <td>-86.90</td>\n",
       "      <td>93.0</td>\n",
       "      <td>37.0</td>\n",
       "      <td>1.0</td>\n",
       "      <td>25998.340471</td>\n",
       "      <td>448.191050</td>\n",
       "      <td>NaN</td>\n",
       "      <td>NaN</td>\n",
       "    </tr>\n",
       "    <tr>\n",
       "      <th>2</th>\n",
       "      <td>2020-09-01</td>\n",
       "      <td>AR</td>\n",
       "      <td>61497.0</td>\n",
       "      <td>669528.0</td>\n",
       "      <td>NaN</td>\n",
       "      <td>423.0</td>\n",
       "      <td>4306.0</td>\n",
       "      <td>NaN</td>\n",
       "      <td>NaN</td>\n",
       "      <td>85.0</td>\n",
       "      <td>...</td>\n",
       "      <td>58.4030</td>\n",
       "      <td>35.20</td>\n",
       "      <td>-91.83</td>\n",
       "      <td>68.0</td>\n",
       "      <td>22.0</td>\n",
       "      <td>5.0</td>\n",
       "      <td>20235.939531</td>\n",
       "      <td>267.851355</td>\n",
       "      <td>NaN</td>\n",
       "      <td>NaN</td>\n",
       "    </tr>\n",
       "    <tr>\n",
       "      <th>3</th>\n",
       "      <td>2020-09-01</td>\n",
       "      <td>AS</td>\n",
       "      <td>0.0</td>\n",
       "      <td>1514.0</td>\n",
       "      <td>NaN</td>\n",
       "      <td>NaN</td>\n",
       "      <td>NaN</td>\n",
       "      <td>NaN</td>\n",
       "      <td>NaN</td>\n",
       "      <td>NaN</td>\n",
       "      <td>...</td>\n",
       "      <td>NaN</td>\n",
       "      <td>NaN</td>\n",
       "      <td>NaN</td>\n",
       "      <td>NaN</td>\n",
       "      <td>NaN</td>\n",
       "      <td>NaN</td>\n",
       "      <td>NaN</td>\n",
       "      <td>NaN</td>\n",
       "      <td>NaN</td>\n",
       "      <td>NaN</td>\n",
       "    </tr>\n",
       "    <tr>\n",
       "      <th>4</th>\n",
       "      <td>2020-09-01</td>\n",
       "      <td>AZ</td>\n",
       "      <td>202342.0</td>\n",
       "      <td>1006648.0</td>\n",
       "      <td>NaN</td>\n",
       "      <td>729.0</td>\n",
       "      <td>21405.0</td>\n",
       "      <td>253.0</td>\n",
       "      <td>NaN</td>\n",
       "      <td>150.0</td>\n",
       "      <td>...</td>\n",
       "      <td>64.9550</td>\n",
       "      <td>34.05</td>\n",
       "      <td>-111.09</td>\n",
       "      <td>125.0</td>\n",
       "      <td>23.0</td>\n",
       "      <td>4.0</td>\n",
       "      <td>27423.211295</td>\n",
       "      <td>683.608335</td>\n",
       "      <td>NaN</td>\n",
       "      <td>NaN</td>\n",
       "    </tr>\n",
       "  </tbody>\n",
       "</table>\n",
       "<p>5 rows × 66 columns</p>\n",
       "</div>"
      ],
      "text/plain": [
       "         date state  positive   negative  pending  hospitalizedCurrently  \\\n",
       "0  2020-09-01    AK    6160.0   368095.0      NaN                   41.0   \n",
       "1  2020-09-01    AL  127616.0   831304.0      NaN                  990.0   \n",
       "2  2020-09-01    AR   61497.0   669528.0      NaN                  423.0   \n",
       "3  2020-09-01    AS       0.0     1514.0      NaN                    NaN   \n",
       "4  2020-09-01    AZ  202342.0  1006648.0      NaN                  729.0   \n",
       "\n",
       "   hospitalizedCumulative  inIcuCurrently  inIcuCumulative  \\\n",
       "0                     NaN             NaN              NaN   \n",
       "1                 14538.0             NaN           1487.0   \n",
       "2                  4306.0             NaN              NaN   \n",
       "3                     NaN             NaN              NaN   \n",
       "4                 21405.0           253.0              NaN   \n",
       "\n",
       "   onVentilatorCurrently  ...  density    lat    long  Lived Standard fips_y  \\\n",
       "0                    9.0  ...   1.2863  63.59 -154.49   27.0      1.0    2.0   \n",
       "1                    NaN  ...  96.9221  32.32  -86.90   93.0     37.0    1.0   \n",
       "2                   85.0  ...  58.4030  35.20  -91.83   68.0     22.0    5.0   \n",
       "3                    NaN  ...      NaN    NaN     NaN    NaN      NaN    NaN   \n",
       "4                  150.0  ...  64.9550  34.05 -111.09  125.0     23.0    4.0   \n",
       "\n",
       "        case_pm    death_pm deaths_14MA  cases_14MA  \n",
       "0   8392.347705   53.133370         NaN         NaN  \n",
       "1  25998.340471  448.191050         NaN         NaN  \n",
       "2  20235.939531  267.851355         NaN         NaN  \n",
       "3           NaN         NaN         NaN         NaN  \n",
       "4  27423.211295  683.608335         NaN         NaN  \n",
       "\n",
       "[5 rows x 66 columns]"
      ]
     },
     "execution_count": 108,
     "metadata": {},
     "output_type": "execute_result"
    }
   ],
   "source": [
    "b.head()"
   ]
  },
  {
   "cell_type": "code",
   "execution_count": null,
   "metadata": {},
   "outputs": [],
   "source": []
  },
  {
   "cell_type": "code",
   "execution_count": null,
   "metadata": {},
   "outputs": [],
   "source": []
  },
  {
   "cell_type": "code",
   "execution_count": null,
   "metadata": {},
   "outputs": [],
   "source": []
  },
  {
   "cell_type": "code",
   "execution_count": null,
   "metadata": {},
   "outputs": [],
   "source": []
  },
  {
   "cell_type": "code",
   "execution_count": 109,
   "metadata": {},
   "outputs": [
    {
     "name": "stdout",
     "output_type": "stream",
     "text": [
      "Pulling county data from GCS [gs://us_covid_hotspot-bucket/covid_counties_20200901.csv.gz]\n"
     ]
    }
   ],
   "source": [
    "%%time\n",
    "bucket_name = 'us_covid_hotspot-bucket'\n",
    "blob_name = \"covid_counties_20200901.csv.gz\"\n",
    "blob_uri = f\"gs://{bucket_name}/{blob_name}\"\n",
    "print(f\"Pulling county data from GCS [{blob_uri}]\")\n",
    "\n",
    "# Get the client object to make the request\n",
    "client = storage.Client()\n",
    "\n",
    "df = pd.read_csv(blob_uri, compression = 'gzip')\n",
    "\n",
    "df['date'] = pd.to_datetime(df['date'], format = '%Y-%m-%d')"
   ]
  },
  {
   "cell_type": "code",
   "execution_count": 111,
   "metadata": {},
   "outputs": [],
   "source": [
    "df['date'] = pd.to_datetime(df['date'], format = '%Y-%m-%d')"
   ]
  }
 ],
 "metadata": {
  "kernelspec": {
   "display_name": "Python 3",
   "language": "python",
   "name": "python3"
  },
  "language_info": {
   "codemirror_mode": {
    "name": "ipython",
    "version": 3
   },
   "file_extension": ".py",
   "mimetype": "text/x-python",
   "name": "python",
   "nbconvert_exporter": "python",
   "pygments_lexer": "ipython3",
   "version": "3.7.7"
  }
 },
 "nbformat": 4,
 "nbformat_minor": 4
}
