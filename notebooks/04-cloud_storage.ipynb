{
 "cells": [
  {
   "cell_type": "markdown",
   "metadata": {},
   "source": [
    "# Accessing data from Google Cloud Storage\n",
    "\n",
    "### Purpose\n",
    "The purpose of this notebook is to explore using Google Cloud Storage to cache covid data to reduce the need to request and process the data each time the heroku server is accessed.\n",
    "\n",
    "- **First**, connect and read from cloud storage, from a notebook.\n",
    "- **Second**, write to cloud to storage, from a notebook.\n",
    "- **Third**, run the server locally and test reading from cloud storage.\n",
    "- **Fourth**, update the heroku server and test reading from cloud storage.\n",
    "- **Fifth**, write a script that will request and process data from the source and write to cloud storage.\n",
    "- **Sixth**, deploy an app-engine instance that can update the bucket as needed.\n",
    "- **Seventh**, create a cron job on GCP to trigger the app-engine instance every morning to update retrieve, process, and update data."
   ]
  },
  {
   "cell_type": "markdown",
   "metadata": {},
   "source": [
    "### Sections\n",
    "1. [Environment Setup](#1---Environment-Setup)\n",
    "2. [Connecting to Cloud Storage Client](#2---Connecting-to-Cloud-Storage-Client)\n",
    "3. [Reading from Cloud Storage](#3---Reading-from-Cloud-Storage)\n",
    "4. [Writing to Cloud Storage](#4--Writing-to-Cloud-Storage)\n",
    "5. [Writing to Cloud Storage using gzip and BytesIO](#5---Writing-to-Cloud-Storage-using-gzip-and-BytesIO)\n",
    "6. [Conclusion](#6---Conclusion)"
   ]
  },
  {
   "cell_type": "markdown",
   "metadata": {},
   "source": [
    "---\n",
    "\n",
    "## 1 - Environment Setup\n",
    "\n",
    "First we need to knock this notebook one directory up to the root directory of the app.\n",
    "\n",
    "This is just for cleanliness purposes; to keep all notebooks in a notebooks directory."
   ]
  },
  {
   "cell_type": "code",
   "execution_count": 1,
   "metadata": {},
   "outputs": [
    {
     "data": {
      "text/plain": [
       "'/Users/DanOvadia/Projects/covid-hotspots/notebooks'"
      ]
     },
     "execution_count": 1,
     "metadata": {},
     "output_type": "execute_result"
    }
   ],
   "source": [
    "pwd"
   ]
  },
  {
   "cell_type": "code",
   "execution_count": 2,
   "metadata": {},
   "outputs": [
    {
     "name": "stdout",
     "output_type": "stream",
     "text": [
      "/Users/DanOvadia/Projects/covid-hotspots\n"
     ]
    }
   ],
   "source": [
    "cd .."
   ]
  },
  {
   "cell_type": "markdown",
   "metadata": {},
   "source": [
    "### Import Libraries"
   ]
  },
  {
   "cell_type": "code",
   "execution_count": 3,
   "metadata": {},
   "outputs": [],
   "source": [
    "import os\n",
    "import sys\n",
    "import time\n",
    "import requests\n",
    "\n",
    "import pandas as pd\n",
    "import gzip\n",
    "from io import BytesIO, TextIOWrapper\n",
    "from google.cloud import storage\n",
    "\n",
    "\n",
    "from config import config\n",
    "from modules import data_processing\n",
    "\n",
    "%load_ext autoreload\n",
    "%autoreload 1\n",
    "%aimport config.config\n",
    "%aimport modules.data_processing"
   ]
  },
  {
   "cell_type": "markdown",
   "metadata": {},
   "source": [
    "In order to access google cloud storage we need to set an environment variable `GOOGLE_APPLICATION_CREDENTIALS` for this session. This environment variable will point towards the service account credentials json.\n",
    "\n",
    "In the actual app, we will handle this separately."
   ]
  },
  {
   "cell_type": "markdown",
   "metadata": {},
   "source": [
    "### Setting Credentials\n",
    "\n",
    "In order to establish a connection with the GCS Client, we will need an OAuth Credentials json from a service account associated with the Goocle Cloud Project that the bucket was created from. "
   ]
  },
  {
   "cell_type": "code",
   "execution_count": 4,
   "metadata": {},
   "outputs": [
    {
     "name": "stdout",
     "output_type": "stream",
     "text": [
      "Credentials: {'GOOGLE_APPLICATION_CREDENTIALS' in os.environ}. Setting environment variable.\n"
     ]
    }
   ],
   "source": [
    "# App Engine default service account credentials \n",
    "if 'GOOGLE_APPLICATION_CREDENTIALS' not in os.environ:\n",
    "    print(\"Credentials: {'GOOGLE_APPLICATION_CREDENTIALS' in os.environ}. Setting environment variable.\")\n",
    "    # Retrieve the name of the file from config.py\n",
    "    CONFIG_FILENAME = config.config.service_account_credentials_file\n",
    "\n",
    "    # Generate path for my personal computer\n",
    "    CONFIG_PATH = f\"/Users/DanOvadia/Projects/covid-hotspots/config/{CONFIG_FILENAME}\"\n",
    "\n",
    "    # Assign the environment variable for this session of python\n",
    "    os.environ['GOOGLE_APPLICATION_CREDENTIALS'] = CONFIG_PATH\n",
    "else:\n",
    "    print(\"Credentials: {'GOOGLE_APPLICATION_CREDENTIALS' in os.environ}. Proceeding.\")"
   ]
  },
  {
   "cell_type": "code",
   "execution_count": null,
   "metadata": {},
   "outputs": [],
   "source": [
    "# Check to verify\n",
    "os.environ['GOOGLE_APPLICATION_CREDENTIALS']"
   ]
  },
  {
   "cell_type": "markdown",
   "metadata": {},
   "source": [
    "The following code generates a string that can be used in terminal to set the local session's environment variable for `GOOGLE_APPLICATION_CREDENTIALS`."
   ]
  },
  {
   "cell_type": "code",
   "execution_count": 7,
   "metadata": {},
   "outputs": [
    {
     "name": "stdout",
     "output_type": "stream",
     "text": [
      "export GOOGLE_APPLICATION_CREDENTIALS=/Users/DanOvadia/Projects/covid-hotspots/config/ytd-shared-project-eb630837f7b3.json\n"
     ]
    }
   ],
   "source": [
    "# Produce string to use in terminal if running elsewhere.\n",
    "print(f\"export GOOGLE_APPLICATION_CREDENTIALS=/Users/DanOvadia/Projects/covid-hotspots/config/{CONFIG_FILENAME}\")"
   ]
  },
  {
   "cell_type": "markdown",
   "metadata": {},
   "source": [
    "---\n",
    "## 2 - Connecting to Cloud Storage Client\n",
    "\n",
    "First we create a `google.cloud.storage.client.Client` object. The Client is used to bundle configuration needed for API requests."
   ]
  },
  {
   "cell_type": "code",
   "execution_count": 9,
   "metadata": {},
   "outputs": [],
   "source": [
    "CLIENT = storage.Client()"
   ]
  },
  {
   "cell_type": "markdown",
   "metadata": {},
   "source": [
    "Retrieve the bucket object by passing in the name of the bucket, in this case: `bucket_name=\"us_covid_hotspot-bucket\"`."
   ]
  },
  {
   "cell_type": "code",
   "execution_count": 31,
   "metadata": {},
   "outputs": [
    {
     "data": {
      "text/plain": [
       "google.cloud.storage.bucket.Bucket"
      ]
     },
     "execution_count": 31,
     "metadata": {},
     "output_type": "execute_result"
    }
   ],
   "source": [
    "BUCKET_NAME = 'us_covid_hotspot-bucket'\n",
    "BUCKET = CLIENT.get_bucket(bucket_or_name=\"us_covid_hotspot-bucket\")\n",
    "type(BUCKET)"
   ]
  },
  {
   "cell_type": "code",
   "execution_count": 17,
   "metadata": {},
   "outputs": [
    {
     "data": {
      "text/plain": [
       "['covid_counties.csv.gz',\n",
       " 'covid_counties_20200901.csv.gz',\n",
       " 'covid_states.csv.gz',\n",
       " 'covid_states_20200901.csv.gz',\n",
       " 'states_populuations.csv']"
      ]
     },
     "execution_count": 17,
     "metadata": {},
     "output_type": "execute_result"
    }
   ],
   "source": [
    "# List all the names of our blobs in the bucket\n",
    "[blob.name for blob in BUCKET.list_blobs()]"
   ]
  },
  {
   "cell_type": "code",
   "execution_count": 29,
   "metadata": {},
   "outputs": [
    {
     "name": "stdout",
     "output_type": "stream",
     "text": [
      "blob is named covid_states.csv and is <class 'google.cloud.storage.blob.Blob'> object\n"
     ]
    }
   ],
   "source": [
    "# Assign a filename\n",
    "BLOB_NAME = 'covid_states.csv'\n",
    "\n",
    "# Retrieve or create a blob object\n",
    "BLOB = BUCKET.get_blob(name = BLOB_NAME)\n",
    "print(f\"blob is named {BLOB.name} and is {type(BLOB)} object\")"
   ]
  },
  {
   "cell_type": "code",
   "execution_count": null,
   "metadata": {},
   "outputs": [],
   "source": [
    "# Generate a BLOB_URI to retrieve data\n",
    "BLOB_URI = f\"gs://{BUCKET_NAME}/{BLOB_NAME}\""
   ]
  },
  {
   "cell_type": "code",
   "execution_count": null,
   "metadata": {},
   "outputs": [],
   "source": [
    "def implicit():\n",
    "    # Establish a connection\n",
    "    client = storage.Client()\n",
    "    # Make an authenticated API request to list buckets\n",
    "    buckets = [bucket.name for bucket in client.list_buckets()]\n",
    "    print(buckets)\n",
    "    return buckets\n",
    "a = implicit()"
   ]
  },
  {
   "cell_type": "markdown",
   "metadata": {},
   "source": [
    "---\n",
    "## 3 - Reading from Cloud Storage\n",
    "\n",
    "I attempted two ways to read from the blob. Converting the blob to a string, storing the string, then using BytesIO to read that string and send it to pd.read_CSV.\n",
    "\n",
    "I also attempted a method provided by pandas to read direction from a blob using the `gs://[BUCKET_NAME]/[BLOB_NAME]` URI of the blob."
   ]
  },
  {
   "cell_type": "code",
   "execution_count": null,
   "metadata": {},
   "outputs": [],
   "source": [
    "BLOB_URI = f\"gs://{BUCKET_NAME}/{BLOB_NAME}\""
   ]
  },
  {
   "cell_type": "code",
   "execution_count": null,
   "metadata": {},
   "outputs": [],
   "source": [
    "BLOB_URI"
   ]
  },
  {
   "cell_type": "code",
   "execution_count": null,
   "metadata": {},
   "outputs": [],
   "source": [
    "%%time\n",
    "df = pd.read_csv(BLOB_URI)"
   ]
  },
  {
   "cell_type": "code",
   "execution_count": null,
   "metadata": {},
   "outputs": [],
   "source": [
    "df.head()"
   ]
  },
  {
   "cell_type": "code",
   "execution_count": null,
   "metadata": {},
   "outputs": [],
   "source": [
    "%%time\n",
    "content = blob.download_as_string()\n",
    "df = pd.read_csv(BytesIO(content))"
   ]
  },
  {
   "cell_type": "code",
   "execution_count": null,
   "metadata": {},
   "outputs": [],
   "source": [
    "df = get_df_from_blob(BUCKET_NAME, BLOB_NAME)"
   ]
  },
  {
   "cell_type": "code",
   "execution_count": null,
   "metadata": {},
   "outputs": [],
   "source": [
    "def get_df_from_blob(bucket_name, blob_name):\n",
    "    client = storage.Client()\n",
    "    \n",
    "    #bucket = client.get_bucket(bucket_or_name = bucket_name)\n",
    "    #blob = bucket.get_blob(blob_name=blob_name)\n",
    "    \n",
    "    BLOB_URI = f\"gs://{BUCKET_NAME}/{BLOB_NAME}\"\n",
    "    \n",
    "    return pd.read_csv(BLOB_URI, compression = 'gzip')"
   ]
  },
  {
   "cell_type": "markdown",
   "metadata": {},
   "source": [
    "## Reading from Blob"
   ]
  },
  {
   "cell_type": "code",
   "execution_count": null,
   "metadata": {},
   "outputs": [],
   "source": [
    "BUCKET_NAME = 'us_covid_hotspot-bucket'\n",
    "BLOB_NAME = "
   ]
  },
  {
   "cell_type": "code",
   "execution_count": null,
   "metadata": {},
   "outputs": [],
   "source": [
    "write_blob_to_gcs()"
   ]
  },
  {
   "cell_type": "code",
   "execution_count": null,
   "metadata": {},
   "outputs": [],
   "source": [
    "[blob_item.name for blob_item in BUCKET.list_blobs()]"
   ]
  },
  {
   "cell_type": "markdown",
   "metadata": {},
   "source": [
    "---\n",
    "## 4 - Writing to Cloud Storage"
   ]
  },
  {
   "cell_type": "code",
   "execution_count": null,
   "metadata": {},
   "outputs": [],
   "source": [
    "BUCKET_NAME = 'us_covid_hotspot-bucket'\n",
    "#BLOB_NAME = \"covid_states.csv\"\n",
    "BLOB_NAME = \"covid_states_20200901.csv.gz\"\n",
    "FILE_PATH = f\"data/{BLOB_NAME}\""
   ]
  },
  {
   "cell_type": "code",
   "execution_count": null,
   "metadata": {},
   "outputs": [],
   "source": [
    "%%time\n",
    "write_blob_to_gcs(BUCKET_NAME, \n",
    "                  BLOB_NAME, \n",
    "                  FILE_PATH)"
   ]
  },
  {
   "cell_type": "markdown",
   "metadata": {},
   "source": [
    "Now lets test to see if we got the result we wanted"
   ]
  },
  {
   "cell_type": "code",
   "execution_count": null,
   "metadata": {},
   "outputs": [],
   "source": [
    "%%time \n",
    "df = get_df_from_blob(BUCKET_NAME, BLOB_NAME)"
   ]
  },
  {
   "cell_type": "code",
   "execution_count": null,
   "metadata": {},
   "outputs": [],
   "source": [
    "df.head()"
   ]
  },
  {
   "cell_type": "code",
   "execution_count": null,
   "metadata": {},
   "outputs": [],
   "source": [
    "def write_blob_to_gcs(bucket_name, blob_name, filepath):\n",
    "    # Client to bundle configuration needed for API requests.\n",
    "    client = storage.Client()\n",
    "\n",
    "    # Extract the bucket object from the client bundle\n",
    "    bucket = client.get_bucket(bucket_name)\n",
    "\n",
    "    # Instantiate or extract the blob object from the bucket\n",
    "    blob = storage.blob.Blob(blob_name,bucket)\n",
    "\n",
    "    # Upload the file to the specific blob\n",
    "    blob.upload_from_filename(filepath)\n",
    "    \n",
    "    return [blob_item.name for blob_item in bucket.list_blobs()]"
   ]
  },
  {
   "cell_type": "markdown",
   "metadata": {},
   "source": [
    "### Trying to zip and save"
   ]
  },
  {
   "cell_type": "code",
   "execution_count": null,
   "metadata": {},
   "outputs": [],
   "source": [
    "covid_counties.head()"
   ]
  },
  {
   "cell_type": "code",
   "execution_count": null,
   "metadata": {},
   "outputs": [],
   "source": [
    "# write a pandas dataframe to gzipped CSV file\n",
    "covid_counties.to_csv(\"data/education_salary.csv.gz\", \n",
    "           index=False, \n",
    "           compression=\"gzip\")"
   ]
  },
  {
   "cell_type": "code",
   "execution_count": null,
   "metadata": {},
   "outputs": [],
   "source": [
    "pd.read_csv()"
   ]
  },
  {
   "cell_type": "code",
   "execution_count": null,
   "metadata": {},
   "outputs": [],
   "source": [
    "a = pd.read_csv(\"data/covid_states_20200901.csv.gz\", compression=\"gzip\")"
   ]
  },
  {
   "cell_type": "code",
   "execution_count": null,
   "metadata": {},
   "outputs": [],
   "source": []
  },
  {
   "cell_type": "code",
   "execution_count": null,
   "metadata": {},
   "outputs": [],
   "source": [
    "df = pd.read_csv('gs://us_covid_hotspot-bucket/covid_states_20200901.csv.gz')"
   ]
  },
  {
   "cell_type": "code",
   "execution_count": null,
   "metadata": {},
   "outputs": [],
   "source": [
    "import time\n",
    "\n",
    "today = time.strftime('%Y%m%d')\n",
    "filepath = f'data/covid_states_{today}.csv.gz'\n",
    "cache_mode = 2\n",
    "\n",
    "(os.path.exists(filepath) and cache_mode in (1,2))"
   ]
  },
  {
   "cell_type": "code",
   "execution_count": null,
   "metadata": {},
   "outputs": [],
   "source": [
    "#a = data_processing.get_covid_county_data()\n",
    "b = data_processing.get_covid_state_data(cache_mode = 3)\n"
   ]
  },
  {
   "cell_type": "markdown",
   "metadata": {},
   "source": [
    "---\n",
    "## 5 - Writing to Cloud Storage using gzip and BytesIO"
   ]
  },
  {
   "cell_type": "code",
   "execution_count": null,
   "metadata": {},
   "outputs": [],
   "source": [
    "%%time\n",
    "bucket_name = 'us_covid_hotspot-bucket'\n",
    "blob_name = \"covid_counties_20200901.csv.gz\"\n",
    "blob_uri = f\"gs://{bucket_name}/{blob_name}\"\n",
    "print(f\"Pulling county data from GCS [{blob_uri}]\")\n",
    "\n",
    "# Get the client object to make the request\n",
    "client = storage.Client()\n",
    "\n",
    "df = pd.read_csv(blob_uri, compression = 'gzip')\n",
    "\n",
    "df['date'] = pd.to_datetime(df['date'], format = '%Y-%m-%d')"
   ]
  },
  {
   "cell_type": "code",
   "execution_count": null,
   "metadata": {},
   "outputs": [],
   "source": [
    "df['date'] = pd.to_datetime(df['date'], format = '%Y-%m-%d')"
   ]
  },
  {
   "cell_type": "code",
   "execution_count": null,
   "metadata": {},
   "outputs": [],
   "source": []
  },
  {
   "cell_type": "markdown",
   "metadata": {},
   "source": [
    "### Using gzip and IO\n",
    "\n",
    "Since we Cloud Function is serverless, we cannot temporarily store `covid_states.csv.gz` so we'll need to store it in memory as a `BytesIO` object in buffer."
   ]
  },
  {
   "cell_type": "code",
   "execution_count": null,
   "metadata": {},
   "outputs": [],
   "source": [
    "import io"
   ]
  },
  {
   "cell_type": "code",
   "execution_count": null,
   "metadata": {},
   "outputs": [],
   "source": [
    "io.TextIOWrapper()"
   ]
  },
  {
   "cell_type": "code",
   "execution_count": null,
   "metadata": {},
   "outputs": [],
   "source": [
    "import gzip\n",
    "import pandas as pd\n",
    "from io import BytesIO, TextIOWrapper"
   ]
  },
  {
   "cell_type": "code",
   "execution_count": null,
   "metadata": {},
   "outputs": [],
   "source": [
    "# Read in new county data from Covid Tracking Project\n",
    "COVID_STATES_DF = data_processing.get_covid_state_data(cache_mode = 0)"
   ]
  },
  {
   "cell_type": "code",
   "execution_count": null,
   "metadata": {},
   "outputs": [],
   "source": [
    "BUCKET_NAME = 'us_covid_hotspot-bucket'\n",
    "BLOB_NAME = 'covid_states2.csv.gz'\n",
    "FILEPATH = f\"data/{BLOB_NAME}\"\n",
    "BLOB_URI = f\"gs://{BUCKET_NAME}/{BLOB_NAME}\""
   ]
  },
  {
   "cell_type": "code",
   "execution_count": null,
   "metadata": {},
   "outputs": [],
   "source": [
    "type(gz_buffer)"
   ]
  },
  {
   "cell_type": "code",
   "execution_count": null,
   "metadata": {},
   "outputs": [],
   "source": [
    "gz_buffer = BytesIO()\n",
    "\n",
    "with gzip.GzipFile(mode='w',fileobj=gz_buffer) as gz_file:\n",
    "    COVID_STATES_DF.to_csv(TextIOWrapper(gz_file,'utf8'),\n",
    "                          index=False)\n",
    "gz_buffer.seek(0);"
   ]
  },
  {
   "cell_type": "code",
   "execution_count": null,
   "metadata": {},
   "outputs": [],
   "source": [
    "client = storage.Client()\n",
    "bucket = client.get_bucket(BUCKET_NAME)\n",
    "\n",
    "blob = storage.blob.Blob(BLOB_NAME, bucket)"
   ]
  },
  {
   "cell_type": "code",
   "execution_count": null,
   "metadata": {},
   "outputs": [],
   "source": []
  },
  {
   "cell_type": "code",
   "execution_count": null,
   "metadata": {},
   "outputs": [],
   "source": [
    "%%time\n",
    "blob.upload_from_file(file_obj=gz_buffer, content_type = 'text/csv')"
   ]
  },
  {
   "cell_type": "code",
   "execution_count": null,
   "metadata": {},
   "outputs": [],
   "source": [
    "df = pd.read_csv(BLOB_URI)"
   ]
  },
  {
   "cell_type": "code",
   "execution_count": null,
   "metadata": {},
   "outputs": [],
   "source": [
    "BLOB_NAME = 'covid_counties.csv.gz'"
   ]
  },
  {
   "cell_type": "code",
   "execution_count": null,
   "metadata": {},
   "outputs": [],
   "source": [
    "COVID_COUNTIES_DF.head()"
   ]
  },
  {
   "cell_type": "code",
   "execution_count": null,
   "metadata": {},
   "outputs": [],
   "source": [
    "COVID_COUNTIES_DF = data_processing.get_covid_county_data(cache_mode = 0)"
   ]
  },
  {
   "cell_type": "code",
   "execution_count": null,
   "metadata": {},
   "outputs": [],
   "source": [
    "a = data_processing.get_census_county_data()"
   ]
  },
  {
   "cell_type": "markdown",
   "metadata": {},
   "source": [
    "---\n",
    "## Conclusion\n",
    "\n",
    "In conclusion, my final function that I will be using for writing to GCS from the Cloud Function, will be the following:"
   ]
  },
  {
   "cell_type": "code",
   "execution_count": null,
   "metadata": {},
   "outputs": [],
   "source": [
    "def write_df_to_GCS(df, blob_name, bucket_name):\n",
    "    # generate blob_uri\n",
    "    blob_uri = f\"gs://{bucket_name}/{blob_name}\"\n",
    "    \n",
    "    # Instantiate BytesIO Object\n",
    "    gz_buffer = BytesIO()\n",
    "    \n",
    "    # Instantiate a GzipFile Object using the BytesIO object, \n",
    "      # write to it using a text wrapper.\n",
    "    with gzip.GzipFile(mode='w', fileobj=gz_buffer) as gz_file:\n",
    "        df.to_csv(TextIOWrapper(gz_file,'utf8'),\n",
    "                 index=False)\n",
    "    # set buffer at start\n",
    "    gz_buffer.seek(0)\n",
    "    \n",
    "    # Instantiate Client to Storage\n",
    "    client = storage.Client()\n",
    "    # Retrieve the bucket\n",
    "    bucket = client.get_bucket(bucket_name)\n",
    "    # Retrieve or create the blob\n",
    "    blob = storage.blob.Blob(blob_name, bucket)\n",
    "    \n",
    "    # Upload buffer to blob\n",
    "    blob.upload_from_file(file_obj=gz_buffer, content_type='text/csv')\n",
    "    \n",
    "    # Return list of current contents in bucket.\n",
    "    return [blob_item.name for blob_item in bucket.list_blobs()]"
   ]
  }
 ],
 "metadata": {
  "kernelspec": {
   "display_name": "Python 3",
   "language": "python",
   "name": "python3"
  },
  "language_info": {
   "codemirror_mode": {
    "name": "ipython",
    "version": 3
   },
   "file_extension": ".py",
   "mimetype": "text/x-python",
   "name": "python",
   "nbconvert_exporter": "python",
   "pygments_lexer": "ipython3",
   "version": "3.7.7"
  }
 },
 "nbformat": 4,
 "nbformat_minor": 4
}
