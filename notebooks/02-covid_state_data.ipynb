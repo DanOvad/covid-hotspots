{
 "cells": [
  {
   "cell_type": "markdown",
   "metadata": {},
   "source": [
    "# State Covid Data in the United States\n",
    "\n",
    "In this notebook we will be pulling in coronavirus data from The Atlantic's Covid Tracking Project. The data are provided at a state level resolution, with many associated data elements for each state."
   ]
  },
  {
   "cell_type": "markdown",
   "metadata": {},
   "source": [
    "---\n",
    "\n",
    "## 1 - Notebook Setup\n",
    "\n",
    "First lets switch directories to the root directory to access modules."
   ]
  },
  {
   "cell_type": "code",
   "execution_count": 1,
   "metadata": {},
   "outputs": [
    {
     "data": {
      "text/plain": [
       "'/Users/DanOvadia/Projects/covid-hotspots/notebooks'"
      ]
     },
     "execution_count": 1,
     "metadata": {},
     "output_type": "execute_result"
    }
   ],
   "source": [
    "pwd"
   ]
  },
  {
   "cell_type": "code",
   "execution_count": 2,
   "metadata": {},
   "outputs": [
    {
     "name": "stdout",
     "output_type": "stream",
     "text": [
      "/Users/DanOvadia/Projects/covid-hotspots\n"
     ]
    }
   ],
   "source": [
    "cd .."
   ]
  },
  {
   "cell_type": "markdown",
   "metadata": {},
   "source": [
    "### Import Libraries"
   ]
  },
  {
   "cell_type": "code",
   "execution_count": 3,
   "metadata": {},
   "outputs": [],
   "source": [
    "import pandas as pd\n",
    "import requests\n",
    "import time"
   ]
  },
  {
   "cell_type": "markdown",
   "metadata": {},
   "source": [
    "### Import Custom Modules"
   ]
  },
  {
   "cell_type": "code",
   "execution_count": 4,
   "metadata": {},
   "outputs": [],
   "source": [
    "from modules import data_processing\n",
    "\n",
    "%load_ext autoreload\n",
    "%autoreload 1\n",
    "%aimport modules.data_processing"
   ]
  },
  {
   "cell_type": "markdown",
   "metadata": {},
   "source": [
    "--------\n",
    "\n",
    "## 2 - Import data\n",
    "\n",
    "Import the data directly from covidtracking."
   ]
  },
  {
   "cell_type": "code",
   "execution_count": 5,
   "metadata": {},
   "outputs": [],
   "source": [
    "STATES_URL = \"https://covidtracking.com/api/states/daily\"\n",
    "with requests.get(STATES_URL) as response:\n",
    "    COVID_STATES_DF = pd.DataFrame(response.json())"
   ]
  },
  {
   "cell_type": "markdown",
   "metadata": {},
   "source": [
    "### Assess raw data\n",
    "\n",
    "Lets take a look at the shape and at column datatypes."
   ]
  },
  {
   "cell_type": "code",
   "execution_count": 6,
   "metadata": {},
   "outputs": [
    {
     "data": {
      "text/plain": [
       "(10178, 54)"
      ]
     },
     "execution_count": 6,
     "metadata": {},
     "output_type": "execute_result"
    }
   ],
   "source": [
    "COVID_STATES_DF.shape"
   ]
  },
  {
   "cell_type": "code",
   "execution_count": 7,
   "metadata": {},
   "outputs": [
    {
     "name": "stdout",
     "output_type": "stream",
     "text": [
      "<class 'pandas.core.frame.DataFrame'>\n",
      "RangeIndex: 10178 entries, 0 to 10177\n",
      "Data columns (total 54 columns):\n",
      " #   Column                       Non-Null Count  Dtype  \n",
      "---  ------                       --------------  -----  \n",
      " 0   date                         10178 non-null  int64  \n",
      " 1   state                        10178 non-null  object \n",
      " 2   positive                     10082 non-null  float64\n",
      " 3   negative                     9941 non-null   float64\n",
      " 4   pending                      1204 non-null   float64\n",
      " 5   hospitalizedCurrently        7419 non-null   float64\n",
      " 6   hospitalizedCumulative       5629 non-null   float64\n",
      " 7   inIcuCurrently               4017 non-null   float64\n",
      " 8   inIcuCumulative              1569 non-null   float64\n",
      " 9   onVentilatorCurrently        3445 non-null   float64\n",
      " 10  onVentilatorCumulative       554 non-null    float64\n",
      " 11  recovered                    6662 non-null   float64\n",
      " 12  dataQualityGrade             10033 non-null  object \n",
      " 13  lastUpdateEt                 10033 non-null  object \n",
      " 14  dateModified                 9754 non-null   object \n",
      " 15  checkTimeEt                  9754 non-null   object \n",
      " 16  death                        9429 non-null   float64\n",
      " 17  hospitalized                 5629 non-null   float64\n",
      " 18  dateChecked                  9754 non-null   object \n",
      " 19  totalTestsViral              5714 non-null   float64\n",
      " 20  positiveTestsViral           1781 non-null   float64\n",
      " 21  negativeTestsViral           1520 non-null   float64\n",
      " 22  positiveCasesViral           7087 non-null   float64\n",
      " 23  deathConfirmed               3762 non-null   float64\n",
      " 24  deathProbable                2608 non-null   float64\n",
      " 25  totalTestEncountersViral     1063 non-null   float64\n",
      " 26  totalTestsPeopleViral        3269 non-null   float64\n",
      " 27  totalTestsAntibody           1610 non-null   float64\n",
      " 28  positiveTestsAntibody        1080 non-null   float64\n",
      " 29  negativeTestsAntibody        743 non-null    float64\n",
      " 30  totalTestsPeopleAntibody     551 non-null    float64\n",
      " 31  positiveTestsPeopleAntibody  349 non-null    float64\n",
      " 32  negativeTestsPeopleAntibody  349 non-null    float64\n",
      " 33  totalTestsPeopleAntigen      26 non-null     float64\n",
      " 34  positiveTestsPeopleAntigen   24 non-null     float64\n",
      " 35  totalTestsAntigen            92 non-null     float64\n",
      " 36  positiveTestsAntigen         26 non-null     float64\n",
      " 37  fips                         10178 non-null  object \n",
      " 38  positiveIncrease             10178 non-null  int64  \n",
      " 39  negativeIncrease             10178 non-null  int64  \n",
      " 40  total                        10178 non-null  int64  \n",
      " 41  totalTestResultsSource       10178 non-null  object \n",
      " 42  totalTestResults             10170 non-null  float64\n",
      " 43  totalTestResultsIncrease     10178 non-null  int64  \n",
      " 44  posNeg                       10178 non-null  int64  \n",
      " 45  deathIncrease                10178 non-null  int64  \n",
      " 46  hospitalizedIncrease         10178 non-null  int64  \n",
      " 47  hash                         10178 non-null  object \n",
      " 48  commercialScore              10178 non-null  int64  \n",
      " 49  negativeRegularScore         10178 non-null  int64  \n",
      " 50  negativeScore                10178 non-null  int64  \n",
      " 51  positiveScore                10178 non-null  int64  \n",
      " 52  score                        10178 non-null  int64  \n",
      " 53  grade                        10178 non-null  object \n",
      "dtypes: float64(31), int64(13), object(10)\n",
      "memory usage: 4.2+ MB\n"
     ]
    }
   ],
   "source": [
    "COVID_STATES_DF.info()"
   ]
  },
  {
   "cell_type": "markdown",
   "metadata": {},
   "source": [
    "------"
   ]
  },
  {
   "cell_type": "markdown",
   "metadata": {},
   "source": [
    "## 3 - Cleaning and Data Checks"
   ]
  },
  {
   "cell_type": "markdown",
   "metadata": {},
   "source": [
    "Update date column from string to datetime."
   ]
  },
  {
   "cell_type": "code",
   "execution_count": 8,
   "metadata": {},
   "outputs": [],
   "source": [
    "# Convert date column from YYYMMDD to datetime format\n",
    "COVID_STATES_DF['date'] = pd.to_datetime(COVID_STATES_DF['date'], format='%Y%m%d')"
   ]
  },
  {
   "cell_type": "markdown",
   "metadata": {},
   "source": [
    "Check the first date that each state reported."
   ]
  },
  {
   "cell_type": "code",
   "execution_count": 9,
   "metadata": {},
   "outputs": [
    {
     "data": {
      "text/plain": [
       "state\n",
       "MA   2020-01-22\n",
       "WA   2020-01-22\n",
       "NJ   2020-02-10\n",
       "VA   2020-02-27\n",
       "MI   2020-03-01\n",
       "RI   2020-03-01\n",
       "NH   2020-03-04\n",
       "NY   2020-03-04\n",
       "NC   2020-03-04\n",
       "OR   2020-03-04\n",
       "IL   2020-03-04\n",
       "TX   2020-03-04\n",
       "SC   2020-03-04\n",
       "FL   2020-03-04\n",
       "CA   2020-03-04\n",
       "AZ   2020-03-04\n",
       "WI   2020-03-04\n",
       "GA   2020-03-04\n",
       "NE   2020-03-05\n",
       "DC   2020-03-05\n",
       "CO   2020-03-05\n",
       "TN   2020-03-05\n",
       "NV   2020-03-05\n",
       "MD   2020-03-05\n",
       "OH   2020-03-05\n",
       "NM   2020-03-06\n",
       "PA   2020-03-06\n",
       "AK   2020-03-06\n",
       "MN   2020-03-06\n",
       "KS   2020-03-06\n",
       "IN   2020-03-06\n",
       "IA   2020-03-06\n",
       "DE   2020-03-06\n",
       "VT   2020-03-06\n",
       "AR   2020-03-06\n",
       "WV   2020-03-06\n",
       "KY   2020-03-06\n",
       "SD   2020-03-07\n",
       "UT   2020-03-07\n",
       "WY   2020-03-07\n",
       "ND   2020-03-07\n",
       "MT   2020-03-07\n",
       "MS   2020-03-07\n",
       "MO   2020-03-07\n",
       "ME   2020-03-07\n",
       "LA   2020-03-07\n",
       "ID   2020-03-07\n",
       "HI   2020-03-07\n",
       "CT   2020-03-07\n",
       "AL   2020-03-07\n",
       "OK   2020-03-07\n",
       "PR   2020-03-16\n",
       "GU   2020-03-16\n",
       "VI   2020-03-16\n",
       "AS   2020-03-16\n",
       "MP   2020-03-16\n",
       "Name: date, dtype: datetime64[ns]"
      ]
     },
     "execution_count": 9,
     "metadata": {},
     "output_type": "execute_result"
    }
   ],
   "source": [
    "# Group by state, grab date column, and grab the minimum date for each state.\n",
    "FIRST_DATE_BY_STATE = COVID_STATES_DF.groupby(by='state')['date'].min()\n",
    "FIRST_DATE_BY_STATE.sort_values()"
   ]
  },
  {
   "cell_type": "markdown",
   "metadata": {},
   "source": [
    "Wow, goood job MA and WA; well done being prepared and responding preparing preemtively. Meanwhile, Puerto Rico, Guam, Virginia, American Samoa, and Mississippi, were late to the game."
   ]
  },
  {
   "cell_type": "markdown",
   "metadata": {},
   "source": [
    "Next, lets check for consistency for each state. We will check to see if any dates are excluded in the data from the first reporting date to today.\n",
    "\n",
    "First, lets do this for one case."
   ]
  },
  {
   "cell_type": "code",
   "execution_count": 10,
   "metadata": {},
   "outputs": [
    {
     "data": {
      "text/plain": [
       "DatetimeIndex(['2020-09-02'], dtype='datetime64[ns]', freq=None)"
      ]
     },
     "execution_count": 10,
     "metadata": {},
     "output_type": "execute_result"
    }
   ],
   "source": [
    "# Grab today's date\n",
    "TODAY = time.strftime('%Y-%m-%d')\n",
    "\n",
    "# Create a state mask for a sample state\n",
    "STATE_MASK = (COVID_STATES_DF['state'] == 'AK')\n",
    "\n",
    "# Grab only the date column for a state\n",
    "STATE_SERIES = COVID_STATES_DF[STATE_MASK]['date']\n",
    "\n",
    "# Create a date range from the states first date, to today. \n",
    "#  Take the difference from a state's date series\n",
    "pd.date_range(start=FIRST_DATE_BY_STATE['AK'],end=TODAY).difference(STATE_SERIES)"
   ]
  },
  {
   "cell_type": "markdown",
   "metadata": {},
   "source": [
    "Now lets create a function to loop over all states and print out a results to see if we need to dig any further."
   ]
  },
  {
   "cell_type": "code",
   "execution_count": 11,
   "metadata": {},
   "outputs": [
    {
     "name": "stdout",
     "output_type": "stream",
     "text": [
      "AK is missing 1\n",
      "AL is missing 1\n",
      "AR is missing 1\n",
      "AS is missing 1\n",
      "AZ is missing 1\n",
      "CA is missing 1\n",
      "CO is missing 1\n",
      "CT is missing 1\n",
      "DC is missing 1\n",
      "DE is missing 1\n",
      "FL is missing 1\n",
      "GA is missing 1\n",
      "GU is missing 1\n",
      "HI is missing 1\n",
      "IA is missing 1\n",
      "ID is missing 1\n",
      "IL is missing 1\n",
      "IN is missing 1\n",
      "KS is missing 1\n",
      "KY is missing 1\n",
      "LA is missing 1\n",
      "MA is missing 1\n",
      "MD is missing 1\n",
      "ME is missing 1\n",
      "MI is missing 1\n",
      "MN is missing 1\n",
      "MO is missing 1\n",
      "MP is missing 1\n",
      "MS is missing 1\n",
      "MT is missing 1\n",
      "NC is missing 1\n",
      "ND is missing 1\n",
      "NE is missing 1\n",
      "NH is missing 1\n",
      "NJ is missing 1\n",
      "NM is missing 1\n",
      "NV is missing 1\n",
      "NY is missing 1\n",
      "OH is missing 1\n",
      "OK is missing 1\n",
      "OR is missing 1\n",
      "PA is missing 1\n",
      "PR is missing 1\n",
      "RI is missing 1\n",
      "SC is missing 1\n",
      "SD is missing 1\n",
      "TN is missing 1\n",
      "TX is missing 1\n",
      "UT is missing 1\n",
      "VA is missing 1\n",
      "VI is missing 1\n",
      "VT is missing 1\n",
      "WA is missing 1\n",
      "WI is missing 1\n",
      "WV is missing 1\n",
      "WY is missing 1\n"
     ]
    }
   ],
   "source": [
    "def checks_dates_by_state(df):\n",
    "    \n",
    "    # Create a list of first reporting dates for states\n",
    "    state_first_series = df.groupby(by='state')['date'].min()\n",
    "    \n",
    "    # Loop over each state, the series' index\n",
    "    for state in state_first_series.index:\n",
    "        \n",
    "        # Subset the dataframe to only this state, and only pull date\n",
    "        state_series = df[df['state'] == state]['date']\n",
    "        \n",
    "        # Assign today's date\n",
    "        today = time.strftime('%Y-%m-%d')\n",
    "        \n",
    "        # Count the number of missing dates from start to today.\n",
    "        n_missing_dates = len(pd.date_range(start=state_first_series[state].strftime(format='%Y-%m-%d'), end=today).difference(state_series))\n",
    "        \n",
    "        # Print Output\n",
    "        print(f\"{state} is missing {n_missing_dates}\")\n",
    "        \n",
    "checks_dates_by_state(COVID_STATES_DF)"
   ]
  },
  {
   "cell_type": "markdown",
   "metadata": {},
   "source": [
    "This means that we are not missing any dates for every state from the day they started reporting. This does not necessarily mean we have data points for every column across the dataframe."
   ]
  },
  {
   "cell_type": "markdown",
   "metadata": {},
   "source": [
    "-----"
   ]
  },
  {
   "cell_type": "markdown",
   "metadata": {},
   "source": [
    "## 4 - Assessing columns"
   ]
  },
  {
   "cell_type": "code",
   "execution_count": 12,
   "metadata": {},
   "outputs": [],
   "source": [
    "# Subset features\n",
    "FEATURES = [\n",
    "    'date',\n",
    "    'state',\n",
    "    'positive',\n",
    "    'death',\n",
    "    'hospitalized',\n",
    "    'positiveIncrease',\n",
    "    'deathIncrease',\n",
    "    'total'\n",
    "]"
   ]
  },
  {
   "cell_type": "code",
   "execution_count": 13,
   "metadata": {},
   "outputs": [
    {
     "data": {
      "text/plain": [
       "date                               0\n",
       "state                              0\n",
       "positive                          96\n",
       "negative                         237\n",
       "pending                         8974\n",
       "hospitalizedCurrently           2759\n",
       "hospitalizedCumulative          4549\n",
       "inIcuCurrently                  6161\n",
       "inIcuCumulative                 8609\n",
       "onVentilatorCurrently           6733\n",
       "onVentilatorCumulative          9624\n",
       "recovered                       3516\n",
       "dataQualityGrade                 145\n",
       "lastUpdateEt                     145\n",
       "dateModified                     424\n",
       "checkTimeEt                      424\n",
       "death                            749\n",
       "hospitalized                    4549\n",
       "dateChecked                      424\n",
       "totalTestsViral                 4464\n",
       "positiveTestsViral              8397\n",
       "negativeTestsViral              8658\n",
       "positiveCasesViral              3091\n",
       "deathConfirmed                  6416\n",
       "deathProbable                   7570\n",
       "totalTestEncountersViral        9115\n",
       "totalTestsPeopleViral           6909\n",
       "totalTestsAntibody              8568\n",
       "positiveTestsAntibody           9098\n",
       "negativeTestsAntibody           9435\n",
       "totalTestsPeopleAntibody        9627\n",
       "positiveTestsPeopleAntibody     9829\n",
       "negativeTestsPeopleAntibody     9829\n",
       "totalTestsPeopleAntigen        10152\n",
       "positiveTestsPeopleAntigen     10154\n",
       "totalTestsAntigen              10086\n",
       "positiveTestsAntigen           10152\n",
       "fips                               0\n",
       "positiveIncrease                   0\n",
       "negativeIncrease                   0\n",
       "total                              0\n",
       "totalTestResultsSource             0\n",
       "totalTestResults                   8\n",
       "totalTestResultsIncrease           0\n",
       "posNeg                             0\n",
       "deathIncrease                      0\n",
       "hospitalizedIncrease               0\n",
       "hash                               0\n",
       "commercialScore                    0\n",
       "negativeRegularScore               0\n",
       "negativeScore                      0\n",
       "positiveScore                      0\n",
       "score                              0\n",
       "grade                              0\n",
       "dtype: int64"
      ]
     },
     "execution_count": 13,
     "metadata": {},
     "output_type": "execute_result"
    }
   ],
   "source": [
    "COVID_STATES_DF.isnull().sum()"
   ]
  },
  {
   "cell_type": "code",
   "execution_count": null,
   "metadata": {},
   "outputs": [],
   "source": []
  }
 ],
 "metadata": {
  "kernelspec": {
   "display_name": "Python 3",
   "language": "python",
   "name": "python3"
  },
  "language_info": {
   "codemirror_mode": {
    "name": "ipython",
    "version": 3
   },
   "file_extension": ".py",
   "mimetype": "text/x-python",
   "name": "python",
   "nbconvert_exporter": "python",
   "pygments_lexer": "ipython3",
   "version": "3.7.7"
  }
 },
 "nbformat": 4,
 "nbformat_minor": 4
}
