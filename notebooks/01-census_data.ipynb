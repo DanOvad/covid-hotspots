{
 "cells": [
  {
   "cell_type": "markdown",
   "metadata": {},
   "source": [
    "# Census Population Data"
   ]
  },
  {
   "cell_type": "markdown",
   "metadata": {},
   "source": [
    "The goal of this notebook is to pull in census data and make it available to incorporate into the dashboard. Specifically to include cases per capita and deaths per capita. \n",
    "\n",
    "Sections:\n",
    " - [Notebook Setup](#1---Notebook-Setup) - Change directory and import modules.\n",
    " - [Import Data](#2---Import-Data) - Import data directly from the data source.\n",
    " - [Cleaning and Data Checks](#3---Cleaning-and-Data-Checks) - Clean columns and check consistency.\n",
    " - [Explore Data](#4---Explore-Data) - Explore the data and build a function to export the census dataframe."
   ]
  },
  {
   "cell_type": "markdown",
   "metadata": {},
   "source": [
    "---\n",
    "\n",
    "## 1 - Notebook Setup\n",
    "\n",
    "First lets switch directories to the root directory to access modules."
   ]
  },
  {
   "cell_type": "code",
   "execution_count": 1,
   "metadata": {},
   "outputs": [
    {
     "data": {
      "text/plain": [
       "'/Users/DanOvadia/Projects/covid-hotspots/notebooks'"
      ]
     },
     "execution_count": 1,
     "metadata": {},
     "output_type": "execute_result"
    }
   ],
   "source": [
    "pwd"
   ]
  },
  {
   "cell_type": "markdown",
   "metadata": {},
   "source": [
    "First, we need to make sure we are in the root directory of the project to import custom modules. These notebooks are stored in `notebooks/` for cleanliness."
   ]
  },
  {
   "cell_type": "code",
   "execution_count": 2,
   "metadata": {},
   "outputs": [
    {
     "name": "stdout",
     "output_type": "stream",
     "text": [
      "/Users/DanOvadia/Projects/covid-hotspots\n"
     ]
    }
   ],
   "source": [
    "cd .."
   ]
  },
  {
   "cell_type": "markdown",
   "metadata": {},
   "source": [
    "### Import Libraries"
   ]
  },
  {
   "cell_type": "code",
   "execution_count": 3,
   "metadata": {},
   "outputs": [],
   "source": [
    "import pandas as pd"
   ]
  },
  {
   "cell_type": "markdown",
   "metadata": {},
   "source": [
    "### Import Custom Modules"
   ]
  },
  {
   "cell_type": "code",
   "execution_count": 4,
   "metadata": {},
   "outputs": [],
   "source": [
    "from modules import data_processing\n",
    "from modules import plotting"
   ]
  },
  {
   "cell_type": "markdown",
   "metadata": {},
   "source": [
    "---\n",
    "\n",
    "## 2 - Import Data\n",
    "\n",
    "Import the data directly from census.gov"
   ]
  },
  {
   "cell_type": "markdown",
   "metadata": {},
   "source": [
    "Data come from census.gov from their 2019 population estimates for all counties, available for direct download. The csv is encoded using `encoding = \"ISO-8859-1\"`.\n",
    "\n",
    " - [Census.gov datasets](https://www2.census.gov/programs-surveys/popest/datasets/2010-2019/counties/totals/)\n",
    " - [Estimated 2019 Population direct download CSV (3.5MB)](https://www2.census.gov/programs-surveys/popest/datasets/2010-2019/counties/totals/co-est2019-alldata.csv)"
   ]
  },
  {
   "cell_type": "code",
   "execution_count": 5,
   "metadata": {},
   "outputs": [],
   "source": [
    "URL = 'https://www2.census.gov/programs-surveys/popest/datasets/2010-2019/counties/totals/co-est2019-alldata.csv'\n",
    "CENSUS_DF = pd.read_csv(URL, encoding = \"ISO-8859-1\")"
   ]
  },
  {
   "cell_type": "markdown",
   "metadata": {},
   "source": [
    "### Assess raw data\n",
    "\n",
    "Lets take a look at the shape and at column datatypes."
   ]
  },
  {
   "cell_type": "code",
   "execution_count": 6,
   "metadata": {},
   "outputs": [
    {
     "data": {
      "text/plain": [
       "(3193, 164)"
      ]
     },
     "execution_count": 6,
     "metadata": {},
     "output_type": "execute_result"
    }
   ],
   "source": [
    "CENSUS_DF.shape"
   ]
  },
  {
   "cell_type": "code",
   "execution_count": 7,
   "metadata": {},
   "outputs": [
    {
     "data": {
      "text/html": [
       "<div>\n",
       "<style scoped>\n",
       "    .dataframe tbody tr th:only-of-type {\n",
       "        vertical-align: middle;\n",
       "    }\n",
       "\n",
       "    .dataframe tbody tr th {\n",
       "        vertical-align: top;\n",
       "    }\n",
       "\n",
       "    .dataframe thead th {\n",
       "        text-align: right;\n",
       "    }\n",
       "</style>\n",
       "<table border=\"1\" class=\"dataframe\">\n",
       "  <thead>\n",
       "    <tr style=\"text-align: right;\">\n",
       "      <th></th>\n",
       "      <th>SUMLEV</th>\n",
       "      <th>REGION</th>\n",
       "      <th>DIVISION</th>\n",
       "      <th>STATE</th>\n",
       "      <th>COUNTY</th>\n",
       "      <th>STNAME</th>\n",
       "      <th>CTYNAME</th>\n",
       "      <th>CENSUS2010POP</th>\n",
       "      <th>ESTIMATESBASE2010</th>\n",
       "      <th>POPESTIMATE2010</th>\n",
       "      <th>...</th>\n",
       "      <th>RDOMESTICMIG2019</th>\n",
       "      <th>RNETMIG2011</th>\n",
       "      <th>RNETMIG2012</th>\n",
       "      <th>RNETMIG2013</th>\n",
       "      <th>RNETMIG2014</th>\n",
       "      <th>RNETMIG2015</th>\n",
       "      <th>RNETMIG2016</th>\n",
       "      <th>RNETMIG2017</th>\n",
       "      <th>RNETMIG2018</th>\n",
       "      <th>RNETMIG2019</th>\n",
       "    </tr>\n",
       "  </thead>\n",
       "  <tbody>\n",
       "    <tr>\n",
       "      <th>0</th>\n",
       "      <td>40</td>\n",
       "      <td>3</td>\n",
       "      <td>6</td>\n",
       "      <td>1</td>\n",
       "      <td>0</td>\n",
       "      <td>Alabama</td>\n",
       "      <td>Alabama</td>\n",
       "      <td>4779736</td>\n",
       "      <td>4780125</td>\n",
       "      <td>4785437</td>\n",
       "      <td>...</td>\n",
       "      <td>1.917501</td>\n",
       "      <td>0.578434</td>\n",
       "      <td>1.186314</td>\n",
       "      <td>1.522549</td>\n",
       "      <td>0.563489</td>\n",
       "      <td>0.626357</td>\n",
       "      <td>0.745172</td>\n",
       "      <td>1.090366</td>\n",
       "      <td>1.773786</td>\n",
       "      <td>2.483744</td>\n",
       "    </tr>\n",
       "    <tr>\n",
       "      <th>1</th>\n",
       "      <td>50</td>\n",
       "      <td>3</td>\n",
       "      <td>6</td>\n",
       "      <td>1</td>\n",
       "      <td>1</td>\n",
       "      <td>Alabama</td>\n",
       "      <td>Autauga County</td>\n",
       "      <td>54571</td>\n",
       "      <td>54597</td>\n",
       "      <td>54773</td>\n",
       "      <td>...</td>\n",
       "      <td>4.847310</td>\n",
       "      <td>6.018182</td>\n",
       "      <td>-6.226119</td>\n",
       "      <td>-3.902226</td>\n",
       "      <td>1.970443</td>\n",
       "      <td>-1.712875</td>\n",
       "      <td>4.777171</td>\n",
       "      <td>0.849656</td>\n",
       "      <td>0.540916</td>\n",
       "      <td>4.560062</td>\n",
       "    </tr>\n",
       "    <tr>\n",
       "      <th>2</th>\n",
       "      <td>50</td>\n",
       "      <td>3</td>\n",
       "      <td>6</td>\n",
       "      <td>1</td>\n",
       "      <td>3</td>\n",
       "      <td>Alabama</td>\n",
       "      <td>Baldwin County</td>\n",
       "      <td>182265</td>\n",
       "      <td>182265</td>\n",
       "      <td>183112</td>\n",
       "      <td>...</td>\n",
       "      <td>24.017829</td>\n",
       "      <td>16.641870</td>\n",
       "      <td>17.488579</td>\n",
       "      <td>22.751474</td>\n",
       "      <td>20.184334</td>\n",
       "      <td>17.725964</td>\n",
       "      <td>21.279291</td>\n",
       "      <td>22.398256</td>\n",
       "      <td>24.727215</td>\n",
       "      <td>24.380567</td>\n",
       "    </tr>\n",
       "    <tr>\n",
       "      <th>3</th>\n",
       "      <td>50</td>\n",
       "      <td>3</td>\n",
       "      <td>6</td>\n",
       "      <td>1</td>\n",
       "      <td>5</td>\n",
       "      <td>Alabama</td>\n",
       "      <td>Barbour County</td>\n",
       "      <td>27457</td>\n",
       "      <td>27455</td>\n",
       "      <td>27327</td>\n",
       "      <td>...</td>\n",
       "      <td>-5.690302</td>\n",
       "      <td>0.292676</td>\n",
       "      <td>-6.897817</td>\n",
       "      <td>-8.132185</td>\n",
       "      <td>-5.140431</td>\n",
       "      <td>-15.724575</td>\n",
       "      <td>-18.238016</td>\n",
       "      <td>-24.998528</td>\n",
       "      <td>-8.754922</td>\n",
       "      <td>-5.165664</td>\n",
       "    </tr>\n",
       "    <tr>\n",
       "      <th>4</th>\n",
       "      <td>50</td>\n",
       "      <td>3</td>\n",
       "      <td>6</td>\n",
       "      <td>1</td>\n",
       "      <td>7</td>\n",
       "      <td>Alabama</td>\n",
       "      <td>Bibb County</td>\n",
       "      <td>22915</td>\n",
       "      <td>22915</td>\n",
       "      <td>22870</td>\n",
       "      <td>...</td>\n",
       "      <td>1.385134</td>\n",
       "      <td>-4.998356</td>\n",
       "      <td>-3.787545</td>\n",
       "      <td>-5.797999</td>\n",
       "      <td>1.331144</td>\n",
       "      <td>1.329817</td>\n",
       "      <td>-0.708717</td>\n",
       "      <td>-3.234669</td>\n",
       "      <td>-6.857092</td>\n",
       "      <td>1.831952</td>\n",
       "    </tr>\n",
       "    <tr>\n",
       "      <th>5</th>\n",
       "      <td>50</td>\n",
       "      <td>3</td>\n",
       "      <td>6</td>\n",
       "      <td>1</td>\n",
       "      <td>9</td>\n",
       "      <td>Alabama</td>\n",
       "      <td>Blount County</td>\n",
       "      <td>57322</td>\n",
       "      <td>57322</td>\n",
       "      <td>57376</td>\n",
       "      <td>...</td>\n",
       "      <td>1.020788</td>\n",
       "      <td>0.208812</td>\n",
       "      <td>-1.650165</td>\n",
       "      <td>-0.347225</td>\n",
       "      <td>-2.049590</td>\n",
       "      <td>-1.338525</td>\n",
       "      <td>-1.391062</td>\n",
       "      <td>6.193562</td>\n",
       "      <td>-0.069229</td>\n",
       "      <td>1.124597</td>\n",
       "    </tr>\n",
       "    <tr>\n",
       "      <th>6</th>\n",
       "      <td>50</td>\n",
       "      <td>3</td>\n",
       "      <td>6</td>\n",
       "      <td>1</td>\n",
       "      <td>11</td>\n",
       "      <td>Alabama</td>\n",
       "      <td>Bullock County</td>\n",
       "      <td>10914</td>\n",
       "      <td>10911</td>\n",
       "      <td>10876</td>\n",
       "      <td>...</td>\n",
       "      <td>-7.102343</td>\n",
       "      <td>-21.994339</td>\n",
       "      <td>-6.954560</td>\n",
       "      <td>-6.334200</td>\n",
       "      <td>9.617198</td>\n",
       "      <td>-24.592888</td>\n",
       "      <td>-2.212709</td>\n",
       "      <td>-19.936786</td>\n",
       "      <td>-1.474201</td>\n",
       "      <td>-7.200986</td>\n",
       "    </tr>\n",
       "    <tr>\n",
       "      <th>7</th>\n",
       "      <td>50</td>\n",
       "      <td>3</td>\n",
       "      <td>6</td>\n",
       "      <td>1</td>\n",
       "      <td>13</td>\n",
       "      <td>Alabama</td>\n",
       "      <td>Butler County</td>\n",
       "      <td>20947</td>\n",
       "      <td>20940</td>\n",
       "      <td>20932</td>\n",
       "      <td>...</td>\n",
       "      <td>-7.216152</td>\n",
       "      <td>-3.636538</td>\n",
       "      <td>-7.896764</td>\n",
       "      <td>-14.478623</td>\n",
       "      <td>0.442445</td>\n",
       "      <td>-6.223913</td>\n",
       "      <td>-6.272714</td>\n",
       "      <td>-4.962406</td>\n",
       "      <td>-10.071105</td>\n",
       "      <td>-6.294941</td>\n",
       "    </tr>\n",
       "    <tr>\n",
       "      <th>8</th>\n",
       "      <td>50</td>\n",
       "      <td>3</td>\n",
       "      <td>6</td>\n",
       "      <td>1</td>\n",
       "      <td>15</td>\n",
       "      <td>Alabama</td>\n",
       "      <td>Calhoun County</td>\n",
       "      <td>118572</td>\n",
       "      <td>118526</td>\n",
       "      <td>118408</td>\n",
       "      <td>...</td>\n",
       "      <td>-4.167837</td>\n",
       "      <td>-6.148582</td>\n",
       "      <td>-4.588523</td>\n",
       "      <td>-5.255477</td>\n",
       "      <td>-4.027747</td>\n",
       "      <td>-3.215406</td>\n",
       "      <td>-3.471589</td>\n",
       "      <td>-1.654454</td>\n",
       "      <td>-0.488995</td>\n",
       "      <td>-4.044995</td>\n",
       "    </tr>\n",
       "    <tr>\n",
       "      <th>9</th>\n",
       "      <td>50</td>\n",
       "      <td>3</td>\n",
       "      <td>6</td>\n",
       "      <td>1</td>\n",
       "      <td>17</td>\n",
       "      <td>Alabama</td>\n",
       "      <td>Chambers County</td>\n",
       "      <td>34215</td>\n",
       "      <td>34169</td>\n",
       "      <td>34122</td>\n",
       "      <td>...</td>\n",
       "      <td>-7.927723</td>\n",
       "      <td>-1.379209</td>\n",
       "      <td>4.490952</td>\n",
       "      <td>2.520405</td>\n",
       "      <td>-3.787656</td>\n",
       "      <td>1.324055</td>\n",
       "      <td>-5.786747</td>\n",
       "      <td>2.134851</td>\n",
       "      <td>-1.515444</td>\n",
       "      <td>-7.748227</td>\n",
       "    </tr>\n",
       "  </tbody>\n",
       "</table>\n",
       "<p>10 rows × 164 columns</p>\n",
       "</div>"
      ],
      "text/plain": [
       "   SUMLEV  REGION  DIVISION  STATE  COUNTY   STNAME          CTYNAME  \\\n",
       "0      40       3         6      1       0  Alabama          Alabama   \n",
       "1      50       3         6      1       1  Alabama   Autauga County   \n",
       "2      50       3         6      1       3  Alabama   Baldwin County   \n",
       "3      50       3         6      1       5  Alabama   Barbour County   \n",
       "4      50       3         6      1       7  Alabama      Bibb County   \n",
       "5      50       3         6      1       9  Alabama    Blount County   \n",
       "6      50       3         6      1      11  Alabama   Bullock County   \n",
       "7      50       3         6      1      13  Alabama    Butler County   \n",
       "8      50       3         6      1      15  Alabama   Calhoun County   \n",
       "9      50       3         6      1      17  Alabama  Chambers County   \n",
       "\n",
       "   CENSUS2010POP  ESTIMATESBASE2010  POPESTIMATE2010  ...  RDOMESTICMIG2019  \\\n",
       "0        4779736            4780125          4785437  ...          1.917501   \n",
       "1          54571              54597            54773  ...          4.847310   \n",
       "2         182265             182265           183112  ...         24.017829   \n",
       "3          27457              27455            27327  ...         -5.690302   \n",
       "4          22915              22915            22870  ...          1.385134   \n",
       "5          57322              57322            57376  ...          1.020788   \n",
       "6          10914              10911            10876  ...         -7.102343   \n",
       "7          20947              20940            20932  ...         -7.216152   \n",
       "8         118572             118526           118408  ...         -4.167837   \n",
       "9          34215              34169            34122  ...         -7.927723   \n",
       "\n",
       "   RNETMIG2011  RNETMIG2012  RNETMIG2013  RNETMIG2014  RNETMIG2015  \\\n",
       "0     0.578434     1.186314     1.522549     0.563489     0.626357   \n",
       "1     6.018182    -6.226119    -3.902226     1.970443    -1.712875   \n",
       "2    16.641870    17.488579    22.751474    20.184334    17.725964   \n",
       "3     0.292676    -6.897817    -8.132185    -5.140431   -15.724575   \n",
       "4    -4.998356    -3.787545    -5.797999     1.331144     1.329817   \n",
       "5     0.208812    -1.650165    -0.347225    -2.049590    -1.338525   \n",
       "6   -21.994339    -6.954560    -6.334200     9.617198   -24.592888   \n",
       "7    -3.636538    -7.896764   -14.478623     0.442445    -6.223913   \n",
       "8    -6.148582    -4.588523    -5.255477    -4.027747    -3.215406   \n",
       "9    -1.379209     4.490952     2.520405    -3.787656     1.324055   \n",
       "\n",
       "   RNETMIG2016  RNETMIG2017  RNETMIG2018  RNETMIG2019  \n",
       "0     0.745172     1.090366     1.773786     2.483744  \n",
       "1     4.777171     0.849656     0.540916     4.560062  \n",
       "2    21.279291    22.398256    24.727215    24.380567  \n",
       "3   -18.238016   -24.998528    -8.754922    -5.165664  \n",
       "4    -0.708717    -3.234669    -6.857092     1.831952  \n",
       "5    -1.391062     6.193562    -0.069229     1.124597  \n",
       "6    -2.212709   -19.936786    -1.474201    -7.200986  \n",
       "7    -6.272714    -4.962406   -10.071105    -6.294941  \n",
       "8    -3.471589    -1.654454    -0.488995    -4.044995  \n",
       "9    -5.786747     2.134851    -1.515444    -7.748227  \n",
       "\n",
       "[10 rows x 164 columns]"
      ]
     },
     "execution_count": 7,
     "metadata": {},
     "output_type": "execute_result"
    }
   ],
   "source": [
    "CENSUS_DF.head(10)"
   ]
  },
  {
   "cell_type": "markdown",
   "metadata": {},
   "source": [
    "---\n",
    "\n",
    "## 3 - Cleaning and Data Checks"
   ]
  },
  {
   "cell_type": "markdown",
   "metadata": {},
   "source": [
    "### FIPS Codes\n",
    "\n",
    "In order to incorporate these data into the covid dashboard, we'll need to tie them to counties via FIPS codes. We have state and county codes available above as integers, but we'll need it stored as a 5 digit string.\n",
    "\n",
    "Below I create a function to apply to the dataframe to produce the new column. This is open to issues if state or county codes exceed expected lengths."
   ]
  },
  {
   "cell_type": "code",
   "execution_count": 8,
   "metadata": {},
   "outputs": [
    {
     "data": {
      "text/plain": [
       "'01022'"
      ]
     },
     "execution_count": 8,
     "metadata": {},
     "output_type": "execute_result"
    }
   ],
   "source": [
    "# Function to generate fips from a state int and county int.\n",
    "def generate_fips(state_fips, county_fips):\n",
    "    state_str, county_str = str(state_fips), str(county_fips)\n",
    "    \n",
    "    # Check length of state code and append 0's if necessary.\n",
    "    if len(state_str) == 1:\n",
    "        state_str = \"0\"+state_str\n",
    "        \n",
    "    # Check length of county code and append 0's if necessary.\n",
    "    if len(county_str) == 1:\n",
    "        county_str = \"00\"+county_str\n",
    "    elif len(county_str) == 2:\n",
    "        county_str = \"0\"+county_str\n",
    "        \n",
    "    return state_str+county_str\n",
    "\n",
    "# Quick test\n",
    "state = 1\n",
    "county = 22\n",
    "generate_fips(state, county)"
   ]
  },
  {
   "cell_type": "code",
   "execution_count": 9,
   "metadata": {},
   "outputs": [],
   "source": [
    "# Use apply across rows to generate fips codes.\n",
    "CENSUS_DF['FIPS'] = CENSUS_DF[['STATE','COUNTY']].apply(\n",
    "    lambda x:generate_fips(\n",
    "        x['STATE'],x['COUNTY']), axis = 1)"
   ]
  },
  {
   "cell_type": "markdown",
   "metadata": {},
   "source": [
    "### Length Check\n",
    "\n",
    "Lets check to make sure that our transformation was clean from a length persepective."
   ]
  },
  {
   "cell_type": "code",
   "execution_count": 10,
   "metadata": {},
   "outputs": [
    {
     "data": {
      "text/plain": [
       "5"
      ]
     },
     "execution_count": 10,
     "metadata": {},
     "output_type": "execute_result"
    }
   ],
   "source": [
    "# Checking the the length of each row, producing a series\n",
    "#  and checking the max.\n",
    "CENSUS_DF['FIPS'].map(lambda x:len(str(x))).max()"
   ]
  },
  {
   "cell_type": "code",
   "execution_count": 11,
   "metadata": {},
   "outputs": [
    {
     "data": {
      "text/plain": [
       "5"
      ]
     },
     "execution_count": 11,
     "metadata": {},
     "output_type": "execute_result"
    }
   ],
   "source": [
    "# Doing the same only for min.\n",
    "CENSUS_DF['FIPS'].map(lambda x:len(str(x))).min()"
   ]
  },
  {
   "cell_type": "markdown",
   "metadata": {},
   "source": [
    "So we've got 3193 rows (counties), lets make sure we have the same number of unique fips codes."
   ]
  },
  {
   "cell_type": "markdown",
   "metadata": {},
   "source": [
    "### Uniqueness Check"
   ]
  },
  {
   "cell_type": "code",
   "execution_count": 12,
   "metadata": {},
   "outputs": [
    {
     "data": {
      "text/plain": [
       "(3193, 165)"
      ]
     },
     "execution_count": 12,
     "metadata": {},
     "output_type": "execute_result"
    }
   ],
   "source": [
    "CENSUS_DF.shape"
   ]
  },
  {
   "cell_type": "code",
   "execution_count": 13,
   "metadata": {},
   "outputs": [
    {
     "data": {
      "text/plain": [
       "3193"
      ]
     },
     "execution_count": 13,
     "metadata": {},
     "output_type": "execute_result"
    }
   ],
   "source": [
    "len(set(CENSUS_DF['FIPS']))"
   ]
  },
  {
   "cell_type": "markdown",
   "metadata": {},
   "source": [
    "Yup, we look good to go.\n",
    "\n",
    "------------"
   ]
  },
  {
   "cell_type": "markdown",
   "metadata": {},
   "source": [
    "## 4 - Explore Data"
   ]
  },
  {
   "cell_type": "markdown",
   "metadata": {},
   "source": [
    "Selecing a handful of columns to persist."
   ]
  },
  {
   "cell_type": "code",
   "execution_count": 14,
   "metadata": {},
   "outputs": [],
   "source": [
    "FEATURES = [\n",
    "    'SUMLEV',\n",
    "    'REGION',\n",
    "    'DIVISION',\n",
    "    'STATE',\n",
    "    'COUNTY',\n",
    "    'STNAME',\n",
    "    'CTYNAME',\n",
    "    'POPESTIMATE2019',\n",
    "    'CENSUS2010POP', \n",
    "    'FIPS' # calculated column\n",
    "]"
   ]
  },
  {
   "cell_type": "code",
   "execution_count": 15,
   "metadata": {},
   "outputs": [
    {
     "data": {
      "text/html": [
       "<div>\n",
       "<style scoped>\n",
       "    .dataframe tbody tr th:only-of-type {\n",
       "        vertical-align: middle;\n",
       "    }\n",
       "\n",
       "    .dataframe tbody tr th {\n",
       "        vertical-align: top;\n",
       "    }\n",
       "\n",
       "    .dataframe thead th {\n",
       "        text-align: right;\n",
       "    }\n",
       "</style>\n",
       "<table border=\"1\" class=\"dataframe\">\n",
       "  <thead>\n",
       "    <tr style=\"text-align: right;\">\n",
       "      <th></th>\n",
       "      <th>SUMLEV</th>\n",
       "      <th>REGION</th>\n",
       "      <th>DIVISION</th>\n",
       "      <th>STATE</th>\n",
       "      <th>COUNTY</th>\n",
       "      <th>STNAME</th>\n",
       "      <th>CTYNAME</th>\n",
       "      <th>POPESTIMATE2019</th>\n",
       "      <th>CENSUS2010POP</th>\n",
       "      <th>FIPS</th>\n",
       "    </tr>\n",
       "  </thead>\n",
       "  <tbody>\n",
       "    <tr>\n",
       "      <th>0</th>\n",
       "      <td>40</td>\n",
       "      <td>3</td>\n",
       "      <td>6</td>\n",
       "      <td>1</td>\n",
       "      <td>0</td>\n",
       "      <td>Alabama</td>\n",
       "      <td>Alabama</td>\n",
       "      <td>4903185</td>\n",
       "      <td>4779736</td>\n",
       "      <td>01000</td>\n",
       "    </tr>\n",
       "    <tr>\n",
       "      <th>1</th>\n",
       "      <td>50</td>\n",
       "      <td>3</td>\n",
       "      <td>6</td>\n",
       "      <td>1</td>\n",
       "      <td>1</td>\n",
       "      <td>Alabama</td>\n",
       "      <td>Autauga County</td>\n",
       "      <td>55869</td>\n",
       "      <td>54571</td>\n",
       "      <td>01001</td>\n",
       "    </tr>\n",
       "    <tr>\n",
       "      <th>2</th>\n",
       "      <td>50</td>\n",
       "      <td>3</td>\n",
       "      <td>6</td>\n",
       "      <td>1</td>\n",
       "      <td>3</td>\n",
       "      <td>Alabama</td>\n",
       "      <td>Baldwin County</td>\n",
       "      <td>223234</td>\n",
       "      <td>182265</td>\n",
       "      <td>01003</td>\n",
       "    </tr>\n",
       "    <tr>\n",
       "      <th>3</th>\n",
       "      <td>50</td>\n",
       "      <td>3</td>\n",
       "      <td>6</td>\n",
       "      <td>1</td>\n",
       "      <td>5</td>\n",
       "      <td>Alabama</td>\n",
       "      <td>Barbour County</td>\n",
       "      <td>24686</td>\n",
       "      <td>27457</td>\n",
       "      <td>01005</td>\n",
       "    </tr>\n",
       "    <tr>\n",
       "      <th>4</th>\n",
       "      <td>50</td>\n",
       "      <td>3</td>\n",
       "      <td>6</td>\n",
       "      <td>1</td>\n",
       "      <td>7</td>\n",
       "      <td>Alabama</td>\n",
       "      <td>Bibb County</td>\n",
       "      <td>22394</td>\n",
       "      <td>22915</td>\n",
       "      <td>01007</td>\n",
       "    </tr>\n",
       "  </tbody>\n",
       "</table>\n",
       "</div>"
      ],
      "text/plain": [
       "   SUMLEV  REGION  DIVISION  STATE  COUNTY   STNAME         CTYNAME  \\\n",
       "0      40       3         6      1       0  Alabama         Alabama   \n",
       "1      50       3         6      1       1  Alabama  Autauga County   \n",
       "2      50       3         6      1       3  Alabama  Baldwin County   \n",
       "3      50       3         6      1       5  Alabama  Barbour County   \n",
       "4      50       3         6      1       7  Alabama     Bibb County   \n",
       "\n",
       "   POPESTIMATE2019  CENSUS2010POP   FIPS  \n",
       "0          4903185        4779736  01000  \n",
       "1            55869          54571  01001  \n",
       "2           223234         182265  01003  \n",
       "3            24686          27457  01005  \n",
       "4            22394          22915  01007  "
      ]
     },
     "execution_count": 15,
     "metadata": {},
     "output_type": "execute_result"
    }
   ],
   "source": [
    "CENSUS_DF[FEATURES].head()"
   ]
  },
  {
   "cell_type": "markdown",
   "metadata": {},
   "source": [
    "Below is a list of all the columns that come from the data."
   ]
  },
  {
   "cell_type": "code",
   "execution_count": 16,
   "metadata": {
    "scrolled": true
   },
   "outputs": [
    {
     "name": "stdout",
     "output_type": "stream",
     "text": [
      "<class 'pandas.core.frame.DataFrame'>\n",
      "RangeIndex: 3193 entries, 0 to 3192\n",
      "Data columns (total 165 columns):\n",
      " #   Column                 Dtype  \n",
      "---  ------                 -----  \n",
      " 0   SUMLEV                 int64  \n",
      " 1   REGION                 int64  \n",
      " 2   DIVISION               int64  \n",
      " 3   STATE                  int64  \n",
      " 4   COUNTY                 int64  \n",
      " 5   STNAME                 object \n",
      " 6   CTYNAME                object \n",
      " 7   CENSUS2010POP          int64  \n",
      " 8   ESTIMATESBASE2010      int64  \n",
      " 9   POPESTIMATE2010        int64  \n",
      " 10  POPESTIMATE2011        int64  \n",
      " 11  POPESTIMATE2012        int64  \n",
      " 12  POPESTIMATE2013        int64  \n",
      " 13  POPESTIMATE2014        int64  \n",
      " 14  POPESTIMATE2015        int64  \n",
      " 15  POPESTIMATE2016        int64  \n",
      " 16  POPESTIMATE2017        int64  \n",
      " 17  POPESTIMATE2018        int64  \n",
      " 18  POPESTIMATE2019        int64  \n",
      " 19  NPOPCHG_2010           int64  \n",
      " 20  NPOPCHG_2011           int64  \n",
      " 21  NPOPCHG_2012           int64  \n",
      " 22  NPOPCHG_2013           int64  \n",
      " 23  NPOPCHG_2014           int64  \n",
      " 24  NPOPCHG_2015           int64  \n",
      " 25  NPOPCHG_2016           int64  \n",
      " 26  NPOPCHG_2017           int64  \n",
      " 27  NPOPCHG_2018           int64  \n",
      " 28  NPOPCHG_2019           int64  \n",
      " 29  BIRTHS2010             int64  \n",
      " 30  BIRTHS2011             int64  \n",
      " 31  BIRTHS2012             int64  \n",
      " 32  BIRTHS2013             int64  \n",
      " 33  BIRTHS2014             int64  \n",
      " 34  BIRTHS2015             int64  \n",
      " 35  BIRTHS2016             int64  \n",
      " 36  BIRTHS2017             int64  \n",
      " 37  BIRTHS2018             int64  \n",
      " 38  BIRTHS2019             int64  \n",
      " 39  DEATHS2010             int64  \n",
      " 40  DEATHS2011             int64  \n",
      " 41  DEATHS2012             int64  \n",
      " 42  DEATHS2013             int64  \n",
      " 43  DEATHS2014             int64  \n",
      " 44  DEATHS2015             int64  \n",
      " 45  DEATHS2016             int64  \n",
      " 46  DEATHS2017             int64  \n",
      " 47  DEATHS2018             int64  \n",
      " 48  DEATHS2019             int64  \n",
      " 49  NATURALINC2010         int64  \n",
      " 50  NATURALINC2011         int64  \n",
      " 51  NATURALINC2012         int64  \n",
      " 52  NATURALINC2013         int64  \n",
      " 53  NATURALINC2014         int64  \n",
      " 54  NATURALINC2015         int64  \n",
      " 55  NATURALINC2016         int64  \n",
      " 56  NATURALINC2017         int64  \n",
      " 57  NATURALINC2018         int64  \n",
      " 58  NATURALINC2019         int64  \n",
      " 59  INTERNATIONALMIG2010   int64  \n",
      " 60  INTERNATIONALMIG2011   int64  \n",
      " 61  INTERNATIONALMIG2012   int64  \n",
      " 62  INTERNATIONALMIG2013   int64  \n",
      " 63  INTERNATIONALMIG2014   int64  \n",
      " 64  INTERNATIONALMIG2015   int64  \n",
      " 65  INTERNATIONALMIG2016   int64  \n",
      " 66  INTERNATIONALMIG2017   int64  \n",
      " 67  INTERNATIONALMIG2018   int64  \n",
      " 68  INTERNATIONALMIG2019   int64  \n",
      " 69  DOMESTICMIG2010        int64  \n",
      " 70  DOMESTICMIG2011        int64  \n",
      " 71  DOMESTICMIG2012        int64  \n",
      " 72  DOMESTICMIG2013        int64  \n",
      " 73  DOMESTICMIG2014        int64  \n",
      " 74  DOMESTICMIG2015        int64  \n",
      " 75  DOMESTICMIG2016        int64  \n",
      " 76  DOMESTICMIG2017        int64  \n",
      " 77  DOMESTICMIG2018        int64  \n",
      " 78  DOMESTICMIG2019        int64  \n",
      " 79  NETMIG2010             int64  \n",
      " 80  NETMIG2011             int64  \n",
      " 81  NETMIG2012             int64  \n",
      " 82  NETMIG2013             int64  \n",
      " 83  NETMIG2014             int64  \n",
      " 84  NETMIG2015             int64  \n",
      " 85  NETMIG2016             int64  \n",
      " 86  NETMIG2017             int64  \n",
      " 87  NETMIG2018             int64  \n",
      " 88  NETMIG2019             int64  \n",
      " 89  RESIDUAL2010           int64  \n",
      " 90  RESIDUAL2011           int64  \n",
      " 91  RESIDUAL2012           int64  \n",
      " 92  RESIDUAL2013           int64  \n",
      " 93  RESIDUAL2014           int64  \n",
      " 94  RESIDUAL2015           int64  \n",
      " 95  RESIDUAL2016           int64  \n",
      " 96  RESIDUAL2017           int64  \n",
      " 97  RESIDUAL2018           int64  \n",
      " 98  RESIDUAL2019           int64  \n",
      " 99  GQESTIMATESBASE2010    int64  \n",
      " 100 GQESTIMATES2010        int64  \n",
      " 101 GQESTIMATES2011        int64  \n",
      " 102 GQESTIMATES2012        int64  \n",
      " 103 GQESTIMATES2013        int64  \n",
      " 104 GQESTIMATES2014        int64  \n",
      " 105 GQESTIMATES2015        int64  \n",
      " 106 GQESTIMATES2016        int64  \n",
      " 107 GQESTIMATES2017        int64  \n",
      " 108 GQESTIMATES2018        int64  \n",
      " 109 GQESTIMATES2019        int64  \n",
      " 110 RBIRTH2011             float64\n",
      " 111 RBIRTH2012             float64\n",
      " 112 RBIRTH2013             float64\n",
      " 113 RBIRTH2014             float64\n",
      " 114 RBIRTH2015             float64\n",
      " 115 RBIRTH2016             float64\n",
      " 116 RBIRTH2017             float64\n",
      " 117 RBIRTH2018             float64\n",
      " 118 RBIRTH2019             float64\n",
      " 119 RDEATH2011             float64\n",
      " 120 RDEATH2012             float64\n",
      " 121 RDEATH2013             float64\n",
      " 122 RDEATH2014             float64\n",
      " 123 RDEATH2015             float64\n",
      " 124 RDEATH2016             float64\n",
      " 125 RDEATH2017             float64\n",
      " 126 RDEATH2018             float64\n",
      " 127 RDEATH2019             float64\n",
      " 128 RNATURALINC2011        float64\n",
      " 129 RNATURALINC2012        float64\n",
      " 130 RNATURALINC2013        float64\n",
      " 131 RNATURALINC2014        float64\n",
      " 132 RNATURALINC2015        float64\n",
      " 133 RNATURALINC2016        float64\n",
      " 134 RNATURALINC2017        float64\n",
      " 135 RNATURALINC2018        float64\n",
      " 136 RNATURALINC2019        float64\n",
      " 137 RINTERNATIONALMIG2011  float64\n",
      " 138 RINTERNATIONALMIG2012  float64\n",
      " 139 RINTERNATIONALMIG2013  float64\n",
      " 140 RINTERNATIONALMIG2014  float64\n",
      " 141 RINTERNATIONALMIG2015  float64\n",
      " 142 RINTERNATIONALMIG2016  float64\n",
      " 143 RINTERNATIONALMIG2017  float64\n",
      " 144 RINTERNATIONALMIG2018  float64\n",
      " 145 RINTERNATIONALMIG2019  float64\n",
      " 146 RDOMESTICMIG2011       float64\n",
      " 147 RDOMESTICMIG2012       float64\n",
      " 148 RDOMESTICMIG2013       float64\n",
      " 149 RDOMESTICMIG2014       float64\n",
      " 150 RDOMESTICMIG2015       float64\n",
      " 151 RDOMESTICMIG2016       float64\n",
      " 152 RDOMESTICMIG2017       float64\n",
      " 153 RDOMESTICMIG2018       float64\n",
      " 154 RDOMESTICMIG2019       float64\n",
      " 155 RNETMIG2011            float64\n",
      " 156 RNETMIG2012            float64\n",
      " 157 RNETMIG2013            float64\n",
      " 158 RNETMIG2014            float64\n",
      " 159 RNETMIG2015            float64\n",
      " 160 RNETMIG2016            float64\n",
      " 161 RNETMIG2017            float64\n",
      " 162 RNETMIG2018            float64\n",
      " 163 RNETMIG2019            float64\n",
      " 164 FIPS                   object \n",
      "dtypes: float64(54), int64(108), object(3)\n",
      "memory usage: 4.0+ MB\n"
     ]
    }
   ],
   "source": [
    "# list out all columns for reference and availability\n",
    "CENSUS_DF.info(verbose=True)"
   ]
  }
 ],
 "metadata": {
  "kernelspec": {
   "display_name": "Python 3",
   "language": "python",
   "name": "python3"
  },
  "language_info": {
   "codemirror_mode": {
    "name": "ipython",
    "version": 3
   },
   "file_extension": ".py",
   "mimetype": "text/x-python",
   "name": "python",
   "nbconvert_exporter": "python",
   "pygments_lexer": "ipython3",
   "version": "3.7.7"
  }
 },
 "nbformat": 4,
 "nbformat_minor": 4
}
