{
 "cells": [
  {
   "cell_type": "markdown",
   "metadata": {},
   "source": [
    "# Combining Census Data with County Data"
   ]
  },
  {
   "cell_type": "markdown",
   "metadata": {},
   "source": [
    "First, we need to make sure we are in the root directory of the project to import custom modules. These notebooks are stored in `notebooks/` for cleanliness."
   ]
  },
  {
   "cell_type": "code",
   "execution_count": 1,
   "metadata": {},
   "outputs": [
    {
     "data": {
      "text/plain": [
       "'/Users/DanOvadia/Projects/covid-hotspots/notebooks'"
      ]
     },
     "execution_count": 1,
     "metadata": {},
     "output_type": "execute_result"
    }
   ],
   "source": [
    "pwd"
   ]
  },
  {
   "cell_type": "code",
   "execution_count": 2,
   "metadata": {},
   "outputs": [
    {
     "name": "stdout",
     "output_type": "stream",
     "text": [
      "/Users/DanOvadia/Projects/covid-hotspots\n"
     ]
    }
   ],
   "source": [
    "cd .."
   ]
  },
  {
   "cell_type": "markdown",
   "metadata": {},
   "source": [
    "### Python Libraries"
   ]
  },
  {
   "cell_type": "code",
   "execution_count": 3,
   "metadata": {},
   "outputs": [],
   "source": [
    "# To hold and manipulate data\n",
    "import pandas as pd\n",
    "\n",
    "# To check across all dates for data accuracy\n",
    "from datetime import date, timedelta"
   ]
  },
  {
   "cell_type": "markdown",
   "metadata": {},
   "source": [
    "### Custom Modules"
   ]
  },
  {
   "cell_type": "code",
   "execution_count": 4,
   "metadata": {},
   "outputs": [],
   "source": [
    "from modules import data_processing\n",
    "from modules import plotting # not needed, but available\n",
    "\n",
    "# Extension to auto reload custom modules\n",
    "%load_ext autoreload\n",
    "\n",
    "%autoreload 1\n",
    "\n",
    "%aimport modules.data_processing\n",
    "%aimport modules.plotting"
   ]
  },
  {
   "cell_type": "markdown",
   "metadata": {},
   "source": [
    "## Data Importing"
   ]
  },
  {
   "cell_type": "markdown",
   "metadata": {},
   "source": [
    "### County Coronavirus Data\n",
    "We import data from [New York Times GitHub](https://github.com/nytimes/covid-19-data) to get county level coronavirus data."
   ]
  },
  {
   "cell_type": "code",
   "execution_count": 149,
   "metadata": {},
   "outputs": [
    {
     "name": "stdout",
     "output_type": "stream",
     "text": [
      "Retrieving Covid County data\n",
      "Pulling county data from file.\n",
      "CPU times: user 11.7 s, sys: 1.63 s, total: 13.3 s\n",
      "Wall time: 18.9 s\n"
     ]
    }
   ],
   "source": [
    "%%time\n",
    "# Get county data\n",
    "COVID_COUNTIES_DF = data_processing.get_covid_county_data()"
   ]
  },
  {
   "cell_type": "code",
   "execution_count": 93,
   "metadata": {},
   "outputs": [
    {
     "data": {
      "text/plain": [
       "Index(['date', 'county', 'state', 'fips', 'cases', 'deaths', 'log_deaths',\n",
       "       'log_cases', 'SUMLEV', 'REGION', 'DIVISION', 'STATE', 'COUNTY',\n",
       "       'STNAME', 'CTYNAME', 'POPESTIMATE2019', 'CENSUS2010POP', 'FIPS',\n",
       "       'casesPerMillion', 'deathsPerMillion', 'case_diff', 'death_diff'],\n",
       "      dtype='object')"
      ]
     },
     "execution_count": 93,
     "metadata": {},
     "output_type": "execute_result"
    }
   ],
   "source": [
    "# Take a look at columns for reference and context\n",
    "COVID_COUNTIES_DF.columns"
   ]
  },
  {
   "cell_type": "markdown",
   "metadata": {},
   "source": [
    "### County Census Data\n",
    "\n",
    "We import data from census.gov to get county level population data. Specifically using 2019 estimates."
   ]
  },
  {
   "cell_type": "code",
   "execution_count": 7,
   "metadata": {},
   "outputs": [],
   "source": [
    "# Get Census Data\n",
    "CENSUS_COUNTIES_DF = data_processing.get_census_county_data()"
   ]
  },
  {
   "cell_type": "code",
   "execution_count": 8,
   "metadata": {},
   "outputs": [
    {
     "data": {
      "text/plain": [
       "Index(['SUMLEV', 'REGION', 'DIVISION', 'STATE', 'COUNTY', 'STNAME', 'CTYNAME',\n",
       "       'POPESTIMATE2019', 'CENSUS2010POP', 'FIPS'],\n",
       "      dtype='object')"
      ]
     },
     "execution_count": 8,
     "metadata": {},
     "output_type": "execute_result"
    }
   ],
   "source": [
    "# Take a look at columns for reference and context\n",
    "CENSUS_COUNTIES_DF.columns"
   ]
  },
  {
   "cell_type": "markdown",
   "metadata": {},
   "source": [
    "## Merge Dataframes\n",
    "\n",
    "To calculate cases and deaths per capita at a county level, we will merge our population reference data with county covid data on fips codes. Reminder: County covid data has many rows of the same fips code since it is a time series. We may need to check for consistency."
   ]
  },
  {
   "cell_type": "code",
   "execution_count": 9,
   "metadata": {},
   "outputs": [],
   "source": [
    "# Merge dataframes on fips\n",
    "DF = COVID_COUNTIES_DF.merge(CENSUS_COUNTIES_DF, \n",
    "                        how='left',\n",
    "                        left_on='fips',\n",
    "                        right_on='FIPS')"
   ]
  },
  {
   "cell_type": "code",
   "execution_count": 17,
   "metadata": {},
   "outputs": [
    {
     "name": "stdout",
     "output_type": "stream",
     "text": [
      "<class 'pandas.core.frame.DataFrame'>\n",
      "Int64Index: 482727 entries, 0 to 482726\n",
      "Data columns (total 17 columns):\n",
      " #   Column           Non-Null Count   Dtype         \n",
      "---  ------           --------------   -----         \n",
      " 0   date             482727 non-null  datetime64[ns]\n",
      " 1   county           482727 non-null  object        \n",
      " 2   state            482727 non-null  object        \n",
      " 3   fips             482727 non-null  object        \n",
      " 4   cases            482727 non-null  int64         \n",
      " 5   deaths           482727 non-null  int64         \n",
      " 6   log_deaths       482727 non-null  float64       \n",
      " 7   SUMLEV           468456 non-null  float64       \n",
      " 8   REGION           468456 non-null  float64       \n",
      " 9   DIVISION         468456 non-null  float64       \n",
      " 10  STATE            468456 non-null  float64       \n",
      " 11  COUNTY           468456 non-null  float64       \n",
      " 12  STNAME           468456 non-null  object        \n",
      " 13  CTYNAME          468456 non-null  object        \n",
      " 14  POPESTIMATE2019  468456 non-null  float64       \n",
      " 15  CENSUS2010POP    468456 non-null  float64       \n",
      " 16  FIPS             468456 non-null  object        \n",
      "dtypes: datetime64[ns](1), float64(8), int64(2), object(6)\n",
      "memory usage: 66.3+ MB\n"
     ]
    }
   ],
   "source": [
    "DF.info()"
   ]
  },
  {
   "cell_type": "markdown",
   "metadata": {},
   "source": [
    "Now lets create the two columns we care about:\n",
    " - Cases per million population\n",
    " - Deaths per million population"
   ]
  },
  {
   "cell_type": "code",
   "execution_count": 22,
   "metadata": {},
   "outputs": [],
   "source": [
    "DF['casesPerMillion']=DF['cases']/DF['POPESTIMATE2019']*1000000"
   ]
  },
  {
   "cell_type": "code",
   "execution_count": 23,
   "metadata": {},
   "outputs": [],
   "source": [
    "DF['deathsPerMillion']=DF['deaths']/DF['POPESTIMATE2019']*1000000"
   ]
  },
  {
   "cell_type": "code",
   "execution_count": 24,
   "metadata": {},
   "outputs": [
    {
     "data": {
      "text/html": [
       "<div>\n",
       "<style scoped>\n",
       "    .dataframe tbody tr th:only-of-type {\n",
       "        vertical-align: middle;\n",
       "    }\n",
       "\n",
       "    .dataframe tbody tr th {\n",
       "        vertical-align: top;\n",
       "    }\n",
       "\n",
       "    .dataframe thead th {\n",
       "        text-align: right;\n",
       "    }\n",
       "</style>\n",
       "<table border=\"1\" class=\"dataframe\">\n",
       "  <thead>\n",
       "    <tr style=\"text-align: right;\">\n",
       "      <th></th>\n",
       "      <th>date</th>\n",
       "      <th>county</th>\n",
       "      <th>state</th>\n",
       "      <th>fips</th>\n",
       "      <th>cases</th>\n",
       "      <th>deaths</th>\n",
       "      <th>log_deaths</th>\n",
       "      <th>SUMLEV</th>\n",
       "      <th>REGION</th>\n",
       "      <th>DIVISION</th>\n",
       "      <th>STATE</th>\n",
       "      <th>COUNTY</th>\n",
       "      <th>STNAME</th>\n",
       "      <th>CTYNAME</th>\n",
       "      <th>POPESTIMATE2019</th>\n",
       "      <th>CENSUS2010POP</th>\n",
       "      <th>FIPS</th>\n",
       "      <th>casesPerMillion</th>\n",
       "      <th>deathsPerMillion</th>\n",
       "    </tr>\n",
       "  </thead>\n",
       "  <tbody>\n",
       "    <tr>\n",
       "      <th>0</th>\n",
       "      <td>2020-01-21</td>\n",
       "      <td>Snohomish</td>\n",
       "      <td>Washington</td>\n",
       "      <td>53061</td>\n",
       "      <td>1</td>\n",
       "      <td>0</td>\n",
       "      <td>0.0</td>\n",
       "      <td>50.0</td>\n",
       "      <td>4.0</td>\n",
       "      <td>9.0</td>\n",
       "      <td>53.0</td>\n",
       "      <td>61.0</td>\n",
       "      <td>Washington</td>\n",
       "      <td>Snohomish County</td>\n",
       "      <td>822083.0</td>\n",
       "      <td>713335.0</td>\n",
       "      <td>53061</td>\n",
       "      <td>1.216422</td>\n",
       "      <td>0.0</td>\n",
       "    </tr>\n",
       "    <tr>\n",
       "      <th>1</th>\n",
       "      <td>2020-01-22</td>\n",
       "      <td>Snohomish</td>\n",
       "      <td>Washington</td>\n",
       "      <td>53061</td>\n",
       "      <td>1</td>\n",
       "      <td>0</td>\n",
       "      <td>0.0</td>\n",
       "      <td>50.0</td>\n",
       "      <td>4.0</td>\n",
       "      <td>9.0</td>\n",
       "      <td>53.0</td>\n",
       "      <td>61.0</td>\n",
       "      <td>Washington</td>\n",
       "      <td>Snohomish County</td>\n",
       "      <td>822083.0</td>\n",
       "      <td>713335.0</td>\n",
       "      <td>53061</td>\n",
       "      <td>1.216422</td>\n",
       "      <td>0.0</td>\n",
       "    </tr>\n",
       "    <tr>\n",
       "      <th>2</th>\n",
       "      <td>2020-01-23</td>\n",
       "      <td>Snohomish</td>\n",
       "      <td>Washington</td>\n",
       "      <td>53061</td>\n",
       "      <td>1</td>\n",
       "      <td>0</td>\n",
       "      <td>0.0</td>\n",
       "      <td>50.0</td>\n",
       "      <td>4.0</td>\n",
       "      <td>9.0</td>\n",
       "      <td>53.0</td>\n",
       "      <td>61.0</td>\n",
       "      <td>Washington</td>\n",
       "      <td>Snohomish County</td>\n",
       "      <td>822083.0</td>\n",
       "      <td>713335.0</td>\n",
       "      <td>53061</td>\n",
       "      <td>1.216422</td>\n",
       "      <td>0.0</td>\n",
       "    </tr>\n",
       "    <tr>\n",
       "      <th>3</th>\n",
       "      <td>2020-01-24</td>\n",
       "      <td>Cook</td>\n",
       "      <td>Illinois</td>\n",
       "      <td>17031</td>\n",
       "      <td>1</td>\n",
       "      <td>0</td>\n",
       "      <td>0.0</td>\n",
       "      <td>50.0</td>\n",
       "      <td>2.0</td>\n",
       "      <td>3.0</td>\n",
       "      <td>17.0</td>\n",
       "      <td>31.0</td>\n",
       "      <td>Illinois</td>\n",
       "      <td>Cook County</td>\n",
       "      <td>5150233.0</td>\n",
       "      <td>5194675.0</td>\n",
       "      <td>17031</td>\n",
       "      <td>0.194166</td>\n",
       "      <td>0.0</td>\n",
       "    </tr>\n",
       "    <tr>\n",
       "      <th>4</th>\n",
       "      <td>2020-01-24</td>\n",
       "      <td>Snohomish</td>\n",
       "      <td>Washington</td>\n",
       "      <td>53061</td>\n",
       "      <td>1</td>\n",
       "      <td>0</td>\n",
       "      <td>0.0</td>\n",
       "      <td>50.0</td>\n",
       "      <td>4.0</td>\n",
       "      <td>9.0</td>\n",
       "      <td>53.0</td>\n",
       "      <td>61.0</td>\n",
       "      <td>Washington</td>\n",
       "      <td>Snohomish County</td>\n",
       "      <td>822083.0</td>\n",
       "      <td>713335.0</td>\n",
       "      <td>53061</td>\n",
       "      <td>1.216422</td>\n",
       "      <td>0.0</td>\n",
       "    </tr>\n",
       "  </tbody>\n",
       "</table>\n",
       "</div>"
      ],
      "text/plain": [
       "        date     county       state   fips  cases  deaths  log_deaths  SUMLEV  \\\n",
       "0 2020-01-21  Snohomish  Washington  53061      1       0         0.0    50.0   \n",
       "1 2020-01-22  Snohomish  Washington  53061      1       0         0.0    50.0   \n",
       "2 2020-01-23  Snohomish  Washington  53061      1       0         0.0    50.0   \n",
       "3 2020-01-24       Cook    Illinois  17031      1       0         0.0    50.0   \n",
       "4 2020-01-24  Snohomish  Washington  53061      1       0         0.0    50.0   \n",
       "\n",
       "   REGION  DIVISION  STATE  COUNTY      STNAME           CTYNAME  \\\n",
       "0     4.0       9.0   53.0    61.0  Washington  Snohomish County   \n",
       "1     4.0       9.0   53.0    61.0  Washington  Snohomish County   \n",
       "2     4.0       9.0   53.0    61.0  Washington  Snohomish County   \n",
       "3     2.0       3.0   17.0    31.0    Illinois       Cook County   \n",
       "4     4.0       9.0   53.0    61.0  Washington  Snohomish County   \n",
       "\n",
       "   POPESTIMATE2019  CENSUS2010POP   FIPS  casesPerMillion  deathsPerMillion  \n",
       "0         822083.0       713335.0  53061         1.216422               0.0  \n",
       "1         822083.0       713335.0  53061         1.216422               0.0  \n",
       "2         822083.0       713335.0  53061         1.216422               0.0  \n",
       "3        5150233.0      5194675.0  17031         0.194166               0.0  \n",
       "4         822083.0       713335.0  53061         1.216422               0.0  "
      ]
     },
     "execution_count": 24,
     "metadata": {},
     "output_type": "execute_result"
    }
   ],
   "source": [
    "DF.head()"
   ]
  },
  {
   "cell_type": "code",
   "execution_count": 27,
   "metadata": {},
   "outputs": [
    {
     "data": {
      "text/html": [
       "<div>\n",
       "<style scoped>\n",
       "    .dataframe tbody tr th:only-of-type {\n",
       "        vertical-align: middle;\n",
       "    }\n",
       "\n",
       "    .dataframe tbody tr th {\n",
       "        vertical-align: top;\n",
       "    }\n",
       "\n",
       "    .dataframe thead th {\n",
       "        text-align: right;\n",
       "    }\n",
       "</style>\n",
       "<table border=\"1\" class=\"dataframe\">\n",
       "  <thead>\n",
       "    <tr style=\"text-align: right;\">\n",
       "      <th></th>\n",
       "      <th>date</th>\n",
       "      <th>county</th>\n",
       "      <th>state</th>\n",
       "      <th>fips</th>\n",
       "      <th>cases</th>\n",
       "      <th>deaths</th>\n",
       "      <th>log_deaths</th>\n",
       "      <th>SUMLEV</th>\n",
       "      <th>REGION</th>\n",
       "      <th>DIVISION</th>\n",
       "      <th>STATE</th>\n",
       "      <th>COUNTY</th>\n",
       "      <th>STNAME</th>\n",
       "      <th>CTYNAME</th>\n",
       "      <th>POPESTIMATE2019</th>\n",
       "      <th>CENSUS2010POP</th>\n",
       "      <th>FIPS</th>\n",
       "      <th>casesPerMillion</th>\n",
       "      <th>deathsPerMillion</th>\n",
       "    </tr>\n",
       "  </thead>\n",
       "  <tbody>\n",
       "    <tr>\n",
       "      <th>476261</th>\n",
       "      <td>2020-08-28</td>\n",
       "      <td>Autauga</td>\n",
       "      <td>Alabama</td>\n",
       "      <td>01001</td>\n",
       "      <td>1389</td>\n",
       "      <td>23</td>\n",
       "      <td>3.178054</td>\n",
       "      <td>50.0</td>\n",
       "      <td>3.0</td>\n",
       "      <td>6.0</td>\n",
       "      <td>1.0</td>\n",
       "      <td>1.0</td>\n",
       "      <td>Alabama</td>\n",
       "      <td>Autauga County</td>\n",
       "      <td>55869.0</td>\n",
       "      <td>54571.0</td>\n",
       "      <td>01001</td>\n",
       "      <td>24861.730119</td>\n",
       "      <td>411.677317</td>\n",
       "    </tr>\n",
       "  </tbody>\n",
       "</table>\n",
       "</div>"
      ],
      "text/plain": [
       "             date   county    state   fips  cases  deaths  log_deaths  SUMLEV  \\\n",
       "476261 2020-08-28  Autauga  Alabama  01001   1389      23    3.178054    50.0   \n",
       "\n",
       "        REGION  DIVISION  STATE  COUNTY   STNAME         CTYNAME  \\\n",
       "476261     3.0       6.0    1.0     1.0  Alabama  Autauga County   \n",
       "\n",
       "        POPESTIMATE2019  CENSUS2010POP   FIPS  casesPerMillion  \\\n",
       "476261          55869.0        54571.0  01001     24861.730119   \n",
       "\n",
       "        deathsPerMillion  \n",
       "476261        411.677317  "
      ]
     },
     "execution_count": 27,
     "metadata": {},
     "output_type": "execute_result"
    }
   ],
   "source": [
    "fips_mask = (DF['fips'] == '01001')\n",
    "date_mask = DF['date'] == '2020-08-28'\n",
    "\n",
    "DF[fips_mask & date_mask]"
   ]
  },
  {
   "cell_type": "code",
   "execution_count": 125,
   "metadata": {},
   "outputs": [
    {
     "name": "stdout",
     "output_type": "stream",
     "text": [
      "CPU times: user 6.93 ms, sys: 6.58 ms, total: 13.5 ms\n",
      "Wall time: 12.2 ms\n"
     ]
    }
   ],
   "source": [
    "%%time\n",
    "COVID_COUNTIES_DF['case_diff2'] = COVID_COUNTIES_DF['cases'].diff()"
   ]
  },
  {
   "cell_type": "code",
   "execution_count": 118,
   "metadata": {},
   "outputs": [
    {
     "name": "stdout",
     "output_type": "stream",
     "text": [
      "CPU times: user 538 ms, sys: 135 ms, total: 672 ms\n",
      "Wall time: 758 ms\n"
     ]
    }
   ],
   "source": [
    "%%time\n",
    "COVID_COUNTIES_DF['case_diff'] = COVID_COUNTIES_DF.sort_values(\n",
    "    by=['fips','state','county','date'])['cases'].diff()"
   ]
  },
  {
   "cell_type": "code",
   "execution_count": 121,
   "metadata": {},
   "outputs": [
    {
     "name": "stdout",
     "output_type": "stream",
     "text": [
      "CPU times: user 1.96 s, sys: 257 ms, total: 2.22 s\n",
      "Wall time: 3.72 s\n"
     ]
    }
   ],
   "source": [
    "%%time\n",
    "COVID_COUNTIES_DF['cases_diff_group'] = COVID_COUNTIES_DF.groupby(\n",
    "    by = ['fips','county','state'])['cases'].diff()"
   ]
  },
  {
   "cell_type": "code",
   "execution_count": 146,
   "metadata": {},
   "outputs": [
    {
     "name": "stdout",
     "output_type": "stream",
     "text": [
      "CPU times: user 4.57 s, sys: 196 ms, total: 4.77 s\n",
      "Wall time: 5.58 s\n"
     ]
    }
   ],
   "source": [
    "%%time\n",
    "cases_14MA = COVID_COUNTIES_DF.groupby(\n",
    "    by = ['fips','county','state'],as_index=False)['cases'].rolling(14).mean()\n",
    "\n",
    "COVID_COUNTIES_DF[\"cases_14MA\"] = cases_14MA.reset_index(level=0, drop=True)"
   ]
  },
  {
   "cell_type": "code",
   "execution_count": 134,
   "metadata": {},
   "outputs": [
    {
     "data": {
      "text/plain": [
       "pandas.core.series.Series"
      ]
     },
     "execution_count": 134,
     "metadata": {},
     "output_type": "execute_result"
    }
   ],
   "source": [
    "type(a)"
   ]
  },
  {
   "cell_type": "code",
   "execution_count": 128,
   "metadata": {},
   "outputs": [
    {
     "name": "stdout",
     "output_type": "stream",
     "text": [
      "472709\n",
      "3257\n"
     ]
    }
   ],
   "source": [
    "print((COVID_COUNTIES_DF['case_diff'] != COVID_COUNTIES_DF['case_diff2']).sum())\n",
    "print((COVID_COUNTIES_DF['case_diff'] != COVID_COUNTIES_DF['cases_diff_group']).sum())"
   ]
  },
  {
   "cell_type": "code",
   "execution_count": 117,
   "metadata": {},
   "outputs": [
    {
     "data": {
      "text/html": [
       "<div>\n",
       "<style scoped>\n",
       "    .dataframe tbody tr th:only-of-type {\n",
       "        vertical-align: middle;\n",
       "    }\n",
       "\n",
       "    .dataframe tbody tr th {\n",
       "        vertical-align: top;\n",
       "    }\n",
       "\n",
       "    .dataframe thead th {\n",
       "        text-align: right;\n",
       "    }\n",
       "</style>\n",
       "<table border=\"1\" class=\"dataframe\">\n",
       "  <thead>\n",
       "    <tr style=\"text-align: right;\">\n",
       "      <th></th>\n",
       "      <th>date</th>\n",
       "      <th>county</th>\n",
       "      <th>state</th>\n",
       "      <th>fips</th>\n",
       "      <th>cases</th>\n",
       "      <th>deaths</th>\n",
       "      <th>log_deaths</th>\n",
       "      <th>log_cases</th>\n",
       "      <th>SUMLEV</th>\n",
       "      <th>REGION</th>\n",
       "      <th>...</th>\n",
       "      <th>CENSUS2010POP</th>\n",
       "      <th>FIPS</th>\n",
       "      <th>casesPerMillion</th>\n",
       "      <th>log_casesPerMillion</th>\n",
       "      <th>deathsPerMillion</th>\n",
       "      <th>log_deathsPerMillion</th>\n",
       "      <th>case_diff</th>\n",
       "      <th>case_pm_diff</th>\n",
       "      <th>death_diff</th>\n",
       "      <th>cases_diff_group</th>\n",
       "    </tr>\n",
       "  </thead>\n",
       "  <tbody>\n",
       "    <tr>\n",
       "      <th>0</th>\n",
       "      <td>2020-01-21</td>\n",
       "      <td>Snohomish</td>\n",
       "      <td>Washington</td>\n",
       "      <td>53061</td>\n",
       "      <td>1</td>\n",
       "      <td>0</td>\n",
       "      <td>0.0</td>\n",
       "      <td>0.693147</td>\n",
       "      <td>50.0</td>\n",
       "      <td>4.0</td>\n",
       "      <td>...</td>\n",
       "      <td>713335.0</td>\n",
       "      <td>53061</td>\n",
       "      <td>1.216422</td>\n",
       "      <td>0.795894</td>\n",
       "      <td>0.0</td>\n",
       "      <td>0.0</td>\n",
       "      <td>-57.0</td>\n",
       "      <td>-4798.915995</td>\n",
       "      <td>-57.0</td>\n",
       "      <td>NaN</td>\n",
       "    </tr>\n",
       "    <tr>\n",
       "      <th>3</th>\n",
       "      <td>2020-01-24</td>\n",
       "      <td>Cook</td>\n",
       "      <td>Illinois</td>\n",
       "      <td>17031</td>\n",
       "      <td>1</td>\n",
       "      <td>0</td>\n",
       "      <td>0.0</td>\n",
       "      <td>0.693147</td>\n",
       "      <td>50.0</td>\n",
       "      <td>2.0</td>\n",
       "      <td>...</td>\n",
       "      <td>5194675.0</td>\n",
       "      <td>17031</td>\n",
       "      <td>0.194166</td>\n",
       "      <td>0.177448</td>\n",
       "      <td>0.0</td>\n",
       "      <td>0.0</td>\n",
       "      <td>-936.0</td>\n",
       "      <td>-18509.910336</td>\n",
       "      <td>-936.0</td>\n",
       "      <td>NaN</td>\n",
       "    </tr>\n",
       "    <tr>\n",
       "      <th>5</th>\n",
       "      <td>2020-01-25</td>\n",
       "      <td>Orange</td>\n",
       "      <td>California</td>\n",
       "      <td>06059</td>\n",
       "      <td>1</td>\n",
       "      <td>0</td>\n",
       "      <td>0.0</td>\n",
       "      <td>0.693147</td>\n",
       "      <td>50.0</td>\n",
       "      <td>4.0</td>\n",
       "      <td>...</td>\n",
       "      <td>3010232.0</td>\n",
       "      <td>06059</td>\n",
       "      <td>0.314892</td>\n",
       "      <td>0.273755</td>\n",
       "      <td>0.0</td>\n",
       "      <td>0.0</td>\n",
       "      <td>-437.0</td>\n",
       "      <td>-4390.442464</td>\n",
       "      <td>-437.0</td>\n",
       "      <td>NaN</td>\n",
       "    </tr>\n",
       "    <tr>\n",
       "      <th>8</th>\n",
       "      <td>2020-01-26</td>\n",
       "      <td>Maricopa</td>\n",
       "      <td>Arizona</td>\n",
       "      <td>04013</td>\n",
       "      <td>1</td>\n",
       "      <td>0</td>\n",
       "      <td>0.0</td>\n",
       "      <td>0.693147</td>\n",
       "      <td>50.0</td>\n",
       "      <td>4.0</td>\n",
       "      <td>...</td>\n",
       "      <td>3817117.0</td>\n",
       "      <td>04013</td>\n",
       "      <td>0.222945</td>\n",
       "      <td>0.201262</td>\n",
       "      <td>0.0</td>\n",
       "      <td>0.0</td>\n",
       "      <td>-497.0</td>\n",
       "      <td>-23592.727595</td>\n",
       "      <td>-497.0</td>\n",
       "      <td>NaN</td>\n",
       "    </tr>\n",
       "    <tr>\n",
       "      <th>9</th>\n",
       "      <td>2020-01-26</td>\n",
       "      <td>Los Angeles</td>\n",
       "      <td>California</td>\n",
       "      <td>06037</td>\n",
       "      <td>1</td>\n",
       "      <td>0</td>\n",
       "      <td>0.0</td>\n",
       "      <td>0.693147</td>\n",
       "      <td>50.0</td>\n",
       "      <td>4.0</td>\n",
       "      <td>...</td>\n",
       "      <td>9818605.0</td>\n",
       "      <td>06037</td>\n",
       "      <td>0.099610</td>\n",
       "      <td>0.094956</td>\n",
       "      <td>0.0</td>\n",
       "      <td>0.0</td>\n",
       "      <td>-714.0</td>\n",
       "      <td>-23386.548739</td>\n",
       "      <td>-714.0</td>\n",
       "      <td>NaN</td>\n",
       "    </tr>\n",
       "    <tr>\n",
       "      <th>...</th>\n",
       "      <td>...</td>\n",
       "      <td>...</td>\n",
       "      <td>...</td>\n",
       "      <td>...</td>\n",
       "      <td>...</td>\n",
       "      <td>...</td>\n",
       "      <td>...</td>\n",
       "      <td>...</td>\n",
       "      <td>...</td>\n",
       "      <td>...</td>\n",
       "      <td>...</td>\n",
       "      <td>...</td>\n",
       "      <td>...</td>\n",
       "      <td>...</td>\n",
       "      <td>...</td>\n",
       "      <td>...</td>\n",
       "      <td>...</td>\n",
       "      <td>...</td>\n",
       "      <td>...</td>\n",
       "      <td>...</td>\n",
       "      <td>...</td>\n",
       "    </tr>\n",
       "    <tr>\n",
       "      <th>445681</th>\n",
       "      <td>2020-08-18</td>\n",
       "      <td>Keya Paha</td>\n",
       "      <td>Nebraska</td>\n",
       "      <td>31103</td>\n",
       "      <td>4</td>\n",
       "      <td>0</td>\n",
       "      <td>0.0</td>\n",
       "      <td>1.609438</td>\n",
       "      <td>50.0</td>\n",
       "      <td>2.0</td>\n",
       "      <td>...</td>\n",
       "      <td>824.0</td>\n",
       "      <td>31103</td>\n",
       "      <td>4962.779156</td>\n",
       "      <td>8.509923</td>\n",
       "      <td>0.0</td>\n",
       "      <td>0.0</td>\n",
       "      <td>-42.0</td>\n",
       "      <td>-762.886764</td>\n",
       "      <td>-42.0</td>\n",
       "      <td>NaN</td>\n",
       "    </tr>\n",
       "    <tr>\n",
       "      <th>448911</th>\n",
       "      <td>2020-08-19</td>\n",
       "      <td>Logan</td>\n",
       "      <td>Nebraska</td>\n",
       "      <td>31113</td>\n",
       "      <td>1</td>\n",
       "      <td>0</td>\n",
       "      <td>0.0</td>\n",
       "      <td>0.693147</td>\n",
       "      <td>50.0</td>\n",
       "      <td>2.0</td>\n",
       "      <td>...</td>\n",
       "      <td>763.0</td>\n",
       "      <td>31113</td>\n",
       "      <td>1336.898396</td>\n",
       "      <td>7.198855</td>\n",
       "      <td>0.0</td>\n",
       "      <td>0.0</td>\n",
       "      <td>-268.0</td>\n",
       "      <td>-6367.747305</td>\n",
       "      <td>-268.0</td>\n",
       "      <td>NaN</td>\n",
       "    </tr>\n",
       "    <tr>\n",
       "      <th>464306</th>\n",
       "      <td>2020-08-24</td>\n",
       "      <td>Rawlins</td>\n",
       "      <td>Kansas</td>\n",
       "      <td>20153</td>\n",
       "      <td>1</td>\n",
       "      <td>0</td>\n",
       "      <td>0.0</td>\n",
       "      <td>0.693147</td>\n",
       "      <td>50.0</td>\n",
       "      <td>2.0</td>\n",
       "      <td>...</td>\n",
       "      <td>2519.0</td>\n",
       "      <td>20153</td>\n",
       "      <td>395.256917</td>\n",
       "      <td>5.982063</td>\n",
       "      <td>0.0</td>\n",
       "      <td>0.0</td>\n",
       "      <td>-43.0</td>\n",
       "      <td>-4406.139853</td>\n",
       "      <td>-43.0</td>\n",
       "      <td>NaN</td>\n",
       "    </tr>\n",
       "    <tr>\n",
       "      <th>464329</th>\n",
       "      <td>2020-08-24</td>\n",
       "      <td>Wallace</td>\n",
       "      <td>Kansas</td>\n",
       "      <td>20199</td>\n",
       "      <td>1</td>\n",
       "      <td>0</td>\n",
       "      <td>0.0</td>\n",
       "      <td>0.693147</td>\n",
       "      <td>50.0</td>\n",
       "      <td>2.0</td>\n",
       "      <td>...</td>\n",
       "      <td>1485.0</td>\n",
       "      <td>20199</td>\n",
       "      <td>658.761528</td>\n",
       "      <td>6.491878</td>\n",
       "      <td>0.0</td>\n",
       "      <td>0.0</td>\n",
       "      <td>-53.0</td>\n",
       "      <td>-7132.322009</td>\n",
       "      <td>-53.0</td>\n",
       "      <td>NaN</td>\n",
       "    </tr>\n",
       "    <tr>\n",
       "      <th>474746</th>\n",
       "      <td>2020-08-27</td>\n",
       "      <td>Loup</td>\n",
       "      <td>Nebraska</td>\n",
       "      <td>31115</td>\n",
       "      <td>1</td>\n",
       "      <td>0</td>\n",
       "      <td>0.0</td>\n",
       "      <td>0.693147</td>\n",
       "      <td>50.0</td>\n",
       "      <td>2.0</td>\n",
       "      <td>...</td>\n",
       "      <td>632.0</td>\n",
       "      <td>31115</td>\n",
       "      <td>1506.024096</td>\n",
       "      <td>7.317892</td>\n",
       "      <td>0.0</td>\n",
       "      <td>0.0</td>\n",
       "      <td>-2.0</td>\n",
       "      <td>-2504.671091</td>\n",
       "      <td>-2.0</td>\n",
       "      <td>NaN</td>\n",
       "    </tr>\n",
       "  </tbody>\n",
       "</table>\n",
       "<p>3257 rows × 26 columns</p>\n",
       "</div>"
      ],
      "text/plain": [
       "             date       county       state   fips  cases  deaths  log_deaths  \\\n",
       "0      2020-01-21    Snohomish  Washington  53061      1       0         0.0   \n",
       "3      2020-01-24         Cook    Illinois  17031      1       0         0.0   \n",
       "5      2020-01-25       Orange  California  06059      1       0         0.0   \n",
       "8      2020-01-26     Maricopa     Arizona  04013      1       0         0.0   \n",
       "9      2020-01-26  Los Angeles  California  06037      1       0         0.0   \n",
       "...           ...          ...         ...    ...    ...     ...         ...   \n",
       "445681 2020-08-18    Keya Paha    Nebraska  31103      4       0         0.0   \n",
       "448911 2020-08-19        Logan    Nebraska  31113      1       0         0.0   \n",
       "464306 2020-08-24      Rawlins      Kansas  20153      1       0         0.0   \n",
       "464329 2020-08-24      Wallace      Kansas  20199      1       0         0.0   \n",
       "474746 2020-08-27         Loup    Nebraska  31115      1       0         0.0   \n",
       "\n",
       "        log_cases  SUMLEV  REGION  ...  CENSUS2010POP   FIPS  casesPerMillion  \\\n",
       "0        0.693147    50.0     4.0  ...       713335.0  53061         1.216422   \n",
       "3        0.693147    50.0     2.0  ...      5194675.0  17031         0.194166   \n",
       "5        0.693147    50.0     4.0  ...      3010232.0  06059         0.314892   \n",
       "8        0.693147    50.0     4.0  ...      3817117.0  04013         0.222945   \n",
       "9        0.693147    50.0     4.0  ...      9818605.0  06037         0.099610   \n",
       "...           ...     ...     ...  ...            ...    ...              ...   \n",
       "445681   1.609438    50.0     2.0  ...          824.0  31103      4962.779156   \n",
       "448911   0.693147    50.0     2.0  ...          763.0  31113      1336.898396   \n",
       "464306   0.693147    50.0     2.0  ...         2519.0  20153       395.256917   \n",
       "464329   0.693147    50.0     2.0  ...         1485.0  20199       658.761528   \n",
       "474746   0.693147    50.0     2.0  ...          632.0  31115      1506.024096   \n",
       "\n",
       "       log_casesPerMillion deathsPerMillion  log_deathsPerMillion  case_diff  \\\n",
       "0                 0.795894              0.0                   0.0      -57.0   \n",
       "3                 0.177448              0.0                   0.0     -936.0   \n",
       "5                 0.273755              0.0                   0.0     -437.0   \n",
       "8                 0.201262              0.0                   0.0     -497.0   \n",
       "9                 0.094956              0.0                   0.0     -714.0   \n",
       "...                    ...              ...                   ...        ...   \n",
       "445681            8.509923              0.0                   0.0      -42.0   \n",
       "448911            7.198855              0.0                   0.0     -268.0   \n",
       "464306            5.982063              0.0                   0.0      -43.0   \n",
       "464329            6.491878              0.0                   0.0      -53.0   \n",
       "474746            7.317892              0.0                   0.0       -2.0   \n",
       "\n",
       "        case_pm_diff  death_diff  cases_diff_group  \n",
       "0       -4798.915995       -57.0               NaN  \n",
       "3      -18509.910336      -936.0               NaN  \n",
       "5       -4390.442464      -437.0               NaN  \n",
       "8      -23592.727595      -497.0               NaN  \n",
       "9      -23386.548739      -714.0               NaN  \n",
       "...              ...         ...               ...  \n",
       "445681   -762.886764       -42.0               NaN  \n",
       "448911  -6367.747305      -268.0               NaN  \n",
       "464306  -4406.139853       -43.0               NaN  \n",
       "464329  -7132.322009       -53.0               NaN  \n",
       "474746  -2504.671091        -2.0               NaN  \n",
       "\n",
       "[3257 rows x 26 columns]"
      ]
     },
     "execution_count": 117,
     "metadata": {},
     "output_type": "execute_result"
    }
   ],
   "source": [
    "disc_mask = (COVID_COUNTIES_DF['cases_diff_group'] != COVID_COUNTIES_DF['case_diff'])\n",
    "COVID_COUNTIES_DF[disc_mask]"
   ]
  },
  {
   "cell_type": "code",
   "execution_count": 115,
   "metadata": {},
   "outputs": [
    {
     "data": {
      "text/html": [
       "<div>\n",
       "<style scoped>\n",
       "    .dataframe tbody tr th:only-of-type {\n",
       "        vertical-align: middle;\n",
       "    }\n",
       "\n",
       "    .dataframe tbody tr th {\n",
       "        vertical-align: top;\n",
       "    }\n",
       "\n",
       "    .dataframe thead th {\n",
       "        text-align: right;\n",
       "    }\n",
       "</style>\n",
       "<table border=\"1\" class=\"dataframe\">\n",
       "  <thead>\n",
       "    <tr style=\"text-align: right;\">\n",
       "      <th></th>\n",
       "      <th>date</th>\n",
       "      <th>county</th>\n",
       "      <th>state</th>\n",
       "      <th>fips</th>\n",
       "      <th>cases</th>\n",
       "      <th>case_diff</th>\n",
       "      <th>cases_diff_group</th>\n",
       "    </tr>\n",
       "  </thead>\n",
       "  <tbody>\n",
       "    <tr>\n",
       "      <th>0</th>\n",
       "      <td>2020-01-21</td>\n",
       "      <td>Snohomish</td>\n",
       "      <td>Washington</td>\n",
       "      <td>53061</td>\n",
       "      <td>1</td>\n",
       "      <td>-57.0</td>\n",
       "      <td>NaN</td>\n",
       "    </tr>\n",
       "    <tr>\n",
       "      <th>1</th>\n",
       "      <td>2020-01-22</td>\n",
       "      <td>Snohomish</td>\n",
       "      <td>Washington</td>\n",
       "      <td>53061</td>\n",
       "      <td>1</td>\n",
       "      <td>0.0</td>\n",
       "      <td>0.0</td>\n",
       "    </tr>\n",
       "    <tr>\n",
       "      <th>2</th>\n",
       "      <td>2020-01-23</td>\n",
       "      <td>Snohomish</td>\n",
       "      <td>Washington</td>\n",
       "      <td>53061</td>\n",
       "      <td>1</td>\n",
       "      <td>0.0</td>\n",
       "      <td>0.0</td>\n",
       "    </tr>\n",
       "    <tr>\n",
       "      <th>3</th>\n",
       "      <td>2020-01-24</td>\n",
       "      <td>Cook</td>\n",
       "      <td>Illinois</td>\n",
       "      <td>17031</td>\n",
       "      <td>1</td>\n",
       "      <td>-936.0</td>\n",
       "      <td>NaN</td>\n",
       "    </tr>\n",
       "    <tr>\n",
       "      <th>4</th>\n",
       "      <td>2020-01-24</td>\n",
       "      <td>Snohomish</td>\n",
       "      <td>Washington</td>\n",
       "      <td>53061</td>\n",
       "      <td>1</td>\n",
       "      <td>0.0</td>\n",
       "      <td>0.0</td>\n",
       "    </tr>\n",
       "    <tr>\n",
       "      <th>...</th>\n",
       "      <td>...</td>\n",
       "      <td>...</td>\n",
       "      <td>...</td>\n",
       "      <td>...</td>\n",
       "      <td>...</td>\n",
       "      <td>...</td>\n",
       "      <td>...</td>\n",
       "    </tr>\n",
       "    <tr>\n",
       "      <th>482722</th>\n",
       "      <td>2020-08-29</td>\n",
       "      <td>Sweetwater</td>\n",
       "      <td>Wyoming</td>\n",
       "      <td>56037</td>\n",
       "      <td>296</td>\n",
       "      <td>0.0</td>\n",
       "      <td>0.0</td>\n",
       "    </tr>\n",
       "    <tr>\n",
       "      <th>482723</th>\n",
       "      <td>2020-08-29</td>\n",
       "      <td>Teton</td>\n",
       "      <td>Wyoming</td>\n",
       "      <td>56039</td>\n",
       "      <td>425</td>\n",
       "      <td>1.0</td>\n",
       "      <td>1.0</td>\n",
       "    </tr>\n",
       "    <tr>\n",
       "      <th>482724</th>\n",
       "      <td>2020-08-29</td>\n",
       "      <td>Uinta</td>\n",
       "      <td>Wyoming</td>\n",
       "      <td>56041</td>\n",
       "      <td>292</td>\n",
       "      <td>0.0</td>\n",
       "      <td>0.0</td>\n",
       "    </tr>\n",
       "    <tr>\n",
       "      <th>482725</th>\n",
       "      <td>2020-08-29</td>\n",
       "      <td>Washakie</td>\n",
       "      <td>Wyoming</td>\n",
       "      <td>56043</td>\n",
       "      <td>107</td>\n",
       "      <td>0.0</td>\n",
       "      <td>0.0</td>\n",
       "    </tr>\n",
       "    <tr>\n",
       "      <th>482726</th>\n",
       "      <td>2020-08-29</td>\n",
       "      <td>Weston</td>\n",
       "      <td>Wyoming</td>\n",
       "      <td>56045</td>\n",
       "      <td>18</td>\n",
       "      <td>0.0</td>\n",
       "      <td>0.0</td>\n",
       "    </tr>\n",
       "  </tbody>\n",
       "</table>\n",
       "<p>482727 rows × 7 columns</p>\n",
       "</div>"
      ],
      "text/plain": [
       "             date      county       state   fips  cases  case_diff  \\\n",
       "0      2020-01-21   Snohomish  Washington  53061      1      -57.0   \n",
       "1      2020-01-22   Snohomish  Washington  53061      1        0.0   \n",
       "2      2020-01-23   Snohomish  Washington  53061      1        0.0   \n",
       "3      2020-01-24        Cook    Illinois  17031      1     -936.0   \n",
       "4      2020-01-24   Snohomish  Washington  53061      1        0.0   \n",
       "...           ...         ...         ...    ...    ...        ...   \n",
       "482722 2020-08-29  Sweetwater     Wyoming  56037    296        0.0   \n",
       "482723 2020-08-29       Teton     Wyoming  56039    425        1.0   \n",
       "482724 2020-08-29       Uinta     Wyoming  56041    292        0.0   \n",
       "482725 2020-08-29    Washakie     Wyoming  56043    107        0.0   \n",
       "482726 2020-08-29      Weston     Wyoming  56045     18        0.0   \n",
       "\n",
       "        cases_diff_group  \n",
       "0                    NaN  \n",
       "1                    0.0  \n",
       "2                    0.0  \n",
       "3                    NaN  \n",
       "4                    0.0  \n",
       "...                  ...  \n",
       "482722               0.0  \n",
       "482723               1.0  \n",
       "482724               0.0  \n",
       "482725               0.0  \n",
       "482726               0.0  \n",
       "\n",
       "[482727 rows x 7 columns]"
      ]
     },
     "execution_count": 115,
     "metadata": {},
     "output_type": "execute_result"
    }
   ],
   "source": [
    "COVID_COUNTIES_DF[['date','county','state','fips','cases','case_diff','cases_diff_group']]"
   ]
  },
  {
   "cell_type": "code",
   "execution_count": null,
   "metadata": {},
   "outputs": [],
   "source": [
    "df.sort_values(by=['fips','state','county','date'])['cases']"
   ]
  },
  {
   "cell_type": "code",
   "execution_count": 104,
   "metadata": {},
   "outputs": [
    {
     "name": "stderr",
     "output_type": "stream",
     "text": [
      "/Users/DanOvadia/opt/anaconda3/lib/python3.7/site-packages/ipykernel_launcher.py:2: SettingWithCopyWarning:\n",
      "\n",
      "\n",
      "A value is trying to be set on a copy of a slice from a DataFrame.\n",
      "Try using .loc[row_indexer,col_indexer] = value instead\n",
      "\n",
      "See the caveats in the documentation: https://pandas.pydata.org/pandas-docs/stable/user_guide/indexing.html#returning-a-view-versus-a-copy\n",
      "\n"
     ]
    }
   ],
   "source": [
    "dfmask = (COVID_COUNTIES_DF['fips'] != COVID_COUNTIES_DF['fips'].shift(1))\n",
    "COVID_COUNTIES_DF[dfmask]['case_diff'] = np.nan"
   ]
  },
  {
   "cell_type": "code",
   "execution_count": 103,
   "metadata": {},
   "outputs": [
    {
     "data": {
      "text/html": [
       "<div>\n",
       "<style scoped>\n",
       "    .dataframe tbody tr th:only-of-type {\n",
       "        vertical-align: middle;\n",
       "    }\n",
       "\n",
       "    .dataframe tbody tr th {\n",
       "        vertical-align: top;\n",
       "    }\n",
       "\n",
       "    .dataframe thead th {\n",
       "        text-align: right;\n",
       "    }\n",
       "</style>\n",
       "<table border=\"1\" class=\"dataframe\">\n",
       "  <thead>\n",
       "    <tr style=\"text-align: right;\">\n",
       "      <th></th>\n",
       "      <th>date</th>\n",
       "      <th>county</th>\n",
       "      <th>state</th>\n",
       "      <th>cases</th>\n",
       "      <th>deaths</th>\n",
       "      <th>case_diff</th>\n",
       "    </tr>\n",
       "  </thead>\n",
       "  <tbody>\n",
       "    <tr>\n",
       "      <th>7570</th>\n",
       "      <td>2020-03-22</td>\n",
       "      <td>Cecil</td>\n",
       "      <td>Maryland</td>\n",
       "      <td>1</td>\n",
       "      <td>0</td>\n",
       "      <td>-1681.0</td>\n",
       "    </tr>\n",
       "    <tr>\n",
       "      <th>8740</th>\n",
       "      <td>2020-03-23</td>\n",
       "      <td>Cecil</td>\n",
       "      <td>Maryland</td>\n",
       "      <td>1</td>\n",
       "      <td>0</td>\n",
       "      <td>0.0</td>\n",
       "    </tr>\n",
       "    <tr>\n",
       "      <th>10029</th>\n",
       "      <td>2020-03-24</td>\n",
       "      <td>Cecil</td>\n",
       "      <td>Maryland</td>\n",
       "      <td>3</td>\n",
       "      <td>0</td>\n",
       "      <td>2.0</td>\n",
       "    </tr>\n",
       "    <tr>\n",
       "      <th>11439</th>\n",
       "      <td>2020-03-25</td>\n",
       "      <td>Cecil</td>\n",
       "      <td>Maryland</td>\n",
       "      <td>4</td>\n",
       "      <td>0</td>\n",
       "      <td>1.0</td>\n",
       "    </tr>\n",
       "    <tr>\n",
       "      <th>13020</th>\n",
       "      <td>2020-03-26</td>\n",
       "      <td>Cecil</td>\n",
       "      <td>Maryland</td>\n",
       "      <td>4</td>\n",
       "      <td>0</td>\n",
       "      <td>0.0</td>\n",
       "    </tr>\n",
       "    <tr>\n",
       "      <th>14728</th>\n",
       "      <td>2020-03-27</td>\n",
       "      <td>Cecil</td>\n",
       "      <td>Maryland</td>\n",
       "      <td>9</td>\n",
       "      <td>0</td>\n",
       "      <td>5.0</td>\n",
       "    </tr>\n",
       "    <tr>\n",
       "      <th>16548</th>\n",
       "      <td>2020-03-28</td>\n",
       "      <td>Cecil</td>\n",
       "      <td>Maryland</td>\n",
       "      <td>13</td>\n",
       "      <td>0</td>\n",
       "      <td>4.0</td>\n",
       "    </tr>\n",
       "    <tr>\n",
       "      <th>18463</th>\n",
       "      <td>2020-03-29</td>\n",
       "      <td>Cecil</td>\n",
       "      <td>Maryland</td>\n",
       "      <td>13</td>\n",
       "      <td>0</td>\n",
       "      <td>0.0</td>\n",
       "    </tr>\n",
       "    <tr>\n",
       "      <th>20479</th>\n",
       "      <td>2020-03-30</td>\n",
       "      <td>Cecil</td>\n",
       "      <td>Maryland</td>\n",
       "      <td>13</td>\n",
       "      <td>0</td>\n",
       "      <td>0.0</td>\n",
       "    </tr>\n",
       "    <tr>\n",
       "      <th>22588</th>\n",
       "      <td>2020-03-31</td>\n",
       "      <td>Cecil</td>\n",
       "      <td>Maryland</td>\n",
       "      <td>14</td>\n",
       "      <td>0</td>\n",
       "      <td>1.0</td>\n",
       "    </tr>\n",
       "    <tr>\n",
       "      <th>24765</th>\n",
       "      <td>2020-04-01</td>\n",
       "      <td>Cecil</td>\n",
       "      <td>Maryland</td>\n",
       "      <td>16</td>\n",
       "      <td>1</td>\n",
       "      <td>2.0</td>\n",
       "    </tr>\n",
       "    <tr>\n",
       "      <th>27017</th>\n",
       "      <td>2020-04-02</td>\n",
       "      <td>Cecil</td>\n",
       "      <td>Maryland</td>\n",
       "      <td>20</td>\n",
       "      <td>1</td>\n",
       "      <td>4.0</td>\n",
       "    </tr>\n",
       "    <tr>\n",
       "      <th>29336</th>\n",
       "      <td>2020-04-03</td>\n",
       "      <td>Cecil</td>\n",
       "      <td>Maryland</td>\n",
       "      <td>25</td>\n",
       "      <td>1</td>\n",
       "      <td>5.0</td>\n",
       "    </tr>\n",
       "    <tr>\n",
       "      <th>31714</th>\n",
       "      <td>2020-04-04</td>\n",
       "      <td>Cecil</td>\n",
       "      <td>Maryland</td>\n",
       "      <td>33</td>\n",
       "      <td>1</td>\n",
       "      <td>8.0</td>\n",
       "    </tr>\n",
       "    <tr>\n",
       "      <th>34139</th>\n",
       "      <td>2020-04-05</td>\n",
       "      <td>Cecil</td>\n",
       "      <td>Maryland</td>\n",
       "      <td>36</td>\n",
       "      <td>1</td>\n",
       "      <td>3.0</td>\n",
       "    </tr>\n",
       "    <tr>\n",
       "      <th>36598</th>\n",
       "      <td>2020-04-06</td>\n",
       "      <td>Cecil</td>\n",
       "      <td>Maryland</td>\n",
       "      <td>37</td>\n",
       "      <td>1</td>\n",
       "      <td>1.0</td>\n",
       "    </tr>\n",
       "    <tr>\n",
       "      <th>39106</th>\n",
       "      <td>2020-04-07</td>\n",
       "      <td>Cecil</td>\n",
       "      <td>Maryland</td>\n",
       "      <td>41</td>\n",
       "      <td>1</td>\n",
       "      <td>4.0</td>\n",
       "    </tr>\n",
       "    <tr>\n",
       "      <th>41658</th>\n",
       "      <td>2020-04-08</td>\n",
       "      <td>Cecil</td>\n",
       "      <td>Maryland</td>\n",
       "      <td>49</td>\n",
       "      <td>1</td>\n",
       "      <td>8.0</td>\n",
       "    </tr>\n",
       "    <tr>\n",
       "      <th>44234</th>\n",
       "      <td>2020-04-09</td>\n",
       "      <td>Cecil</td>\n",
       "      <td>Maryland</td>\n",
       "      <td>54</td>\n",
       "      <td>1</td>\n",
       "      <td>5.0</td>\n",
       "    </tr>\n",
       "    <tr>\n",
       "      <th>46842</th>\n",
       "      <td>2020-04-10</td>\n",
       "      <td>Cecil</td>\n",
       "      <td>Maryland</td>\n",
       "      <td>64</td>\n",
       "      <td>1</td>\n",
       "      <td>10.0</td>\n",
       "    </tr>\n",
       "  </tbody>\n",
       "</table>\n",
       "</div>"
      ],
      "text/plain": [
       "            date county     state  cases  deaths  case_diff\n",
       "7570  2020-03-22  Cecil  Maryland      1       0    -1681.0\n",
       "8740  2020-03-23  Cecil  Maryland      1       0        0.0\n",
       "10029 2020-03-24  Cecil  Maryland      3       0        2.0\n",
       "11439 2020-03-25  Cecil  Maryland      4       0        1.0\n",
       "13020 2020-03-26  Cecil  Maryland      4       0        0.0\n",
       "14728 2020-03-27  Cecil  Maryland      9       0        5.0\n",
       "16548 2020-03-28  Cecil  Maryland     13       0        4.0\n",
       "18463 2020-03-29  Cecil  Maryland     13       0        0.0\n",
       "20479 2020-03-30  Cecil  Maryland     13       0        0.0\n",
       "22588 2020-03-31  Cecil  Maryland     14       0        1.0\n",
       "24765 2020-04-01  Cecil  Maryland     16       1        2.0\n",
       "27017 2020-04-02  Cecil  Maryland     20       1        4.0\n",
       "29336 2020-04-03  Cecil  Maryland     25       1        5.0\n",
       "31714 2020-04-04  Cecil  Maryland     33       1        8.0\n",
       "34139 2020-04-05  Cecil  Maryland     36       1        3.0\n",
       "36598 2020-04-06  Cecil  Maryland     37       1        1.0\n",
       "39106 2020-04-07  Cecil  Maryland     41       1        4.0\n",
       "41658 2020-04-08  Cecil  Maryland     49       1        8.0\n",
       "44234 2020-04-09  Cecil  Maryland     54       1        5.0\n",
       "46842 2020-04-10  Cecil  Maryland     64       1       10.0"
      ]
     },
     "execution_count": 103,
     "metadata": {},
     "output_type": "execute_result"
    }
   ],
   "source": [
    "def get_county_data_by_dates(df, fips, start_date, end_date):\n",
    "    fips_mask = (df['fips'] == fips)\n",
    "    date_mask = (df['date'] >= start_date) & (df['date'] <= end_date)\n",
    "    return df[fips_mask & date_mask]\n",
    "\n",
    "get_county_data_by_dates(COVID_COUNTIES_DF,'24015','2020-02-01','2020-04-10')[['date','county','state','cases','deaths','case_diff']]"
   ]
  },
  {
   "cell_type": "code",
   "execution_count": 54,
   "metadata": {},
   "outputs": [
    {
     "data": {
      "text/html": [
       "<div>\n",
       "<style scoped>\n",
       "    .dataframe tbody tr th:only-of-type {\n",
       "        vertical-align: middle;\n",
       "    }\n",
       "\n",
       "    .dataframe tbody tr th {\n",
       "        vertical-align: top;\n",
       "    }\n",
       "\n",
       "    .dataframe thead th {\n",
       "        text-align: right;\n",
       "    }\n",
       "</style>\n",
       "<table border=\"1\" class=\"dataframe\">\n",
       "  <thead>\n",
       "    <tr style=\"text-align: right;\">\n",
       "      <th></th>\n",
       "      <th>date</th>\n",
       "      <th>county</th>\n",
       "      <th>state</th>\n",
       "      <th>fips</th>\n",
       "      <th>cases</th>\n",
       "      <th>deaths</th>\n",
       "      <th>log_deaths</th>\n",
       "      <th>SUMLEV</th>\n",
       "      <th>REGION</th>\n",
       "      <th>DIVISION</th>\n",
       "      <th>...</th>\n",
       "      <th>COUNTY</th>\n",
       "      <th>STNAME</th>\n",
       "      <th>CTYNAME</th>\n",
       "      <th>POPESTIMATE2019</th>\n",
       "      <th>CENSUS2010POP</th>\n",
       "      <th>FIPS</th>\n",
       "      <th>casesPerMillion</th>\n",
       "      <th>deathsPerMillion</th>\n",
       "      <th>case_diff</th>\n",
       "      <th>test</th>\n",
       "    </tr>\n",
       "  </thead>\n",
       "  <tbody>\n",
       "    <tr>\n",
       "      <th>67364</th>\n",
       "      <td>2020-04-18</td>\n",
       "      <td>Autauga</td>\n",
       "      <td>Alabama</td>\n",
       "      <td>01001</td>\n",
       "      <td>25</td>\n",
       "      <td>2</td>\n",
       "      <td>1.098612</td>\n",
       "      <td>50.0</td>\n",
       "      <td>3.0</td>\n",
       "      <td>6.0</td>\n",
       "      <td>...</td>\n",
       "      <td>1.0</td>\n",
       "      <td>Alabama</td>\n",
       "      <td>Autauga County</td>\n",
       "      <td>55869.0</td>\n",
       "      <td>54571.0</td>\n",
       "      <td>01001</td>\n",
       "      <td>447.475344</td>\n",
       "      <td>35.798028</td>\n",
       "      <td>-1.0</td>\n",
       "      <td>-1.0</td>\n",
       "    </tr>\n",
       "    <tr>\n",
       "      <th>101015</th>\n",
       "      <td>2020-04-30</td>\n",
       "      <td>Autauga</td>\n",
       "      <td>Alabama</td>\n",
       "      <td>01001</td>\n",
       "      <td>42</td>\n",
       "      <td>4</td>\n",
       "      <td>1.609438</td>\n",
       "      <td>50.0</td>\n",
       "      <td>3.0</td>\n",
       "      <td>6.0</td>\n",
       "      <td>...</td>\n",
       "      <td>1.0</td>\n",
       "      <td>Alabama</td>\n",
       "      <td>Autauga County</td>\n",
       "      <td>55869.0</td>\n",
       "      <td>54571.0</td>\n",
       "      <td>01001</td>\n",
       "      <td>751.758578</td>\n",
       "      <td>71.596055</td>\n",
       "      <td>-1.0</td>\n",
       "      <td>-1.0</td>\n",
       "    </tr>\n",
       "    <tr>\n",
       "      <th>145208</th>\n",
       "      <td>2020-05-15</td>\n",
       "      <td>Autauga</td>\n",
       "      <td>Alabama</td>\n",
       "      <td>01001</td>\n",
       "      <td>103</td>\n",
       "      <td>4</td>\n",
       "      <td>1.609438</td>\n",
       "      <td>50.0</td>\n",
       "      <td>3.0</td>\n",
       "      <td>6.0</td>\n",
       "      <td>...</td>\n",
       "      <td>1.0</td>\n",
       "      <td>Alabama</td>\n",
       "      <td>Autauga County</td>\n",
       "      <td>55869.0</td>\n",
       "      <td>54571.0</td>\n",
       "      <td>01001</td>\n",
       "      <td>1843.598418</td>\n",
       "      <td>71.596055</td>\n",
       "      <td>-1.0</td>\n",
       "      <td>-1.0</td>\n",
       "    </tr>\n",
       "    <tr>\n",
       "      <th>421395</th>\n",
       "      <td>2020-08-11</td>\n",
       "      <td>Autauga</td>\n",
       "      <td>Alabama</td>\n",
       "      <td>01001</td>\n",
       "      <td>1215</td>\n",
       "      <td>23</td>\n",
       "      <td>3.178054</td>\n",
       "      <td>50.0</td>\n",
       "      <td>3.0</td>\n",
       "      <td>6.0</td>\n",
       "      <td>...</td>\n",
       "      <td>1.0</td>\n",
       "      <td>Alabama</td>\n",
       "      <td>Autauga County</td>\n",
       "      <td>55869.0</td>\n",
       "      <td>54571.0</td>\n",
       "      <td>01001</td>\n",
       "      <td>21747.301724</td>\n",
       "      <td>411.677317</td>\n",
       "      <td>-7.0</td>\n",
       "      <td>-7.0</td>\n",
       "    </tr>\n",
       "    <tr>\n",
       "      <th>1934</th>\n",
       "      <td>2020-03-14</td>\n",
       "      <td>Baldwin</td>\n",
       "      <td>Alabama</td>\n",
       "      <td>01003</td>\n",
       "      <td>1</td>\n",
       "      <td>0</td>\n",
       "      <td>0.000000</td>\n",
       "      <td>50.0</td>\n",
       "      <td>3.0</td>\n",
       "      <td>6.0</td>\n",
       "      <td>...</td>\n",
       "      <td>3.0</td>\n",
       "      <td>Alabama</td>\n",
       "      <td>Baldwin County</td>\n",
       "      <td>223234.0</td>\n",
       "      <td>182265.0</td>\n",
       "      <td>01003</td>\n",
       "      <td>4.479604</td>\n",
       "      <td>0.000000</td>\n",
       "      <td>-1399.0</td>\n",
       "      <td>-1399.0</td>\n",
       "    </tr>\n",
       "    <tr>\n",
       "      <th>...</th>\n",
       "      <td>...</td>\n",
       "      <td>...</td>\n",
       "      <td>...</td>\n",
       "      <td>...</td>\n",
       "      <td>...</td>\n",
       "      <td>...</td>\n",
       "      <td>...</td>\n",
       "      <td>...</td>\n",
       "      <td>...</td>\n",
       "      <td>...</td>\n",
       "      <td>...</td>\n",
       "      <td>...</td>\n",
       "      <td>...</td>\n",
       "      <td>...</td>\n",
       "      <td>...</td>\n",
       "      <td>...</td>\n",
       "      <td>...</td>\n",
       "      <td>...</td>\n",
       "      <td>...</td>\n",
       "      <td>...</td>\n",
       "      <td>...</td>\n",
       "    </tr>\n",
       "    <tr>\n",
       "      <th>479812</th>\n",
       "      <td>2020-08-29</td>\n",
       "      <td>Unknown</td>\n",
       "      <td>Delaware</td>\n",
       "      <td>nan</td>\n",
       "      <td>278</td>\n",
       "      <td>0</td>\n",
       "      <td>0.000000</td>\n",
       "      <td>NaN</td>\n",
       "      <td>NaN</td>\n",
       "      <td>NaN</td>\n",
       "      <td>...</td>\n",
       "      <td>NaN</td>\n",
       "      <td>NaN</td>\n",
       "      <td>NaN</td>\n",
       "      <td>NaN</td>\n",
       "      <td>NaN</td>\n",
       "      <td>NaN</td>\n",
       "      <td>NaN</td>\n",
       "      <td>NaN</td>\n",
       "      <td>-1.0</td>\n",
       "      <td>-1.0</td>\n",
       "    </tr>\n",
       "    <tr>\n",
       "      <th>480894</th>\n",
       "      <td>2020-08-29</td>\n",
       "      <td>Unknown</td>\n",
       "      <td>Minnesota</td>\n",
       "      <td>nan</td>\n",
       "      <td>194</td>\n",
       "      <td>49</td>\n",
       "      <td>3.912023</td>\n",
       "      <td>NaN</td>\n",
       "      <td>NaN</td>\n",
       "      <td>NaN</td>\n",
       "      <td>...</td>\n",
       "      <td>NaN</td>\n",
       "      <td>NaN</td>\n",
       "      <td>NaN</td>\n",
       "      <td>NaN</td>\n",
       "      <td>NaN</td>\n",
       "      <td>NaN</td>\n",
       "      <td>NaN</td>\n",
       "      <td>NaN</td>\n",
       "      <td>-2.0</td>\n",
       "      <td>-2.0</td>\n",
       "    </tr>\n",
       "    <tr>\n",
       "      <th>481328</th>\n",
       "      <td>2020-08-29</td>\n",
       "      <td>Unknown</td>\n",
       "      <td>New Mexico</td>\n",
       "      <td>nan</td>\n",
       "      <td>1</td>\n",
       "      <td>0</td>\n",
       "      <td>0.000000</td>\n",
       "      <td>NaN</td>\n",
       "      <td>NaN</td>\n",
       "      <td>NaN</td>\n",
       "      <td>...</td>\n",
       "      <td>NaN</td>\n",
       "      <td>NaN</td>\n",
       "      <td>NaN</td>\n",
       "      <td>NaN</td>\n",
       "      <td>NaN</td>\n",
       "      <td>NaN</td>\n",
       "      <td>NaN</td>\n",
       "      <td>NaN</td>\n",
       "      <td>-1.0</td>\n",
       "      <td>-1.0</td>\n",
       "    </tr>\n",
       "    <tr>\n",
       "      <th>481883</th>\n",
       "      <td>2020-08-29</td>\n",
       "      <td>Unknown</td>\n",
       "      <td>Puerto Rico</td>\n",
       "      <td>nan</td>\n",
       "      <td>1313</td>\n",
       "      <td>0</td>\n",
       "      <td>0.000000</td>\n",
       "      <td>NaN</td>\n",
       "      <td>NaN</td>\n",
       "      <td>NaN</td>\n",
       "      <td>...</td>\n",
       "      <td>NaN</td>\n",
       "      <td>NaN</td>\n",
       "      <td>NaN</td>\n",
       "      <td>NaN</td>\n",
       "      <td>NaN</td>\n",
       "      <td>NaN</td>\n",
       "      <td>NaN</td>\n",
       "      <td>NaN</td>\n",
       "      <td>-15.0</td>\n",
       "      <td>-15.0</td>\n",
       "    </tr>\n",
       "    <tr>\n",
       "      <th>482096</th>\n",
       "      <td>2020-08-29</td>\n",
       "      <td>Unknown</td>\n",
       "      <td>Tennessee</td>\n",
       "      <td>nan</td>\n",
       "      <td>146</td>\n",
       "      <td>5</td>\n",
       "      <td>1.791759</td>\n",
       "      <td>NaN</td>\n",
       "      <td>NaN</td>\n",
       "      <td>NaN</td>\n",
       "      <td>...</td>\n",
       "      <td>NaN</td>\n",
       "      <td>NaN</td>\n",
       "      <td>NaN</td>\n",
       "      <td>NaN</td>\n",
       "      <td>NaN</td>\n",
       "      <td>NaN</td>\n",
       "      <td>NaN</td>\n",
       "      <td>NaN</td>\n",
       "      <td>-60.0</td>\n",
       "      <td>-60.0</td>\n",
       "    </tr>\n",
       "  </tbody>\n",
       "</table>\n",
       "<p>12343 rows × 21 columns</p>\n",
       "</div>"
      ],
      "text/plain": [
       "             date   county        state   fips  cases  deaths  log_deaths  \\\n",
       "67364  2020-04-18  Autauga      Alabama  01001     25       2    1.098612   \n",
       "101015 2020-04-30  Autauga      Alabama  01001     42       4    1.609438   \n",
       "145208 2020-05-15  Autauga      Alabama  01001    103       4    1.609438   \n",
       "421395 2020-08-11  Autauga      Alabama  01001   1215      23    3.178054   \n",
       "1934   2020-03-14  Baldwin      Alabama  01003      1       0    0.000000   \n",
       "...           ...      ...          ...    ...    ...     ...         ...   \n",
       "479812 2020-08-29  Unknown     Delaware    nan    278       0    0.000000   \n",
       "480894 2020-08-29  Unknown    Minnesota    nan    194      49    3.912023   \n",
       "481328 2020-08-29  Unknown   New Mexico    nan      1       0    0.000000   \n",
       "481883 2020-08-29  Unknown  Puerto Rico    nan   1313       0    0.000000   \n",
       "482096 2020-08-29  Unknown    Tennessee    nan    146       5    1.791759   \n",
       "\n",
       "        SUMLEV  REGION  DIVISION  ...  COUNTY   STNAME         CTYNAME  \\\n",
       "67364     50.0     3.0       6.0  ...     1.0  Alabama  Autauga County   \n",
       "101015    50.0     3.0       6.0  ...     1.0  Alabama  Autauga County   \n",
       "145208    50.0     3.0       6.0  ...     1.0  Alabama  Autauga County   \n",
       "421395    50.0     3.0       6.0  ...     1.0  Alabama  Autauga County   \n",
       "1934      50.0     3.0       6.0  ...     3.0  Alabama  Baldwin County   \n",
       "...        ...     ...       ...  ...     ...      ...             ...   \n",
       "479812     NaN     NaN       NaN  ...     NaN      NaN             NaN   \n",
       "480894     NaN     NaN       NaN  ...     NaN      NaN             NaN   \n",
       "481328     NaN     NaN       NaN  ...     NaN      NaN             NaN   \n",
       "481883     NaN     NaN       NaN  ...     NaN      NaN             NaN   \n",
       "482096     NaN     NaN       NaN  ...     NaN      NaN             NaN   \n",
       "\n",
       "       POPESTIMATE2019  CENSUS2010POP   FIPS casesPerMillion  \\\n",
       "67364          55869.0        54571.0  01001      447.475344   \n",
       "101015         55869.0        54571.0  01001      751.758578   \n",
       "145208         55869.0        54571.0  01001     1843.598418   \n",
       "421395         55869.0        54571.0  01001    21747.301724   \n",
       "1934          223234.0       182265.0  01003        4.479604   \n",
       "...                ...            ...    ...             ...   \n",
       "479812             NaN            NaN    NaN             NaN   \n",
       "480894             NaN            NaN    NaN             NaN   \n",
       "481328             NaN            NaN    NaN             NaN   \n",
       "481883             NaN            NaN    NaN             NaN   \n",
       "482096             NaN            NaN    NaN             NaN   \n",
       "\n",
       "        deathsPerMillion  case_diff    test  \n",
       "67364          35.798028       -1.0    -1.0  \n",
       "101015         71.596055       -1.0    -1.0  \n",
       "145208         71.596055       -1.0    -1.0  \n",
       "421395        411.677317       -7.0    -7.0  \n",
       "1934            0.000000    -1399.0 -1399.0  \n",
       "...                  ...        ...     ...  \n",
       "479812               NaN       -1.0    -1.0  \n",
       "480894               NaN       -2.0    -2.0  \n",
       "481328               NaN       -1.0    -1.0  \n",
       "481883               NaN      -15.0   -15.0  \n",
       "482096               NaN      -60.0   -60.0  \n",
       "\n",
       "[12343 rows x 21 columns]"
      ]
     },
     "execution_count": 54,
     "metadata": {},
     "output_type": "execute_result"
    }
   ],
   "source": [
    "negative_mask = (DF['case_diff'] < 0)\n",
    "DF[negative_mask].sort_values(by=['fips','date'])"
   ]
  },
  {
   "cell_type": "code",
   "execution_count": 40,
   "metadata": {},
   "outputs": [
    {
     "data": {
      "text/plain": [
       "[False, False, False, False, False]"
      ]
     },
     "execution_count": 40,
     "metadata": {},
     "output_type": "execute_result"
    }
   ],
   "source": [
    "[np.isnan(x) for x in DF['case_diff'].head()]"
   ]
  },
  {
   "cell_type": "code",
   "execution_count": 50,
   "metadata": {},
   "outputs": [
    {
     "data": {
      "application/vnd.plotly.v1+json": {
       "config": {
        "plotlyServerURL": "https://plot.ly"
       },
       "data": [
        {
         "name": "case_diff",
         "type": "scatter",
         "x": [
          "2020-01-26T00:00:00",
          "2020-01-27T00:00:00",
          "2020-01-28T00:00:00",
          "2020-01-29T00:00:00",
          "2020-01-30T00:00:00",
          "2020-01-31T00:00:00",
          "2020-02-01T00:00:00",
          "2020-02-02T00:00:00",
          "2020-02-03T00:00:00",
          "2020-02-04T00:00:00",
          "2020-02-05T00:00:00",
          "2020-02-06T00:00:00",
          "2020-02-07T00:00:00",
          "2020-02-08T00:00:00",
          "2020-02-09T00:00:00",
          "2020-02-10T00:00:00",
          "2020-02-11T00:00:00",
          "2020-02-12T00:00:00",
          "2020-02-13T00:00:00",
          "2020-02-14T00:00:00",
          "2020-02-15T00:00:00",
          "2020-02-16T00:00:00",
          "2020-02-17T00:00:00",
          "2020-02-18T00:00:00",
          "2020-02-19T00:00:00",
          "2020-02-20T00:00:00",
          "2020-02-21T00:00:00",
          "2020-02-22T00:00:00",
          "2020-02-23T00:00:00",
          "2020-02-24T00:00:00",
          "2020-02-25T00:00:00",
          "2020-02-26T00:00:00",
          "2020-02-27T00:00:00",
          "2020-02-28T00:00:00",
          "2020-02-29T00:00:00",
          "2020-03-01T00:00:00",
          "2020-03-02T00:00:00",
          "2020-03-03T00:00:00",
          "2020-03-04T00:00:00",
          "2020-03-05T00:00:00",
          "2020-03-06T00:00:00",
          "2020-03-07T00:00:00",
          "2020-03-08T00:00:00",
          "2020-03-09T00:00:00",
          "2020-03-10T00:00:00",
          "2020-03-11T00:00:00",
          "2020-03-12T00:00:00",
          "2020-03-13T00:00:00",
          "2020-03-14T00:00:00",
          "2020-03-15T00:00:00",
          "2020-03-16T00:00:00",
          "2020-03-17T00:00:00",
          "2020-03-18T00:00:00",
          "2020-03-19T00:00:00",
          "2020-03-20T00:00:00",
          "2020-03-21T00:00:00",
          "2020-03-22T00:00:00",
          "2020-03-23T00:00:00",
          "2020-03-24T00:00:00",
          "2020-03-25T00:00:00",
          "2020-03-26T00:00:00",
          "2020-03-27T00:00:00",
          "2020-03-28T00:00:00",
          "2020-03-29T00:00:00",
          "2020-03-30T00:00:00",
          "2020-03-31T00:00:00",
          "2020-04-01T00:00:00",
          "2020-04-02T00:00:00",
          "2020-04-03T00:00:00",
          "2020-04-04T00:00:00",
          "2020-04-05T00:00:00",
          "2020-04-06T00:00:00",
          "2020-04-07T00:00:00",
          "2020-04-08T00:00:00",
          "2020-04-09T00:00:00",
          "2020-04-10T00:00:00",
          "2020-04-11T00:00:00",
          "2020-04-12T00:00:00",
          "2020-04-13T00:00:00",
          "2020-04-14T00:00:00",
          "2020-04-15T00:00:00",
          "2020-04-16T00:00:00",
          "2020-04-17T00:00:00",
          "2020-04-18T00:00:00",
          "2020-04-19T00:00:00",
          "2020-04-20T00:00:00",
          "2020-04-21T00:00:00",
          "2020-04-22T00:00:00",
          "2020-04-23T00:00:00",
          "2020-04-24T00:00:00",
          "2020-04-25T00:00:00",
          "2020-04-26T00:00:00",
          "2020-04-27T00:00:00",
          "2020-04-28T00:00:00",
          "2020-04-29T00:00:00",
          "2020-04-30T00:00:00",
          "2020-05-01T00:00:00",
          "2020-05-02T00:00:00",
          "2020-05-03T00:00:00",
          "2020-05-04T00:00:00",
          "2020-05-05T00:00:00",
          "2020-05-06T00:00:00",
          "2020-05-07T00:00:00",
          "2020-05-08T00:00:00",
          "2020-05-09T00:00:00",
          "2020-05-10T00:00:00",
          "2020-05-11T00:00:00",
          "2020-05-12T00:00:00",
          "2020-05-13T00:00:00",
          "2020-05-14T00:00:00",
          "2020-05-15T00:00:00",
          "2020-05-16T00:00:00",
          "2020-05-17T00:00:00",
          "2020-05-18T00:00:00",
          "2020-05-19T00:00:00",
          "2020-05-20T00:00:00",
          "2020-05-21T00:00:00",
          "2020-05-22T00:00:00",
          "2020-05-23T00:00:00",
          "2020-05-24T00:00:00",
          "2020-05-25T00:00:00",
          "2020-05-26T00:00:00",
          "2020-05-27T00:00:00",
          "2020-05-28T00:00:00",
          "2020-05-29T00:00:00",
          "2020-05-30T00:00:00",
          "2020-05-31T00:00:00",
          "2020-06-01T00:00:00",
          "2020-06-02T00:00:00",
          "2020-06-03T00:00:00",
          "2020-06-04T00:00:00",
          "2020-06-05T00:00:00",
          "2020-06-06T00:00:00",
          "2020-06-07T00:00:00",
          "2020-06-08T00:00:00",
          "2020-06-09T00:00:00",
          "2020-06-10T00:00:00",
          "2020-06-11T00:00:00",
          "2020-06-12T00:00:00",
          "2020-06-13T00:00:00",
          "2020-06-14T00:00:00",
          "2020-06-15T00:00:00",
          "2020-06-16T00:00:00",
          "2020-06-17T00:00:00",
          "2020-06-18T00:00:00",
          "2020-06-19T00:00:00",
          "2020-06-20T00:00:00",
          "2020-06-21T00:00:00",
          "2020-06-22T00:00:00",
          "2020-06-23T00:00:00",
          "2020-06-24T00:00:00",
          "2020-06-25T00:00:00",
          "2020-06-26T00:00:00",
          "2020-06-27T00:00:00",
          "2020-06-28T00:00:00",
          "2020-06-29T00:00:00",
          "2020-06-30T00:00:00",
          "2020-07-01T00:00:00",
          "2020-07-02T00:00:00",
          "2020-07-03T00:00:00",
          "2020-07-04T00:00:00",
          "2020-07-05T00:00:00",
          "2020-07-06T00:00:00",
          "2020-07-07T00:00:00",
          "2020-07-08T00:00:00",
          "2020-07-09T00:00:00",
          "2020-07-10T00:00:00",
          "2020-07-11T00:00:00",
          "2020-07-12T00:00:00",
          "2020-07-13T00:00:00",
          "2020-07-14T00:00:00",
          "2020-07-15T00:00:00",
          "2020-07-16T00:00:00",
          "2020-07-17T00:00:00",
          "2020-07-18T00:00:00",
          "2020-07-19T00:00:00",
          "2020-07-20T00:00:00",
          "2020-07-21T00:00:00",
          "2020-07-22T00:00:00",
          "2020-07-23T00:00:00",
          "2020-07-24T00:00:00",
          "2020-07-25T00:00:00",
          "2020-07-26T00:00:00",
          "2020-07-27T00:00:00",
          "2020-07-28T00:00:00",
          "2020-07-29T00:00:00",
          "2020-07-30T00:00:00",
          "2020-07-31T00:00:00",
          "2020-08-01T00:00:00",
          "2020-08-02T00:00:00",
          "2020-08-03T00:00:00",
          "2020-08-04T00:00:00",
          "2020-08-05T00:00:00",
          "2020-08-06T00:00:00",
          "2020-08-07T00:00:00",
          "2020-08-08T00:00:00",
          "2020-08-09T00:00:00",
          "2020-08-10T00:00:00",
          "2020-08-11T00:00:00",
          "2020-08-12T00:00:00",
          "2020-08-13T00:00:00",
          "2020-08-14T00:00:00",
          "2020-08-15T00:00:00",
          "2020-08-16T00:00:00",
          "2020-08-17T00:00:00",
          "2020-08-18T00:00:00",
          "2020-08-19T00:00:00",
          "2020-08-20T00:00:00",
          "2020-08-21T00:00:00",
          "2020-08-22T00:00:00",
          "2020-08-23T00:00:00",
          "2020-08-24T00:00:00",
          "2020-08-25T00:00:00",
          "2020-08-26T00:00:00",
          "2020-08-27T00:00:00",
          "2020-08-28T00:00:00",
          "2020-08-29T00:00:00"
         ],
         "y": [
          -714,
          0,
          0,
          0,
          0,
          0,
          0,
          0,
          0,
          0,
          0,
          0,
          0,
          0,
          0,
          0,
          0,
          0,
          0,
          0,
          0,
          0,
          0,
          0,
          0,
          0,
          0,
          0,
          0,
          0,
          0,
          0,
          0,
          0,
          0,
          0,
          0,
          0,
          6,
          4,
          2,
          1,
          0,
          5,
          1,
          8,
          4,
          8,
          13,
          16,
          25,
          50,
          46,
          41,
          61,
          59,
          70,
          115,
          126,
          137,
          417,
          249,
          339,
          332,
          338,
          537,
          507,
          527,
          521,
          711,
          663,
          420,
          550,
          620,
          425,
          475,
          443,
          319,
          228,
          627,
          449,
          358,
          537,
          630,
          320,
          1475,
          1324,
          1295,
          1073,
          1037,
          562,
          421,
          889,
          559,
          1509,
          697,
          1033,
          679,
          768,
          555,
          1598,
          829,
          783,
          869,
          901,
          480,
          581,
          922,
          1248,
          901,
          930,
          1044,
          671,
          477,
          1122,
          1284,
          1180,
          1015,
          1003,
          933,
          1030,
          1804,
          878,
          1074,
          1788,
          2089,
          1345,
          972,
          1150,
          1116,
          1416,
          1395,
          1293,
          1506,
          800,
          1178,
          1242,
          1811,
          1601,
          1547,
          995,
          773,
          1293,
          2105,
          1038,
          1382,
          2027,
          1761,
          2545,
          2320,
          1228,
          1977,
          1765,
          2139,
          2523,
          2878,
          2757,
          1978,
          2160,
          2643,
          3187,
          1496,
          1577,
          3969,
          2465,
          1734,
          2620,
          2884,
          3307,
          2580,
          4178,
          2702,
          4459,
          2851,
          2722,
          2846,
          3158,
          2628,
          3197,
          1978,
          1909,
          3568,
          1670,
          2033,
          2614,
          4741,
          2489,
          2609,
          2212,
          1474,
          1621,
          1826,
          2298,
          3194,
          3061,
          2594,
          1767,
          1896,
          1384,
          2389,
          1942,
          2554,
          2069,
          1188,
          1181,
          900,
          1796,
          1519,
          1708,
          1608,
          1033,
          1198,
          884,
          1609,
          1600,
          1472,
          1298
         ]
        }
       ],
       "layout": {
        "autosize": true,
        "margin": {
         "b": 40,
         "l": 40,
         "r": 40,
         "t": 40
        },
        "paper_bgcolor": "#D6DBDF",
        "shapes": [
         {
          "type": "line",
          "x0": "2020-08-28",
          "x1": "2020-08-28",
          "xref": "x",
          "y0": 0,
          "y1": 1,
          "yref": "paper"
         }
        ],
        "template": {
         "data": {
          "bar": [
           {
            "error_x": {
             "color": "#2a3f5f"
            },
            "error_y": {
             "color": "#2a3f5f"
            },
            "marker": {
             "line": {
              "color": "#E5ECF6",
              "width": 0.5
             }
            },
            "type": "bar"
           }
          ],
          "barpolar": [
           {
            "marker": {
             "line": {
              "color": "#E5ECF6",
              "width": 0.5
             }
            },
            "type": "barpolar"
           }
          ],
          "carpet": [
           {
            "aaxis": {
             "endlinecolor": "#2a3f5f",
             "gridcolor": "white",
             "linecolor": "white",
             "minorgridcolor": "white",
             "startlinecolor": "#2a3f5f"
            },
            "baxis": {
             "endlinecolor": "#2a3f5f",
             "gridcolor": "white",
             "linecolor": "white",
             "minorgridcolor": "white",
             "startlinecolor": "#2a3f5f"
            },
            "type": "carpet"
           }
          ],
          "choropleth": [
           {
            "colorbar": {
             "outlinewidth": 0,
             "ticks": ""
            },
            "type": "choropleth"
           }
          ],
          "contour": [
           {
            "colorbar": {
             "outlinewidth": 0,
             "ticks": ""
            },
            "colorscale": [
             [
              0,
              "#0d0887"
             ],
             [
              0.1111111111111111,
              "#46039f"
             ],
             [
              0.2222222222222222,
              "#7201a8"
             ],
             [
              0.3333333333333333,
              "#9c179e"
             ],
             [
              0.4444444444444444,
              "#bd3786"
             ],
             [
              0.5555555555555556,
              "#d8576b"
             ],
             [
              0.6666666666666666,
              "#ed7953"
             ],
             [
              0.7777777777777778,
              "#fb9f3a"
             ],
             [
              0.8888888888888888,
              "#fdca26"
             ],
             [
              1,
              "#f0f921"
             ]
            ],
            "type": "contour"
           }
          ],
          "contourcarpet": [
           {
            "colorbar": {
             "outlinewidth": 0,
             "ticks": ""
            },
            "type": "contourcarpet"
           }
          ],
          "heatmap": [
           {
            "colorbar": {
             "outlinewidth": 0,
             "ticks": ""
            },
            "colorscale": [
             [
              0,
              "#0d0887"
             ],
             [
              0.1111111111111111,
              "#46039f"
             ],
             [
              0.2222222222222222,
              "#7201a8"
             ],
             [
              0.3333333333333333,
              "#9c179e"
             ],
             [
              0.4444444444444444,
              "#bd3786"
             ],
             [
              0.5555555555555556,
              "#d8576b"
             ],
             [
              0.6666666666666666,
              "#ed7953"
             ],
             [
              0.7777777777777778,
              "#fb9f3a"
             ],
             [
              0.8888888888888888,
              "#fdca26"
             ],
             [
              1,
              "#f0f921"
             ]
            ],
            "type": "heatmap"
           }
          ],
          "heatmapgl": [
           {
            "colorbar": {
             "outlinewidth": 0,
             "ticks": ""
            },
            "colorscale": [
             [
              0,
              "#0d0887"
             ],
             [
              0.1111111111111111,
              "#46039f"
             ],
             [
              0.2222222222222222,
              "#7201a8"
             ],
             [
              0.3333333333333333,
              "#9c179e"
             ],
             [
              0.4444444444444444,
              "#bd3786"
             ],
             [
              0.5555555555555556,
              "#d8576b"
             ],
             [
              0.6666666666666666,
              "#ed7953"
             ],
             [
              0.7777777777777778,
              "#fb9f3a"
             ],
             [
              0.8888888888888888,
              "#fdca26"
             ],
             [
              1,
              "#f0f921"
             ]
            ],
            "type": "heatmapgl"
           }
          ],
          "histogram": [
           {
            "marker": {
             "colorbar": {
              "outlinewidth": 0,
              "ticks": ""
             }
            },
            "type": "histogram"
           }
          ],
          "histogram2d": [
           {
            "colorbar": {
             "outlinewidth": 0,
             "ticks": ""
            },
            "colorscale": [
             [
              0,
              "#0d0887"
             ],
             [
              0.1111111111111111,
              "#46039f"
             ],
             [
              0.2222222222222222,
              "#7201a8"
             ],
             [
              0.3333333333333333,
              "#9c179e"
             ],
             [
              0.4444444444444444,
              "#bd3786"
             ],
             [
              0.5555555555555556,
              "#d8576b"
             ],
             [
              0.6666666666666666,
              "#ed7953"
             ],
             [
              0.7777777777777778,
              "#fb9f3a"
             ],
             [
              0.8888888888888888,
              "#fdca26"
             ],
             [
              1,
              "#f0f921"
             ]
            ],
            "type": "histogram2d"
           }
          ],
          "histogram2dcontour": [
           {
            "colorbar": {
             "outlinewidth": 0,
             "ticks": ""
            },
            "colorscale": [
             [
              0,
              "#0d0887"
             ],
             [
              0.1111111111111111,
              "#46039f"
             ],
             [
              0.2222222222222222,
              "#7201a8"
             ],
             [
              0.3333333333333333,
              "#9c179e"
             ],
             [
              0.4444444444444444,
              "#bd3786"
             ],
             [
              0.5555555555555556,
              "#d8576b"
             ],
             [
              0.6666666666666666,
              "#ed7953"
             ],
             [
              0.7777777777777778,
              "#fb9f3a"
             ],
             [
              0.8888888888888888,
              "#fdca26"
             ],
             [
              1,
              "#f0f921"
             ]
            ],
            "type": "histogram2dcontour"
           }
          ],
          "mesh3d": [
           {
            "colorbar": {
             "outlinewidth": 0,
             "ticks": ""
            },
            "type": "mesh3d"
           }
          ],
          "parcoords": [
           {
            "line": {
             "colorbar": {
              "outlinewidth": 0,
              "ticks": ""
             }
            },
            "type": "parcoords"
           }
          ],
          "pie": [
           {
            "automargin": true,
            "type": "pie"
           }
          ],
          "scatter": [
           {
            "marker": {
             "colorbar": {
              "outlinewidth": 0,
              "ticks": ""
             }
            },
            "type": "scatter"
           }
          ],
          "scatter3d": [
           {
            "line": {
             "colorbar": {
              "outlinewidth": 0,
              "ticks": ""
             }
            },
            "marker": {
             "colorbar": {
              "outlinewidth": 0,
              "ticks": ""
             }
            },
            "type": "scatter3d"
           }
          ],
          "scattercarpet": [
           {
            "marker": {
             "colorbar": {
              "outlinewidth": 0,
              "ticks": ""
             }
            },
            "type": "scattercarpet"
           }
          ],
          "scattergeo": [
           {
            "marker": {
             "colorbar": {
              "outlinewidth": 0,
              "ticks": ""
             }
            },
            "type": "scattergeo"
           }
          ],
          "scattergl": [
           {
            "marker": {
             "colorbar": {
              "outlinewidth": 0,
              "ticks": ""
             }
            },
            "type": "scattergl"
           }
          ],
          "scattermapbox": [
           {
            "marker": {
             "colorbar": {
              "outlinewidth": 0,
              "ticks": ""
             }
            },
            "type": "scattermapbox"
           }
          ],
          "scatterpolar": [
           {
            "marker": {
             "colorbar": {
              "outlinewidth": 0,
              "ticks": ""
             }
            },
            "type": "scatterpolar"
           }
          ],
          "scatterpolargl": [
           {
            "marker": {
             "colorbar": {
              "outlinewidth": 0,
              "ticks": ""
             }
            },
            "type": "scatterpolargl"
           }
          ],
          "scatterternary": [
           {
            "marker": {
             "colorbar": {
              "outlinewidth": 0,
              "ticks": ""
             }
            },
            "type": "scatterternary"
           }
          ],
          "surface": [
           {
            "colorbar": {
             "outlinewidth": 0,
             "ticks": ""
            },
            "colorscale": [
             [
              0,
              "#0d0887"
             ],
             [
              0.1111111111111111,
              "#46039f"
             ],
             [
              0.2222222222222222,
              "#7201a8"
             ],
             [
              0.3333333333333333,
              "#9c179e"
             ],
             [
              0.4444444444444444,
              "#bd3786"
             ],
             [
              0.5555555555555556,
              "#d8576b"
             ],
             [
              0.6666666666666666,
              "#ed7953"
             ],
             [
              0.7777777777777778,
              "#fb9f3a"
             ],
             [
              0.8888888888888888,
              "#fdca26"
             ],
             [
              1,
              "#f0f921"
             ]
            ],
            "type": "surface"
           }
          ],
          "table": [
           {
            "cells": {
             "fill": {
              "color": "#EBF0F8"
             },
             "line": {
              "color": "white"
             }
            },
            "header": {
             "fill": {
              "color": "#C8D4E3"
             },
             "line": {
              "color": "white"
             }
            },
            "type": "table"
           }
          ]
         },
         "layout": {
          "annotationdefaults": {
           "arrowcolor": "#2a3f5f",
           "arrowhead": 0,
           "arrowwidth": 1
          },
          "coloraxis": {
           "colorbar": {
            "outlinewidth": 0,
            "ticks": ""
           }
          },
          "colorscale": {
           "diverging": [
            [
             0,
             "#8e0152"
            ],
            [
             0.1,
             "#c51b7d"
            ],
            [
             0.2,
             "#de77ae"
            ],
            [
             0.3,
             "#f1b6da"
            ],
            [
             0.4,
             "#fde0ef"
            ],
            [
             0.5,
             "#f7f7f7"
            ],
            [
             0.6,
             "#e6f5d0"
            ],
            [
             0.7,
             "#b8e186"
            ],
            [
             0.8,
             "#7fbc41"
            ],
            [
             0.9,
             "#4d9221"
            ],
            [
             1,
             "#276419"
            ]
           ],
           "sequential": [
            [
             0,
             "#0d0887"
            ],
            [
             0.1111111111111111,
             "#46039f"
            ],
            [
             0.2222222222222222,
             "#7201a8"
            ],
            [
             0.3333333333333333,
             "#9c179e"
            ],
            [
             0.4444444444444444,
             "#bd3786"
            ],
            [
             0.5555555555555556,
             "#d8576b"
            ],
            [
             0.6666666666666666,
             "#ed7953"
            ],
            [
             0.7777777777777778,
             "#fb9f3a"
            ],
            [
             0.8888888888888888,
             "#fdca26"
            ],
            [
             1,
             "#f0f921"
            ]
           ],
           "sequentialminus": [
            [
             0,
             "#0d0887"
            ],
            [
             0.1111111111111111,
             "#46039f"
            ],
            [
             0.2222222222222222,
             "#7201a8"
            ],
            [
             0.3333333333333333,
             "#9c179e"
            ],
            [
             0.4444444444444444,
             "#bd3786"
            ],
            [
             0.5555555555555556,
             "#d8576b"
            ],
            [
             0.6666666666666666,
             "#ed7953"
            ],
            [
             0.7777777777777778,
             "#fb9f3a"
            ],
            [
             0.8888888888888888,
             "#fdca26"
            ],
            [
             1,
             "#f0f921"
            ]
           ]
          },
          "colorway": [
           "#636efa",
           "#EF553B",
           "#00cc96",
           "#ab63fa",
           "#FFA15A",
           "#19d3f3",
           "#FF6692",
           "#B6E880",
           "#FF97FF",
           "#FECB52"
          ],
          "font": {
           "color": "#2a3f5f"
          },
          "geo": {
           "bgcolor": "white",
           "lakecolor": "white",
           "landcolor": "#E5ECF6",
           "showlakes": true,
           "showland": true,
           "subunitcolor": "white"
          },
          "hoverlabel": {
           "align": "left"
          },
          "hovermode": "closest",
          "mapbox": {
           "style": "light"
          },
          "paper_bgcolor": "white",
          "plot_bgcolor": "#E5ECF6",
          "polar": {
           "angularaxis": {
            "gridcolor": "white",
            "linecolor": "white",
            "ticks": ""
           },
           "bgcolor": "#E5ECF6",
           "radialaxis": {
            "gridcolor": "white",
            "linecolor": "white",
            "ticks": ""
           }
          },
          "scene": {
           "xaxis": {
            "backgroundcolor": "#E5ECF6",
            "gridcolor": "white",
            "gridwidth": 2,
            "linecolor": "white",
            "showbackground": true,
            "ticks": "",
            "zerolinecolor": "white"
           },
           "yaxis": {
            "backgroundcolor": "#E5ECF6",
            "gridcolor": "white",
            "gridwidth": 2,
            "linecolor": "white",
            "showbackground": true,
            "ticks": "",
            "zerolinecolor": "white"
           },
           "zaxis": {
            "backgroundcolor": "#E5ECF6",
            "gridcolor": "white",
            "gridwidth": 2,
            "linecolor": "white",
            "showbackground": true,
            "ticks": "",
            "zerolinecolor": "white"
           }
          },
          "shapedefaults": {
           "line": {
            "color": "#2a3f5f"
           }
          },
          "ternary": {
           "aaxis": {
            "gridcolor": "white",
            "linecolor": "white",
            "ticks": ""
           },
           "baxis": {
            "gridcolor": "white",
            "linecolor": "white",
            "ticks": ""
           },
           "bgcolor": "#E5ECF6",
           "caxis": {
            "gridcolor": "white",
            "linecolor": "white",
            "ticks": ""
           }
          },
          "title": {
           "x": 0.05
          },
          "xaxis": {
           "automargin": true,
           "gridcolor": "white",
           "linecolor": "white",
           "ticks": "",
           "title": {
            "standoff": 15
           },
           "zerolinecolor": "white",
           "zerolinewidth": 2
          },
          "yaxis": {
           "automargin": true,
           "gridcolor": "white",
           "linecolor": "white",
           "ticks": "",
           "title": {
            "standoff": 15
           },
           "zerolinecolor": "white",
           "zerolinewidth": 2
          }
         }
        },
        "title": {
         "text": " Los Angeles, California case_diff by day"
        },
        "xaxis": {
         "autorange": true,
         "range": [
          "2020-01-26",
          "2020-08-29"
         ],
         "title": {
          "text": "<b>Date</b>"
         },
         "type": "date"
        },
        "yaxis": {
         "autorange": true,
         "range": [
          -1017.0555555555554,
          5044.055555555556
         ],
         "title": {
          "text": "<b>Total</b> case_diff"
         },
         "type": "linear"
        }
       }
      },
      "image/png": "[encoded data removed]",
      "text/html": [
       "<div>\n",
       "        \n",
       "        \n",
       "            <div id=\"eab2f99d-12f7-40c0-a75e-157ef0a4d33e\" class=\"plotly-graph-div\" style=\"height:525px; width:100%;\"></div>\n",
       "            <script type=\"text/javascript\">\n",
       "                require([\"plotly\"], function(Plotly) {\n",
       "                    window.PLOTLYENV=window.PLOTLYENV || {};\n",
       "                    \n",
       "                if (document.getElementById(\"eab2f99d-12f7-40c0-a75e-157ef0a4d33e\")) {\n",
       "                    Plotly.newPlot(\n",
       "                        'eab2f99d-12f7-40c0-a75e-157ef0a4d33e',\n",
       "                        [{\"name\": \"case_diff\", \"type\": \"scatter\", \"x\": [\"2020-01-26T00:00:00\", \"2020-01-27T00:00:00\", \"2020-01-28T00:00:00\", \"2020-01-29T00:00:00\", \"2020-01-30T00:00:00\", \"2020-01-31T00:00:00\", \"2020-02-01T00:00:00\", \"2020-02-02T00:00:00\", \"2020-02-03T00:00:00\", \"2020-02-04T00:00:00\", \"2020-02-05T00:00:00\", \"2020-02-06T00:00:00\", \"2020-02-07T00:00:00\", \"2020-02-08T00:00:00\", \"2020-02-09T00:00:00\", \"2020-02-10T00:00:00\", \"2020-02-11T00:00:00\", \"2020-02-12T00:00:00\", \"2020-02-13T00:00:00\", \"2020-02-14T00:00:00\", \"2020-02-15T00:00:00\", \"2020-02-16T00:00:00\", \"2020-02-17T00:00:00\", \"2020-02-18T00:00:00\", \"2020-02-19T00:00:00\", \"2020-02-20T00:00:00\", \"2020-02-21T00:00:00\", \"2020-02-22T00:00:00\", \"2020-02-23T00:00:00\", \"2020-02-24T00:00:00\", \"2020-02-25T00:00:00\", \"2020-02-26T00:00:00\", \"2020-02-27T00:00:00\", \"2020-02-28T00:00:00\", \"2020-02-29T00:00:00\", \"2020-03-01T00:00:00\", \"2020-03-02T00:00:00\", \"2020-03-03T00:00:00\", \"2020-03-04T00:00:00\", \"2020-03-05T00:00:00\", \"2020-03-06T00:00:00\", \"2020-03-07T00:00:00\", \"2020-03-08T00:00:00\", \"2020-03-09T00:00:00\", \"2020-03-10T00:00:00\", \"2020-03-11T00:00:00\", \"2020-03-12T00:00:00\", \"2020-03-13T00:00:00\", \"2020-03-14T00:00:00\", \"2020-03-15T00:00:00\", \"2020-03-16T00:00:00\", \"2020-03-17T00:00:00\", \"2020-03-18T00:00:00\", \"2020-03-19T00:00:00\", \"2020-03-20T00:00:00\", \"2020-03-21T00:00:00\", \"2020-03-22T00:00:00\", \"2020-03-23T00:00:00\", \"2020-03-24T00:00:00\", \"2020-03-25T00:00:00\", \"2020-03-26T00:00:00\", \"2020-03-27T00:00:00\", \"2020-03-28T00:00:00\", \"2020-03-29T00:00:00\", \"2020-03-30T00:00:00\", \"2020-03-31T00:00:00\", \"2020-04-01T00:00:00\", \"2020-04-02T00:00:00\", \"2020-04-03T00:00:00\", \"2020-04-04T00:00:00\", \"2020-04-05T00:00:00\", \"2020-04-06T00:00:00\", \"2020-04-07T00:00:00\", \"2020-04-08T00:00:00\", \"2020-04-09T00:00:00\", \"2020-04-10T00:00:00\", \"2020-04-11T00:00:00\", \"2020-04-12T00:00:00\", \"2020-04-13T00:00:00\", \"2020-04-14T00:00:00\", \"2020-04-15T00:00:00\", \"2020-04-16T00:00:00\", \"2020-04-17T00:00:00\", \"2020-04-18T00:00:00\", \"2020-04-19T00:00:00\", \"2020-04-20T00:00:00\", \"2020-04-21T00:00:00\", \"2020-04-22T00:00:00\", \"2020-04-23T00:00:00\", \"2020-04-24T00:00:00\", \"2020-04-25T00:00:00\", \"2020-04-26T00:00:00\", \"2020-04-27T00:00:00\", \"2020-04-28T00:00:00\", \"2020-04-29T00:00:00\", \"2020-04-30T00:00:00\", \"2020-05-01T00:00:00\", \"2020-05-02T00:00:00\", \"2020-05-03T00:00:00\", \"2020-05-04T00:00:00\", \"2020-05-05T00:00:00\", \"2020-05-06T00:00:00\", \"2020-05-07T00:00:00\", \"2020-05-08T00:00:00\", \"2020-05-09T00:00:00\", \"2020-05-10T00:00:00\", \"2020-05-11T00:00:00\", \"2020-05-12T00:00:00\", \"2020-05-13T00:00:00\", \"2020-05-14T00:00:00\", \"2020-05-15T00:00:00\", \"2020-05-16T00:00:00\", \"2020-05-17T00:00:00\", \"2020-05-18T00:00:00\", \"2020-05-19T00:00:00\", \"2020-05-20T00:00:00\", \"2020-05-21T00:00:00\", \"2020-05-22T00:00:00\", \"2020-05-23T00:00:00\", \"2020-05-24T00:00:00\", \"2020-05-25T00:00:00\", \"2020-05-26T00:00:00\", \"2020-05-27T00:00:00\", \"2020-05-28T00:00:00\", \"2020-05-29T00:00:00\", \"2020-05-30T00:00:00\", \"2020-05-31T00:00:00\", \"2020-06-01T00:00:00\", \"2020-06-02T00:00:00\", \"2020-06-03T00:00:00\", \"2020-06-04T00:00:00\", \"2020-06-05T00:00:00\", \"2020-06-06T00:00:00\", \"2020-06-07T00:00:00\", \"2020-06-08T00:00:00\", \"2020-06-09T00:00:00\", \"2020-06-10T00:00:00\", \"2020-06-11T00:00:00\", \"2020-06-12T00:00:00\", \"2020-06-13T00:00:00\", \"2020-06-14T00:00:00\", \"2020-06-15T00:00:00\", \"2020-06-16T00:00:00\", \"2020-06-17T00:00:00\", \"2020-06-18T00:00:00\", \"2020-06-19T00:00:00\", \"2020-06-20T00:00:00\", \"2020-06-21T00:00:00\", \"2020-06-22T00:00:00\", \"2020-06-23T00:00:00\", \"2020-06-24T00:00:00\", \"2020-06-25T00:00:00\", \"2020-06-26T00:00:00\", \"2020-06-27T00:00:00\", \"2020-06-28T00:00:00\", \"2020-06-29T00:00:00\", \"2020-06-30T00:00:00\", \"2020-07-01T00:00:00\", \"2020-07-02T00:00:00\", \"2020-07-03T00:00:00\", \"2020-07-04T00:00:00\", \"2020-07-05T00:00:00\", \"2020-07-06T00:00:00\", \"2020-07-07T00:00:00\", \"2020-07-08T00:00:00\", \"2020-07-09T00:00:00\", \"2020-07-10T00:00:00\", \"2020-07-11T00:00:00\", \"2020-07-12T00:00:00\", \"2020-07-13T00:00:00\", \"2020-07-14T00:00:00\", \"2020-07-15T00:00:00\", \"2020-07-16T00:00:00\", \"2020-07-17T00:00:00\", \"2020-07-18T00:00:00\", \"2020-07-19T00:00:00\", \"2020-07-20T00:00:00\", \"2020-07-21T00:00:00\", \"2020-07-22T00:00:00\", \"2020-07-23T00:00:00\", \"2020-07-24T00:00:00\", \"2020-07-25T00:00:00\", \"2020-07-26T00:00:00\", \"2020-07-27T00:00:00\", \"2020-07-28T00:00:00\", \"2020-07-29T00:00:00\", \"2020-07-30T00:00:00\", \"2020-07-31T00:00:00\", \"2020-08-01T00:00:00\", \"2020-08-02T00:00:00\", \"2020-08-03T00:00:00\", \"2020-08-04T00:00:00\", \"2020-08-05T00:00:00\", \"2020-08-06T00:00:00\", \"2020-08-07T00:00:00\", \"2020-08-08T00:00:00\", \"2020-08-09T00:00:00\", \"2020-08-10T00:00:00\", \"2020-08-11T00:00:00\", \"2020-08-12T00:00:00\", \"2020-08-13T00:00:00\", \"2020-08-14T00:00:00\", \"2020-08-15T00:00:00\", \"2020-08-16T00:00:00\", \"2020-08-17T00:00:00\", \"2020-08-18T00:00:00\", \"2020-08-19T00:00:00\", \"2020-08-20T00:00:00\", \"2020-08-21T00:00:00\", \"2020-08-22T00:00:00\", \"2020-08-23T00:00:00\", \"2020-08-24T00:00:00\", \"2020-08-25T00:00:00\", \"2020-08-26T00:00:00\", \"2020-08-27T00:00:00\", \"2020-08-28T00:00:00\", \"2020-08-29T00:00:00\"], \"y\": [-714.0, 0.0, 0.0, 0.0, 0.0, 0.0, 0.0, 0.0, 0.0, 0.0, 0.0, 0.0, 0.0, 0.0, 0.0, 0.0, 0.0, 0.0, 0.0, 0.0, 0.0, 0.0, 0.0, 0.0, 0.0, 0.0, 0.0, 0.0, 0.0, 0.0, 0.0, 0.0, 0.0, 0.0, 0.0, 0.0, 0.0, 0.0, 6.0, 4.0, 2.0, 1.0, 0.0, 5.0, 1.0, 8.0, 4.0, 8.0, 13.0, 16.0, 25.0, 50.0, 46.0, 41.0, 61.0, 59.0, 70.0, 115.0, 126.0, 137.0, 417.0, 249.0, 339.0, 332.0, 338.0, 537.0, 507.0, 527.0, 521.0, 711.0, 663.0, 420.0, 550.0, 620.0, 425.0, 475.0, 443.0, 319.0, 228.0, 627.0, 449.0, 358.0, 537.0, 630.0, 320.0, 1475.0, 1324.0, 1295.0, 1073.0, 1037.0, 562.0, 421.0, 889.0, 559.0, 1509.0, 697.0, 1033.0, 679.0, 768.0, 555.0, 1598.0, 829.0, 783.0, 869.0, 901.0, 480.0, 581.0, 922.0, 1248.0, 901.0, 930.0, 1044.0, 671.0, 477.0, 1122.0, 1284.0, 1180.0, 1015.0, 1003.0, 933.0, 1030.0, 1804.0, 878.0, 1074.0, 1788.0, 2089.0, 1345.0, 972.0, 1150.0, 1116.0, 1416.0, 1395.0, 1293.0, 1506.0, 800.0, 1178.0, 1242.0, 1811.0, 1601.0, 1547.0, 995.0, 773.0, 1293.0, 2105.0, 1038.0, 1382.0, 2027.0, 1761.0, 2545.0, 2320.0, 1228.0, 1977.0, 1765.0, 2139.0, 2523.0, 2878.0, 2757.0, 1978.0, 2160.0, 2643.0, 3187.0, 1496.0, 1577.0, 3969.0, 2465.0, 1734.0, 2620.0, 2884.0, 3307.0, 2580.0, 4178.0, 2702.0, 4459.0, 2851.0, 2722.0, 2846.0, 3158.0, 2628.0, 3197.0, 1978.0, 1909.0, 3568.0, 1670.0, 2033.0, 2614.0, 4741.0, 2489.0, 2609.0, 2212.0, 1474.0, 1621.0, 1826.0, 2298.0, 3194.0, 3061.0, 2594.0, 1767.0, 1896.0, 1384.0, 2389.0, 1942.0, 2554.0, 2069.0, 1188.0, 1181.0, 900.0, 1796.0, 1519.0, 1708.0, 1608.0, 1033.0, 1198.0, 884.0, 1609.0, 1600.0, 1472.0, 1298.0]}],\n",
       "                        {\"margin\": {\"b\": 40, \"l\": 40, \"r\": 40, \"t\": 40}, \"paper_bgcolor\": \"#D6DBDF\", \"shapes\": [{\"type\": \"line\", \"x0\": \"2020-08-28\", \"x1\": \"2020-08-28\", \"xref\": \"x\", \"y0\": 0, \"y1\": 1, \"yref\": \"paper\"}], \"template\": {\"data\": {\"bar\": [{\"error_x\": {\"color\": \"#2a3f5f\"}, \"error_y\": {\"color\": \"#2a3f5f\"}, \"marker\": {\"line\": {\"color\": \"#E5ECF6\", \"width\": 0.5}}, \"type\": \"bar\"}], \"barpolar\": [{\"marker\": {\"line\": {\"color\": \"#E5ECF6\", \"width\": 0.5}}, \"type\": \"barpolar\"}], \"carpet\": [{\"aaxis\": {\"endlinecolor\": \"#2a3f5f\", \"gridcolor\": \"white\", \"linecolor\": \"white\", \"minorgridcolor\": \"white\", \"startlinecolor\": \"#2a3f5f\"}, \"baxis\": {\"endlinecolor\": \"#2a3f5f\", \"gridcolor\": \"white\", \"linecolor\": \"white\", \"minorgridcolor\": \"white\", \"startlinecolor\": \"#2a3f5f\"}, \"type\": \"carpet\"}], \"choropleth\": [{\"colorbar\": {\"outlinewidth\": 0, \"ticks\": \"\"}, \"type\": \"choropleth\"}], \"contour\": [{\"colorbar\": {\"outlinewidth\": 0, \"ticks\": \"\"}, \"colorscale\": [[0.0, \"#0d0887\"], [0.1111111111111111, \"#46039f\"], [0.2222222222222222, \"#7201a8\"], [0.3333333333333333, \"#9c179e\"], [0.4444444444444444, \"#bd3786\"], [0.5555555555555556, \"#d8576b\"], [0.6666666666666666, \"#ed7953\"], [0.7777777777777778, \"#fb9f3a\"], [0.8888888888888888, \"#fdca26\"], [1.0, \"#f0f921\"]], \"type\": \"contour\"}], \"contourcarpet\": [{\"colorbar\": {\"outlinewidth\": 0, \"ticks\": \"\"}, \"type\": \"contourcarpet\"}], \"heatmap\": [{\"colorbar\": {\"outlinewidth\": 0, \"ticks\": \"\"}, \"colorscale\": [[0.0, \"#0d0887\"], [0.1111111111111111, \"#46039f\"], [0.2222222222222222, \"#7201a8\"], [0.3333333333333333, \"#9c179e\"], [0.4444444444444444, \"#bd3786\"], [0.5555555555555556, \"#d8576b\"], [0.6666666666666666, \"#ed7953\"], [0.7777777777777778, \"#fb9f3a\"], [0.8888888888888888, \"#fdca26\"], [1.0, \"#f0f921\"]], \"type\": \"heatmap\"}], \"heatmapgl\": [{\"colorbar\": {\"outlinewidth\": 0, \"ticks\": \"\"}, \"colorscale\": [[0.0, \"#0d0887\"], [0.1111111111111111, \"#46039f\"], [0.2222222222222222, \"#7201a8\"], [0.3333333333333333, \"#9c179e\"], [0.4444444444444444, \"#bd3786\"], [0.5555555555555556, \"#d8576b\"], [0.6666666666666666, \"#ed7953\"], [0.7777777777777778, \"#fb9f3a\"], [0.8888888888888888, \"#fdca26\"], [1.0, \"#f0f921\"]], \"type\": \"heatmapgl\"}], \"histogram\": [{\"marker\": {\"colorbar\": {\"outlinewidth\": 0, \"ticks\": \"\"}}, \"type\": \"histogram\"}], \"histogram2d\": [{\"colorbar\": {\"outlinewidth\": 0, \"ticks\": \"\"}, \"colorscale\": [[0.0, \"#0d0887\"], [0.1111111111111111, \"#46039f\"], [0.2222222222222222, \"#7201a8\"], [0.3333333333333333, \"#9c179e\"], [0.4444444444444444, \"#bd3786\"], [0.5555555555555556, \"#d8576b\"], [0.6666666666666666, \"#ed7953\"], [0.7777777777777778, \"#fb9f3a\"], [0.8888888888888888, \"#fdca26\"], [1.0, \"#f0f921\"]], \"type\": \"histogram2d\"}], \"histogram2dcontour\": [{\"colorbar\": {\"outlinewidth\": 0, \"ticks\": \"\"}, \"colorscale\": [[0.0, \"#0d0887\"], [0.1111111111111111, \"#46039f\"], [0.2222222222222222, \"#7201a8\"], [0.3333333333333333, \"#9c179e\"], [0.4444444444444444, \"#bd3786\"], [0.5555555555555556, \"#d8576b\"], [0.6666666666666666, \"#ed7953\"], [0.7777777777777778, \"#fb9f3a\"], [0.8888888888888888, \"#fdca26\"], [1.0, \"#f0f921\"]], \"type\": \"histogram2dcontour\"}], \"mesh3d\": [{\"colorbar\": {\"outlinewidth\": 0, \"ticks\": \"\"}, \"type\": \"mesh3d\"}], \"parcoords\": [{\"line\": {\"colorbar\": {\"outlinewidth\": 0, \"ticks\": \"\"}}, \"type\": \"parcoords\"}], \"pie\": [{\"automargin\": true, \"type\": \"pie\"}], \"scatter\": [{\"marker\": {\"colorbar\": {\"outlinewidth\": 0, \"ticks\": \"\"}}, \"type\": \"scatter\"}], \"scatter3d\": [{\"line\": {\"colorbar\": {\"outlinewidth\": 0, \"ticks\": \"\"}}, \"marker\": {\"colorbar\": {\"outlinewidth\": 0, \"ticks\": \"\"}}, \"type\": \"scatter3d\"}], \"scattercarpet\": [{\"marker\": {\"colorbar\": {\"outlinewidth\": 0, \"ticks\": \"\"}}, \"type\": \"scattercarpet\"}], \"scattergeo\": [{\"marker\": {\"colorbar\": {\"outlinewidth\": 0, \"ticks\": \"\"}}, \"type\": \"scattergeo\"}], \"scattergl\": [{\"marker\": {\"colorbar\": {\"outlinewidth\": 0, \"ticks\": \"\"}}, \"type\": \"scattergl\"}], \"scattermapbox\": [{\"marker\": {\"colorbar\": {\"outlinewidth\": 0, \"ticks\": \"\"}}, \"type\": \"scattermapbox\"}], \"scatterpolar\": [{\"marker\": {\"colorbar\": {\"outlinewidth\": 0, \"ticks\": \"\"}}, \"type\": \"scatterpolar\"}], \"scatterpolargl\": [{\"marker\": {\"colorbar\": {\"outlinewidth\": 0, \"ticks\": \"\"}}, \"type\": \"scatterpolargl\"}], \"scatterternary\": [{\"marker\": {\"colorbar\": {\"outlinewidth\": 0, \"ticks\": \"\"}}, \"type\": \"scatterternary\"}], \"surface\": [{\"colorbar\": {\"outlinewidth\": 0, \"ticks\": \"\"}, \"colorscale\": [[0.0, \"#0d0887\"], [0.1111111111111111, \"#46039f\"], [0.2222222222222222, \"#7201a8\"], [0.3333333333333333, \"#9c179e\"], [0.4444444444444444, \"#bd3786\"], [0.5555555555555556, \"#d8576b\"], [0.6666666666666666, \"#ed7953\"], [0.7777777777777778, \"#fb9f3a\"], [0.8888888888888888, \"#fdca26\"], [1.0, \"#f0f921\"]], \"type\": \"surface\"}], \"table\": [{\"cells\": {\"fill\": {\"color\": \"#EBF0F8\"}, \"line\": {\"color\": \"white\"}}, \"header\": {\"fill\": {\"color\": \"#C8D4E3\"}, \"line\": {\"color\": \"white\"}}, \"type\": \"table\"}]}, \"layout\": {\"annotationdefaults\": {\"arrowcolor\": \"#2a3f5f\", \"arrowhead\": 0, \"arrowwidth\": 1}, \"coloraxis\": {\"colorbar\": {\"outlinewidth\": 0, \"ticks\": \"\"}}, \"colorscale\": {\"diverging\": [[0, \"#8e0152\"], [0.1, \"#c51b7d\"], [0.2, \"#de77ae\"], [0.3, \"#f1b6da\"], [0.4, \"#fde0ef\"], [0.5, \"#f7f7f7\"], [0.6, \"#e6f5d0\"], [0.7, \"#b8e186\"], [0.8, \"#7fbc41\"], [0.9, \"#4d9221\"], [1, \"#276419\"]], \"sequential\": [[0.0, \"#0d0887\"], [0.1111111111111111, \"#46039f\"], [0.2222222222222222, \"#7201a8\"], [0.3333333333333333, \"#9c179e\"], [0.4444444444444444, \"#bd3786\"], [0.5555555555555556, \"#d8576b\"], [0.6666666666666666, \"#ed7953\"], [0.7777777777777778, \"#fb9f3a\"], [0.8888888888888888, \"#fdca26\"], [1.0, \"#f0f921\"]], \"sequentialminus\": [[0.0, \"#0d0887\"], [0.1111111111111111, \"#46039f\"], [0.2222222222222222, \"#7201a8\"], [0.3333333333333333, \"#9c179e\"], [0.4444444444444444, \"#bd3786\"], [0.5555555555555556, \"#d8576b\"], [0.6666666666666666, \"#ed7953\"], [0.7777777777777778, \"#fb9f3a\"], [0.8888888888888888, \"#fdca26\"], [1.0, \"#f0f921\"]]}, \"colorway\": [\"#636efa\", \"#EF553B\", \"#00cc96\", \"#ab63fa\", \"#FFA15A\", \"#19d3f3\", \"#FF6692\", \"#B6E880\", \"#FF97FF\", \"#FECB52\"], \"font\": {\"color\": \"#2a3f5f\"}, \"geo\": {\"bgcolor\": \"white\", \"lakecolor\": \"white\", \"landcolor\": \"#E5ECF6\", \"showlakes\": true, \"showland\": true, \"subunitcolor\": \"white\"}, \"hoverlabel\": {\"align\": \"left\"}, \"hovermode\": \"closest\", \"mapbox\": {\"style\": \"light\"}, \"paper_bgcolor\": \"white\", \"plot_bgcolor\": \"#E5ECF6\", \"polar\": {\"angularaxis\": {\"gridcolor\": \"white\", \"linecolor\": \"white\", \"ticks\": \"\"}, \"bgcolor\": \"#E5ECF6\", \"radialaxis\": {\"gridcolor\": \"white\", \"linecolor\": \"white\", \"ticks\": \"\"}}, \"scene\": {\"xaxis\": {\"backgroundcolor\": \"#E5ECF6\", \"gridcolor\": \"white\", \"gridwidth\": 2, \"linecolor\": \"white\", \"showbackground\": true, \"ticks\": \"\", \"zerolinecolor\": \"white\"}, \"yaxis\": {\"backgroundcolor\": \"#E5ECF6\", \"gridcolor\": \"white\", \"gridwidth\": 2, \"linecolor\": \"white\", \"showbackground\": true, \"ticks\": \"\", \"zerolinecolor\": \"white\"}, \"zaxis\": {\"backgroundcolor\": \"#E5ECF6\", \"gridcolor\": \"white\", \"gridwidth\": 2, \"linecolor\": \"white\", \"showbackground\": true, \"ticks\": \"\", \"zerolinecolor\": \"white\"}}, \"shapedefaults\": {\"line\": {\"color\": \"#2a3f5f\"}}, \"ternary\": {\"aaxis\": {\"gridcolor\": \"white\", \"linecolor\": \"white\", \"ticks\": \"\"}, \"baxis\": {\"gridcolor\": \"white\", \"linecolor\": \"white\", \"ticks\": \"\"}, \"bgcolor\": \"#E5ECF6\", \"caxis\": {\"gridcolor\": \"white\", \"linecolor\": \"white\", \"ticks\": \"\"}}, \"title\": {\"x\": 0.05}, \"xaxis\": {\"automargin\": true, \"gridcolor\": \"white\", \"linecolor\": \"white\", \"ticks\": \"\", \"title\": {\"standoff\": 15}, \"zerolinecolor\": \"white\", \"zerolinewidth\": 2}, \"yaxis\": {\"automargin\": true, \"gridcolor\": \"white\", \"linecolor\": \"white\", \"ticks\": \"\", \"title\": {\"standoff\": 15}, \"zerolinecolor\": \"white\", \"zerolinewidth\": 2}}}, \"title\": {\"text\": \" Los Angeles, California case_diff by day\"}, \"xaxis\": {\"title\": {\"text\": \"<b>Date</b>\"}}, \"yaxis\": {\"title\": {\"text\": \"<b>Total</b> case_diff\"}}},\n",
       "                        {\"responsive\": true}\n",
       "                    ).then(function(){\n",
       "                            \n",
       "var gd = document.getElementById('eab2f99d-12f7-40c0-a75e-157ef0a4d33e');\n",
       "var x = new MutationObserver(function (mutations, observer) {{\n",
       "        var display = window.getComputedStyle(gd).display;\n",
       "        if (!display || display === 'none') {{\n",
       "            console.log([gd, 'removed!']);\n",
       "            Plotly.purge(gd);\n",
       "            observer.disconnect();\n",
       "        }}\n",
       "}});\n",
       "\n",
       "// Listen for the removal of the full notebook cells\n",
       "var notebookContainer = gd.closest('#notebook-container');\n",
       "if (notebookContainer) {{\n",
       "    x.observe(notebookContainer, {childList: true});\n",
       "}}\n",
       "\n",
       "// Listen for the clearing of the current output cell\n",
       "var outputEl = gd.closest('.output');\n",
       "if (outputEl) {{\n",
       "    x.observe(outputEl, {childList: true});\n",
       "}}\n",
       "\n",
       "                        })\n",
       "                };\n",
       "                });\n",
       "            </script>\n",
       "        </div>"
      ]
     },
     "metadata": {},
     "output_type": "display_data"
    }
   ],
   "source": [
    "plotting.scatter_deaths_county(DF,'case_diff','2020-08-28','06037')"
   ]
  },
  {
   "cell_type": "code",
   "execution_count": null,
   "metadata": {},
   "outputs": [],
   "source": [
    "DF['cases']"
   ]
  },
  {
   "cell_type": "markdown",
   "metadata": {},
   "source": [
    "### Consistentcy Check\n",
    "\n",
    "Here I want to check to see if we still have 30 nulls coming from fips codes. \n",
    "\n",
    "Since we're dealing with time series I want to check across all available dates to make sure we're consistent across all dates. Or at least that there is some sense as to why the data are missing."
   ]
  },
  {
   "cell_type": "markdown",
   "metadata": {},
   "source": [
    "First lets run a consistency check for one date. And create a function to check each specific date."
   ]
  },
  {
   "cell_type": "code",
   "execution_count": 11,
   "metadata": {},
   "outputs": [
    {
     "name": "stdout",
     "output_type": "stream",
     "text": [
      "30 NEW nulls. 30 Total Unique Nulls on 2020-08-28\n"
     ]
    }
   ],
   "source": [
    "def check_null_fips(df, date, seen_set=set()):\n",
    "    # Create a mask for a specific date.\n",
    "    date_mask = (df['date'] == date)\n",
    "\n",
    "    # Create a mask for when fips are null.\n",
    "    fips_null_mask = (df['fips'].map(lambda x:len(x)) < 5)\n",
    "    \n",
    "    nulls_set = set(df[fips_null_mask & date_mask][['county','state']].apply(\n",
    "        lambda x:str(x['county'])+str(x['state']), axis=1))\n",
    "    \n",
    "    # Print if find new\n",
    "    if len(nulls_set.difference(seen_set.intersection(nulls_set))) != 0:\n",
    "        print(f\"{len(nulls_set.difference(seen_set.intersection(nulls_set)))} NEW nulls. {len(seen_set | nulls_set)} Total Unique Nulls on {date}\")\n",
    "\n",
    "    # Update seen_set\n",
    "    seen_set = seen_set | nulls_set\n",
    "    \n",
    "    return seen_set #df[fips_null_mask & date_mask].shape[0]\n",
    "\n",
    "# Test it out\n",
    "a = check_null_fips(DF,'2020-08-28')"
   ]
  },
  {
   "cell_type": "markdown",
   "metadata": {},
   "source": [
    "Here we see that we have 30 nulls, which is what we expected. Lets check across all dates now."
   ]
  },
  {
   "cell_type": "code",
   "execution_count": 12,
   "metadata": {},
   "outputs": [],
   "source": [
    "# \n",
    "sdate = date(2020, 3,1) # start date\n",
    "edate = date(2020,8,28) # end date\n",
    "\n",
    "date_list = [date.strftime(format=\"%Y-%m-%d\") \n",
    "    for date in \n",
    "        pd.date_range(sdate, edate-timedelta(days=1), freq='d')]"
   ]
  },
  {
   "cell_type": "code",
   "execution_count": 13,
   "metadata": {},
   "outputs": [
    {
     "name": "stdout",
     "output_type": "stream",
     "text": [
      "2 NEW nulls. 2 Total Unique Nulls on 2020-03-01\n",
      "1 NEW nulls. 3 Total Unique Nulls on 2020-03-12\n",
      "1 NEW nulls. 4 Total Unique Nulls on 2020-03-13\n",
      "1 NEW nulls. 5 Total Unique Nulls on 2020-03-14\n",
      "1 NEW nulls. 6 Total Unique Nulls on 2020-03-15\n",
      "2 NEW nulls. 8 Total Unique Nulls on 2020-03-16\n",
      "1 NEW nulls. 9 Total Unique Nulls on 2020-03-18\n",
      "3 NEW nulls. 12 Total Unique Nulls on 2020-03-19\n",
      "4 NEW nulls. 16 Total Unique Nulls on 2020-03-20\n",
      "1 NEW nulls. 17 Total Unique Nulls on 2020-03-21\n",
      "3 NEW nulls. 20 Total Unique Nulls on 2020-03-22\n",
      "3 NEW nulls. 23 Total Unique Nulls on 2020-03-23\n",
      "5 NEW nulls. 28 Total Unique Nulls on 2020-03-24\n",
      "1 NEW nulls. 29 Total Unique Nulls on 2020-03-25\n",
      "1 NEW nulls. 30 Total Unique Nulls on 2020-03-26\n",
      "1 NEW nulls. 31 Total Unique Nulls on 2020-03-27\n",
      "1 NEW nulls. 32 Total Unique Nulls on 2020-03-28\n",
      "1 NEW nulls. 33 Total Unique Nulls on 2020-03-29\n",
      "2 NEW nulls. 35 Total Unique Nulls on 2020-03-30\n",
      "2 NEW nulls. 37 Total Unique Nulls on 2020-03-31\n",
      "5 NEW nulls. 42 Total Unique Nulls on 2020-04-01\n",
      "1 NEW nulls. 43 Total Unique Nulls on 2020-04-02\n",
      "1 NEW nulls. 44 Total Unique Nulls on 2020-04-03\n",
      "1 NEW nulls. 45 Total Unique Nulls on 2020-04-04\n",
      "1 NEW nulls. 46 Total Unique Nulls on 2020-04-06\n",
      "2 NEW nulls. 48 Total Unique Nulls on 2020-04-08\n",
      "2 NEW nulls. 50 Total Unique Nulls on 2020-04-10\n",
      "1 NEW nulls. 51 Total Unique Nulls on 2020-05-30\n",
      "1 NEW nulls. 52 Total Unique Nulls on 2020-06-10\n",
      "1 NEW nulls. 53 Total Unique Nulls on 2020-06-25\n",
      "1 NEW nulls. 54 Total Unique Nulls on 2020-08-06\n"
     ]
    }
   ],
   "source": [
    "# Create a list of sets seen\n",
    "seen_set = set()\n",
    "\n",
    "# Loop over date_list\n",
    "for date in date_list:\n",
    "    \n",
    "    # First empty, then continues to grow\n",
    "    seen_set = check_null_fips(DF, date, seen_set)"
   ]
  },
  {
   "cell_type": "code",
   "execution_count": 59,
   "metadata": {},
   "outputs": [],
   "source": [
    "date_mask = (DF['date'] == '2020-08-28')"
   ]
  },
  {
   "cell_type": "code",
   "execution_count": 60,
   "metadata": {},
   "outputs": [
    {
     "data": {
      "text/plain": [
       "476261    1389\n",
       "476262    4347\n",
       "476263     745\n",
       "476264     535\n",
       "476265    1219\n",
       "          ... \n",
       "479489     296\n",
       "479490     424\n",
       "479491     292\n",
       "479492     107\n",
       "479493      18\n",
       "Name: cases, Length: 3233, dtype: int64"
      ]
     },
     "execution_count": 60,
     "metadata": {},
     "output_type": "execute_result"
    }
   ],
   "source": [
    "DF[date_mask]['cases']"
   ]
  },
  {
   "cell_type": "code",
   "execution_count": 61,
   "metadata": {},
   "outputs": [],
   "source": [
    "import seaborn as sns"
   ]
  },
  {
   "cell_type": "code",
   "execution_count": 83,
   "metadata": {},
   "outputs": [
    {
     "data": {
      "text/plain": [
       "<matplotlib.axes._subplots.AxesSubplot at 0x126b7b410>"
      ]
     },
     "execution_count": 83,
     "metadata": {},
     "output_type": "execute_result"
    },
    {
     "data": {
      "image/png": "[encoded data removed]",
      "text/plain": [
       "<Figure size 432x288 with 1 Axes>"
      ]
     },
     "metadata": {
      "needs_background": "light"
     },
     "output_type": "display_data"
    }
   ],
   "source": [
    "sns.distplot(DF[date_mask]['casesPerMillion'])"
   ]
  },
  {
   "cell_type": "code",
   "execution_count": null,
   "metadata": {},
   "outputs": [],
   "source": []
  },
  {
   "cell_type": "code",
   "execution_count": 98,
   "metadata": {},
   "outputs": [
    {
     "name": "stdout",
     "output_type": "stream",
     "text": [
      "Mean of cases is 1834.2978657593567\n",
      "0.00         0.00\n",
      "0.10        25.00\n",
      "0.25        87.00\n",
      "0.50       287.00\n",
      "0.75       945.00\n",
      "0.80      1294.20\n",
      "0.85      1817.40\n",
      "0.90      3238.60\n",
      "0.95      7264.40\n",
      "0.99     24515.92\n",
      "1.00    238458.00\n",
      "Name: cases, dtype: float64\n"
     ]
    }
   ],
   "source": [
    "date_mask = (COVID_COUNTIES_DF['date'] == '2020-08-28')\n",
    "category = 'cases'\n",
    "category_series = COVID_COUNTIES_DF[date_mask][category]\n",
    "print(f\"Mean of {category} is {category_series.mean()}\")\n",
    "print(category_series.quantile([0, 0.1, 0.25, 0.5, 0.75, 0.8,0.85,0.9, 0.95, 0.99,1]))"
   ]
  },
  {
   "cell_type": "code",
   "execution_count": 64,
   "metadata": {},
   "outputs": [
    {
     "data": {
      "text/plain": [
       "238458"
      ]
     },
     "execution_count": 64,
     "metadata": {},
     "output_type": "execute_result"
    }
   ],
   "source": [
    "DF[date_mask]['case_diff'].max()"
   ]
  },
  {
   "cell_type": "code",
   "execution_count": null,
   "metadata": {},
   "outputs": [],
   "source": [
    "date_mask = (COVID_COUNTIES_DF['date'] == '2020-03-01')"
   ]
  },
  {
   "cell_type": "code",
   "execution_count": null,
   "metadata": {},
   "outputs": [],
   "source": [
    "DF"
   ]
  }
 ],
 "metadata": {
  "kernelspec": {
   "display_name": "Python 3",
   "language": "python",
   "name": "python3"
  },
  "language_info": {
   "codemirror_mode": {
    "name": "ipython",
    "version": 3
   },
   "file_extension": ".py",
   "mimetype": "text/x-python",
   "name": "python",
   "nbconvert_exporter": "python",
   "pygments_lexer": "ipython3",
   "version": "3.7.7"
  }
 },
 "nbformat": 4,
 "nbformat_minor": 4
}
